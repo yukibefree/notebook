{
  "cells": [
    {
      "cell_type": "markdown",
      "metadata": {},
      "source": [
        "# ランダムフォレストモデル（時系列分割・特徴量選択・ベイズ最適化・提出フォーマット厳守版）"
      ]
    },
    {
      "cell_type": "code",
      "metadata": {},
      "source": [
        "import pandas as pd\n",
        "import numpy as np\n",
        "from pathlib import Path\n",
        "from sklearn.ensemble import RandomForestRegressor\n",
        "from sklearn.metrics import root_mean_squared_error\n",
        "from sklearn.model_selection import TimeSeriesSplit\n",
        "import optuna\n",
        "import matplotlib.pyplot as plt\n",
        "import japanize_matplotlib\n",
        "\n",
        "PROJECT_ROOT = Path.cwd()\n",
        "DATA_DIR = PROJECT_ROOT / 'data'\n",
        "train = pd.read_csv(DATA_DIR / 'train_processed.csv')\n",
        "test = pd.read_csv(DATA_DIR / 'test_processed.csv')\n",
        "target_col = 'price_actual'\n",
        "drop_cols = ['time', target_col] if target_col in train.columns else ['time']\n",
        "feature_cols = [col for col in train.columns if col not in drop_cols]\n",
        "X = train[feature_cols]\n",
        "y = train[target_col] if target_col in train.columns else train.iloc[:, -1]\n"
      ]
    },
    {
      "cell_type": "code",
      "metadata": {},
      "source": [
        "# 目的変数の季節性分析（月別価格分布）\n",
        "train['time'] = pd.to_datetime(train['time'])\n",
        "train['month'] = train['time'].dt.month\n",
        "monthly_price = train.groupby('month')[target_col].agg(['mean', 'std', 'min', 'max'])\n",
        "print('月別価格統計:')\n",
        "print(monthly_price)\n",
        "print('\\n最も価格が高い月:', monthly_price['mean'].idxmax(), f'(平均価格: {monthly_price[\"mean\"].max():.2f})')\n",
        "print('最も価格が低い月:', monthly_price['mean'].idxmin(), f'(平均価格: {monthly_price[\"mean\"].min():.2f})')\n"
      ]
    },
    {
      "cell_type": "code",
      "metadata": {},
      "source": [
        "# ベイズ最適化によるハイパーパラメータ探索\n",
        "tscv = TimeSeriesSplit(n_splits=5)\n",
        "def objective(trial):\n",
        "    params = {\n",
        "        'n_estimators': trial.suggest_int('n_estimators', 100, 300),\n",
        "        'max_depth': trial.suggest_int('max_depth', 5, 30),\n",
        "        'min_samples_split': trial.suggest_int('min_samples_split', 2, 10),\n",
        "        'min_samples_leaf': trial.suggest_int('min_samples_leaf', 1, 5),\n",
        "        'random_state': 42\n",
        "    }\n",
        "    rmses = []\n",
        "    for train_idx, valid_idx in tscv.split(X):\n",
        "        X_train, X_valid = X.iloc[train_idx], X.iloc[valid_idx]\n",
        "        y_train, y_valid = y.iloc[train_idx], y.iloc[valid_idx]\n",
        "        model = RandomForestRegressor(**params)\n",
        "        model.fit(X_train, y_train)\n",
        "        y_pred = model.predict(X_valid)\n",
        "        rmse = root_mean_squared_error(y_valid, y_pred)\n",
        "        rmses.append(rmse)\n",
        "    return np.mean(rmses)\n",
        "\n",
        "study = optuna.create_study(direction='minimize')\n",
        "study.optimize(objective, n_trials=30)\n",
        "print('Best params:', study.best_params)\n",
        "print('Best CV RMSE:', study.best_value)\n",
        "best_params = study.best_params\n",
        "best_params['random_state'] = 42\n",
        "best_model = RandomForestRegressor(**best_params)\n",
        "best_model.fit(X, y)\n"
      ]
    },
    {
      "cell_type": "code",
      "metadata": {},
      "source": [
        "# 特徴量重要度で下位20%を除外し再学習\n",
        "importances = best_model.feature_importances_\n",
        "threshold = np.percentile(importances, 20)\n",
        "selected_features = [f for f, imp in zip(feature_cols, importances) if imp > threshold]\n",
        "best_model.fit(X[selected_features], y)\n"
      ]
    },
    {
      "cell_type": "code",
      "metadata": {},
      "source": [
        "# テストデータ予測と提出ファイル出力（フォーマット厳守）\n",
        "X_test = test[selected_features]\n",
        "test_pred = best_model.predict(X_test)\n",
        "submission = test[['time']].copy()\n",
        "submission['price_actual_pred'] = test_pred\n",
        "assert submission.iloc[0,0] == '2018-01-01 00:00:00+01:00', '1行1列目が要件を満たしません'\n",
        "submission.to_csv(DATA_DIR / 'submission_random_forest_v2.csv', index=False, header=False)\n",
        "print('Saved: submission_random_forest_v2.csv')\n"
      ]
    }
  ],
  "metadata": {
    "kernelspec": {
      "display_name": "Python 3 (ipykernel)",
      "language": "python",
      "name": "python3"
    },
    "language_info": {
      "name": "python",
      "version": "3.12.3"
    }
  },
  "nbformat": 4,
  "nbformat_minor": 4
}