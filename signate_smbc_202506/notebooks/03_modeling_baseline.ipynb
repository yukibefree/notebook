{
  "cells": [
    {
      "cell_type": "markdown",
      "metadata": {},
      "source": [
        "# ベースラインモデル（線形回帰）\n",
        "\n",
        "このノートブックでは、前処理済みデータを用いて線形回帰によるベースラインモデルを構築し、評価します。\n",
        "\n",
        "- 目的変数: `price_actual`\n",
        "- モデル: 線形回帰（LinearRegression）\n",
        "- 評価指標: RMSE\n"
      ]
    },
    {
      "cell_type": "markdown",
      "metadata": {},
      "source": [
        "## 1. ライブラリのインポートとデータ読み込み"
      ]
    },
    {
      "cell_type": "code",
      "execution_count": 1,
      "metadata": {},
      "outputs": [],
      "source": [
        "# LightGBM特有のエラー対策\n",
        "#!brew install libomp\n",
        "#!uv pip uninstall lightgbm"
      ]
    },
    {
      "cell_type": "code",
      "execution_count": 2,
      "metadata": {},
      "outputs": [
        {
          "name": "stdout",
          "output_type": "stream",
          "text": [
            "\u001b[2mAudited \u001b[1m1 package\u001b[0m \u001b[2min 20ms\u001b[0m\u001b[0m\n"
          ]
        }
      ],
      "source": [
        "!uv pip install lightgbm\n",
        "import lightgbm as lgb"
      ]
    },
    {
      "cell_type": "code",
      "execution_count": 3,
      "metadata": {},
      "outputs": [
        {
          "name": "stdout",
          "output_type": "stream",
          "text": [
            "/Users/m0122wt/Desktop/02.プライベート/01.ノウハウ/07.データ分析/notebook/signate_smbc_202506/data\n",
            "train shape: (26280, 113)\n",
            "test shape: (8760, 112)\n"
          ]
        }
      ],
      "source": [
        "import pandas as pd\n",
        "import numpy as np\n",
        "from pathlib import Path\n",
        "from sklearn.metrics import root_mean_squared_error\n",
        "from sklearn.model_selection import train_test_split\n",
        "import japanize_matplotlib\n",
        "\n",
        "# データディレクトリ\n",
        "PROJECT_ROOT = Path.cwd()\n",
        "DATA_DIR = PROJECT_ROOT / 'data'\n",
        "print(DATA_DIR)\n",
        "# 前処理済みデータの読み込み\n",
        "train = pd.read_csv(DATA_DIR / 'train_processed.csv', index_col=0)\n",
        "test = pd.read_csv(DATA_DIR / 'test_processed.csv', index_col=0)\n",
        "\n",
        "print('train shape:', train.shape)\n",
        "print('test shape:', test.shape)"
      ]
    },
    {
      "cell_type": "markdown",
      "metadata": {},
      "source": [
        "## 2. 特徴量・目的変数の設定"
      ]
    },
    {
      "cell_type": "code",
      "execution_count": 4,
      "metadata": {},
      "outputs": [
        {
          "name": "stdout",
          "output_type": "stream",
          "text": [
            "Features: ['generation_fossil_brown_coal/lignite', 'generation_fossil_gas', 'generation_fossil_hard_coal', 'generation_fossil_oil', 'generation_hydro_pumped_storage_consumption', 'generation_hydro_run_of_river_and_poundage', 'generation_hydro_water_reservoir', 'generation_nuclear', 'generation_other', 'generation_other_renewable', 'generation_solar', 'generation_waste', 'generation_wind_onshore', 'total_load_actual', 'valencia_temp', 'valencia_temp_min', 'valencia_temp_max', 'valencia_pressure', 'valencia_humidity', 'valencia_wind_speed', 'valencia_wind_deg', 'valencia_rain_1h', 'valencia_rain_3h', 'valencia_snow_3h', 'valencia_clouds_all', 'valencia_weather_id', 'valencia_weather_main', 'valencia_weather_description', 'valencia_weather_icon', 'madrid_temp', 'madrid_temp_min', 'madrid_temp_max', 'madrid_pressure', 'madrid_humidity', 'madrid_wind_speed', 'madrid_wind_deg', 'madrid_rain_1h', 'madrid_rain_3h', 'madrid_snow_3h', 'madrid_clouds_all', 'madrid_weather_id', 'madrid_weather_main', 'madrid_weather_description', 'madrid_weather_icon', 'bilbao_temp', 'bilbao_temp_min', 'bilbao_temp_max', 'bilbao_pressure', 'bilbao_humidity', 'bilbao_wind_speed', 'bilbao_wind_deg', 'bilbao_rain_1h', 'bilbao_rain_3h', 'bilbao_snow_3h', 'bilbao_clouds_all', 'bilbao_weather_id', 'bilbao_weather_main', 'bilbao_weather_description', 'bilbao_weather_icon', 'barcelona_temp', 'barcelona_temp_min', 'barcelona_temp_max', 'barcelona_pressure', 'barcelona_humidity', 'barcelona_wind_speed', 'barcelona_wind_deg', 'barcelona_rain_1h', 'barcelona_rain_3h', 'barcelona_snow_3h', 'barcelona_clouds_all', 'barcelona_weather_id', 'barcelona_weather_main', 'barcelona_weather_description', 'barcelona_weather_icon', 'seville_temp', 'seville_temp_min', 'seville_temp_max', 'seville_pressure', 'seville_humidity', 'seville_wind_speed', 'seville_wind_deg', 'seville_rain_1h', 'seville_rain_3h', 'seville_snow_3h', 'seville_clouds_all', 'seville_weather_id', 'seville_weather_main', 'seville_weather_description', 'seville_weather_icon', 'hour', 'day_of_week', 'month', 'day', 'year', 'is_weekend', 'is_holiday', 'is_peak_hour', 'generation_biomass_ratio', 'generation_fossil_brown_coal/lignite_ratio', 'generation_fossil_gas_ratio', 'generation_fossil_hard_coal_ratio', 'generation_fossil_oil_ratio', 'generation_hydro_pumped_storage_consumption_ratio', 'generation_hydro_run_of_river_and_poundage_ratio', 'generation_hydro_water_reservoir_ratio', 'generation_nuclear_ratio', 'generation_other_ratio', 'generation_other_renewable_ratio', 'generation_solar_ratio', 'generation_waste_ratio', 'generation_wind_onshore_ratio']\n",
            "Target: price_actual\n",
            "X shape: (26280, 111)\n",
            "y shape: (26280,)\n"
          ]
        }
      ],
      "source": [
        "# 目的変数\n",
        "target_col = 'price_actual'\n",
        "\n",
        "# 説明変数（目的変数とtime列以外）\n",
        "drop_cols = ['time', target_col] if target_col in train.columns else ['time']\n",
        "feature_cols = [col for col in train.columns if col not in drop_cols]\n",
        "\n",
        "X = train[feature_cols]\n",
        "y = train[target_col] if target_col in train.columns else train.iloc[:, -1]  # 念のため\n",
        "\n",
        "print('Features:', feature_cols)\n",
        "print('Target:', target_col)\n",
        "print('X shape:', X.shape)\n",
        "print('y shape:', y.shape)"
      ]
    },
    {
      "cell_type": "markdown",
      "metadata": {},
      "source": [
        "## 3. 学習・検証データ分割"
      ]
    },
    {
      "cell_type": "code",
      "execution_count": 5,
      "metadata": {},
      "outputs": [
        {
          "name": "stdout",
          "output_type": "stream",
          "text": [
            "X_train: (21024, 111) X_valid: (5256, 111)\n"
          ]
        }
      ],
      "source": [
        "X_train, X_valid, y_train, y_valid = train_test_split(X, y, test_size=0.2, random_state=42)\n",
        "print('X_train:', X_train.shape, 'X_valid:', X_valid.shape)\n",
        "\n",
        "# LightGBMで学習するためのデータ形式に変換\n",
        "dtrain = lgb.Dataset(X_train, y_train)\n",
        "dvalid = lgb.Dataset(X_valid, y_valid)"
      ]
    },
    {
      "cell_type": "markdown",
      "metadata": {},
      "source": [
        "## 4. 線形回帰モデルの学習と予測"
      ]
    },
    {
      "cell_type": "code",
      "execution_count": 6,
      "metadata": {},
      "outputs": [
        {
          "name": "stdout",
          "output_type": "stream",
          "text": [
            "[LightGBM] [Info] Auto-choosing row-wise multi-threading, the overhead of testing was 0.002110 seconds.\n",
            "You can set `force_row_wise=true` to remove the overhead.\n",
            "And if memory is not enough, you can set `force_col_wise=true`.\n",
            "[LightGBM] [Info] Total Bins 13051\n",
            "[LightGBM] [Info] Number of data points in the train set: 21024, number of used features: 95\n",
            "[LightGBM] [Info] Start training from score 56.098172\n",
            "Validation RMSE: 4.178685995274353\n"
          ]
        }
      ],
      "source": [
        "#モデルパラメータの設定\n",
        "params = {'metric' : 'rmse'}\n",
        "model = lgb.train(params, dtrain)\n",
        "\n",
        "# 検証データで予測\n",
        "y_pred = model.predict(X_valid)\n",
        "\n",
        "# RMSEで評価\n",
        "rmse = root_mean_squared_error(y_valid, y_pred)\n",
        "print('Validation RMSE:', rmse)"
      ]
    },
    {
      "cell_type": "markdown",
      "metadata": {},
      "source": [
        "## 5. テストデータへの予測と保存"
      ]
    },
    {
      "cell_type": "code",
      "execution_count": 7,
      "metadata": {},
      "outputs": [
        {
          "data": {
            "text/plain": [
              "Index([-1.3311267651068943, -1.2978361024799772, -1.2867392149376713,\n",
              "        -1.320029877564589,  -1.253448552310754,  -1.320029877564589,\n",
              "        -1.253448552310754,  -1.320029877564589, -1.2867392149376713,\n",
              "       -1.2756423273953656,\n",
              "       ...\n",
              "        -1.364417427733812, -1.3866112028184234,  -1.353320540191506,\n",
              "       -1.4531925280722582, -1.5419676284107044, -1.4753863031568697,\n",
              "       -1.3755143152761176, -1.3755143152761176, -1.2867392149376713,\n",
              "       -1.2756423273953656],\n",
              "      dtype='float64', name='generation_biomass', length=8760)"
            ]
          },
          "execution_count": 7,
          "metadata": {},
          "output_type": "execute_result"
        }
      ],
      "source": [
        "test.index"
      ]
    },
    {
      "cell_type": "code",
      "execution_count": 10,
      "metadata": {},
      "outputs": [
        {
          "name": "stdout",
          "output_type": "stream",
          "text": [
            "Saved: submission_baseline.csv\n"
          ]
        }
      ],
      "source": [
        "# テストデータの予測\n",
        "X_test = test[feature_cols]\n",
        "test_pred = model.predict(X_test)\n",
        "\n",
        "# 予測結果の保存\n",
        "submission = test[['time']].copy()\n",
        "submission['price_actual_pred'] = test_pred\n",
        "submission.to_csv(DATA_DIR / 'submission_baseline.csv', index=False, header=False)\n",
        "print('Saved: submission_baseline.csv')"
      ]
    },
    {
      "cell_type": "code",
      "execution_count": null,
      "metadata": {},
      "outputs": [],
      "source": [
        "submission"
      ]
    }
  ],
  "metadata": {
    "kernelspec": {
      "display_name": "Python 3 (ipykernel)",
      "language": "python",
      "name": "python3"
    },
    "language_info": {
      "codemirror_mode": {
        "name": "ipython",
        "version": 3
      },
      "file_extension": ".py",
      "mimetype": "text/x-python",
      "name": "python",
      "nbconvert_exporter": "python",
      "pygments_lexer": "ipython3",
      "version": "3.12.3"
    }
  },
  "nbformat": 4,
  "nbformat_minor": 4
}
