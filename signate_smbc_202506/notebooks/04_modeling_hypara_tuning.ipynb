{
 "cells": [
  {
   "cell_type": "markdown",
   "metadata": {},
   "source": [
    "# モデル\n",
    "\n",
    "このノートブックでは、前処理済みデータを用いてランダムフォレストによるモデルを構築し、評価します。\n",
    "\n",
    "- 目的変数: `price_actual`\n",
    "- モデル: ランダムフォレスト（RandomForestRegressor）\n",
    "- 評価指標: RMSE\n",
    "- ハイパーパラメータチューニング: GridSearchCV\n"
   ]
  },
  {
   "cell_type": "markdown",
   "metadata": {},
   "source": [
    "## 1. ライブラリのインポートとデータ読み込み"
   ]
  },
  {
   "cell_type": "code",
   "execution_count": 1,
   "metadata": {},
   "outputs": [
    {
     "name": "stdout",
     "output_type": "stream",
     "text": [
      "\u001b[34m.\u001b[m\u001b[m                   .DS_Store           .python-version     README.md\n",
      "\u001b[34m..\u001b[m\u001b[m                  \u001b[34m.git\u001b[m\u001b[m                \u001b[34m.venv\u001b[m\u001b[m               \u001b[34msignate_smbc_202506\u001b[m\u001b[m\n",
      "\u001b[34m.cursor\u001b[m\u001b[m             .gitignore          pyproject.toml      uv.lock\n"
     ]
    }
   ],
   "source": [
    "# アクティベート\n",
    "!source ../../.venv/bin/activate"
   ]
  },
  {
   "cell_type": "code",
   "execution_count": 2,
   "metadata": {},
   "outputs": [],
   "source": [
    "# LightGBM特有のエラー対策\n",
    "#!brew install libomp\n",
    "#!pip uninstall lightgbm\n",
    "#!pip install lightgbm"
   ]
  },
  {
   "cell_type": "code",
   "execution_count": 3,
   "metadata": {},
   "outputs": [
    {
     "name": "stdout",
     "output_type": "stream",
     "text": [
      "/Users/m0122wt/Desktop/02.プライベート/01.ノウハウ/07.データ分析/notebook/signate_smbc_202506/data\n",
      "train shape: (26280, 122)\n",
      "test shape: (8760, 121)\n"
     ]
    }
   ],
   "source": [
    "import pandas as pd\n",
    "import numpy as np\n",
    "from pathlib import Path\n",
    "import lightgbm as lgb\n",
    "from sklearn.metrics import root_mean_squared_error\n",
    "from sklearn.model_selection import TimeSeriesSplit\n",
    "import optuna\n",
    "\n",
    "# データディレクトリ\n",
    "PROJECT_ROOT = Path.cwd().parent\n",
    "DATA_DIR = PROJECT_ROOT / 'data'\n",
    "print(DATA_DIR)\n",
    "# 前処理済みデータの読み込み\n",
    "train = pd.read_csv(DATA_DIR / 'train_processed.csv')\n",
    "test = pd.read_csv(DATA_DIR / 'test_processed.csv')\n",
    "\n",
    "print('train shape:', train.shape)\n",
    "print('test shape:', test.shape)"
   ]
  },
  {
   "cell_type": "markdown",
   "metadata": {},
   "source": [
    "## 2. 特徴量・目的変数の設定"
   ]
  },
  {
   "cell_type": "code",
   "execution_count": 4,
   "metadata": {},
   "outputs": [
    {
     "name": "stdout",
     "output_type": "stream",
     "text": [
      "Features: ['generation_biomass', 'generation_fossil_brown_coal/lignite', 'generation_fossil_gas', 'generation_fossil_hard_coal', 'generation_fossil_oil', 'generation_hydro_pumped_storage_consumption', 'generation_hydro_run_of_river_and_poundage', 'generation_hydro_water_reservoir', 'generation_nuclear', 'generation_other', 'generation_other_renewable', 'generation_solar', 'generation_waste', 'generation_wind_onshore', 'total_load_actual', 'valencia_temp', 'valencia_temp_min', 'valencia_temp_max', 'valencia_pressure', 'valencia_humidity', 'valencia_wind_speed', 'valencia_wind_deg', 'valencia_rain_1h', 'valencia_rain_3h', 'valencia_snow_3h', 'valencia_clouds_all', 'valencia_weather_id', 'valencia_weather_main', 'valencia_weather_description', 'valencia_weather_icon', 'madrid_temp', 'madrid_temp_min', 'madrid_temp_max', 'madrid_pressure', 'madrid_humidity', 'madrid_wind_speed', 'madrid_wind_deg', 'madrid_rain_1h', 'madrid_rain_3h', 'madrid_snow_3h', 'madrid_clouds_all', 'madrid_weather_id', 'madrid_weather_main', 'madrid_weather_description', 'madrid_weather_icon', 'bilbao_temp', 'bilbao_temp_min', 'bilbao_temp_max', 'bilbao_pressure', 'bilbao_humidity', 'bilbao_wind_speed', 'bilbao_wind_deg', 'bilbao_rain_1h', 'bilbao_rain_3h', 'bilbao_snow_3h', 'bilbao_clouds_all', 'bilbao_weather_id', 'bilbao_weather_main', 'bilbao_weather_description', 'bilbao_weather_icon', 'barcelona_temp', 'barcelona_temp_min', 'barcelona_temp_max', 'barcelona_pressure', 'barcelona_humidity', 'barcelona_wind_speed', 'barcelona_wind_deg', 'barcelona_rain_1h', 'barcelona_rain_3h', 'barcelona_snow_3h', 'barcelona_clouds_all', 'barcelona_weather_id', 'barcelona_weather_main', 'barcelona_weather_description', 'barcelona_weather_icon', 'seville_temp', 'seville_temp_min', 'seville_temp_max', 'seville_pressure', 'seville_humidity', 'seville_wind_speed', 'seville_wind_deg', 'seville_rain_1h', 'seville_rain_3h', 'seville_snow_3h', 'seville_clouds_all', 'seville_weather_id', 'seville_weather_main', 'seville_weather_description', 'seville_weather_icon', 'hour', 'day_of_week', 'month', 'day', 'year', 'is_weekend', 'is_holiday', 'is_peak_hour', 'is_off_hour', 'generation_biomass_ratio', 'generation_fossil_brown_coal/lignite_ratio', 'generation_fossil_gas_ratio', 'generation_fossil_hard_coal_ratio', 'generation_fossil_oil_ratio', 'generation_hydro_pumped_storage_consumption_ratio', 'generation_hydro_run_of_river_and_poundage_ratio', 'generation_hydro_water_reservoir_ratio', 'generation_nuclear_ratio', 'generation_other_ratio', 'generation_other_renewable_ratio', 'generation_solar_ratio', 'generation_waste_ratio', 'generation_wind_onshore_ratio', 'valencia_temp_diff', 'non_fossil_generation', 'demand_non_fossil_diff', 'is_holiday_or_weekend_flag', 'is_next_day_holiday_or_weekend_flag', 'is_previous_day_holiday_or_weekend_flag', 'consecutive_holiday_or_weekend_flag']\n",
      "Target: price_actual\n",
      "X shape: (26280, 120)\n",
      "y shape: (26280,)\n"
     ]
    }
   ],
   "source": [
    "# 目的変数\n",
    "target_col = 'price_actual'\n",
    "\n",
    "# 説明変数（目的変数とtime列以外）\n",
    "drop_cols = ['time', target_col] if target_col in train.columns else ['time']\n",
    "feature_cols = [col for col in train.columns if col not in drop_cols]\n",
    "\n",
    "X = train[feature_cols]\n",
    "y = train[target_col] if target_col in train.columns else train.iloc[:, -1]  # 念のため\n",
    "\n",
    "print('Features:', feature_cols)\n",
    "print('Target:', target_col)\n",
    "print('X shape:', X.shape)\n",
    "print('y shape:', y.shape)"
   ]
  },
  {
   "cell_type": "markdown",
   "metadata": {},
   "source": [
    "## 3. 学習・検証データ分割"
   ]
  },
  {
   "cell_type": "code",
   "execution_count": 5,
   "metadata": {},
   "outputs": [],
   "source": [
    "# ベイズ最適化によるLightGBMハイパーパラメータ探索\n",
    "tscv = TimeSeriesSplit(n_splits=5)\n",
    "def objective(trial):\n",
    "    params = {\n",
    "        'objective': 'regression',\n",
    "        'metric': 'rmse',\n",
    "        'boosting_type': 'gbdt',\n",
    "        'num_leaves': trial.suggest_int('num_leaves', 20, 100),\n",
    "        'learning_rate': trial.suggest_float('learning_rate', 0.01, 0.3),\n",
    "        'feature_fraction': trial.suggest_float('feature_fraction', 0.6, 1.0),\n",
    "        'bagging_fraction': trial.suggest_float('bagging_fraction', 0.6, 1.0),\n",
    "        'bagging_freq': trial.suggest_int('bagging_freq', 1, 10),\n",
    "        'min_child_samples': trial.suggest_int('min_child_samples', 10, 100),\n",
    "        'verbose': -1,\n",
    "        'random_state': 42\n",
    "    }\n",
    "    rmses = []\n",
    "    for train_idx, valid_idx in tscv.split(X):\n",
    "        X_train, X_valid = X.iloc[train_idx], X.iloc[valid_idx]\n",
    "        y_train, y_valid = y.iloc[train_idx], y.iloc[valid_idx]\n",
    "        train_data = lgb.Dataset(X_train, y_train)\n",
    "        valid_data = lgb.Dataset(X_valid, y_valid, reference=train_data)\n",
    "        model = lgb.train(params, train_data, valid_sets=[valid_data], num_boost_round=1000, callbacks=[lgb.early_stopping(50), lgb.log_evaluation(0)])\n",
    "        y_pred = model.predict(X_valid)\n",
    "        rmse = root_mean_squared_error(y_valid, y_pred)\n",
    "        rmses.append(rmse)\n",
    "    return np.mean(rmses)"
   ]
  },
  {
   "cell_type": "markdown",
   "metadata": {},
   "source": [
    "## 4. モデルの学習とハイパーパラメータチューニング"
   ]
  },
  {
   "cell_type": "code",
   "execution_count": 6,
   "metadata": {},
   "outputs": [
    {
     "name": "stderr",
     "output_type": "stream",
     "text": [
      "[I 2025-06-21 15:38:56,283] A new study created in memory with name: no-name-9a113353-94ee-43fd-aaa3-614095e7dd30\n"
     ]
    },
    {
     "name": "stdout",
     "output_type": "stream",
     "text": [
      "Training until validation scores don't improve for 50 rounds\n",
      "Early stopping, best iteration is:\n",
      "[157]\tvalid_0's rmse: 7.59273\n",
      "Training until validation scores don't improve for 50 rounds\n",
      "Early stopping, best iteration is:\n",
      "[65]\tvalid_0's rmse: 19.4568\n",
      "Training until validation scores don't improve for 50 rounds\n",
      "Early stopping, best iteration is:\n",
      "[1]\tvalid_0's rmse: 11.4877\n",
      "Training until validation scores don't improve for 50 rounds\n",
      "Early stopping, best iteration is:\n",
      "[1]\tvalid_0's rmse: 13.7993\n",
      "Training until validation scores don't improve for 50 rounds\n"
     ]
    },
    {
     "name": "stderr",
     "output_type": "stream",
     "text": [
      "[I 2025-06-21 15:39:00,672] Trial 0 finished with value: 11.696584746021035 and parameters: {'num_leaves': 36, 'learning_rate': 0.2525960635095359, 'feature_fraction': 0.7801401679873876, 'bagging_fraction': 0.7749046902733476, 'bagging_freq': 6, 'min_child_samples': 78}. Best is trial 0 with value: 11.696584746021035.\n"
     ]
    },
    {
     "name": "stdout",
     "output_type": "stream",
     "text": [
      "Early stopping, best iteration is:\n",
      "[152]\tvalid_0's rmse: 6.14649\n",
      "Training until validation scores don't improve for 50 rounds\n",
      "Early stopping, best iteration is:\n",
      "[162]\tvalid_0's rmse: 7.23503\n",
      "Training until validation scores don't improve for 50 rounds\n",
      "Early stopping, best iteration is:\n",
      "[112]\tvalid_0's rmse: 19.2013\n",
      "Training until validation scores don't improve for 50 rounds\n",
      "Early stopping, best iteration is:\n",
      "[1]\tvalid_0's rmse: 11.4537\n",
      "Training until validation scores don't improve for 50 rounds\n",
      "Early stopping, best iteration is:\n",
      "[8]\tvalid_0's rmse: 12.3382\n",
      "Training until validation scores don't improve for 50 rounds\n"
     ]
    },
    {
     "name": "stderr",
     "output_type": "stream",
     "text": [
      "[I 2025-06-21 15:39:09,367] Trial 1 finished with value: 11.220347934092715 and parameters: {'num_leaves': 61, 'learning_rate': 0.08433672592747553, 'feature_fraction': 0.6276605863623268, 'bagging_fraction': 0.675321595802467, 'bagging_freq': 10, 'min_child_samples': 39}. Best is trial 1 with value: 11.220347934092715.\n"
     ]
    },
    {
     "name": "stdout",
     "output_type": "stream",
     "text": [
      "Early stopping, best iteration is:\n",
      "[213]\tvalid_0's rmse: 5.87353\n",
      "Training until validation scores don't improve for 50 rounds\n",
      "Early stopping, best iteration is:\n",
      "[9]\tvalid_0's rmse: 8.07926\n",
      "Training until validation scores don't improve for 50 rounds\n",
      "Early stopping, best iteration is:\n",
      "[17]\tvalid_0's rmse: 18.3641\n",
      "Training until validation scores don't improve for 50 rounds\n",
      "Early stopping, best iteration is:\n",
      "[1]\tvalid_0's rmse: 11.464\n",
      "Training until validation scores don't improve for 50 rounds\n",
      "Early stopping, best iteration is:\n",
      "[1]\tvalid_0's rmse: 13.9852\n",
      "Training until validation scores don't improve for 50 rounds\n"
     ]
    },
    {
     "name": "stderr",
     "output_type": "stream",
     "text": [
      "[I 2025-06-21 15:39:14,793] Trial 2 finished with value: 11.708391495677873 and parameters: {'num_leaves': 100, 'learning_rate': 0.29369112065566194, 'feature_fraction': 0.7874334919078368, 'bagging_fraction': 0.6527950077484171, 'bagging_freq': 5, 'min_child_samples': 20}. Best is trial 1 with value: 11.220347934092715.\n"
     ]
    },
    {
     "name": "stdout",
     "output_type": "stream",
     "text": [
      "Early stopping, best iteration is:\n",
      "[35]\tvalid_0's rmse: 6.64946\n",
      "Training until validation scores don't improve for 50 rounds\n",
      "Early stopping, best iteration is:\n",
      "[430]\tvalid_0's rmse: 7.28276\n",
      "Training until validation scores don't improve for 50 rounds\n",
      "Early stopping, best iteration is:\n",
      "[265]\tvalid_0's rmse: 19.6049\n",
      "Training until validation scores don't improve for 50 rounds\n",
      "Early stopping, best iteration is:\n",
      "[1]\tvalid_0's rmse: 11.1706\n",
      "Training until validation scores don't improve for 50 rounds\n",
      "Early stopping, best iteration is:\n",
      "[1]\tvalid_0's rmse: 13.3497\n",
      "Training until validation scores don't improve for 50 rounds\n"
     ]
    },
    {
     "name": "stderr",
     "output_type": "stream",
     "text": [
      "[I 2025-06-21 15:39:25,832] Trial 3 finished with value: 11.492497845744863 and parameters: {'num_leaves': 73, 'learning_rate': 0.03378330427880699, 'feature_fraction': 0.9914122265485342, 'bagging_fraction': 0.7210196526216746, 'bagging_freq': 10, 'min_child_samples': 100}. Best is trial 1 with value: 11.220347934092715.\n"
     ]
    },
    {
     "name": "stdout",
     "output_type": "stream",
     "text": [
      "Early stopping, best iteration is:\n",
      "[291]\tvalid_0's rmse: 6.05449\n",
      "Training until validation scores don't improve for 50 rounds\n",
      "Early stopping, best iteration is:\n",
      "[341]\tvalid_0's rmse: 7.2208\n",
      "Training until validation scores don't improve for 50 rounds\n",
      "Early stopping, best iteration is:\n",
      "[219]\tvalid_0's rmse: 19.6911\n",
      "Training until validation scores don't improve for 50 rounds\n",
      "Early stopping, best iteration is:\n",
      "[1]\tvalid_0's rmse: 11.195\n",
      "Training until validation scores don't improve for 50 rounds\n",
      "Early stopping, best iteration is:\n",
      "[1]\tvalid_0's rmse: 13.357\n",
      "Training until validation scores don't improve for 50 rounds\n"
     ]
    },
    {
     "name": "stderr",
     "output_type": "stream",
     "text": [
      "[I 2025-06-21 15:39:40,736] Trial 4 finished with value: 11.478988548123088 and parameters: {'num_leaves': 97, 'learning_rate': 0.04034798412736018, 'feature_fraction': 0.9634508590276338, 'bagging_fraction': 0.8171675217392895, 'bagging_freq': 5, 'min_child_samples': 88}. Best is trial 1 with value: 11.220347934092715.\n"
     ]
    },
    {
     "name": "stdout",
     "output_type": "stream",
     "text": [
      "Early stopping, best iteration is:\n",
      "[334]\tvalid_0's rmse: 5.93099\n",
      "Training until validation scores don't improve for 50 rounds\n",
      "Early stopping, best iteration is:\n",
      "[42]\tvalid_0's rmse: 7.32553\n",
      "Training until validation scores don't improve for 50 rounds\n",
      "Early stopping, best iteration is:\n",
      "[84]\tvalid_0's rmse: 19.4338\n",
      "Training until validation scores don't improve for 50 rounds\n",
      "Early stopping, best iteration is:\n",
      "[1]\tvalid_0's rmse: 11.6137\n",
      "Training until validation scores don't improve for 50 rounds\n",
      "Early stopping, best iteration is:\n",
      "[8]\tvalid_0's rmse: 11.845\n",
      "Training until validation scores don't improve for 50 rounds\n"
     ]
    },
    {
     "name": "stderr",
     "output_type": "stream",
     "text": [
      "[I 2025-06-21 15:39:46,309] Trial 5 finished with value: 11.283788416853927 and parameters: {'num_leaves': 71, 'learning_rate': 0.17045162975395353, 'feature_fraction': 0.6394548353805365, 'bagging_fraction': 0.9456671567000392, 'bagging_freq': 1, 'min_child_samples': 35}. Best is trial 1 with value: 11.220347934092715.\n"
     ]
    },
    {
     "name": "stdout",
     "output_type": "stream",
     "text": [
      "Early stopping, best iteration is:\n",
      "[49]\tvalid_0's rmse: 6.20092\n",
      "Training until validation scores don't improve for 50 rounds\n",
      "Early stopping, best iteration is:\n",
      "[30]\tvalid_0's rmse: 7.70839\n",
      "Training until validation scores don't improve for 50 rounds\n",
      "Early stopping, best iteration is:\n",
      "[44]\tvalid_0's rmse: 19.6852\n",
      "Training until validation scores don't improve for 50 rounds\n",
      "Early stopping, best iteration is:\n",
      "[1]\tvalid_0's rmse: 11.7766\n",
      "Training until validation scores don't improve for 50 rounds\n",
      "Early stopping, best iteration is:\n",
      "[8]\tvalid_0's rmse: 11.8584\n",
      "Training until validation scores don't improve for 50 rounds\n"
     ]
    },
    {
     "name": "stderr",
     "output_type": "stream",
     "text": [
      "[I 2025-06-21 15:39:50,965] Trial 6 finished with value: 11.529760037347742 and parameters: {'num_leaves': 86, 'learning_rate': 0.29134384988286466, 'feature_fraction': 0.6975281537759302, 'bagging_fraction': 0.6549208817412302, 'bagging_freq': 6, 'min_child_samples': 62}. Best is trial 1 with value: 11.220347934092715.\n"
     ]
    },
    {
     "name": "stdout",
     "output_type": "stream",
     "text": [
      "Early stopping, best iteration is:\n",
      "[38]\tvalid_0's rmse: 6.62023\n",
      "Training until validation scores don't improve for 50 rounds\n",
      "Early stopping, best iteration is:\n",
      "[31]\tvalid_0's rmse: 7.5725\n",
      "Training until validation scores don't improve for 50 rounds\n",
      "Early stopping, best iteration is:\n",
      "[38]\tvalid_0's rmse: 20.0469\n",
      "Training until validation scores don't improve for 50 rounds\n",
      "Early stopping, best iteration is:\n",
      "[1]\tvalid_0's rmse: 11.4199\n",
      "Training until validation scores don't improve for 50 rounds\n",
      "Early stopping, best iteration is:\n",
      "[1]\tvalid_0's rmse: 13.8269\n",
      "Training until validation scores don't improve for 50 rounds\n"
     ]
    },
    {
     "name": "stderr",
     "output_type": "stream",
     "text": [
      "[I 2025-06-21 15:39:54,621] Trial 7 finished with value: 11.785449942544753 and parameters: {'num_leaves': 56, 'learning_rate': 0.20383140172551054, 'feature_fraction': 0.9700766039215691, 'bagging_fraction': 0.6573087253991049, 'bagging_freq': 6, 'min_child_samples': 68}. Best is trial 1 with value: 11.220347934092715.\n"
     ]
    },
    {
     "name": "stdout",
     "output_type": "stream",
     "text": [
      "Early stopping, best iteration is:\n",
      "[36]\tvalid_0's rmse: 6.06111\n",
      "Training until validation scores don't improve for 50 rounds\n",
      "Early stopping, best iteration is:\n",
      "[203]\tvalid_0's rmse: 7.13505\n",
      "Training until validation scores don't improve for 50 rounds\n",
      "Early stopping, best iteration is:\n",
      "[321]\tvalid_0's rmse: 19.1018\n",
      "Training until validation scores don't improve for 50 rounds\n",
      "Early stopping, best iteration is:\n",
      "[1]\tvalid_0's rmse: 11.1692\n",
      "Training until validation scores don't improve for 50 rounds\n",
      "Early stopping, best iteration is:\n",
      "[8]\tvalid_0's rmse: 12.9829\n",
      "Training until validation scores don't improve for 50 rounds\n"
     ]
    },
    {
     "name": "stderr",
     "output_type": "stream",
     "text": [
      "[I 2025-06-21 15:40:01,351] Trial 8 finished with value: 11.240840820873217 and parameters: {'num_leaves': 24, 'learning_rate': 0.040659926585426234, 'feature_fraction': 0.6802720584933271, 'bagging_fraction': 0.8236060127356555, 'bagging_freq': 8, 'min_child_samples': 70}. Best is trial 1 with value: 11.220347934092715.\n"
     ]
    },
    {
     "name": "stdout",
     "output_type": "stream",
     "text": [
      "Early stopping, best iteration is:\n",
      "[363]\tvalid_0's rmse: 5.81524\n",
      "Training until validation scores don't improve for 50 rounds\n",
      "Early stopping, best iteration is:\n",
      "[405]\tvalid_0's rmse: 7.17388\n",
      "Training until validation scores don't improve for 50 rounds\n",
      "Early stopping, best iteration is:\n",
      "[520]\tvalid_0's rmse: 19.5774\n",
      "Training until validation scores don't improve for 50 rounds\n",
      "Early stopping, best iteration is:\n",
      "[1]\tvalid_0's rmse: 11.1447\n",
      "Training until validation scores don't improve for 50 rounds\n",
      "Early stopping, best iteration is:\n",
      "[8]\tvalid_0's rmse: 13.3408\n",
      "Training until validation scores don't improve for 50 rounds\n"
     ]
    },
    {
     "name": "stderr",
     "output_type": "stream",
     "text": [
      "[I 2025-06-21 15:40:12,599] Trial 9 finished with value: 11.394952117765424 and parameters: {'num_leaves': 24, 'learning_rate': 0.022925412596384354, 'feature_fraction': 0.7920293189430059, 'bagging_fraction': 0.9481684030572715, 'bagging_freq': 5, 'min_child_samples': 87}. Best is trial 1 with value: 11.220347934092715.\n"
     ]
    },
    {
     "name": "stdout",
     "output_type": "stream",
     "text": [
      "Early stopping, best iteration is:\n",
      "[915]\tvalid_0's rmse: 5.73793\n",
      "Training until validation scores don't improve for 50 rounds\n",
      "Early stopping, best iteration is:\n",
      "[95]\tvalid_0's rmse: 7.36243\n",
      "Training until validation scores don't improve for 50 rounds\n",
      "Early stopping, best iteration is:\n",
      "[57]\tvalid_0's rmse: 19.284\n",
      "Training until validation scores don't improve for 50 rounds\n",
      "Early stopping, best iteration is:\n",
      "[1]\tvalid_0's rmse: 11.4535\n",
      "Training until validation scores don't improve for 50 rounds\n",
      "Early stopping, best iteration is:\n",
      "[8]\tvalid_0's rmse: 12.1217\n",
      "Training until validation scores don't improve for 50 rounds\n"
     ]
    },
    {
     "name": "stderr",
     "output_type": "stream",
     "text": [
      "[I 2025-06-21 15:40:18,321] Trial 10 finished with value: 11.215789587910741 and parameters: {'num_leaves': 47, 'learning_rate': 0.11624209600340887, 'feature_fraction': 0.6000208879234538, 'bagging_fraction': 0.6039765262791216, 'bagging_freq': 10, 'min_child_samples': 43}. Best is trial 10 with value: 11.215789587910741.\n"
     ]
    },
    {
     "name": "stdout",
     "output_type": "stream",
     "text": [
      "Early stopping, best iteration is:\n",
      "[205]\tvalid_0's rmse: 5.85735\n",
      "Training until validation scores don't improve for 50 rounds\n",
      "Early stopping, best iteration is:\n",
      "[103]\tvalid_0's rmse: 7.49434\n",
      "Training until validation scores don't improve for 50 rounds\n",
      "Early stopping, best iteration is:\n",
      "[111]\tvalid_0's rmse: 19.3852\n",
      "Training until validation scores don't improve for 50 rounds\n",
      "Early stopping, best iteration is:\n",
      "[1]\tvalid_0's rmse: 11.4285\n",
      "Training until validation scores don't improve for 50 rounds\n",
      "Early stopping, best iteration is:\n",
      "[8]\tvalid_0's rmse: 12.1435\n",
      "Training until validation scores don't improve for 50 rounds\n"
     ]
    },
    {
     "name": "stderr",
     "output_type": "stream",
     "text": [
      "[I 2025-06-21 15:40:25,298] Trial 11 finished with value: 11.287159280628481 and parameters: {'num_leaves': 49, 'learning_rate': 0.1072854041811432, 'feature_fraction': 0.60695102316064, 'bagging_fraction': 0.6067395839485987, 'bagging_freq': 10, 'min_child_samples': 43}. Best is trial 10 with value: 11.215789587910741.\n"
     ]
    },
    {
     "name": "stdout",
     "output_type": "stream",
     "text": [
      "Early stopping, best iteration is:\n",
      "[278]\tvalid_0's rmse: 5.98425\n",
      "Training until validation scores don't improve for 50 rounds\n",
      "Early stopping, best iteration is:\n",
      "[165]\tvalid_0's rmse: 7.24401\n",
      "Training until validation scores don't improve for 50 rounds\n",
      "Early stopping, best iteration is:\n",
      "[109]\tvalid_0's rmse: 19.6879\n",
      "Training until validation scores don't improve for 50 rounds\n",
      "Early stopping, best iteration is:\n",
      "[1]\tvalid_0's rmse: 11.2189\n",
      "Training until validation scores don't improve for 50 rounds\n",
      "Early stopping, best iteration is:\n",
      "[9]\tvalid_0's rmse: 12.7175\n",
      "Training until validation scores don't improve for 50 rounds\n"
     ]
    },
    {
     "name": "stderr",
     "output_type": "stream",
     "text": [
      "[I 2025-06-21 15:40:30,578] Trial 12 finished with value: 11.405755669654049 and parameters: {'num_leaves': 47, 'learning_rate': 0.09974694215673849, 'feature_fraction': 0.7136821355777203, 'bagging_fraction': 0.6020924249273654, 'bagging_freq': 8, 'min_child_samples': 45}. Best is trial 10 with value: 11.215789587910741.\n"
     ]
    },
    {
     "name": "stdout",
     "output_type": "stream",
     "text": [
      "Early stopping, best iteration is:\n",
      "[96]\tvalid_0's rmse: 6.16049\n",
      "Training until validation scores don't improve for 50 rounds\n",
      "Early stopping, best iteration is:\n",
      "[76]\tvalid_0's rmse: 7.51367\n",
      "Training until validation scores don't improve for 50 rounds\n",
      "Early stopping, best iteration is:\n",
      "[109]\tvalid_0's rmse: 19.2124\n",
      "Training until validation scores don't improve for 50 rounds\n",
      "Early stopping, best iteration is:\n",
      "[1]\tvalid_0's rmse: 11.24\n",
      "Training until validation scores don't improve for 50 rounds\n",
      "Early stopping, best iteration is:\n",
      "[1]\tvalid_0's rmse: 13.3333\n",
      "Training until validation scores don't improve for 50 rounds\n"
     ]
    },
    {
     "name": "stderr",
     "output_type": "stream",
     "text": [
      "[I 2025-06-21 15:40:38,625] Trial 13 finished with value: 11.436049940046967 and parameters: {'num_leaves': 68, 'learning_rate': 0.11451324346831929, 'feature_fraction': 0.8650597021147903, 'bagging_fraction': 0.7254906498450183, 'bagging_freq': 8, 'min_child_samples': 11}. Best is trial 10 with value: 11.215789587910741.\n"
     ]
    },
    {
     "name": "stdout",
     "output_type": "stream",
     "text": [
      "Early stopping, best iteration is:\n",
      "[130]\tvalid_0's rmse: 5.88088\n",
      "Training until validation scores don't improve for 50 rounds\n",
      "Early stopping, best iteration is:\n",
      "[99]\tvalid_0's rmse: 7.25854\n",
      "Training until validation scores don't improve for 50 rounds\n",
      "Early stopping, best iteration is:\n",
      "[111]\tvalid_0's rmse: 19.3843\n",
      "Training until validation scores don't improve for 50 rounds\n",
      "Early stopping, best iteration is:\n",
      "[1]\tvalid_0's rmse: 11.3043\n",
      "Training until validation scores don't improve for 50 rounds\n",
      "Early stopping, best iteration is:\n",
      "[8]\tvalid_0's rmse: 12.3067\n",
      "Training until validation scores don't improve for 50 rounds\n"
     ]
    },
    {
     "name": "stderr",
     "output_type": "stream",
     "text": [
      "[I 2025-06-21 15:40:44,251] Trial 14 finished with value: 11.243980859041546 and parameters: {'num_leaves': 41, 'learning_rate': 0.08131898463243917, 'feature_fraction': 0.6237376750760607, 'bagging_fraction': 0.7098672960548231, 'bagging_freq': 10, 'min_child_samples': 31}. Best is trial 10 with value: 11.215789587910741.\n"
     ]
    },
    {
     "name": "stdout",
     "output_type": "stream",
     "text": [
      "Early stopping, best iteration is:\n",
      "[214]\tvalid_0's rmse: 5.96604\n",
      "Training until validation scores don't improve for 50 rounds\n",
      "Early stopping, best iteration is:\n",
      "[63]\tvalid_0's rmse: 7.32018\n",
      "Training until validation scores don't improve for 50 rounds\n",
      "Early stopping, best iteration is:\n",
      "[113]\tvalid_0's rmse: 19.2655\n",
      "Training until validation scores don't improve for 50 rounds\n",
      "Early stopping, best iteration is:\n",
      "[1]\tvalid_0's rmse: 11.4243\n",
      "Training until validation scores don't improve for 50 rounds\n",
      "Early stopping, best iteration is:\n",
      "[8]\tvalid_0's rmse: 12.2209\n",
      "Training until validation scores don't improve for 50 rounds\n"
     ]
    },
    {
     "name": "stderr",
     "output_type": "stream",
     "text": [
      "[I 2025-06-21 15:40:49,637] Trial 15 finished with value: 11.275110565899562 and parameters: {'num_leaves': 57, 'learning_rate': 0.149016636231251, 'feature_fraction': 0.7304388050689987, 'bagging_fraction': 0.8779492746863525, 'bagging_freq': 2, 'min_child_samples': 50}. Best is trial 10 with value: 11.215789587910741.\n"
     ]
    },
    {
     "name": "stdout",
     "output_type": "stream",
     "text": [
      "Early stopping, best iteration is:\n",
      "[68]\tvalid_0's rmse: 6.14467\n",
      "Training until validation scores don't improve for 50 rounds\n",
      "Early stopping, best iteration is:\n",
      "[76]\tvalid_0's rmse: 7.40883\n",
      "Training until validation scores don't improve for 50 rounds\n",
      "Early stopping, best iteration is:\n",
      "[37]\tvalid_0's rmse: 19.6654\n",
      "Training until validation scores don't improve for 50 rounds\n",
      "Early stopping, best iteration is:\n",
      "[1]\tvalid_0's rmse: 11.2727\n",
      "Training until validation scores don't improve for 50 rounds\n",
      "Early stopping, best iteration is:\n",
      "[1]\tvalid_0's rmse: 13.5095\n",
      "Training until validation scores don't improve for 50 rounds\n"
     ]
    },
    {
     "name": "stderr",
     "output_type": "stream",
     "text": [
      "[I 2025-06-21 15:40:55,682] Trial 16 finished with value: 11.5855457468004 and parameters: {'num_leaves': 82, 'learning_rate': 0.14702990560894325, 'feature_fraction': 0.8692970353032301, 'bagging_fraction': 0.6853045228932061, 'bagging_freq': 9, 'min_child_samples': 31}. Best is trial 10 with value: 11.215789587910741.\n"
     ]
    },
    {
     "name": "stdout",
     "output_type": "stream",
     "text": [
      "Early stopping, best iteration is:\n",
      "[63]\tvalid_0's rmse: 6.07138\n",
      "Training until validation scores don't improve for 50 rounds\n",
      "Early stopping, best iteration is:\n",
      "[144]\tvalid_0's rmse: 7.13695\n",
      "Training until validation scores don't improve for 50 rounds\n",
      "Early stopping, best iteration is:\n",
      "[179]\tvalid_0's rmse: 19.4182\n",
      "Training until validation scores don't improve for 50 rounds\n",
      "Early stopping, best iteration is:\n",
      "[1]\tvalid_0's rmse: 11.2088\n",
      "Training until validation scores don't improve for 50 rounds\n",
      "Early stopping, best iteration is:\n",
      "[8]\tvalid_0's rmse: 12.8494\n",
      "Training until validation scores don't improve for 50 rounds\n"
     ]
    },
    {
     "name": "stderr",
     "output_type": "stream",
     "text": [
      "[I 2025-06-21 15:41:01,788] Trial 17 finished with value: 11.296867278303552 and parameters: {'num_leaves': 33, 'learning_rate': 0.07041577889479501, 'feature_fraction': 0.6587300496083922, 'bagging_fraction': 0.7712680948143518, 'bagging_freq': 9, 'min_child_samples': 56}. Best is trial 10 with value: 11.215789587910741.\n"
     ]
    },
    {
     "name": "stdout",
     "output_type": "stream",
     "text": [
      "Early stopping, best iteration is:\n",
      "[317]\tvalid_0's rmse: 5.87098\n",
      "Training until validation scores don't improve for 50 rounds\n",
      "Early stopping, best iteration is:\n",
      "[63]\tvalid_0's rmse: 7.53692\n",
      "Training until validation scores don't improve for 50 rounds\n",
      "Early stopping, best iteration is:\n",
      "[34]\tvalid_0's rmse: 19.4591\n",
      "Training until validation scores don't improve for 50 rounds\n",
      "Early stopping, best iteration is:\n",
      "[1]\tvalid_0's rmse: 11.4781\n",
      "Training until validation scores don't improve for 50 rounds\n",
      "Early stopping, best iteration is:\n",
      "[44]\tvalid_0's rmse: 12.4879\n",
      "Training until validation scores don't improve for 50 rounds\n"
     ]
    },
    {
     "name": "stderr",
     "output_type": "stream",
     "text": [
      "[I 2025-06-21 15:41:06,846] Trial 18 finished with value: 11.491212806463265 and parameters: {'num_leaves': 62, 'learning_rate': 0.19631232163804113, 'feature_fraction': 0.7404509851722234, 'bagging_fraction': 0.6023803081193797, 'bagging_freq': 7, 'min_child_samples': 21}. Best is trial 10 with value: 11.215789587910741.\n"
     ]
    },
    {
     "name": "stdout",
     "output_type": "stream",
     "text": [
      "Early stopping, best iteration is:\n",
      "[48]\tvalid_0's rmse: 6.49405\n",
      "Training until validation scores don't improve for 50 rounds\n",
      "Early stopping, best iteration is:\n",
      "[101]\tvalid_0's rmse: 7.06081\n",
      "Training until validation scores don't improve for 50 rounds\n",
      "Early stopping, best iteration is:\n",
      "[210]\tvalid_0's rmse: 19.412\n",
      "Training until validation scores don't improve for 50 rounds\n",
      "Early stopping, best iteration is:\n",
      "[1]\tvalid_0's rmse: 11.292\n",
      "Training until validation scores don't improve for 50 rounds\n",
      "Early stopping, best iteration is:\n",
      "[8]\tvalid_0's rmse: 12.1589\n",
      "Training until validation scores don't improve for 50 rounds\n"
     ]
    },
    {
     "name": "stderr",
     "output_type": "stream",
     "text": [
      "[I 2025-06-21 15:41:16,446] Trial 19 finished with value: 11.136776299964819 and parameters: {'num_leaves': 50, 'learning_rate': 0.06731286501382683, 'feature_fraction': 0.6015877356255421, 'bagging_fraction': 0.9972796936382388, 'bagging_freq': 3, 'min_child_samples': 39}. Best is trial 19 with value: 11.136776299964819.\n"
     ]
    },
    {
     "name": "stdout",
     "output_type": "stream",
     "text": [
      "Early stopping, best iteration is:\n",
      "[356]\tvalid_0's rmse: 5.76022\n",
      "Training until validation scores don't improve for 50 rounds\n",
      "Early stopping, best iteration is:\n",
      "[168]\tvalid_0's rmse: 7.12654\n",
      "Training until validation scores don't improve for 50 rounds\n",
      "Early stopping, best iteration is:\n",
      "[148]\tvalid_0's rmse: 19.5371\n",
      "Training until validation scores don't improve for 50 rounds\n",
      "Early stopping, best iteration is:\n",
      "[1]\tvalid_0's rmse: 11.1594\n",
      "Training until validation scores don't improve for 50 rounds\n",
      "Early stopping, best iteration is:\n",
      "[1]\tvalid_0's rmse: 13.3746\n",
      "Training until validation scores don't improve for 50 rounds\n"
     ]
    },
    {
     "name": "stderr",
     "output_type": "stream",
     "text": [
      "[I 2025-06-21 15:41:24,620] Trial 20 finished with value: 11.397256750395632 and parameters: {'num_leaves': 48, 'learning_rate': 0.06460316937157184, 'feature_fraction': 0.8417514921777107, 'bagging_fraction': 0.9848288669077032, 'bagging_freq': 3, 'min_child_samples': 51}. Best is trial 19 with value: 11.136776299964819.\n"
     ]
    },
    {
     "name": "stdout",
     "output_type": "stream",
     "text": [
      "Early stopping, best iteration is:\n",
      "[275]\tvalid_0's rmse: 5.78862\n",
      "Training until validation scores don't improve for 50 rounds\n",
      "Early stopping, best iteration is:\n",
      "[80]\tvalid_0's rmse: 7.32712\n",
      "Training until validation scores don't improve for 50 rounds\n",
      "Early stopping, best iteration is:\n",
      "[56]\tvalid_0's rmse: 19.4391\n",
      "Training until validation scores don't improve for 50 rounds\n",
      "Early stopping, best iteration is:\n",
      "[1]\tvalid_0's rmse: 11.423\n",
      "Training until validation scores don't improve for 50 rounds\n",
      "Early stopping, best iteration is:\n",
      "[9]\tvalid_0's rmse: 11.2979\n",
      "Training until validation scores don't improve for 50 rounds\n"
     ]
    },
    {
     "name": "stderr",
     "output_type": "stream",
     "text": [
      "[I 2025-06-21 15:41:31,219] Trial 21 finished with value: 11.07680863056699 and parameters: {'num_leaves': 61, 'learning_rate': 0.12967049067823336, 'feature_fraction': 0.6032454801148472, 'bagging_fraction': 0.8784013776979956, 'bagging_freq': 4, 'min_child_samples': 40}. Best is trial 21 with value: 11.07680863056699.\n"
     ]
    },
    {
     "name": "stdout",
     "output_type": "stream",
     "text": [
      "Early stopping, best iteration is:\n",
      "[171]\tvalid_0's rmse: 5.89691\n",
      "Training until validation scores don't improve for 50 rounds\n",
      "Early stopping, best iteration is:\n",
      "[58]\tvalid_0's rmse: 7.21023\n",
      "Training until validation scores don't improve for 50 rounds\n",
      "Early stopping, best iteration is:\n",
      "[73]\tvalid_0's rmse: 19.584\n",
      "Training until validation scores don't improve for 50 rounds\n",
      "Early stopping, best iteration is:\n",
      "[1]\tvalid_0's rmse: 11.5273\n",
      "Training until validation scores don't improve for 50 rounds\n",
      "Early stopping, best iteration is:\n",
      "[8]\tvalid_0's rmse: 11.7372\n",
      "Training until validation scores don't improve for 50 rounds\n"
     ]
    },
    {
     "name": "stderr",
     "output_type": "stream",
     "text": [
      "[I 2025-06-21 15:41:36,736] Trial 22 finished with value: 11.253401070356585 and parameters: {'num_leaves': 41, 'learning_rate': 0.12952161801217194, 'feature_fraction': 0.6001312843461387, 'bagging_fraction': 0.9107482966810474, 'bagging_freq': 3, 'min_child_samples': 25}. Best is trial 21 with value: 11.07680863056699.\n"
     ]
    },
    {
     "name": "stdout",
     "output_type": "stream",
     "text": [
      "Early stopping, best iteration is:\n",
      "[162]\tvalid_0's rmse: 6.20824\n",
      "Training until validation scores don't improve for 50 rounds\n",
      "Early stopping, best iteration is:\n",
      "[32]\tvalid_0's rmse: 7.39209\n",
      "Training until validation scores don't improve for 50 rounds\n",
      "Early stopping, best iteration is:\n",
      "[62]\tvalid_0's rmse: 19.4602\n",
      "Training until validation scores don't improve for 50 rounds\n",
      "Early stopping, best iteration is:\n",
      "[1]\tvalid_0's rmse: 11.6545\n",
      "Training until validation scores don't improve for 50 rounds\n",
      "Early stopping, best iteration is:\n",
      "[81]\tvalid_0's rmse: 12.0054\n",
      "Training until validation scores don't improve for 50 rounds\n"
     ]
    },
    {
     "name": "stderr",
     "output_type": "stream",
     "text": [
      "[I 2025-06-21 15:41:42,174] Trial 23 finished with value: 11.3954022231769 and parameters: {'num_leaves': 52, 'learning_rate': 0.17458908207600107, 'feature_fraction': 0.6725767307890668, 'bagging_fraction': 0.8759813995151005, 'bagging_freq': 4, 'min_child_samples': 44}. Best is trial 21 with value: 11.07680863056699.\n"
     ]
    },
    {
     "name": "stdout",
     "output_type": "stream",
     "text": [
      "Early stopping, best iteration is:\n",
      "[117]\tvalid_0's rmse: 6.46488\n",
      "Training until validation scores don't improve for 50 rounds\n",
      "Early stopping, best iteration is:\n",
      "[132]\tvalid_0's rmse: 7.36076\n",
      "Training until validation scores don't improve for 50 rounds\n",
      "Early stopping, best iteration is:\n",
      "[68]\tvalid_0's rmse: 19.6727\n",
      "Training until validation scores don't improve for 50 rounds\n",
      "Early stopping, best iteration is:\n",
      "[1]\tvalid_0's rmse: 11.464\n",
      "Training until validation scores don't improve for 50 rounds\n",
      "Early stopping, best iteration is:\n",
      "[8]\tvalid_0's rmse: 12.0238\n",
      "Training until validation scores don't improve for 50 rounds\n"
     ]
    },
    {
     "name": "stderr",
     "output_type": "stream",
     "text": [
      "[I 2025-06-21 15:41:49,751] Trial 24 finished with value: 11.280647966731312 and parameters: {'num_leaves': 65, 'learning_rate': 0.13163076691507244, 'feature_fraction': 0.6478749319211987, 'bagging_fraction': 0.9970449444443872, 'bagging_freq': 3, 'min_child_samples': 56}. Best is trial 21 with value: 11.07680863056699.\n"
     ]
    },
    {
     "name": "stdout",
     "output_type": "stream",
     "text": [
      "Early stopping, best iteration is:\n",
      "[164]\tvalid_0's rmse: 5.88196\n",
      "Training until validation scores don't improve for 50 rounds\n",
      "Early stopping, best iteration is:\n",
      "[198]\tvalid_0's rmse: 7.12602\n",
      "Training until validation scores don't improve for 50 rounds\n",
      "Early stopping, best iteration is:\n",
      "[89]\tvalid_0's rmse: 19.5739\n",
      "Training until validation scores don't improve for 50 rounds\n",
      "Early stopping, best iteration is:\n",
      "[1]\tvalid_0's rmse: 11.1788\n",
      "Training until validation scores don't improve for 50 rounds\n",
      "Early stopping, best iteration is:\n",
      "[8]\tvalid_0's rmse: 12.1972\n",
      "Training until validation scores don't improve for 50 rounds\n"
     ]
    },
    {
     "name": "stderr",
     "output_type": "stream",
     "text": [
      "[I 2025-06-21 15:42:01,201] Trial 25 finished with value: 11.164595310969341 and parameters: {'num_leaves': 77, 'learning_rate': 0.05604394554026364, 'feature_fraction': 0.6056913155136182, 'bagging_fraction': 0.8632608641874104, 'bagging_freq': 4, 'min_child_samples': 36}. Best is trial 21 with value: 11.07680863056699.\n"
     ]
    },
    {
     "name": "stdout",
     "output_type": "stream",
     "text": [
      "Early stopping, best iteration is:\n",
      "[256]\tvalid_0's rmse: 5.7471\n",
      "Training until validation scores don't improve for 50 rounds\n",
      "Early stopping, best iteration is:\n",
      "[643]\tvalid_0's rmse: 7.10301\n",
      "Training until validation scores don't improve for 50 rounds\n",
      "Early stopping, best iteration is:\n",
      "[799]\tvalid_0's rmse: 19.3746\n",
      "Training until validation scores don't improve for 50 rounds\n",
      "Early stopping, best iteration is:\n",
      "[1]\tvalid_0's rmse: 11.1259\n",
      "Training until validation scores don't improve for 50 rounds\n",
      "Early stopping, best iteration is:\n",
      "[12]\tvalid_0's rmse: 13.0993\n",
      "Training until validation scores don't improve for 50 rounds\n"
     ]
    },
    {
     "name": "stderr",
     "output_type": "stream",
     "text": [
      "[I 2025-06-21 15:42:42,464] Trial 26 finished with value: 11.3063408433008 and parameters: {'num_leaves': 77, 'learning_rate': 0.01158234732910926, 'feature_fraction': 0.7494331394557486, 'bagging_fraction': 0.8536084766459832, 'bagging_freq': 4, 'min_child_samples': 10}. Best is trial 21 with value: 11.07680863056699.\n"
     ]
    },
    {
     "name": "stdout",
     "output_type": "stream",
     "text": [
      "Did not meet early stopping. Best iteration is:\n",
      "[998]\tvalid_0's rmse: 5.82901\n",
      "Training until validation scores don't improve for 50 rounds\n",
      "Early stopping, best iteration is:\n",
      "[158]\tvalid_0's rmse: 7.15787\n",
      "Training until validation scores don't improve for 50 rounds\n",
      "Early stopping, best iteration is:\n",
      "[168]\tvalid_0's rmse: 19.3814\n",
      "Training until validation scores don't improve for 50 rounds\n",
      "Early stopping, best iteration is:\n",
      "[1]\tvalid_0's rmse: 11.2033\n",
      "Training until validation scores don't improve for 50 rounds\n",
      "Early stopping, best iteration is:\n",
      "[12]\tvalid_0's rmse: 12.5833\n",
      "Training until validation scores don't improve for 50 rounds\n"
     ]
    },
    {
     "name": "stderr",
     "output_type": "stream",
     "text": [
      "[I 2025-06-21 15:42:57,215] Trial 27 finished with value: 11.254535576615437 and parameters: {'num_leaves': 91, 'learning_rate': 0.050618487780957504, 'feature_fraction': 0.6821531968035733, 'bagging_fraction': 0.9147666109402701, 'bagging_freq': 1, 'min_child_samples': 27}. Best is trial 21 with value: 11.07680863056699.\n"
     ]
    },
    {
     "name": "stdout",
     "output_type": "stream",
     "text": [
      "Early stopping, best iteration is:\n",
      "[313]\tvalid_0's rmse: 5.94683\n",
      "Training until validation scores don't improve for 50 rounds\n",
      "Early stopping, best iteration is:\n",
      "[269]\tvalid_0's rmse: 7.13622\n",
      "Training until validation scores don't improve for 50 rounds\n",
      "Early stopping, best iteration is:\n",
      "[238]\tvalid_0's rmse: 19.487\n",
      "Training until validation scores don't improve for 50 rounds\n",
      "Early stopping, best iteration is:\n",
      "[1]\tvalid_0's rmse: 11.2191\n",
      "Training until validation scores don't improve for 50 rounds\n",
      "Early stopping, best iteration is:\n",
      "[8]\tvalid_0's rmse: 12.6399\n",
      "Training until validation scores don't improve for 50 rounds\n"
     ]
    },
    {
     "name": "stderr",
     "output_type": "stream",
     "text": [
      "[I 2025-06-21 15:43:11,149] Trial 28 finished with value: 11.245346814856962 and parameters: {'num_leaves': 78, 'learning_rate': 0.059862230293784575, 'feature_fraction': 0.6512871636167552, 'bagging_fraction': 0.961946229811155, 'bagging_freq': 4, 'min_child_samples': 36}. Best is trial 21 with value: 11.07680863056699.\n"
     ]
    },
    {
     "name": "stdout",
     "output_type": "stream",
     "text": [
      "Early stopping, best iteration is:\n",
      "[220]\tvalid_0's rmse: 5.74445\n",
      "Training until validation scores don't improve for 50 rounds\n",
      "Early stopping, best iteration is:\n",
      "[222]\tvalid_0's rmse: 7.18794\n",
      "Training until validation scores don't improve for 50 rounds\n",
      "Early stopping, best iteration is:\n",
      "[147]\tvalid_0's rmse: 19.1542\n",
      "Training until validation scores don't improve for 50 rounds\n",
      "Early stopping, best iteration is:\n",
      "[1]\tvalid_0's rmse: 11.3111\n",
      "Training until validation scores don't improve for 50 rounds\n",
      "Early stopping, best iteration is:\n",
      "[1]\tvalid_0's rmse: 13.4012\n",
      "Training until validation scores don't improve for 50 rounds\n"
     ]
    },
    {
     "name": "stderr",
     "output_type": "stream",
     "text": [
      "[I 2025-06-21 15:43:17,240] Trial 29 finished with value: 11.377776300938509 and parameters: {'num_leaves': 35, 'learning_rate': 0.09538150220030567, 'feature_fraction': 0.9278598289203888, 'bagging_fraction': 0.7691945312491272, 'bagging_freq': 2, 'min_child_samples': 19}. Best is trial 21 with value: 11.07680863056699.\n"
     ]
    },
    {
     "name": "stdout",
     "output_type": "stream",
     "text": [
      "Early stopping, best iteration is:\n",
      "[206]\tvalid_0's rmse: 5.83447\n",
      "Training until validation scores don't improve for 50 rounds\n",
      "Early stopping, best iteration is:\n",
      "[49]\tvalid_0's rmse: 7.23071\n",
      "Training until validation scores don't improve for 50 rounds\n",
      "Early stopping, best iteration is:\n",
      "[93]\tvalid_0's rmse: 19.1004\n",
      "Training until validation scores don't improve for 50 rounds\n",
      "Early stopping, best iteration is:\n",
      "[1]\tvalid_0's rmse: 11.4432\n",
      "Training until validation scores don't improve for 50 rounds\n",
      "Early stopping, best iteration is:\n",
      "[1]\tvalid_0's rmse: 13.7554\n",
      "Training until validation scores don't improve for 50 rounds\n"
     ]
    },
    {
     "name": "stderr",
     "output_type": "stream",
     "text": [
      "[I 2025-06-21 15:43:23,886] Trial 30 finished with value: 11.579857686627319 and parameters: {'num_leaves': 88, 'learning_rate': 0.22864062987925282, 'feature_fraction': 0.7624958214538358, 'bagging_fraction': 0.9143122115364052, 'bagging_freq': 2, 'min_child_samples': 50}. Best is trial 21 with value: 11.07680863056699.\n"
     ]
    },
    {
     "name": "stdout",
     "output_type": "stream",
     "text": [
      "Early stopping, best iteration is:\n",
      "[52]\tvalid_0's rmse: 6.36965\n",
      "Training until validation scores don't improve for 50 rounds\n",
      "Early stopping, best iteration is:\n",
      "[66]\tvalid_0's rmse: 7.14758\n",
      "Training until validation scores don't improve for 50 rounds\n",
      "Early stopping, best iteration is:\n",
      "[64]\tvalid_0's rmse: 19.5324\n",
      "Training until validation scores don't improve for 50 rounds\n",
      "Early stopping, best iteration is:\n",
      "[1]\tvalid_0's rmse: 11.4878\n",
      "Training until validation scores don't improve for 50 rounds\n",
      "Early stopping, best iteration is:\n",
      "[8]\tvalid_0's rmse: 11.9043\n",
      "Training until validation scores don't improve for 50 rounds\n"
     ]
    },
    {
     "name": "stderr",
     "output_type": "stream",
     "text": [
      "[I 2025-06-21 15:43:30,371] Trial 31 finished with value: 11.216978285255282 and parameters: {'num_leaves': 43, 'learning_rate': 0.12623900615910905, 'feature_fraction': 0.6013167779137694, 'bagging_fraction': 0.8440466476944378, 'bagging_freq': 4, 'min_child_samples': 39}. Best is trial 21 with value: 11.07680863056699.\n"
     ]
    },
    {
     "name": "stdout",
     "output_type": "stream",
     "text": [
      "Early stopping, best iteration is:\n",
      "[326]\tvalid_0's rmse: 6.01271\n",
      "Training until validation scores don't improve for 50 rounds\n",
      "Early stopping, best iteration is:\n",
      "[76]\tvalid_0's rmse: 7.26241\n",
      "Training until validation scores don't improve for 50 rounds\n",
      "Early stopping, best iteration is:\n",
      "[106]\tvalid_0's rmse: 19.3806\n",
      "Training until validation scores don't improve for 50 rounds\n",
      "Early stopping, best iteration is:\n",
      "[1]\tvalid_0's rmse: 11.288\n",
      "Training until validation scores don't improve for 50 rounds\n",
      "Early stopping, best iteration is:\n",
      "[8]\tvalid_0's rmse: 12.2318\n",
      "Training until validation scores don't improve for 50 rounds\n"
     ]
    },
    {
     "name": "stderr",
     "output_type": "stream",
     "text": [
      "[I 2025-06-21 15:43:38,073] Trial 32 finished with value: 11.189964324568571 and parameters: {'num_leaves': 56, 'learning_rate': 0.08293083271051838, 'feature_fraction': 0.6191830609056015, 'bagging_fraction': 0.7978813661046391, 'bagging_freq': 3, 'min_child_samples': 40}. Best is trial 21 with value: 11.07680863056699.\n"
     ]
    },
    {
     "name": "stdout",
     "output_type": "stream",
     "text": [
      "Early stopping, best iteration is:\n",
      "[243]\tvalid_0's rmse: 5.78702\n",
      "Training until validation scores don't improve for 50 rounds\n",
      "Early stopping, best iteration is:\n",
      "[163]\tvalid_0's rmse: 7.2494\n",
      "Training until validation scores don't improve for 50 rounds\n",
      "Early stopping, best iteration is:\n",
      "[82]\tvalid_0's rmse: 19.3481\n",
      "Training until validation scores don't improve for 50 rounds\n",
      "Early stopping, best iteration is:\n",
      "[1]\tvalid_0's rmse: 11.2883\n",
      "Training until validation scores don't improve for 50 rounds\n",
      "Early stopping, best iteration is:\n",
      "[8]\tvalid_0's rmse: 12.0911\n",
      "Training until validation scores don't improve for 50 rounds\n"
     ]
    },
    {
     "name": "stderr",
     "output_type": "stream",
     "text": [
      "[I 2025-06-21 15:43:45,480] Trial 33 finished with value: 11.160468870824264 and parameters: {'num_leaves': 55, 'learning_rate': 0.08205791266489183, 'feature_fraction': 0.6283507841234628, 'bagging_fraction': 0.7901491835796919, 'bagging_freq': 3, 'min_child_samples': 33}. Best is trial 21 with value: 11.07680863056699.\n"
     ]
    },
    {
     "name": "stdout",
     "output_type": "stream",
     "text": [
      "Early stopping, best iteration is:\n",
      "[191]\tvalid_0's rmse: 5.82545\n",
      "Training until validation scores don't improve for 50 rounds\n",
      "Early stopping, best iteration is:\n",
      "[63]\tvalid_0's rmse: 7.27911\n",
      "Training until validation scores don't improve for 50 rounds\n",
      "Early stopping, best iteration is:\n",
      "[65]\tvalid_0's rmse: 19.3773\n",
      "Training until validation scores don't improve for 50 rounds\n",
      "Early stopping, best iteration is:\n",
      "[1]\tvalid_0's rmse: 11.2526\n",
      "Training until validation scores don't improve for 50 rounds\n",
      "Early stopping, best iteration is:\n",
      "[9]\tvalid_0's rmse: 12.1361\n",
      "Training until validation scores don't improve for 50 rounds\n"
     ]
    },
    {
     "name": "stderr",
     "output_type": "stream",
     "text": [
      "[I 2025-06-21 15:43:52,523] Trial 34 finished with value: 11.18356952535979 and parameters: {'num_leaves': 61, 'learning_rate': 0.0759637322142164, 'feature_fraction': 0.634896096908063, 'bagging_fraction': 0.7458163820782615, 'bagging_freq': 4, 'min_child_samples': 33}. Best is trial 21 with value: 11.07680863056699.\n"
     ]
    },
    {
     "name": "stdout",
     "output_type": "stream",
     "text": [
      "Early stopping, best iteration is:\n",
      "[194]\tvalid_0's rmse: 5.87279\n",
      "Training until validation scores don't improve for 50 rounds\n",
      "Early stopping, best iteration is:\n",
      "[365]\tvalid_0's rmse: 7.18736\n",
      "Training until validation scores don't improve for 50 rounds\n",
      "Early stopping, best iteration is:\n",
      "[258]\tvalid_0's rmse: 19.6174\n",
      "Training until validation scores don't improve for 50 rounds\n",
      "Early stopping, best iteration is:\n",
      "[1]\tvalid_0's rmse: 11.1627\n",
      "Training until validation scores don't improve for 50 rounds\n",
      "Early stopping, best iteration is:\n",
      "[9]\tvalid_0's rmse: 12.6692\n",
      "Training until validation scores don't improve for 50 rounds\n"
     ]
    },
    {
     "name": "stderr",
     "output_type": "stream",
     "text": [
      "[I 2025-06-21 15:44:07,018] Trial 35 finished with value: 11.26793968390141 and parameters: {'num_leaves': 66, 'learning_rate': 0.0521522400732628, 'feature_fraction': 0.6625291100653209, 'bagging_fraction': 0.7958991147489303, 'bagging_freq': 5, 'min_child_samples': 17}. Best is trial 21 with value: 11.07680863056699.\n"
     ]
    },
    {
     "name": "stdout",
     "output_type": "stream",
     "text": [
      "Early stopping, best iteration is:\n",
      "[285]\tvalid_0's rmse: 5.70303\n",
      "Training until validation scores don't improve for 50 rounds\n",
      "Early stopping, best iteration is:\n",
      "[121]\tvalid_0's rmse: 7.01587\n",
      "Training until validation scores don't improve for 50 rounds\n",
      "Early stopping, best iteration is:\n",
      "[93]\tvalid_0's rmse: 19.37\n",
      "Training until validation scores don't improve for 50 rounds\n",
      "Early stopping, best iteration is:\n",
      "[1]\tvalid_0's rmse: 11.3575\n",
      "Training until validation scores don't improve for 50 rounds\n",
      "Early stopping, best iteration is:\n",
      "[8]\tvalid_0's rmse: 12.193\n",
      "Training until validation scores don't improve for 50 rounds\n"
     ]
    },
    {
     "name": "stderr",
     "output_type": "stream",
     "text": [
      "[I 2025-06-21 15:44:15,494] Trial 36 finished with value: 11.180044642280741 and parameters: {'num_leaves': 73, 'learning_rate': 0.0936387852456423, 'feature_fraction': 0.6259492966006557, 'bagging_fraction': 0.8914773280600441, 'bagging_freq': 2, 'min_child_samples': 26}. Best is trial 21 with value: 11.07680863056699.\n"
     ]
    },
    {
     "name": "stdout",
     "output_type": "stream",
     "text": [
      "Early stopping, best iteration is:\n",
      "[163]\tvalid_0's rmse: 5.96389\n",
      "Training until validation scores don't improve for 50 rounds\n",
      "Early stopping, best iteration is:\n",
      "[448]\tvalid_0's rmse: 7.05815\n",
      "Training until validation scores don't improve for 50 rounds\n",
      "Early stopping, best iteration is:\n",
      "[361]\tvalid_0's rmse: 19.5357\n",
      "Training until validation scores don't improve for 50 rounds\n",
      "Early stopping, best iteration is:\n",
      "[1]\tvalid_0's rmse: 11.1558\n",
      "Training until validation scores don't improve for 50 rounds\n",
      "Early stopping, best iteration is:\n",
      "[12]\tvalid_0's rmse: 12.834\n",
      "Training until validation scores don't improve for 50 rounds\n"
     ]
    },
    {
     "name": "stderr",
     "output_type": "stream",
     "text": [
      "[I 2025-06-21 15:44:30,203] Trial 37 finished with value: 11.258976246988173 and parameters: {'num_leaves': 52, 'learning_rate': 0.031461783955109, 'feature_fraction': 0.7110704246197813, 'bagging_fraction': 0.8429129112905365, 'bagging_freq': 3, 'min_child_samples': 36}. Best is trial 21 with value: 11.07680863056699.\n"
     ]
    },
    {
     "name": "stdout",
     "output_type": "stream",
     "text": [
      "Early stopping, best iteration is:\n",
      "[378]\tvalid_0's rmse: 5.71119\n",
      "Training until validation scores don't improve for 50 rounds\n",
      "Early stopping, best iteration is:\n",
      "[680]\tvalid_0's rmse: 7.1403\n",
      "Training until validation scores don't improve for 50 rounds\n",
      "Early stopping, best iteration is:\n",
      "[688]\tvalid_0's rmse: 19.4274\n",
      "Training until validation scores don't improve for 50 rounds\n",
      "Early stopping, best iteration is:\n",
      "[1]\tvalid_0's rmse: 11.1364\n",
      "Training until validation scores don't improve for 50 rounds\n",
      "Early stopping, best iteration is:\n",
      "[12]\tvalid_0's rmse: 12.982\n",
      "Training until validation scores don't improve for 50 rounds\n"
     ]
    },
    {
     "name": "stderr",
     "output_type": "stream",
     "text": [
      "[I 2025-06-21 15:44:56,716] Trial 38 finished with value: 11.293742550272169 and parameters: {'num_leaves': 71, 'learning_rate': 0.014906509044793799, 'feature_fraction': 0.635791088512877, 'bagging_fraction': 0.8095894698422791, 'bagging_freq': 5, 'min_child_samples': 62}. Best is trial 21 with value: 11.07680863056699.\n"
     ]
    },
    {
     "name": "stdout",
     "output_type": "stream",
     "text": [
      "Early stopping, best iteration is:\n",
      "[765]\tvalid_0's rmse: 5.78257\n",
      "Training until validation scores don't improve for 50 rounds\n",
      "Early stopping, best iteration is:\n",
      "[296]\tvalid_0's rmse: 7.11694\n",
      "Training until validation scores don't improve for 50 rounds\n",
      "Early stopping, best iteration is:\n",
      "[168]\tvalid_0's rmse: 19.2438\n",
      "Training until validation scores don't improve for 50 rounds\n",
      "Early stopping, best iteration is:\n",
      "[1]\tvalid_0's rmse: 11.1804\n",
      "Training until validation scores don't improve for 50 rounds\n",
      "Early stopping, best iteration is:\n",
      "[12]\tvalid_0's rmse: 12.7401\n",
      "Training until validation scores don't improve for 50 rounds\n"
     ]
    },
    {
     "name": "stderr",
     "output_type": "stream",
     "text": [
      "[I 2025-06-21 15:45:08,572] Trial 39 finished with value: 11.205763053276593 and parameters: {'num_leaves': 57, 'learning_rate': 0.0464882762587786, 'feature_fraction': 0.6936942755935003, 'bagging_fraction': 0.8604825857214953, 'bagging_freq': 1, 'min_child_samples': 29}. Best is trial 21 with value: 11.07680863056699.\n"
     ]
    },
    {
     "name": "stdout",
     "output_type": "stream",
     "text": [
      "Early stopping, best iteration is:\n",
      "[236]\tvalid_0's rmse: 5.74763\n",
      "Training until validation scores don't improve for 50 rounds\n",
      "Early stopping, best iteration is:\n",
      "[34]\tvalid_0's rmse: 7.54941\n",
      "Training until validation scores don't improve for 50 rounds\n",
      "Early stopping, best iteration is:\n",
      "[16]\tvalid_0's rmse: 19.5906\n",
      "Training until validation scores don't improve for 50 rounds\n",
      "Early stopping, best iteration is:\n",
      "[1]\tvalid_0's rmse: 11.47\n",
      "Training until validation scores don't improve for 50 rounds\n",
      "Early stopping, best iteration is:\n",
      "[1]\tvalid_0's rmse: 13.9809\n",
      "Training until validation scores don't improve for 50 rounds\n"
     ]
    },
    {
     "name": "stderr",
     "output_type": "stream",
     "text": [
      "[I 2025-06-21 15:45:15,176] Trial 40 finished with value: 11.795452639294531 and parameters: {'num_leaves': 96, 'learning_rate': 0.2710711053969485, 'feature_fraction': 0.8273201149186834, 'bagging_fraction': 0.8291113595093959, 'bagging_freq': 5, 'min_child_samples': 48}. Best is trial 21 with value: 11.07680863056699.\n"
     ]
    },
    {
     "name": "stdout",
     "output_type": "stream",
     "text": [
      "Early stopping, best iteration is:\n",
      "[96]\tvalid_0's rmse: 6.38626\n",
      "Training until validation scores don't improve for 50 rounds\n",
      "Early stopping, best iteration is:\n",
      "[81]\tvalid_0's rmse: 7.16777\n",
      "Training until validation scores don't improve for 50 rounds\n",
      "Early stopping, best iteration is:\n",
      "[189]\tvalid_0's rmse: 19.2405\n",
      "Training until validation scores don't improve for 50 rounds\n",
      "Early stopping, best iteration is:\n",
      "[1]\tvalid_0's rmse: 11.3313\n",
      "Training until validation scores don't improve for 50 rounds\n",
      "Early stopping, best iteration is:\n",
      "[8]\tvalid_0's rmse: 12.2717\n",
      "Training until validation scores don't improve for 50 rounds\n"
     ]
    },
    {
     "name": "stderr",
     "output_type": "stream",
     "text": [
      "[I 2025-06-21 15:45:27,076] Trial 41 finished with value: 11.184164872680965 and parameters: {'num_leaves': 76, 'learning_rate': 0.08587441571036442, 'feature_fraction': 0.6286934033716332, 'bagging_fraction': 0.890903668691481, 'bagging_freq': 2, 'min_child_samples': 25}. Best is trial 21 with value: 11.07680863056699.\n"
     ]
    },
    {
     "name": "stdout",
     "output_type": "stream",
     "text": [
      "Early stopping, best iteration is:\n",
      "[244]\tvalid_0's rmse: 5.90956\n",
      "Training until validation scores don't improve for 50 rounds\n",
      "Early stopping, best iteration is:\n",
      "[92]\tvalid_0's rmse: 7.19865\n",
      "Training until validation scores don't improve for 50 rounds\n",
      "Early stopping, best iteration is:\n",
      "[81]\tvalid_0's rmse: 19.4617\n",
      "Training until validation scores don't improve for 50 rounds\n",
      "Early stopping, best iteration is:\n",
      "[1]\tvalid_0's rmse: 11.3862\n",
      "Training until validation scores don't improve for 50 rounds\n",
      "Early stopping, best iteration is:\n",
      "[8]\tvalid_0's rmse: 11.9553\n",
      "Training until validation scores don't improve for 50 rounds\n"
     ]
    },
    {
     "name": "stderr",
     "output_type": "stream",
     "text": [
      "[I 2025-06-21 15:45:39,754] Trial 42 finished with value: 11.20473400213651 and parameters: {'num_leaves': 83, 'learning_rate': 0.09881811978190128, 'feature_fraction': 0.6191052794094111, 'bagging_fraction': 0.9285574992741848, 'bagging_freq': 2, 'min_child_samples': 22}. Best is trial 21 with value: 11.07680863056699.\n"
     ]
    },
    {
     "name": "stdout",
     "output_type": "stream",
     "text": [
      "Early stopping, best iteration is:\n",
      "[186]\tvalid_0's rmse: 6.02178\n",
      "Training until validation scores don't improve for 50 rounds\n",
      "Early stopping, best iteration is:\n",
      "[46]\tvalid_0's rmse: 7.52978\n",
      "Training until validation scores don't improve for 50 rounds\n",
      "Early stopping, best iteration is:\n",
      "[61]\tvalid_0's rmse: 19.6834\n",
      "Training until validation scores don't improve for 50 rounds\n",
      "Early stopping, best iteration is:\n",
      "[1]\tvalid_0's rmse: 11.5411\n",
      "Training until validation scores don't improve for 50 rounds\n",
      "Early stopping, best iteration is:\n",
      "[8]\tvalid_0's rmse: 11.8705\n",
      "Training until validation scores don't improve for 50 rounds\n"
     ]
    },
    {
     "name": "stderr",
     "output_type": "stream",
     "text": [
      "[I 2025-06-21 15:45:48,453] Trial 43 finished with value: 11.351235664071323 and parameters: {'num_leaves': 72, 'learning_rate': 0.1654252366981795, 'feature_fraction': 0.6508265771412193, 'bagging_fraction': 0.8932827227699018, 'bagging_freq': 3, 'min_child_samples': 15}. Best is trial 21 with value: 11.07680863056699.\n"
     ]
    },
    {
     "name": "stdout",
     "output_type": "stream",
     "text": [
      "Early stopping, best iteration is:\n",
      "[142]\tvalid_0's rmse: 6.13147\n",
      "Training until validation scores don't improve for 50 rounds\n",
      "Early stopping, best iteration is:\n",
      "[149]\tvalid_0's rmse: 7.16088\n",
      "Training until validation scores don't improve for 50 rounds\n",
      "Early stopping, best iteration is:\n",
      "[163]\tvalid_0's rmse: 19.3737\n",
      "Training until validation scores don't improve for 50 rounds\n",
      "Early stopping, best iteration is:\n",
      "[1]\tvalid_0's rmse: 11.2994\n",
      "Training until validation scores don't improve for 50 rounds\n",
      "Early stopping, best iteration is:\n",
      "[8]\tvalid_0's rmse: 12.3336\n",
      "Training until validation scores don't improve for 50 rounds\n"
     ]
    },
    {
     "name": "stderr",
     "output_type": "stream",
     "text": [
      "[I 2025-06-21 15:46:04,727] Trial 44 finished with value: 11.147853464037905 and parameters: {'num_leaves': 63, 'learning_rate': 0.06646161557063682, 'feature_fraction': 0.6169881873913471, 'bagging_fraction': 0.9663472926784178, 'bagging_freq': 4, 'min_child_samples': 38}. Best is trial 21 with value: 11.07680863056699.\n"
     ]
    },
    {
     "name": "stdout",
     "output_type": "stream",
     "text": [
      "Early stopping, best iteration is:\n",
      "[397]\tvalid_0's rmse: 5.57173\n",
      "Training until validation scores don't improve for 50 rounds\n",
      "Early stopping, best iteration is:\n",
      "[201]\tvalid_0's rmse: 7.08589\n",
      "Training until validation scores don't improve for 50 rounds\n",
      "Early stopping, best iteration is:\n",
      "[133]\tvalid_0's rmse: 19.3737\n",
      "Training until validation scores don't improve for 50 rounds\n",
      "Early stopping, best iteration is:\n",
      "[1]\tvalid_0's rmse: 11.2426\n",
      "Training until validation scores don't improve for 50 rounds\n",
      "Early stopping, best iteration is:\n",
      "[8]\tvalid_0's rmse: 12.6504\n",
      "Training until validation scores don't improve for 50 rounds\n"
     ]
    },
    {
     "name": "stderr",
     "output_type": "stream",
     "text": [
      "[I 2025-06-21 15:46:16,177] Trial 45 finished with value: 11.224680631861222 and parameters: {'num_leaves': 52, 'learning_rate': 0.0604333527047214, 'feature_fraction': 0.6708898242892329, 'bagging_fraction': 0.9723413725250404, 'bagging_freq': 6, 'min_child_samples': 38}. Best is trial 21 with value: 11.07680863056699.\n"
     ]
    },
    {
     "name": "stdout",
     "output_type": "stream",
     "text": [
      "Early stopping, best iteration is:\n",
      "[260]\tvalid_0's rmse: 5.77076\n",
      "Training until validation scores don't improve for 50 rounds\n",
      "Early stopping, best iteration is:\n",
      "[287]\tvalid_0's rmse: 7.08388\n",
      "Training until validation scores don't improve for 50 rounds\n",
      "Early stopping, best iteration is:\n",
      "[272]\tvalid_0's rmse: 19.4289\n",
      "Training until validation scores don't improve for 50 rounds\n",
      "Early stopping, best iteration is:\n",
      "[1]\tvalid_0's rmse: 11.2081\n",
      "Training until validation scores don't improve for 50 rounds\n",
      "Early stopping, best iteration is:\n",
      "[8]\tvalid_0's rmse: 12.597\n",
      "Training until validation scores don't improve for 50 rounds\n"
     ]
    },
    {
     "name": "stderr",
     "output_type": "stream",
     "text": [
      "[I 2025-06-21 15:46:32,992] Trial 46 finished with value: 11.20446164715429 and parameters: {'num_leaves': 63, 'learning_rate': 0.0372554992514276, 'feature_fraction': 0.6133129692604938, 'bagging_fraction': 0.9512518291069706, 'bagging_freq': 4, 'min_child_samples': 41}. Best is trial 21 with value: 11.07680863056699.\n"
     ]
    },
    {
     "name": "stdout",
     "output_type": "stream",
     "text": [
      "Early stopping, best iteration is:\n",
      "[383]\tvalid_0's rmse: 5.70439\n",
      "Training until validation scores don't improve for 50 rounds\n",
      "Early stopping, best iteration is:\n",
      "[438]\tvalid_0's rmse: 7.13644\n",
      "Training until validation scores don't improve for 50 rounds\n",
      "Early stopping, best iteration is:\n",
      "[271]\tvalid_0's rmse: 19.5321\n",
      "Training until validation scores don't improve for 50 rounds\n",
      "Early stopping, best iteration is:\n",
      "[1]\tvalid_0's rmse: 11.1879\n",
      "Training until validation scores don't improve for 50 rounds\n",
      "Early stopping, best iteration is:\n",
      "[8]\tvalid_0's rmse: 12.9245\n",
      "Training until validation scores don't improve for 50 rounds\n"
     ]
    },
    {
     "name": "stderr",
     "output_type": "stream",
     "text": [
      "[I 2025-06-21 15:46:56,002] Trial 47 finished with value: 11.292476748421851 and parameters: {'num_leaves': 59, 'learning_rate': 0.03343323913831968, 'feature_fraction': 0.6411777169928584, 'bagging_fraction': 0.9959210301722968, 'bagging_freq': 5, 'min_child_samples': 46}. Best is trial 21 with value: 11.07680863056699.\n"
     ]
    },
    {
     "name": "stdout",
     "output_type": "stream",
     "text": [
      "Early stopping, best iteration is:\n",
      "[743]\tvalid_0's rmse: 5.68146\n",
      "Training until validation scores don't improve for 50 rounds\n",
      "Early stopping, best iteration is:\n",
      "[58]\tvalid_0's rmse: 7.35936\n",
      "Training until validation scores don't improve for 50 rounds\n",
      "Early stopping, best iteration is:\n",
      "[60]\tvalid_0's rmse: 19.8653\n",
      "Training until validation scores don't improve for 50 rounds\n",
      "Early stopping, best iteration is:\n",
      "[1]\tvalid_0's rmse: 11.2859\n",
      "Training until validation scores don't improve for 50 rounds\n",
      "Early stopping, best iteration is:\n",
      "[8]\tvalid_0's rmse: 11.993\n",
      "Training until validation scores don't improve for 50 rounds\n"
     ]
    },
    {
     "name": "stderr",
     "output_type": "stream",
     "text": [
      "[I 2025-06-21 15:47:04,693] Trial 48 finished with value: 11.284063494723814 and parameters: {'num_leaves': 68, 'learning_rate': 0.1171173469928493, 'feature_fraction': 0.69461606297565, 'bagging_fraction': 0.9349319095563339, 'bagging_freq': 4, 'min_child_samples': 33}. Best is trial 21 with value: 11.07680863056699.\n"
     ]
    },
    {
     "name": "stdout",
     "output_type": "stream",
     "text": [
      "Early stopping, best iteration is:\n",
      "[155]\tvalid_0's rmse: 5.91676\n",
      "Training until validation scores don't improve for 50 rounds\n",
      "Early stopping, best iteration is:\n",
      "[200]\tvalid_0's rmse: 7.14151\n",
      "Training until validation scores don't improve for 50 rounds\n",
      "Early stopping, best iteration is:\n",
      "[190]\tvalid_0's rmse: 19.1915\n",
      "Training until validation scores don't improve for 50 rounds\n",
      "Early stopping, best iteration is:\n",
      "[1]\tvalid_0's rmse: 11.305\n",
      "Training until validation scores don't improve for 50 rounds\n",
      "Early stopping, best iteration is:\n",
      "[8]\tvalid_0's rmse: 12.4158\n",
      "Training until validation scores don't improve for 50 rounds\n"
     ]
    },
    {
     "name": "stderr",
     "output_type": "stream",
     "text": [
      "[I 2025-06-21 15:47:14,604] Trial 49 finished with value: 11.165430445617039 and parameters: {'num_leaves': 43, 'learning_rate': 0.07121010955918904, 'feature_fraction': 0.6117893260761798, 'bagging_fraction': 0.9686243569964574, 'bagging_freq': 3, 'min_child_samples': 55}. Best is trial 21 with value: 11.07680863056699.\n"
     ]
    },
    {
     "name": "stdout",
     "output_type": "stream",
     "text": [
      "Early stopping, best iteration is:\n",
      "[302]\tvalid_0's rmse: 5.77335\n",
      "Training until validation scores don't improve for 50 rounds\n",
      "Early stopping, best iteration is:\n",
      "[502]\tvalid_0's rmse: 7.14729\n",
      "Training until validation scores don't improve for 50 rounds\n",
      "Early stopping, best iteration is:\n",
      "[221]\tvalid_0's rmse: 19.6351\n",
      "Training until validation scores don't improve for 50 rounds\n",
      "Early stopping, best iteration is:\n",
      "[1]\tvalid_0's rmse: 11.1437\n",
      "Training until validation scores don't improve for 50 rounds\n",
      "Early stopping, best iteration is:\n",
      "[8]\tvalid_0's rmse: 13.0514\n",
      "Training until validation scores don't improve for 50 rounds\n"
     ]
    },
    {
     "name": "stderr",
     "output_type": "stream",
     "text": [
      "[I 2025-06-21 15:47:33,465] Trial 50 finished with value: 11.341042168383364 and parameters: {'num_leaves': 53, 'learning_rate': 0.021916557087163835, 'feature_fraction': 0.7123846570960749, 'bagging_fraction': 0.9788529422054557, 'bagging_freq': 7, 'min_child_samples': 78}. Best is trial 21 with value: 11.07680863056699.\n"
     ]
    },
    {
     "name": "stdout",
     "output_type": "stream",
     "text": [
      "Early stopping, best iteration is:\n",
      "[658]\tvalid_0's rmse: 5.72772\n",
      "Training until validation scores don't improve for 50 rounds\n",
      "Early stopping, best iteration is:\n",
      "[113]\tvalid_0's rmse: 7.05983\n",
      "Training until validation scores don't improve for 50 rounds\n",
      "Early stopping, best iteration is:\n",
      "[94]\tvalid_0's rmse: 19.4694\n",
      "Training until validation scores don't improve for 50 rounds\n",
      "Early stopping, best iteration is:\n",
      "[1]\tvalid_0's rmse: 11.2952\n",
      "Training until validation scores don't improve for 50 rounds\n",
      "Early stopping, best iteration is:\n",
      "[8]\tvalid_0's rmse: 12.4558\n",
      "Training until validation scores don't improve for 50 rounds\n"
     ]
    },
    {
     "name": "stderr",
     "output_type": "stream",
     "text": [
      "[I 2025-06-21 15:47:44,222] Trial 51 finished with value: 11.19049268330925 and parameters: {'num_leaves': 44, 'learning_rate': 0.06829650530637682, 'feature_fraction': 0.6139342448029539, 'bagging_fraction': 0.9588652189295859, 'bagging_freq': 3, 'min_child_samples': 61}. Best is trial 21 with value: 11.07680863056699.\n"
     ]
    },
    {
     "name": "stdout",
     "output_type": "stream",
     "text": [
      "Early stopping, best iteration is:\n",
      "[281]\tvalid_0's rmse: 5.67221\n",
      "Training until validation scores don't improve for 50 rounds\n",
      "Early stopping, best iteration is:\n",
      "[102]\tvalid_0's rmse: 7.30058\n",
      "Training until validation scores don't improve for 50 rounds\n",
      "Early stopping, best iteration is:\n",
      "[119]\tvalid_0's rmse: 19.3893\n",
      "Training until validation scores don't improve for 50 rounds\n",
      "Early stopping, best iteration is:\n",
      "[1]\tvalid_0's rmse: 11.4385\n",
      "Training until validation scores don't improve for 50 rounds\n",
      "Early stopping, best iteration is:\n",
      "[8]\tvalid_0's rmse: 11.8639\n",
      "Training until validation scores don't improve for 50 rounds\n"
     ]
    },
    {
     "name": "stderr",
     "output_type": "stream",
     "text": [
      "[I 2025-06-21 15:47:50,590] Trial 52 finished with value: 11.174461770774574 and parameters: {'num_leaves': 37, 'learning_rate': 0.1069256273411751, 'feature_fraction': 0.6024979365786429, 'bagging_fraction': 0.9405623689677337, 'bagging_freq': 4, 'min_child_samples': 54}. Best is trial 21 with value: 11.07680863056699.\n"
     ]
    },
    {
     "name": "stdout",
     "output_type": "stream",
     "text": [
      "Early stopping, best iteration is:\n",
      "[202]\tvalid_0's rmse: 5.88003\n",
      "Training until validation scores don't improve for 50 rounds\n",
      "Early stopping, best iteration is:\n",
      "[372]\tvalid_0's rmse: 7.19614\n",
      "Training until validation scores don't improve for 50 rounds\n",
      "Early stopping, best iteration is:\n",
      "[116]\tvalid_0's rmse: 19.3806\n",
      "Training until validation scores don't improve for 50 rounds\n",
      "Early stopping, best iteration is:\n",
      "[1]\tvalid_0's rmse: 11.3358\n",
      "Training until validation scores don't improve for 50 rounds\n",
      "Early stopping, best iteration is:\n",
      "[8]\tvalid_0's rmse: 12.4035\n",
      "Training until validation scores don't improve for 50 rounds\n"
     ]
    },
    {
     "name": "stderr",
     "output_type": "stream",
     "text": [
      "[I 2025-06-21 15:48:01,360] Trial 53 finished with value: 11.206888929057275 and parameters: {'num_leaves': 45, 'learning_rate': 0.0789958301503758, 'feature_fraction': 0.6383459308249794, 'bagging_fraction': 0.985152331171814, 'bagging_freq': 3, 'min_child_samples': 73}. Best is trial 21 with value: 11.07680863056699.\n"
     ]
    },
    {
     "name": "stdout",
     "output_type": "stream",
     "text": [
      "Early stopping, best iteration is:\n",
      "[249]\tvalid_0's rmse: 5.71833\n",
      "Training until validation scores don't improve for 50 rounds\n",
      "Early stopping, best iteration is:\n",
      "[57]\tvalid_0's rmse: 7.32654\n",
      "Training until validation scores don't improve for 50 rounds\n",
      "Early stopping, best iteration is:\n",
      "[86]\tvalid_0's rmse: 19.3123\n",
      "Training until validation scores don't improve for 50 rounds\n",
      "Early stopping, best iteration is:\n",
      "[1]\tvalid_0's rmse: 11.3807\n",
      "Training until validation scores don't improve for 50 rounds\n",
      "Early stopping, best iteration is:\n",
      "[8]\tvalid_0's rmse: 12.2119\n",
      "Training until validation scores don't improve for 50 rounds\n"
     ]
    },
    {
     "name": "stderr",
     "output_type": "stream",
     "text": [
      "[I 2025-06-21 15:48:05,882] Trial 54 finished with value: 11.235875661489334 and parameters: {'num_leaves': 32, 'learning_rate': 0.13969749723664895, 'feature_fraction': 0.656905510726729, 'bagging_fraction': 0.7505645424923697, 'bagging_freq': 3, 'min_child_samples': 42}. Best is trial 21 with value: 11.07680863056699.\n"
     ]
    },
    {
     "name": "stdout",
     "output_type": "stream",
     "text": [
      "Early stopping, best iteration is:\n",
      "[88]\tvalid_0's rmse: 5.9479\n",
      "Training until validation scores don't improve for 50 rounds\n",
      "Early stopping, best iteration is:\n",
      "[187]\tvalid_0's rmse: 7.14354\n",
      "Training until validation scores don't improve for 50 rounds\n",
      "Early stopping, best iteration is:\n",
      "[336]\tvalid_0's rmse: 19.152\n",
      "Training until validation scores don't improve for 50 rounds\n",
      "Early stopping, best iteration is:\n",
      "[1]\tvalid_0's rmse: 11.2904\n",
      "Training until validation scores don't improve for 50 rounds\n",
      "Early stopping, best iteration is:\n",
      "[8]\tvalid_0's rmse: 12.7604\n",
      "Training until validation scores don't improve for 50 rounds\n"
     ]
    },
    {
     "name": "stderr",
     "output_type": "stream",
     "text": [
      "[I 2025-06-21 15:48:12,678] Trial 55 finished with value: 11.247304241148433 and parameters: {'num_leaves': 20, 'learning_rate': 0.05456526031856964, 'feature_fraction': 0.618086714543833, 'bagging_fraction': 0.9663347536471187, 'bagging_freq': 4, 'min_child_samples': 60}. Best is trial 21 with value: 11.07680863056699.\n"
     ]
    },
    {
     "name": "stdout",
     "output_type": "stream",
     "text": [
      "Early stopping, best iteration is:\n",
      "[280]\tvalid_0's rmse: 5.89025\n",
      "Training until validation scores don't improve for 50 rounds\n",
      "Early stopping, best iteration is:\n",
      "[61]\tvalid_0's rmse: 7.206\n",
      "Training until validation scores don't improve for 50 rounds\n",
      "Early stopping, best iteration is:\n",
      "[130]\tvalid_0's rmse: 19.6478\n",
      "Training until validation scores don't improve for 50 rounds\n",
      "Early stopping, best iteration is:\n",
      "[1]\tvalid_0's rmse: 11.3538\n",
      "Training until validation scores don't improve for 50 rounds\n",
      "Early stopping, best iteration is:\n",
      "[9]\tvalid_0's rmse: 11.9892\n",
      "Training until validation scores don't improve for 50 rounds\n"
     ]
    },
    {
     "name": "stderr",
     "output_type": "stream",
     "text": [
      "[I 2025-06-21 15:48:22,725] Trial 56 finished with value: 11.205957144760983 and parameters: {'num_leaves': 50, 'learning_rate': 0.08730921922532969, 'feature_fraction': 0.6297582245673123, 'bagging_fraction': 0.921507987493734, 'bagging_freq': 5, 'min_child_samples': 31}. Best is trial 21 with value: 11.07680863056699.\n"
     ]
    },
    {
     "name": "stdout",
     "output_type": "stream",
     "text": [
      "Early stopping, best iteration is:\n",
      "[321]\tvalid_0's rmse: 5.83296\n",
      "Training until validation scores don't improve for 50 rounds\n",
      "Early stopping, best iteration is:\n",
      "[227]\tvalid_0's rmse: 7.34303\n",
      "Training until validation scores don't improve for 50 rounds\n",
      "Early stopping, best iteration is:\n",
      "[192]\tvalid_0's rmse: 19.9244\n",
      "Training until validation scores don't improve for 50 rounds\n",
      "Early stopping, best iteration is:\n",
      "[1]\tvalid_0's rmse: 11.1784\n",
      "Training until validation scores don't improve for 50 rounds\n",
      "Early stopping, best iteration is:\n",
      "[1]\tvalid_0's rmse: 13.3594\n",
      "Training until validation scores don't improve for 50 rounds\n"
     ]
    },
    {
     "name": "stderr",
     "output_type": "stream",
     "text": [
      "[I 2025-06-21 15:48:32,934] Trial 57 finished with value: 11.525813204098593 and parameters: {'num_leaves': 38, 'learning_rate': 0.06421584365009964, 'feature_fraction': 0.9149214708256328, 'bagging_fraction': 0.8700821106745035, 'bagging_freq': 3, 'min_child_samples': 89}. Best is trial 21 with value: 11.07680863056699.\n"
     ]
    },
    {
     "name": "stdout",
     "output_type": "stream",
     "text": [
      "Early stopping, best iteration is:\n",
      "[420]\tvalid_0's rmse: 5.82382\n",
      "Training until validation scores don't improve for 50 rounds\n",
      "Early stopping, best iteration is:\n",
      "[115]\tvalid_0's rmse: 7.11251\n",
      "Training until validation scores don't improve for 50 rounds\n",
      "Early stopping, best iteration is:\n",
      "[88]\tvalid_0's rmse: 19.2326\n",
      "Training until validation scores don't improve for 50 rounds\n",
      "Early stopping, best iteration is:\n",
      "[1]\tvalid_0's rmse: 11.3092\n",
      "Training until validation scores don't improve for 50 rounds\n",
      "Early stopping, best iteration is:\n",
      "[8]\tvalid_0's rmse: 12.689\n",
      "Training until validation scores don't improve for 50 rounds\n"
     ]
    },
    {
     "name": "stderr",
     "output_type": "stream",
     "text": [
      "[I 2025-06-21 15:48:38,809] Trial 58 finished with value: 11.25069655606363 and parameters: {'num_leaves': 29, 'learning_rate': 0.10908980173718402, 'feature_fraction': 0.6738626083115323, 'bagging_fraction': 0.7897155322448421, 'bagging_freq': 2, 'min_child_samples': 46}. Best is trial 21 with value: 11.07680863056699.\n"
     ]
    },
    {
     "name": "stdout",
     "output_type": "stream",
     "text": [
      "Early stopping, best iteration is:\n",
      "[164]\tvalid_0's rmse: 5.91016\n",
      "Training until validation scores don't improve for 50 rounds\n",
      "Early stopping, best iteration is:\n",
      "[166]\tvalid_0's rmse: 7.09748\n",
      "Training until validation scores don't improve for 50 rounds\n",
      "Early stopping, best iteration is:\n",
      "[231]\tvalid_0's rmse: 19.0997\n",
      "Training until validation scores don't improve for 50 rounds\n",
      "Early stopping, best iteration is:\n",
      "[1]\tvalid_0's rmse: 11.3142\n",
      "Training until validation scores don't improve for 50 rounds\n",
      "Early stopping, best iteration is:\n",
      "[9]\tvalid_0's rmse: 11.9506\n",
      "Training until validation scores don't improve for 50 rounds\n"
     ]
    },
    {
     "name": "stderr",
     "output_type": "stream",
     "text": [
      "[I 2025-06-21 15:48:50,065] Trial 59 finished with value: 11.05798694056537 and parameters: {'num_leaves': 59, 'learning_rate': 0.07344126798534686, 'feature_fraction': 0.6019627409367989, 'bagging_fraction': 0.9982735972725016, 'bagging_freq': 6, 'min_child_samples': 36}. Best is trial 59 with value: 11.05798694056537.\n"
     ]
    },
    {
     "name": "stdout",
     "output_type": "stream",
     "text": [
      "Early stopping, best iteration is:\n",
      "[175]\tvalid_0's rmse: 5.8279\n",
      "Training until validation scores don't improve for 50 rounds\n",
      "Early stopping, best iteration is:\n",
      "[293]\tvalid_0's rmse: 7.22322\n",
      "Training until validation scores don't improve for 50 rounds\n",
      "Early stopping, best iteration is:\n",
      "[185]\tvalid_0's rmse: 19.7109\n",
      "Training until validation scores don't improve for 50 rounds\n",
      "Early stopping, best iteration is:\n",
      "[1]\tvalid_0's rmse: 11.1682\n",
      "Training until validation scores don't improve for 50 rounds\n",
      "Early stopping, best iteration is:\n",
      "[1]\tvalid_0's rmse: 13.3888\n",
      "Training until validation scores don't improve for 50 rounds\n"
     ]
    },
    {
     "name": "stderr",
     "output_type": "stream",
     "text": [
      "[I 2025-06-21 15:49:04,485] Trial 60 finished with value: 11.447020268850943 and parameters: {'num_leaves': 59, 'learning_rate': 0.04626564551702318, 'feature_fraction': 0.8075936667356272, 'bagging_fraction': 0.9964019976787459, 'bagging_freq': 6, 'min_child_samples': 35}. Best is trial 59 with value: 11.05798694056537.\n"
     ]
    },
    {
     "name": "stdout",
     "output_type": "stream",
     "text": [
      "Early stopping, best iteration is:\n",
      "[284]\tvalid_0's rmse: 5.74399\n",
      "Training until validation scores don't improve for 50 rounds\n",
      "Early stopping, best iteration is:\n",
      "[150]\tvalid_0's rmse: 7.06111\n",
      "Training until validation scores don't improve for 50 rounds\n",
      "Early stopping, best iteration is:\n",
      "[74]\tvalid_0's rmse: 19.2436\n",
      "Training until validation scores don't improve for 50 rounds\n",
      "Early stopping, best iteration is:\n",
      "[1]\tvalid_0's rmse: 11.2926\n",
      "Training until validation scores don't improve for 50 rounds\n",
      "Early stopping, best iteration is:\n",
      "[8]\tvalid_0's rmse: 12.3414\n",
      "Training until validation scores don't improve for 50 rounds\n"
     ]
    },
    {
     "name": "stderr",
     "output_type": "stream",
     "text": [
      "[I 2025-06-21 15:49:15,262] Trial 61 finished with value: 11.136426095066662 and parameters: {'num_leaves': 55, 'learning_rate': 0.06601630889807257, 'feature_fraction': 0.6113787690732103, 'bagging_fraction': 0.9521759064738697, 'bagging_freq': 7, 'min_child_samples': 29}. Best is trial 59 with value: 11.05798694056537.\n"
     ]
    },
    {
     "name": "stdout",
     "output_type": "stream",
     "text": [
      "Early stopping, best iteration is:\n",
      "[288]\tvalid_0's rmse: 5.74335\n",
      "Training until validation scores don't improve for 50 rounds\n",
      "Early stopping, best iteration is:\n",
      "[134]\tvalid_0's rmse: 7.13146\n",
      "Training until validation scores don't improve for 50 rounds\n",
      "Early stopping, best iteration is:\n",
      "[157]\tvalid_0's rmse: 18.7933\n",
      "Training until validation scores don't improve for 50 rounds\n",
      "Early stopping, best iteration is:\n",
      "[1]\tvalid_0's rmse: 11.3191\n",
      "Training until validation scores don't improve for 50 rounds\n",
      "Early stopping, best iteration is:\n",
      "[9]\tvalid_0's rmse: 11.9979\n",
      "Training until validation scores don't improve for 50 rounds\n"
     ]
    },
    {
     "name": "stderr",
     "output_type": "stream",
     "text": [
      "[I 2025-06-21 15:49:26,096] Trial 62 finished with value: 11.000232226962762 and parameters: {'num_leaves': 55, 'learning_rate': 0.07408469984089867, 'feature_fraction': 0.6033353875178947, 'bagging_fraction': 0.9498552670947251, 'bagging_freq': 7, 'min_child_samples': 29}. Best is trial 62 with value: 11.000232226962762.\n"
     ]
    },
    {
     "name": "stdout",
     "output_type": "stream",
     "text": [
      "Early stopping, best iteration is:\n",
      "[241]\tvalid_0's rmse: 5.75947\n",
      "Training until validation scores don't improve for 50 rounds\n",
      "Early stopping, best iteration is:\n",
      "[91]\tvalid_0's rmse: 7.16245\n",
      "Training until validation scores don't improve for 50 rounds\n",
      "Early stopping, best iteration is:\n",
      "[94]\tvalid_0's rmse: 19.8087\n",
      "Training until validation scores don't improve for 50 rounds\n",
      "Early stopping, best iteration is:\n",
      "[1]\tvalid_0's rmse: 11.3755\n",
      "Training until validation scores don't improve for 50 rounds\n",
      "Early stopping, best iteration is:\n",
      "[8]\tvalid_0's rmse: 12.639\n",
      "Training until validation scores don't improve for 50 rounds\n"
     ]
    },
    {
     "name": "stderr",
     "output_type": "stream",
     "text": [
      "[I 2025-06-21 15:49:36,735] Trial 63 finished with value: 11.350116495634516 and parameters: {'num_leaves': 54, 'learning_rate': 0.09007406583957642, 'feature_fraction': 0.6445944973650348, 'bagging_fraction': 0.9471912023172842, 'bagging_freq': 7, 'min_child_samples': 28}. Best is trial 62 with value: 11.000232226962762.\n"
     ]
    },
    {
     "name": "stdout",
     "output_type": "stream",
     "text": [
      "Early stopping, best iteration is:\n",
      "[244]\tvalid_0's rmse: 5.76485\n",
      "Training until validation scores don't improve for 50 rounds\n",
      "Early stopping, best iteration is:\n",
      "[145]\tvalid_0's rmse: 7.08205\n",
      "Training until validation scores don't improve for 50 rounds\n",
      "Early stopping, best iteration is:\n",
      "[219]\tvalid_0's rmse: 19.4516\n",
      "Training until validation scores don't improve for 50 rounds\n",
      "Early stopping, best iteration is:\n",
      "[1]\tvalid_0's rmse: 11.3219\n",
      "Training until validation scores don't improve for 50 rounds\n",
      "Early stopping, best iteration is:\n",
      "[9]\tvalid_0's rmse: 12.2493\n",
      "Training until validation scores don't improve for 50 rounds\n"
     ]
    },
    {
     "name": "stderr",
     "output_type": "stream",
     "text": [
      "[I 2025-06-21 15:49:55,988] Trial 64 finished with value: 11.186336351524634 and parameters: {'num_leaves': 64, 'learning_rate': 0.07554560492621333, 'feature_fraction': 0.6263942902189421, 'bagging_fraction': 0.9887546151160902, 'bagging_freq': 8, 'min_child_samples': 23}. Best is trial 62 with value: 11.000232226962762.\n"
     ]
    },
    {
     "name": "stdout",
     "output_type": "stream",
     "text": [
      "Early stopping, best iteration is:\n",
      "[238]\tvalid_0's rmse: 5.82676\n",
      "Training until validation scores don't improve for 50 rounds\n",
      "Early stopping, best iteration is:\n",
      "[130]\tvalid_0's rmse: 7.34429\n",
      "Training until validation scores don't improve for 50 rounds\n",
      "Early stopping, best iteration is:\n",
      "[45]\tvalid_0's rmse: 19.8557\n",
      "Training until validation scores don't improve for 50 rounds\n",
      "Early stopping, best iteration is:\n",
      "[1]\tvalid_0's rmse: 11.7949\n",
      "Training until validation scores don't improve for 50 rounds\n",
      "Early stopping, best iteration is:\n",
      "[9]\tvalid_0's rmse: 11.0835\n",
      "Training until validation scores don't improve for 50 rounds\n"
     ]
    },
    {
     "name": "stderr",
     "output_type": "stream",
     "text": [
      "[I 2025-06-21 15:50:08,556] Trial 65 finished with value: 11.297933861638667 and parameters: {'num_leaves': 55, 'learning_rate': 0.18377134525657837, 'feature_fraction': 0.600398540285488, 'bagging_fraction': 0.9798499374865577, 'bagging_freq': 7, 'min_child_samples': 31}. Best is trial 62 with value: 11.000232226962762.\n"
     ]
    },
    {
     "name": "stdout",
     "output_type": "stream",
     "text": [
      "Early stopping, best iteration is:\n",
      "[198]\tvalid_0's rmse: 6.4113\n",
      "Training until validation scores don't improve for 50 rounds\n",
      "Early stopping, best iteration is:\n",
      "[103]\tvalid_0's rmse: 7.30204\n",
      "Training until validation scores don't improve for 50 rounds\n",
      "Early stopping, best iteration is:\n",
      "[99]\tvalid_0's rmse: 19.6421\n",
      "Training until validation scores don't improve for 50 rounds\n",
      "Early stopping, best iteration is:\n",
      "[1]\tvalid_0's rmse: 11.4448\n",
      "Training until validation scores don't improve for 50 rounds\n",
      "Early stopping, best iteration is:\n",
      "[8]\tvalid_0's rmse: 12.1021\n",
      "Training until validation scores don't improve for 50 rounds\n"
     ]
    },
    {
     "name": "stderr",
     "output_type": "stream",
     "text": [
      "[I 2025-06-21 15:50:18,634] Trial 66 finished with value: 11.27717247568562 and parameters: {'num_leaves': 60, 'learning_rate': 0.11994116190698553, 'feature_fraction': 0.6599215312005473, 'bagging_fraction': 0.9568602853589958, 'bagging_freq': 7, 'min_child_samples': 39}. Best is trial 62 with value: 11.000232226962762.\n"
     ]
    },
    {
     "name": "stdout",
     "output_type": "stream",
     "text": [
      "Early stopping, best iteration is:\n",
      "[96]\tvalid_0's rmse: 5.89473\n",
      "Training until validation scores don't improve for 50 rounds\n",
      "Early stopping, best iteration is:\n",
      "[113]\tvalid_0's rmse: 7.16975\n",
      "Training until validation scores don't improve for 50 rounds\n",
      "Early stopping, best iteration is:\n",
      "[82]\tvalid_0's rmse: 19.2052\n",
      "Training until validation scores don't improve for 50 rounds\n",
      "Early stopping, best iteration is:\n",
      "[1]\tvalid_0's rmse: 11.4265\n",
      "Training until validation scores don't improve for 50 rounds\n",
      "Early stopping, best iteration is:\n",
      "[9]\tvalid_0's rmse: 11.6785\n",
      "Training until validation scores don't improve for 50 rounds\n"
     ]
    },
    {
     "name": "stderr",
     "output_type": "stream",
     "text": [
      "[I 2025-06-21 15:50:29,073] Trial 67 finished with value: 11.087447283864934 and parameters: {'num_leaves': 68, 'learning_rate': 0.10142164545090901, 'feature_fraction': 0.6128803196957274, 'bagging_fraction': 0.9302349403171493, 'bagging_freq': 6, 'min_child_samples': 35}. Best is trial 62 with value: 11.000232226962762.\n"
     ]
    },
    {
     "name": "stdout",
     "output_type": "stream",
     "text": [
      "Early stopping, best iteration is:\n",
      "[174]\tvalid_0's rmse: 5.95726\n",
      "Training until validation scores don't improve for 50 rounds\n",
      "Early stopping, best iteration is:\n",
      "[35]\tvalid_0's rmse: 7.37781\n",
      "Training until validation scores don't improve for 50 rounds\n",
      "Early stopping, best iteration is:\n",
      "[113]\tvalid_0's rmse: 19.0743\n",
      "Training until validation scores don't improve for 50 rounds\n",
      "Early stopping, best iteration is:\n",
      "[1]\tvalid_0's rmse: 11.4508\n",
      "Training until validation scores don't improve for 50 rounds\n",
      "Early stopping, best iteration is:\n",
      "[8]\tvalid_0's rmse: 11.483\n",
      "Training until validation scores don't improve for 50 rounds\n"
     ]
    },
    {
     "name": "stderr",
     "output_type": "stream",
     "text": [
      "[I 2025-06-21 15:50:42,506] Trial 68 finished with value: 11.09038587221262 and parameters: {'num_leaves': 67, 'learning_rate': 0.14116171920378226, 'feature_fraction': 0.6143261132655665, 'bagging_fraction': 0.9308350683865165, 'bagging_freq': 6, 'min_child_samples': 43}. Best is trial 62 with value: 11.000232226962762.\n"
     ]
    },
    {
     "name": "stdout",
     "output_type": "stream",
     "text": [
      "Early stopping, best iteration is:\n",
      "[98]\tvalid_0's rmse: 6.06603\n",
      "Training until validation scores don't improve for 50 rounds\n",
      "Early stopping, best iteration is:\n",
      "[51]\tvalid_0's rmse: 7.48327\n",
      "Training until validation scores don't improve for 50 rounds\n",
      "Early stopping, best iteration is:\n",
      "[52]\tvalid_0's rmse: 19.1982\n",
      "Training until validation scores don't improve for 50 rounds\n",
      "Early stopping, best iteration is:\n",
      "[1]\tvalid_0's rmse: 11.5169\n",
      "Training until validation scores don't improve for 50 rounds\n",
      "Early stopping, best iteration is:\n",
      "[8]\tvalid_0's rmse: 11.857\n",
      "Training until validation scores don't improve for 50 rounds\n"
     ]
    },
    {
     "name": "stderr",
     "output_type": "stream",
     "text": [
      "[I 2025-06-21 15:50:54,096] Trial 69 finished with value: 11.248534001745798 and parameters: {'num_leaves': 69, 'learning_rate': 0.15785128157748815, 'feature_fraction': 0.6457325163551417, 'bagging_fraction': 0.905038921080704, 'bagging_freq': 6, 'min_child_samples': 43}. Best is trial 62 with value: 11.000232226962762.\n"
     ]
    },
    {
     "name": "stdout",
     "output_type": "stream",
     "text": [
      "Early stopping, best iteration is:\n",
      "[150]\tvalid_0's rmse: 6.18732\n",
      "Training until validation scores don't improve for 50 rounds\n",
      "Early stopping, best iteration is:\n",
      "[77]\tvalid_0's rmse: 7.19169\n",
      "Training until validation scores don't improve for 50 rounds\n",
      "Early stopping, best iteration is:\n",
      "[42]\tvalid_0's rmse: 19.9738\n",
      "Training until validation scores don't improve for 50 rounds\n",
      "Early stopping, best iteration is:\n",
      "[1]\tvalid_0's rmse: 11.571\n",
      "Training until validation scores don't improve for 50 rounds\n",
      "Early stopping, best iteration is:\n",
      "[8]\tvalid_0's rmse: 11.5993\n",
      "Training until validation scores don't improve for 50 rounds\n"
     ]
    },
    {
     "name": "stderr",
     "output_type": "stream",
     "text": [
      "[I 2025-06-21 15:51:04,042] Trial 70 finished with value: 11.265520123967233 and parameters: {'num_leaves': 49, 'learning_rate': 0.1428202936899356, 'feature_fraction': 0.6097444198699828, 'bagging_fraction': 0.9312742845351382, 'bagging_freq': 6, 'min_child_samples': 29}. Best is trial 62 with value: 11.000232226962762.\n"
     ]
    },
    {
     "name": "stdout",
     "output_type": "stream",
     "text": [
      "Early stopping, best iteration is:\n",
      "[159]\tvalid_0's rmse: 5.99168\n",
      "Training until validation scores don't improve for 50 rounds\n",
      "Early stopping, best iteration is:\n",
      "[54]\tvalid_0's rmse: 7.18903\n",
      "Training until validation scores don't improve for 50 rounds\n",
      "Early stopping, best iteration is:\n",
      "[96]\tvalid_0's rmse: 19.3871\n",
      "Training until validation scores don't improve for 50 rounds\n",
      "Early stopping, best iteration is:\n",
      "[1]\tvalid_0's rmse: 11.4126\n",
      "Training until validation scores don't improve for 50 rounds\n",
      "Early stopping, best iteration is:\n",
      "[9]\tvalid_0's rmse: 11.5318\n",
      "Training until validation scores don't improve for 50 rounds\n"
     ]
    },
    {
     "name": "stderr",
     "output_type": "stream",
     "text": [
      "[I 2025-06-21 15:51:17,383] Trial 71 finished with value: 11.099633886718209 and parameters: {'num_leaves': 66, 'learning_rate': 0.10598465453021855, 'feature_fraction': 0.6168160414832394, 'bagging_fraction': 0.9445258462895699, 'bagging_freq': 6, 'min_child_samples': 37}. Best is trial 62 with value: 11.000232226962762.\n"
     ]
    },
    {
     "name": "stdout",
     "output_type": "stream",
     "text": [
      "Early stopping, best iteration is:\n",
      "[141]\tvalid_0's rmse: 5.97764\n",
      "Training until validation scores don't improve for 50 rounds\n",
      "Early stopping, best iteration is:\n",
      "[93]\tvalid_0's rmse: 7.54697\n",
      "Training until validation scores don't improve for 50 rounds\n",
      "Early stopping, best iteration is:\n",
      "[78]\tvalid_0's rmse: 19.7951\n",
      "Training until validation scores don't improve for 50 rounds\n",
      "Early stopping, best iteration is:\n",
      "[1]\tvalid_0's rmse: 11.3418\n",
      "Training until validation scores don't improve for 50 rounds\n",
      "Early stopping, best iteration is:\n",
      "[1]\tvalid_0's rmse: 13.3846\n",
      "Training until validation scores don't improve for 50 rounds\n"
     ]
    },
    {
     "name": "stderr",
     "output_type": "stream",
     "text": [
      "[I 2025-06-21 15:51:31,410] Trial 72 finished with value: 11.603196358745198 and parameters: {'num_leaves': 74, 'learning_rate': 0.13547242586684471, 'feature_fraction': 0.9962727028736498, 'bagging_fraction': 0.9435978203261814, 'bagging_freq': 6, 'min_child_samples': 34}. Best is trial 62 with value: 11.000232226962762.\n"
     ]
    },
    {
     "name": "stdout",
     "output_type": "stream",
     "text": [
      "Early stopping, best iteration is:\n",
      "[99]\tvalid_0's rmse: 5.94759\n",
      "Training until validation scores don't improve for 50 rounds\n",
      "Early stopping, best iteration is:\n",
      "[97]\tvalid_0's rmse: 7.37835\n",
      "Training until validation scores don't improve for 50 rounds\n",
      "Early stopping, best iteration is:\n",
      "[93]\tvalid_0's rmse: 19.0511\n",
      "Training until validation scores don't improve for 50 rounds\n",
      "Early stopping, best iteration is:\n",
      "[1]\tvalid_0's rmse: 11.4411\n",
      "Training until validation scores don't improve for 50 rounds\n",
      "Early stopping, best iteration is:\n",
      "[8]\tvalid_0's rmse: 11.6812\n",
      "Training until validation scores don't improve for 50 rounds\n"
     ]
    },
    {
     "name": "stderr",
     "output_type": "stream",
     "text": [
      "[I 2025-06-21 15:51:43,015] Trial 73 finished with value: 11.152851951749472 and parameters: {'num_leaves': 65, 'learning_rate': 0.12544031236503272, 'feature_fraction': 0.6357459213049105, 'bagging_fraction': 0.9249335696640093, 'bagging_freq': 8, 'min_child_samples': 37}. Best is trial 62 with value: 11.000232226962762.\n"
     ]
    },
    {
     "name": "stdout",
     "output_type": "stream",
     "text": [
      "Early stopping, best iteration is:\n",
      "[86]\tvalid_0's rmse: 6.21245\n",
      "Training until validation scores don't improve for 50 rounds\n",
      "Early stopping, best iteration is:\n",
      "[132]\tvalid_0's rmse: 7.39662\n",
      "Training until validation scores don't improve for 50 rounds\n",
      "Early stopping, best iteration is:\n",
      "[115]\tvalid_0's rmse: 19.0969\n",
      "Training until validation scores don't improve for 50 rounds\n",
      "Early stopping, best iteration is:\n",
      "[1]\tvalid_0's rmse: 11.4026\n",
      "Training until validation scores don't improve for 50 rounds\n",
      "Early stopping, best iteration is:\n",
      "[8]\tvalid_0's rmse: 11.7582\n",
      "Training until validation scores don't improve for 50 rounds\n"
     ]
    },
    {
     "name": "stderr",
     "output_type": "stream",
     "text": [
      "[I 2025-06-21 15:51:52,100] Trial 74 finished with value: 11.116219928000437 and parameters: {'num_leaves': 58, 'learning_rate': 0.10281397717613097, 'feature_fraction': 0.6011541919926977, 'bagging_fraction': 0.9000024165915176, 'bagging_freq': 7, 'min_child_samples': 48}. Best is trial 62 with value: 11.000232226962762.\n"
     ]
    },
    {
     "name": "stdout",
     "output_type": "stream",
     "text": [
      "Early stopping, best iteration is:\n",
      "[115]\tvalid_0's rmse: 5.92686\n",
      "Training until validation scores don't improve for 50 rounds\n",
      "Early stopping, best iteration is:\n",
      "[109]\tvalid_0's rmse: 7.32917\n",
      "Training until validation scores don't improve for 50 rounds\n",
      "Early stopping, best iteration is:\n",
      "[85]\tvalid_0's rmse: 19.3518\n",
      "Training until validation scores don't improve for 50 rounds\n",
      "Early stopping, best iteration is:\n",
      "[1]\tvalid_0's rmse: 11.3731\n",
      "Training until validation scores don't improve for 50 rounds\n",
      "Early stopping, best iteration is:\n",
      "[8]\tvalid_0's rmse: 11.7996\n",
      "Training until validation scores don't improve for 50 rounds\n"
     ]
    },
    {
     "name": "stderr",
     "output_type": "stream",
     "text": [
      "[I 2025-06-21 15:52:01,268] Trial 75 finished with value: 11.135186976928082 and parameters: {'num_leaves': 68, 'learning_rate': 0.10778349081001146, 'feature_fraction': 0.6217555335434243, 'bagging_fraction': 0.9034965688307025, 'bagging_freq': 7, 'min_child_samples': 48}. Best is trial 62 with value: 11.000232226962762.\n"
     ]
    },
    {
     "name": "stdout",
     "output_type": "stream",
     "text": [
      "Early stopping, best iteration is:\n",
      "[123]\tvalid_0's rmse: 5.82227\n",
      "Training until validation scores don't improve for 50 rounds\n",
      "Early stopping, best iteration is:\n",
      "[101]\tvalid_0's rmse: 7.09002\n",
      "Training until validation scores don't improve for 50 rounds\n",
      "Early stopping, best iteration is:\n",
      "[92]\tvalid_0's rmse: 19.3693\n",
      "Training until validation scores don't improve for 50 rounds\n",
      "Early stopping, best iteration is:\n",
      "[1]\tvalid_0's rmse: 11.341\n",
      "Training until validation scores don't improve for 50 rounds\n",
      "Early stopping, best iteration is:\n",
      "[8]\tvalid_0's rmse: 11.8565\n",
      "Training until validation scores don't improve for 50 rounds\n"
     ]
    },
    {
     "name": "stderr",
     "output_type": "stream",
     "text": [
      "[I 2025-06-21 15:52:11,056] Trial 76 finished with value: 11.082324515527167 and parameters: {'num_leaves': 67, 'learning_rate': 0.10234626751876257, 'feature_fraction': 0.6241524964410926, 'bagging_fraction': 0.884006237267433, 'bagging_freq': 6, 'min_child_samples': 52}. Best is trial 62 with value: 11.000232226962762.\n"
     ]
    },
    {
     "name": "stdout",
     "output_type": "stream",
     "text": [
      "Early stopping, best iteration is:\n",
      "[157]\tvalid_0's rmse: 5.75476\n",
      "Training until validation scores don't improve for 50 rounds\n",
      "Early stopping, best iteration is:\n",
      "[80]\tvalid_0's rmse: 7.45818\n",
      "Training until validation scores don't improve for 50 rounds\n",
      "Early stopping, best iteration is:\n",
      "[156]\tvalid_0's rmse: 19.1783\n",
      "Training until validation scores don't improve for 50 rounds\n",
      "Early stopping, best iteration is:\n",
      "[1]\tvalid_0's rmse: 11.4639\n",
      "Training until validation scores don't improve for 50 rounds\n",
      "Early stopping, best iteration is:\n",
      "[8]\tvalid_0's rmse: 12.0752\n",
      "Training until validation scores don't improve for 50 rounds\n"
     ]
    },
    {
     "name": "stderr",
     "output_type": "stream",
     "text": [
      "[I 2025-06-21 15:52:19,451] Trial 77 finished with value: 11.229000851175321 and parameters: {'num_leaves': 69, 'learning_rate': 0.1528064499069336, 'feature_fraction': 0.6677716880494051, 'bagging_fraction': 0.8854517117560816, 'bagging_freq': 6, 'min_child_samples': 51}. Best is trial 62 with value: 11.000232226962762.\n"
     ]
    },
    {
     "name": "stdout",
     "output_type": "stream",
     "text": [
      "Early stopping, best iteration is:\n",
      "[83]\tvalid_0's rmse: 5.96933\n",
      "Training until validation scores don't improve for 50 rounds\n",
      "Early stopping, best iteration is:\n",
      "[109]\tvalid_0's rmse: 7.11919\n",
      "Training until validation scores don't improve for 50 rounds\n",
      "Early stopping, best iteration is:\n",
      "[96]\tvalid_0's rmse: 19.2954\n",
      "Training until validation scores don't improve for 50 rounds\n",
      "Early stopping, best iteration is:\n",
      "[1]\tvalid_0's rmse: 11.3369\n",
      "Training until validation scores don't improve for 50 rounds\n",
      "Early stopping, best iteration is:\n",
      "[8]\tvalid_0's rmse: 12.3084\n",
      "Training until validation scores don't improve for 50 rounds\n"
     ]
    },
    {
     "name": "stderr",
     "output_type": "stream",
     "text": [
      "[I 2025-06-21 15:52:27,563] Trial 78 finished with value: 11.199517040044594 and parameters: {'num_leaves': 58, 'learning_rate': 0.10102081895751681, 'feature_fraction': 0.6865966254758086, 'bagging_fraction': 0.9189986675914574, 'bagging_freq': 6, 'min_child_samples': 53}. Best is trial 62 with value: 11.000232226962762.\n"
     ]
    },
    {
     "name": "stdout",
     "output_type": "stream",
     "text": [
      "Early stopping, best iteration is:\n",
      "[100]\tvalid_0's rmse: 5.93772\n",
      "Training until validation scores don't improve for 50 rounds\n",
      "Early stopping, best iteration is:\n",
      "[103]\tvalid_0's rmse: 7.40639\n",
      "Training until validation scores don't improve for 50 rounds\n",
      "Early stopping, best iteration is:\n",
      "[82]\tvalid_0's rmse: 19.2542\n",
      "Training until validation scores don't improve for 50 rounds\n",
      "Early stopping, best iteration is:\n",
      "[1]\tvalid_0's rmse: 11.3883\n",
      "Training until validation scores don't improve for 50 rounds\n",
      "Early stopping, best iteration is:\n",
      "[8]\tvalid_0's rmse: 12.0974\n",
      "Training until validation scores don't improve for 50 rounds\n"
     ]
    },
    {
     "name": "stderr",
     "output_type": "stream",
     "text": [
      "[I 2025-06-21 15:52:36,766] Trial 79 finished with value: 11.182587517643903 and parameters: {'num_leaves': 61, 'learning_rate': 0.12039678608022833, 'feature_fraction': 0.6511143877704593, 'bagging_fraction': 0.9017083569107768, 'bagging_freq': 7, 'min_child_samples': 45}. Best is trial 62 with value: 11.000232226962762.\n"
     ]
    },
    {
     "name": "stdout",
     "output_type": "stream",
     "text": [
      "Early stopping, best iteration is:\n",
      "[151]\tvalid_0's rmse: 5.76661\n",
      "Training until validation scores don't improve for 50 rounds\n",
      "Early stopping, best iteration is:\n",
      "[101]\tvalid_0's rmse: 7.21905\n",
      "Training until validation scores don't improve for 50 rounds\n",
      "Early stopping, best iteration is:\n",
      "[106]\tvalid_0's rmse: 19.2146\n",
      "Training until validation scores don't improve for 50 rounds\n",
      "Early stopping, best iteration is:\n",
      "[1]\tvalid_0's rmse: 11.3209\n",
      "Training until validation scores don't improve for 50 rounds\n",
      "Early stopping, best iteration is:\n",
      "[8]\tvalid_0's rmse: 11.8076\n",
      "Training until validation scores don't improve for 50 rounds\n"
     ]
    },
    {
     "name": "stderr",
     "output_type": "stream",
     "text": [
      "[I 2025-06-21 15:52:47,731] Trial 80 finished with value: 11.104373287967185 and parameters: {'num_leaves': 66, 'learning_rate': 0.10265331325549185, 'feature_fraction': 0.6312145589183512, 'bagging_fraction': 0.8761769326546307, 'bagging_freq': 6, 'min_child_samples': 48}. Best is trial 62 with value: 11.000232226962762.\n"
     ]
    },
    {
     "name": "stdout",
     "output_type": "stream",
     "text": [
      "Early stopping, best iteration is:\n",
      "[257]\tvalid_0's rmse: 5.9597\n",
      "Training until validation scores don't improve for 50 rounds\n",
      "Early stopping, best iteration is:\n",
      "[60]\tvalid_0's rmse: 7.16485\n",
      "Training until validation scores don't improve for 50 rounds\n",
      "Early stopping, best iteration is:\n",
      "[76]\tvalid_0's rmse: 19.1671\n",
      "Training until validation scores don't improve for 50 rounds\n",
      "Early stopping, best iteration is:\n",
      "[1]\tvalid_0's rmse: 11.3769\n",
      "Training until validation scores don't improve for 50 rounds\n",
      "Early stopping, best iteration is:\n",
      "[9]\tvalid_0's rmse: 11.5937\n",
      "Training until validation scores don't improve for 50 rounds\n"
     ]
    },
    {
     "name": "stderr",
     "output_type": "stream",
     "text": [
      "[I 2025-06-21 15:52:56,931] Trial 81 finished with value: 11.056981282059446 and parameters: {'num_leaves': 67, 'learning_rate': 0.11173880275779244, 'feature_fraction': 0.600994781543682, 'bagging_fraction': 0.8845162483361915, 'bagging_freq': 6, 'min_child_samples': 48}. Best is trial 62 with value: 11.000232226962762.\n"
     ]
    },
    {
     "name": "stdout",
     "output_type": "stream",
     "text": [
      "Early stopping, best iteration is:\n",
      "[152]\tvalid_0's rmse: 5.98229\n",
      "Training until validation scores don't improve for 50 rounds\n",
      "Early stopping, best iteration is:\n",
      "[102]\tvalid_0's rmse: 7.21519\n",
      "Training until validation scores don't improve for 50 rounds\n",
      "Early stopping, best iteration is:\n",
      "[80]\tvalid_0's rmse: 19.5717\n",
      "Training until validation scores don't improve for 50 rounds\n",
      "Early stopping, best iteration is:\n",
      "[1]\tvalid_0's rmse: 11.3594\n",
      "Training until validation scores don't improve for 50 rounds\n",
      "Early stopping, best iteration is:\n",
      "[8]\tvalid_0's rmse: 11.7434\n",
      "Training until validation scores don't improve for 50 rounds\n"
     ]
    },
    {
     "name": "stderr",
     "output_type": "stream",
     "text": [
      "[I 2025-06-21 15:53:07,833] Trial 82 finished with value: 11.154460572948043 and parameters: {'num_leaves': 66, 'learning_rate': 0.11339256062957073, 'feature_fraction': 0.6286976456025893, 'bagging_fraction': 0.8765317553869607, 'bagging_freq': 6, 'min_child_samples': 41}. Best is trial 62 with value: 11.000232226962762.\n"
     ]
    },
    {
     "name": "stdout",
     "output_type": "stream",
     "text": [
      "Early stopping, best iteration is:\n",
      "[183]\tvalid_0's rmse: 5.88259\n",
      "Training until validation scores don't improve for 50 rounds\n",
      "Early stopping, best iteration is:\n",
      "[86]\tvalid_0's rmse: 7.29235\n",
      "Training until validation scores don't improve for 50 rounds\n",
      "Early stopping, best iteration is:\n",
      "[68]\tvalid_0's rmse: 19.4973\n",
      "Training until validation scores don't improve for 50 rounds\n",
      "Early stopping, best iteration is:\n",
      "[1]\tvalid_0's rmse: 11.4299\n",
      "Training until validation scores don't improve for 50 rounds\n",
      "Early stopping, best iteration is:\n",
      "[9]\tvalid_0's rmse: 11.3908\n",
      "Training until validation scores don't improve for 50 rounds\n"
     ]
    },
    {
     "name": "stderr",
     "output_type": "stream",
     "text": [
      "[I 2025-06-21 15:53:19,077] Trial 83 finished with value: 11.152582990591807 and parameters: {'num_leaves': 80, 'learning_rate': 0.13154788115362687, 'feature_fraction': 0.636995511296135, 'bagging_fraction': 0.8444311687943664, 'bagging_freq': 6, 'min_child_samples': 43}. Best is trial 62 with value: 11.000232226962762.\n"
     ]
    },
    {
     "name": "stdout",
     "output_type": "stream",
     "text": [
      "Early stopping, best iteration is:\n",
      "[213]\tvalid_0's rmse: 6.15256\n",
      "Training until validation scores don't improve for 50 rounds\n",
      "Early stopping, best iteration is:\n",
      "[77]\tvalid_0's rmse: 7.12409\n",
      "Training until validation scores don't improve for 50 rounds\n",
      "Early stopping, best iteration is:\n",
      "[185]\tvalid_0's rmse: 19.6191\n",
      "Training until validation scores don't improve for 50 rounds\n",
      "Early stopping, best iteration is:\n",
      "[1]\tvalid_0's rmse: 11.2961\n",
      "Training until validation scores don't improve for 50 rounds\n",
      "Early stopping, best iteration is:\n",
      "[8]\tvalid_0's rmse: 11.9019\n",
      "Training until validation scores don't improve for 50 rounds\n"
     ]
    },
    {
     "name": "stderr",
     "output_type": "stream",
     "text": [
      "[I 2025-06-21 15:53:32,407] Trial 84 finished with value: 11.179112103627675 and parameters: {'num_leaves': 75, 'learning_rate': 0.09428614071494865, 'feature_fraction': 0.6126929177446703, 'bagging_fraction': 0.91222558671672, 'bagging_freq': 5, 'min_child_samples': 66}. Best is trial 62 with value: 11.000232226962762.\n"
     ]
    },
    {
     "name": "stdout",
     "output_type": "stream",
     "text": [
      "Early stopping, best iteration is:\n",
      "[238]\tvalid_0's rmse: 5.95447\n",
      "Training until validation scores don't improve for 50 rounds\n",
      "Early stopping, best iteration is:\n",
      "[75]\tvalid_0's rmse: 7.26252\n",
      "Training until validation scores don't improve for 50 rounds\n",
      "Early stopping, best iteration is:\n",
      "[72]\tvalid_0's rmse: 19.0742\n",
      "Training until validation scores don't improve for 50 rounds\n",
      "Early stopping, best iteration is:\n",
      "[1]\tvalid_0's rmse: 11.4134\n",
      "Training until validation scores don't improve for 50 rounds\n",
      "Early stopping, best iteration is:\n",
      "[9]\tvalid_0's rmse: 11.5765\n",
      "Training until validation scores don't improve for 50 rounds\n"
     ]
    },
    {
     "name": "stderr",
     "output_type": "stream",
     "text": [
      "[I 2025-06-21 15:53:43,933] Trial 85 finished with value: 11.060189331541702 and parameters: {'num_leaves': 70, 'learning_rate': 0.12420064328542746, 'feature_fraction': 0.6272989838066539, 'bagging_fraction': 0.885782319186701, 'bagging_freq': 5, 'min_child_samples': 50}. Best is trial 62 with value: 11.000232226962762.\n"
     ]
    },
    {
     "name": "stdout",
     "output_type": "stream",
     "text": [
      "Early stopping, best iteration is:\n",
      "[138]\tvalid_0's rmse: 5.9743\n",
      "Training until validation scores don't improve for 50 rounds\n",
      "Early stopping, best iteration is:\n",
      "[97]\tvalid_0's rmse: 7.38337\n",
      "Training until validation scores don't improve for 50 rounds\n",
      "Early stopping, best iteration is:\n",
      "[80]\tvalid_0's rmse: 19.3518\n",
      "Training until validation scores don't improve for 50 rounds\n",
      "Early stopping, best iteration is:\n",
      "[1]\tvalid_0's rmse: 11.404\n",
      "Training until validation scores don't improve for 50 rounds\n",
      "Early stopping, best iteration is:\n",
      "[8]\tvalid_0's rmse: 11.6519\n",
      "Training until validation scores don't improve for 50 rounds\n"
     ]
    },
    {
     "name": "stderr",
     "output_type": "stream",
     "text": [
      "[I 2025-06-21 15:53:55,940] Trial 86 finished with value: 11.163024123641758 and parameters: {'num_leaves': 72, 'learning_rate': 0.12601956493672875, 'feature_fraction': 0.6212062543180146, 'bagging_fraction': 0.8552198842635076, 'bagging_freq': 5, 'min_child_samples': 52}. Best is trial 62 with value: 11.000232226962762.\n"
     ]
    },
    {
     "name": "stdout",
     "output_type": "stream",
     "text": [
      "Early stopping, best iteration is:\n",
      "[254]\tvalid_0's rmse: 6.02403\n",
      "Training until validation scores don't improve for 50 rounds\n",
      "Early stopping, best iteration is:\n",
      "[178]\tvalid_0's rmse: 7.46748\n",
      "Training until validation scores don't improve for 50 rounds\n",
      "Early stopping, best iteration is:\n",
      "[55]\tvalid_0's rmse: 19.4578\n",
      "Training until validation scores don't improve for 50 rounds\n",
      "Early stopping, best iteration is:\n",
      "[1]\tvalid_0's rmse: 11.2055\n",
      "Training until validation scores don't improve for 50 rounds\n",
      "Early stopping, best iteration is:\n",
      "[1]\tvalid_0's rmse: 13.6062\n",
      "Training until validation scores don't improve for 50 rounds\n"
     ]
    },
    {
     "name": "stderr",
     "output_type": "stream",
     "text": [
      "[I 2025-06-21 15:54:05,014] Trial 87 finished with value: 11.595312198385693 and parameters: {'num_leaves': 70, 'learning_rate': 0.16027977949195496, 'feature_fraction': 0.7744812243541344, 'bagging_fraction': 0.8295348708661157, 'bagging_freq': 5, 'min_child_samples': 59}. Best is trial 62 with value: 11.000232226962762.\n"
     ]
    },
    {
     "name": "stdout",
     "output_type": "stream",
     "text": [
      "Early stopping, best iteration is:\n",
      "[80]\tvalid_0's rmse: 6.23954\n",
      "Training until validation scores don't improve for 50 rounds\n",
      "Early stopping, best iteration is:\n",
      "[95]\tvalid_0's rmse: 7.43023\n",
      "Training until validation scores don't improve for 50 rounds\n",
      "Early stopping, best iteration is:\n",
      "[58]\tvalid_0's rmse: 19.1611\n",
      "Training until validation scores don't improve for 50 rounds\n",
      "Early stopping, best iteration is:\n",
      "[1]\tvalid_0's rmse: 11.4823\n",
      "Training until validation scores don't improve for 50 rounds\n",
      "Early stopping, best iteration is:\n",
      "[9]\tvalid_0's rmse: 11.3699\n",
      "Training until validation scores don't improve for 50 rounds\n"
     ]
    },
    {
     "name": "stderr",
     "output_type": "stream",
     "text": [
      "[I 2025-06-21 15:54:13,643] Trial 88 finished with value: 11.113961586178547 and parameters: {'num_leaves': 63, 'learning_rate': 0.14871541934664442, 'feature_fraction': 0.6088841252029593, 'bagging_fraction': 0.9358406713794728, 'bagging_freq': 5, 'min_child_samples': 58}. Best is trial 62 with value: 11.000232226962762.\n"
     ]
    },
    {
     "name": "stdout",
     "output_type": "stream",
     "text": [
      "Early stopping, best iteration is:\n",
      "[128]\tvalid_0's rmse: 6.12625\n",
      "Training until validation scores don't improve for 50 rounds\n",
      "Early stopping, best iteration is:\n",
      "[61]\tvalid_0's rmse: 7.42949\n",
      "Training until validation scores don't improve for 50 rounds\n",
      "Early stopping, best iteration is:\n",
      "[100]\tvalid_0's rmse: 19.3997\n",
      "Training until validation scores don't improve for 50 rounds\n",
      "Early stopping, best iteration is:\n",
      "[1]\tvalid_0's rmse: 11.4793\n",
      "Training until validation scores don't improve for 50 rounds\n",
      "Early stopping, best iteration is:\n",
      "[8]\tvalid_0's rmse: 12.3636\n",
      "Training until validation scores don't improve for 50 rounds\n"
     ]
    },
    {
     "name": "stderr",
     "output_type": "stream",
     "text": [
      "[I 2025-06-21 15:54:20,974] Trial 89 finished with value: 11.333364800335264 and parameters: {'num_leaves': 61, 'learning_rate': 0.11642560106742357, 'feature_fraction': 0.6448967617803057, 'bagging_fraction': 0.6267801498347345, 'bagging_freq': 6, 'min_child_samples': 50}. Best is trial 62 with value: 11.000232226962762.\n"
     ]
    },
    {
     "name": "stdout",
     "output_type": "stream",
     "text": [
      "Early stopping, best iteration is:\n",
      "[125]\tvalid_0's rmse: 5.99481\n",
      "Training until validation scores don't improve for 50 rounds\n",
      "Early stopping, best iteration is:\n",
      "[195]\tvalid_0's rmse: 7.45419\n",
      "Training until validation scores don't improve for 50 rounds\n",
      "Early stopping, best iteration is:\n",
      "[80]\tvalid_0's rmse: 19.3132\n",
      "Training until validation scores don't improve for 50 rounds\n",
      "Early stopping, best iteration is:\n",
      "[1]\tvalid_0's rmse: 11.4639\n",
      "Training until validation scores don't improve for 50 rounds\n",
      "Early stopping, best iteration is:\n",
      "[9]\tvalid_0's rmse: 11.5961\n",
      "Training until validation scores don't improve for 50 rounds\n"
     ]
    },
    {
     "name": "stderr",
     "output_type": "stream",
     "text": [
      "[I 2025-06-21 15:54:33,738] Trial 90 finished with value: 11.141598068817455 and parameters: {'num_leaves': 67, 'learning_rate': 0.13599770306678213, 'feature_fraction': 0.6211702637072336, 'bagging_fraction': 0.8855553264631361, 'bagging_freq': 6, 'min_child_samples': 45}. Best is trial 62 with value: 11.000232226962762.\n"
     ]
    },
    {
     "name": "stdout",
     "output_type": "stream",
     "text": [
      "Early stopping, best iteration is:\n",
      "[265]\tvalid_0's rmse: 5.8806\n",
      "Training until validation scores don't improve for 50 rounds\n",
      "Early stopping, best iteration is:\n",
      "[101]\tvalid_0's rmse: 7.27361\n",
      "Training until validation scores don't improve for 50 rounds\n",
      "Early stopping, best iteration is:\n",
      "[137]\tvalid_0's rmse: 19.0892\n",
      "Training until validation scores don't improve for 50 rounds\n",
      "Early stopping, best iteration is:\n",
      "[1]\tvalid_0's rmse: 11.3478\n",
      "Training until validation scores don't improve for 50 rounds\n",
      "Early stopping, best iteration is:\n",
      "[8]\tvalid_0's rmse: 11.9703\n",
      "Training until validation scores don't improve for 50 rounds\n"
     ]
    },
    {
     "name": "stderr",
     "output_type": "stream",
     "text": [
      "[I 2025-06-21 15:54:44,190] Trial 91 finished with value: 11.126392462918 and parameters: {'num_leaves': 65, 'learning_rate': 0.09987146143705217, 'feature_fraction': 0.6334043950290926, 'bagging_fraction': 0.8667466431708275, 'bagging_freq': 6, 'min_child_samples': 57}. Best is trial 62 with value: 11.000232226962762.\n"
     ]
    },
    {
     "name": "stdout",
     "output_type": "stream",
     "text": [
      "Early stopping, best iteration is:\n",
      "[112]\tvalid_0's rmse: 5.95113\n",
      "Training until validation scores don't improve for 50 rounds\n",
      "Early stopping, best iteration is:\n",
      "[117]\tvalid_0's rmse: 7.14315\n",
      "Training until validation scores don't improve for 50 rounds\n",
      "Early stopping, best iteration is:\n",
      "[93]\tvalid_0's rmse: 19.3826\n",
      "Training until validation scores don't improve for 50 rounds\n",
      "Early stopping, best iteration is:\n",
      "[1]\tvalid_0's rmse: 11.3195\n",
      "Training until validation scores don't improve for 50 rounds\n",
      "Early stopping, best iteration is:\n",
      "[8]\tvalid_0's rmse: 11.8096\n",
      "Training until validation scores don't improve for 50 rounds\n"
     ]
    },
    {
     "name": "stderr",
     "output_type": "stream",
     "text": [
      "[I 2025-06-21 15:54:55,026] Trial 92 finished with value: 11.092833394273695 and parameters: {'num_leaves': 71, 'learning_rate': 0.09270990756136452, 'feature_fraction': 0.60903965680866, 'bagging_fraction': 0.8946093799292532, 'bagging_freq': 6, 'min_child_samples': 48}. Best is trial 62 with value: 11.000232226962762.\n"
     ]
    },
    {
     "name": "stdout",
     "output_type": "stream",
     "text": [
      "Early stopping, best iteration is:\n",
      "[119]\tvalid_0's rmse: 5.80932\n",
      "Training until validation scores don't improve for 50 rounds\n",
      "Early stopping, best iteration is:\n",
      "[102]\tvalid_0's rmse: 7.19021\n",
      "Training until validation scores don't improve for 50 rounds\n",
      "Early stopping, best iteration is:\n",
      "[61]\tvalid_0's rmse: 19.5997\n",
      "Training until validation scores don't improve for 50 rounds\n",
      "Early stopping, best iteration is:\n",
      "[1]\tvalid_0's rmse: 11.3126\n",
      "Training until validation scores don't improve for 50 rounds\n",
      "Early stopping, best iteration is:\n",
      "[8]\tvalid_0's rmse: 12.0623\n",
      "Training until validation scores don't improve for 50 rounds\n"
     ]
    },
    {
     "name": "stderr",
     "output_type": "stream",
     "text": [
      "[I 2025-06-21 15:55:05,027] Trial 93 finished with value: 11.190237283634412 and parameters: {'num_leaves': 71, 'learning_rate': 0.08757727201309229, 'feature_fraction': 0.611503279204967, 'bagging_fraction': 0.8957126672809724, 'bagging_freq': 5, 'min_child_samples': 40}. Best is trial 62 with value: 11.000232226962762.\n"
     ]
    },
    {
     "name": "stdout",
     "output_type": "stream",
     "text": [
      "Early stopping, best iteration is:\n",
      "[116]\tvalid_0's rmse: 5.78638\n",
      "Training until validation scores don't improve for 50 rounds\n",
      "Early stopping, best iteration is:\n",
      "[109]\tvalid_0's rmse: 7.3579\n",
      "Training until validation scores don't improve for 50 rounds\n",
      "Early stopping, best iteration is:\n",
      "[95]\tvalid_0's rmse: 19.2445\n",
      "Training until validation scores don't improve for 50 rounds\n",
      "Early stopping, best iteration is:\n",
      "[1]\tvalid_0's rmse: 11.4231\n",
      "Training until validation scores don't improve for 50 rounds\n",
      "Early stopping, best iteration is:\n",
      "[9]\tvalid_0's rmse: 11.519\n",
      "Training until validation scores don't improve for 50 rounds\n"
     ]
    },
    {
     "name": "stderr",
     "output_type": "stream",
     "text": [
      "[I 2025-06-21 15:55:16,325] Trial 94 finished with value: 11.111122691127294 and parameters: {'num_leaves': 74, 'learning_rate': 0.11150974164710507, 'feature_fraction': 0.6057658394980431, 'bagging_fraction': 0.9313779557824736, 'bagging_freq': 6, 'min_child_samples': 37}. Best is trial 62 with value: 11.000232226962762.\n"
     ]
    },
    {
     "name": "stdout",
     "output_type": "stream",
     "text": [
      "Early stopping, best iteration is:\n",
      "[105]\tvalid_0's rmse: 6.01104\n",
      "Training until validation scores don't improve for 50 rounds\n",
      "Early stopping, best iteration is:\n",
      "[143]\tvalid_0's rmse: 7.33007\n",
      "Training until validation scores don't improve for 50 rounds\n",
      "Early stopping, best iteration is:\n",
      "[71]\tvalid_0's rmse: 19.7506\n",
      "Training until validation scores don't improve for 50 rounds\n",
      "Early stopping, best iteration is:\n",
      "[1]\tvalid_0's rmse: 11.3067\n",
      "Training until validation scores don't improve for 50 rounds\n",
      "Early stopping, best iteration is:\n",
      "[8]\tvalid_0's rmse: 12.3372\n",
      "Training until validation scores don't improve for 50 rounds\n"
     ]
    },
    {
     "name": "stderr",
     "output_type": "stream",
     "text": [
      "[I 2025-06-21 15:55:27,708] Trial 95 finished with value: 11.304344471953186 and parameters: {'num_leaves': 70, 'learning_rate': 0.09160701813778616, 'feature_fraction': 0.6560128814818138, 'bagging_fraction': 0.9109556565404479, 'bagging_freq': 7, 'min_child_samples': 46}. Best is trial 62 with value: 11.000232226962762.\n"
     ]
    },
    {
     "name": "stdout",
     "output_type": "stream",
     "text": [
      "Early stopping, best iteration is:\n",
      "[147]\tvalid_0's rmse: 5.79712\n",
      "Training until validation scores don't improve for 50 rounds\n",
      "Early stopping, best iteration is:\n",
      "[119]\tvalid_0's rmse: 7.43281\n",
      "Training until validation scores don't improve for 50 rounds\n",
      "Early stopping, best iteration is:\n",
      "[69]\tvalid_0's rmse: 19.2169\n",
      "Training until validation scores don't improve for 50 rounds\n",
      "Early stopping, best iteration is:\n",
      "[1]\tvalid_0's rmse: 11.4365\n",
      "Training until validation scores don't improve for 50 rounds\n",
      "Early stopping, best iteration is:\n",
      "[9]\tvalid_0's rmse: 11.8646\n",
      "Training until validation scores don't improve for 50 rounds\n"
     ]
    },
    {
     "name": "stderr",
     "output_type": "stream",
     "text": [
      "[I 2025-06-21 15:55:40,486] Trial 96 finished with value: 11.206578841550357 and parameters: {'num_leaves': 63, 'learning_rate': 0.12320208229669424, 'feature_fraction': 0.6218955877775074, 'bagging_fraction': 0.8874304420158071, 'bagging_freq': 5, 'min_child_samples': 34}. Best is trial 62 with value: 11.000232226962762.\n"
     ]
    },
    {
     "name": "stdout",
     "output_type": "stream",
     "text": [
      "Early stopping, best iteration is:\n",
      "[235]\tvalid_0's rmse: 6.08204\n",
      "Training until validation scores don't improve for 50 rounds\n",
      "Early stopping, best iteration is:\n",
      "[119]\tvalid_0's rmse: 7.40576\n",
      "Training until validation scores don't improve for 50 rounds\n",
      "Early stopping, best iteration is:\n",
      "[98]\tvalid_0's rmse: 19.3163\n",
      "Training until validation scores don't improve for 50 rounds\n",
      "Early stopping, best iteration is:\n",
      "[1]\tvalid_0's rmse: 11.498\n",
      "Training until validation scores don't improve for 50 rounds\n",
      "Early stopping, best iteration is:\n",
      "[9]\tvalid_0's rmse: 12.1464\n",
      "Training until validation scores don't improve for 50 rounds\n"
     ]
    },
    {
     "name": "stderr",
     "output_type": "stream",
     "text": [
      "[I 2025-06-21 15:55:50,625] Trial 97 finished with value: 11.30371622545163 and parameters: {'num_leaves': 79, 'learning_rate': 0.14498270404792876, 'feature_fraction': 0.641487365304135, 'bagging_fraction': 0.9222098239385812, 'bagging_freq': 7, 'min_child_samples': 54}. Best is trial 62 with value: 11.000232226962762.\n"
     ]
    },
    {
     "name": "stdout",
     "output_type": "stream",
     "text": [
      "Early stopping, best iteration is:\n",
      "[113]\tvalid_0's rmse: 6.1521\n",
      "Training until validation scores don't improve for 50 rounds\n",
      "Early stopping, best iteration is:\n",
      "[126]\tvalid_0's rmse: 7.20986\n",
      "Training until validation scores don't improve for 50 rounds\n",
      "Early stopping, best iteration is:\n",
      "[148]\tvalid_0's rmse: 19.3405\n",
      "Training until validation scores don't improve for 50 rounds\n",
      "Early stopping, best iteration is:\n",
      "[1]\tvalid_0's rmse: 11.2991\n",
      "Training until validation scores don't improve for 50 rounds\n",
      "Early stopping, best iteration is:\n",
      "[9]\tvalid_0's rmse: 11.9699\n",
      "Training until validation scores don't improve for 50 rounds\n"
     ]
    },
    {
     "name": "stderr",
     "output_type": "stream",
     "text": [
      "[I 2025-06-21 15:56:03,806] Trial 98 finished with value: 11.147511127632152 and parameters: {'num_leaves': 67, 'learning_rate': 0.07375978317742639, 'feature_fraction': 0.6064507895931286, 'bagging_fraction': 0.9419322042352529, 'bagging_freq': 6, 'min_child_samples': 42}. Best is trial 62 with value: 11.000232226962762.\n"
     ]
    },
    {
     "name": "stdout",
     "output_type": "stream",
     "text": [
      "Early stopping, best iteration is:\n",
      "[172]\tvalid_0's rmse: 5.91815\n",
      "Training until validation scores don't improve for 50 rounds\n",
      "Early stopping, best iteration is:\n",
      "[66]\tvalid_0's rmse: 7.31341\n",
      "Training until validation scores don't improve for 50 rounds\n",
      "Early stopping, best iteration is:\n",
      "[80]\tvalid_0's rmse: 19.47\n",
      "Training until validation scores don't improve for 50 rounds\n",
      "Early stopping, best iteration is:\n",
      "[1]\tvalid_0's rmse: 11.6179\n",
      "Training until validation scores don't improve for 50 rounds\n",
      "Early stopping, best iteration is:\n",
      "[9]\tvalid_0's rmse: 11.4432\n",
      "Training until validation scores don't improve for 50 rounds\n"
     ]
    },
    {
     "name": "stderr",
     "output_type": "stream",
     "text": [
      "[I 2025-06-21 15:56:14,129] Trial 99 finished with value: 11.175102754021584 and parameters: {'num_leaves': 73, 'learning_rate': 0.1357632749955025, 'feature_fraction': 0.600176028056063, 'bagging_fraction': 0.852580175181492, 'bagging_freq': 8, 'min_child_samples': 49}. Best is trial 62 with value: 11.000232226962762.\n"
     ]
    },
    {
     "name": "stdout",
     "output_type": "stream",
     "text": [
      "Early stopping, best iteration is:\n",
      "[174]\tvalid_0's rmse: 6.03093\n",
      "Training until validation scores don't improve for 50 rounds\n",
      "Early stopping, best iteration is:\n",
      "[200]\tvalid_0's rmse: 7.37312\n",
      "Training until validation scores don't improve for 50 rounds\n",
      "Early stopping, best iteration is:\n",
      "[235]\tvalid_0's rmse: 19.8143\n",
      "Training until validation scores don't improve for 50 rounds\n",
      "Early stopping, best iteration is:\n",
      "[1]\tvalid_0's rmse: 11.2246\n",
      "Training until validation scores don't improve for 50 rounds\n",
      "Early stopping, best iteration is:\n",
      "[1]\tvalid_0's rmse: 13.424\n",
      "Training until validation scores don't improve for 50 rounds\n"
     ]
    },
    {
     "name": "stderr",
     "output_type": "stream",
     "text": [
      "[I 2025-06-21 15:56:26,179] Trial 100 finished with value: 11.58815622936102 and parameters: {'num_leaves': 76, 'learning_rate': 0.08120550939768596, 'feature_fraction': 0.9761043819417555, 'bagging_fraction': 0.9728698403246955, 'bagging_freq': 5, 'min_child_samples': 99}. Best is trial 62 with value: 11.000232226962762.\n"
     ]
    },
    {
     "name": "stdout",
     "output_type": "stream",
     "text": [
      "Early stopping, best iteration is:\n",
      "[124]\tvalid_0's rmse: 6.10473\n",
      "Training until validation scores don't improve for 50 rounds\n",
      "Early stopping, best iteration is:\n",
      "[104]\tvalid_0's rmse: 7.25894\n",
      "Training until validation scores don't improve for 50 rounds\n",
      "Early stopping, best iteration is:\n",
      "[87]\tvalid_0's rmse: 19.2702\n",
      "Training until validation scores don't improve for 50 rounds\n",
      "Early stopping, best iteration is:\n",
      "[1]\tvalid_0's rmse: 11.3623\n",
      "Training until validation scores don't improve for 50 rounds\n",
      "Early stopping, best iteration is:\n",
      "[9]\tvalid_0's rmse: 11.8055\n",
      "Training until validation scores don't improve for 50 rounds\n"
     ]
    },
    {
     "name": "stderr",
     "output_type": "stream",
     "text": [
      "[I 2025-06-21 15:56:34,838] Trial 101 finished with value: 11.131782976869314 and parameters: {'num_leaves': 66, 'learning_rate': 0.10718677184574281, 'feature_fraction': 0.6285103765055664, 'bagging_fraction': 0.873133311535402, 'bagging_freq': 6, 'min_child_samples': 48}. Best is trial 62 with value: 11.000232226962762.\n"
     ]
    },
    {
     "name": "stdout",
     "output_type": "stream",
     "text": [
      "Early stopping, best iteration is:\n",
      "[97]\tvalid_0's rmse: 5.96192\n",
      "Training until validation scores don't improve for 50 rounds\n",
      "Early stopping, best iteration is:\n",
      "[121]\tvalid_0's rmse: 7.29545\n",
      "Training until validation scores don't improve for 50 rounds\n",
      "Early stopping, best iteration is:\n",
      "[78]\tvalid_0's rmse: 19.5623\n",
      "Training until validation scores don't improve for 50 rounds\n",
      "Early stopping, best iteration is:\n",
      "[1]\tvalid_0's rmse: 11.3372\n",
      "Training until validation scores don't improve for 50 rounds\n",
      "Early stopping, best iteration is:\n",
      "[9]\tvalid_0's rmse: 11.8856\n",
      "Training until validation scores don't improve for 50 rounds\n"
     ]
    },
    {
     "name": "stderr",
     "output_type": "stream",
     "text": [
      "[I 2025-06-21 15:56:44,978] Trial 102 finished with value: 11.19831302885625 and parameters: {'num_leaves': 64, 'learning_rate': 0.10303538019340511, 'feature_fraction': 0.6171286149251785, 'bagging_fraction': 0.8783048998590876, 'bagging_freq': 6, 'min_child_samples': 44}. Best is trial 62 with value: 11.000232226962762.\n"
     ]
    },
    {
     "name": "stdout",
     "output_type": "stream",
     "text": [
      "Early stopping, best iteration is:\n",
      "[138]\tvalid_0's rmse: 5.91106\n",
      "Training until validation scores don't improve for 50 rounds\n",
      "Early stopping, best iteration is:\n",
      "[115]\tvalid_0's rmse: 7.2773\n",
      "Training until validation scores don't improve for 50 rounds\n",
      "Early stopping, best iteration is:\n",
      "[102]\tvalid_0's rmse: 19.072\n",
      "Training until validation scores don't improve for 50 rounds\n",
      "Early stopping, best iteration is:\n",
      "[1]\tvalid_0's rmse: 11.2627\n",
      "Training until validation scores don't improve for 50 rounds\n",
      "Early stopping, best iteration is:\n",
      "[9]\tvalid_0's rmse: 12.1291\n",
      "Training until validation scores don't improve for 50 rounds\n"
     ]
    },
    {
     "name": "stderr",
     "output_type": "stream",
     "text": [
      "[I 2025-06-21 15:56:56,174] Trial 103 finished with value: 11.130978272805226 and parameters: {'num_leaves': 61, 'learning_rate': 0.09581908564195524, 'feature_fraction': 0.6297967772645096, 'bagging_fraction': 0.8589107098859834, 'bagging_freq': 6, 'min_child_samples': 52}. Best is trial 62 with value: 11.000232226962762.\n"
     ]
    },
    {
     "name": "stdout",
     "output_type": "stream",
     "text": [
      "Early stopping, best iteration is:\n",
      "[265]\tvalid_0's rmse: 5.91375\n",
      "Training until validation scores don't improve for 50 rounds\n",
      "Early stopping, best iteration is:\n",
      "[67]\tvalid_0's rmse: 7.30727\n",
      "Training until validation scores don't improve for 50 rounds\n",
      "Early stopping, best iteration is:\n",
      "[87]\tvalid_0's rmse: 19.3719\n",
      "Training until validation scores don't improve for 50 rounds\n",
      "Early stopping, best iteration is:\n",
      "[1]\tvalid_0's rmse: 11.3606\n",
      "Training until validation scores don't improve for 50 rounds\n",
      "Early stopping, best iteration is:\n",
      "[8]\tvalid_0's rmse: 11.5268\n",
      "Training until validation scores don't improve for 50 rounds\n"
     ]
    },
    {
     "name": "stderr",
     "output_type": "stream",
     "text": [
      "[I 2025-06-21 15:57:08,044] Trial 104 finished with value: 11.10460605242079 and parameters: {'num_leaves': 69, 'learning_rate': 0.1146881796206964, 'feature_fraction': 0.616481037509894, 'bagging_fraction': 0.9066231966802061, 'bagging_freq': 7, 'min_child_samples': 40}. Best is trial 62 with value: 11.000232226962762.\n"
     ]
    },
    {
     "name": "stdout",
     "output_type": "stream",
     "text": [
      "Early stopping, best iteration is:\n",
      "[249]\tvalid_0's rmse: 5.95642\n",
      "Training until validation scores don't improve for 50 rounds\n",
      "Early stopping, best iteration is:\n",
      "[95]\tvalid_0's rmse: 7.14567\n",
      "Training until validation scores don't improve for 50 rounds\n",
      "Early stopping, best iteration is:\n",
      "[158]\tvalid_0's rmse: 19.37\n",
      "Training until validation scores don't improve for 50 rounds\n",
      "Early stopping, best iteration is:\n",
      "[1]\tvalid_0's rmse: 11.2932\n",
      "Training until validation scores don't improve for 50 rounds\n",
      "Early stopping, best iteration is:\n",
      "[9]\tvalid_0's rmse: 11.8514\n",
      "Training until validation scores don't improve for 50 rounds\n"
     ]
    },
    {
     "name": "stderr",
     "output_type": "stream",
     "text": [
      "[I 2025-06-21 15:57:18,765] Trial 105 finished with value: 11.10539715800666 and parameters: {'num_leaves': 67, 'learning_rate': 0.08453727089784255, 'feature_fraction': 0.6088778616928272, 'bagging_fraction': 0.8806549365750682, 'bagging_freq': 6, 'min_child_samples': 47}. Best is trial 62 with value: 11.000232226962762.\n"
     ]
    },
    {
     "name": "stdout",
     "output_type": "stream",
     "text": [
      "Early stopping, best iteration is:\n",
      "[153]\tvalid_0's rmse: 5.86676\n",
      "Training until validation scores don't improve for 50 rounds\n",
      "Early stopping, best iteration is:\n",
      "[97]\tvalid_0's rmse: 7.17919\n",
      "Training until validation scores don't improve for 50 rounds\n",
      "Early stopping, best iteration is:\n",
      "[121]\tvalid_0's rmse: 19.5835\n",
      "Training until validation scores don't improve for 50 rounds\n",
      "Early stopping, best iteration is:\n",
      "[1]\tvalid_0's rmse: 11.6026\n",
      "Training until validation scores don't improve for 50 rounds\n",
      "Early stopping, best iteration is:\n",
      "[8]\tvalid_0's rmse: 11.489\n",
      "Training until validation scores don't improve for 50 rounds\n"
     ]
    },
    {
     "name": "stderr",
     "output_type": "stream",
     "text": [
      "[I 2025-06-21 15:57:27,748] Trial 106 finished with value: 11.179161048308812 and parameters: {'num_leaves': 62, 'learning_rate': 0.12994879671377998, 'feature_fraction': 0.6353219986780143, 'bagging_fraction': 0.8347832228910976, 'bagging_freq': 5, 'min_child_samples': 38}. Best is trial 62 with value: 11.000232226962762.\n"
     ]
    },
    {
     "name": "stdout",
     "output_type": "stream",
     "text": [
      "Early stopping, best iteration is:\n",
      "[93]\tvalid_0's rmse: 6.04146\n",
      "Training until validation scores don't improve for 50 rounds\n",
      "Early stopping, best iteration is:\n",
      "[32]\tvalid_0's rmse: 7.63062\n",
      "Training until validation scores don't improve for 50 rounds\n",
      "Early stopping, best iteration is:\n",
      "[73]\tvalid_0's rmse: 18.844\n",
      "Training until validation scores don't improve for 50 rounds\n",
      "Early stopping, best iteration is:\n",
      "[1]\tvalid_0's rmse: 11.4159\n",
      "Training until validation scores don't improve for 50 rounds\n",
      "Early stopping, best iteration is:\n",
      "[1]\tvalid_0's rmse: 13.6358\n",
      "Training until validation scores don't improve for 50 rounds\n"
     ]
    },
    {
     "name": "stderr",
     "output_type": "stream",
     "text": [
      "[I 2025-06-21 15:57:34,328] Trial 107 finished with value: 11.536992789983353 and parameters: {'num_leaves': 57, 'learning_rate': 0.23453127265291812, 'feature_fraction': 0.8773668893473682, 'bagging_fraction': 0.8976691130546784, 'bagging_freq': 6, 'min_child_samples': 50}. Best is trial 62 with value: 11.000232226962762.\n"
     ]
    },
    {
     "name": "stdout",
     "output_type": "stream",
     "text": [
      "Early stopping, best iteration is:\n",
      "[67]\tvalid_0's rmse: 6.15864\n",
      "Training until validation scores don't improve for 50 rounds\n",
      "Early stopping, best iteration is:\n",
      "[78]\tvalid_0's rmse: 7.23507\n",
      "Training until validation scores don't improve for 50 rounds\n",
      "Early stopping, best iteration is:\n",
      "[76]\tvalid_0's rmse: 19.8605\n",
      "Training until validation scores don't improve for 50 rounds\n",
      "Early stopping, best iteration is:\n",
      "[1]\tvalid_0's rmse: 11.334\n",
      "Training until validation scores don't improve for 50 rounds\n",
      "Early stopping, best iteration is:\n",
      "[7]\tvalid_0's rmse: 12.4202\n",
      "Training until validation scores don't improve for 50 rounds\n"
     ]
    },
    {
     "name": "stderr",
     "output_type": "stream",
     "text": [
      "[I 2025-06-21 15:57:46,101] Trial 108 finished with value: 11.37245708205613 and parameters: {'num_leaves': 72, 'learning_rate': 0.1035246178607728, 'feature_fraction': 0.6502606759790823, 'bagging_fraction': 0.9576518953231566, 'bagging_freq': 6, 'min_child_samples': 36}. Best is trial 62 with value: 11.000232226962762.\n"
     ]
    },
    {
     "name": "stdout",
     "output_type": "stream",
     "text": [
      "Early stopping, best iteration is:\n",
      "[106]\tvalid_0's rmse: 6.0125\n",
      "Training until validation scores don't improve for 50 rounds\n",
      "Early stopping, best iteration is:\n",
      "[54]\tvalid_0's rmse: 7.3673\n",
      "Training until validation scores don't improve for 50 rounds\n",
      "Early stopping, best iteration is:\n",
      "[148]\tvalid_0's rmse: 19.6046\n",
      "Training until validation scores don't improve for 50 rounds\n",
      "Early stopping, best iteration is:\n",
      "[1]\tvalid_0's rmse: 11.2266\n",
      "Training until validation scores don't improve for 50 rounds\n",
      "Early stopping, best iteration is:\n",
      "[8]\tvalid_0's rmse: 12.2604\n",
      "Training until validation scores don't improve for 50 rounds\n"
     ]
    },
    {
     "name": "stderr",
     "output_type": "stream",
     "text": [
      "[I 2025-06-21 15:57:56,220] Trial 109 finished with value: 11.247663905413074 and parameters: {'num_leaves': 59, 'learning_rate': 0.09573163256179716, 'feature_fraction': 0.6634361060387987, 'bagging_fraction': 0.8667636264343055, 'bagging_freq': 7, 'min_child_samples': 32}. Best is trial 62 with value: 11.000232226962762.\n"
     ]
    },
    {
     "name": "stdout",
     "output_type": "stream",
     "text": [
      "Early stopping, best iteration is:\n",
      "[198]\tvalid_0's rmse: 5.77945\n",
      "Training until validation scores don't improve for 50 rounds\n",
      "Early stopping, best iteration is:\n",
      "[123]\tvalid_0's rmse: 7.41934\n",
      "Training until validation scores don't improve for 50 rounds\n",
      "Early stopping, best iteration is:\n",
      "[74]\tvalid_0's rmse: 19.0961\n",
      "Training until validation scores don't improve for 50 rounds\n",
      "Early stopping, best iteration is:\n",
      "[1]\tvalid_0's rmse: 11.3756\n",
      "Training until validation scores don't improve for 50 rounds\n",
      "Early stopping, best iteration is:\n",
      "[8]\tvalid_0's rmse: 11.7447\n",
      "Training until validation scores don't improve for 50 rounds\n"
     ]
    },
    {
     "name": "stderr",
     "output_type": "stream",
     "text": [
      "[I 2025-06-21 15:58:08,058] Trial 110 finished with value: 11.115370456075818 and parameters: {'num_leaves': 71, 'learning_rate': 0.12230642602749449, 'feature_fraction': 0.6257271888788251, 'bagging_fraction': 0.9126634533922511, 'bagging_freq': 5, 'min_child_samples': 56}. Best is trial 62 with value: 11.000232226962762.\n"
     ]
    },
    {
     "name": "stdout",
     "output_type": "stream",
     "text": [
      "Early stopping, best iteration is:\n",
      "[236]\tvalid_0's rmse: 5.94111\n",
      "Training until validation scores don't improve for 50 rounds\n",
      "Early stopping, best iteration is:\n",
      "[110]\tvalid_0's rmse: 7.31736\n",
      "Training until validation scores don't improve for 50 rounds\n",
      "Early stopping, best iteration is:\n",
      "[88]\tvalid_0's rmse: 19.3497\n",
      "Training until validation scores don't improve for 50 rounds\n",
      "Early stopping, best iteration is:\n",
      "[1]\tvalid_0's rmse: 11.3646\n",
      "Training until validation scores don't improve for 50 rounds\n",
      "Early stopping, best iteration is:\n",
      "[8]\tvalid_0's rmse: 11.537\n",
      "Training until validation scores don't improve for 50 rounds\n"
     ]
    },
    {
     "name": "stderr",
     "output_type": "stream",
     "text": [
      "[I 2025-06-21 15:58:17,448] Trial 111 finished with value: 11.115442753652143 and parameters: {'num_leaves': 69, 'learning_rate': 0.11326950281559346, 'feature_fraction': 0.6169605659885381, 'bagging_fraction': 0.9076871345813174, 'bagging_freq': 7, 'min_child_samples': 41}. Best is trial 62 with value: 11.000232226962762.\n"
     ]
    },
    {
     "name": "stdout",
     "output_type": "stream",
     "text": [
      "Early stopping, best iteration is:\n",
      "[105]\tvalid_0's rmse: 6.0085\n",
      "Training until validation scores don't improve for 50 rounds\n",
      "Early stopping, best iteration is:\n",
      "[59]\tvalid_0's rmse: 7.34796\n",
      "Training until validation scores don't improve for 50 rounds\n",
      "Early stopping, best iteration is:\n",
      "[88]\tvalid_0's rmse: 19.3309\n",
      "Training until validation scores don't improve for 50 rounds\n",
      "Early stopping, best iteration is:\n",
      "[1]\tvalid_0's rmse: 11.4519\n",
      "Training until validation scores don't improve for 50 rounds\n",
      "Early stopping, best iteration is:\n",
      "[8]\tvalid_0's rmse: 11.6824\n",
      "Training until validation scores don't improve for 50 rounds\n"
     ]
    },
    {
     "name": "stderr",
     "output_type": "stream",
     "text": [
      "[I 2025-06-21 15:58:26,963] Trial 112 finished with value: 11.148542788746406 and parameters: {'num_leaves': 65, 'learning_rate': 0.1150193077411985, 'feature_fraction': 0.6137411743054271, 'bagging_fraction': 0.9194154454319005, 'bagging_freq': 7, 'min_child_samples': 44}. Best is trial 62 with value: 11.000232226962762.\n"
     ]
    },
    {
     "name": "stdout",
     "output_type": "stream",
     "text": [
      "Early stopping, best iteration is:\n",
      "[156]\tvalid_0's rmse: 5.92956\n",
      "Training until validation scores don't improve for 50 rounds\n",
      "Early stopping, best iteration is:\n",
      "[106]\tvalid_0's rmse: 7.10706\n",
      "Training until validation scores don't improve for 50 rounds\n",
      "Early stopping, best iteration is:\n",
      "[133]\tvalid_0's rmse: 19.4452\n",
      "Training until validation scores don't improve for 50 rounds\n",
      "Early stopping, best iteration is:\n",
      "[1]\tvalid_0's rmse: 11.2879\n",
      "Training until validation scores don't improve for 50 rounds\n",
      "Early stopping, best iteration is:\n",
      "[8]\tvalid_0's rmse: 11.862\n",
      "Training until validation scores don't improve for 50 rounds\n"
     ]
    },
    {
     "name": "stderr",
     "output_type": "stream",
     "text": [
      "[I 2025-06-21 15:58:42,841] Trial 113 finished with value: 11.06776985934879 and parameters: {'num_leaves': 68, 'learning_rate': 0.07951781175012537, 'feature_fraction': 0.605268385211957, 'bagging_fraction': 0.8910547211458011, 'bagging_freq': 6, 'min_child_samples': 40}. Best is trial 62 with value: 11.000232226962762.\n"
     ]
    },
    {
     "name": "stdout",
     "output_type": "stream",
     "text": [
      "Early stopping, best iteration is:\n",
      "[379]\tvalid_0's rmse: 5.63662\n",
      "Training until validation scores don't improve for 50 rounds\n",
      "Early stopping, best iteration is:\n",
      "[115]\tvalid_0's rmse: 7.18179\n",
      "Training until validation scores don't improve for 50 rounds\n",
      "Early stopping, best iteration is:\n",
      "[84]\tvalid_0's rmse: 19.2433\n",
      "Training until validation scores don't improve for 50 rounds\n",
      "Early stopping, best iteration is:\n",
      "[1]\tvalid_0's rmse: 11.3436\n",
      "Training until validation scores don't improve for 50 rounds\n",
      "Early stopping, best iteration is:\n",
      "[9]\tvalid_0's rmse: 11.6967\n",
      "Training until validation scores don't improve for 50 rounds\n"
     ]
    },
    {
     "name": "stderr",
     "output_type": "stream",
     "text": [
      "[I 2025-06-21 15:58:53,667] Trial 114 finished with value: 11.069274032014102 and parameters: {'num_leaves': 67, 'learning_rate': 0.08974980866279923, 'feature_fraction': 0.6045995922077482, 'bagging_fraction': 0.8901278480658094, 'bagging_freq': 6, 'min_child_samples': 24}. Best is trial 62 with value: 11.000232226962762.\n"
     ]
    },
    {
     "name": "stdout",
     "output_type": "stream",
     "text": [
      "Early stopping, best iteration is:\n",
      "[119]\tvalid_0's rmse: 5.88097\n",
      "Training until validation scores don't improve for 50 rounds\n",
      "Early stopping, best iteration is:\n",
      "[132]\tvalid_0's rmse: 7.11949\n",
      "Training until validation scores don't improve for 50 rounds\n",
      "Early stopping, best iteration is:\n",
      "[240]\tvalid_0's rmse: 19.1737\n",
      "Training until validation scores don't improve for 50 rounds\n",
      "Early stopping, best iteration is:\n",
      "[1]\tvalid_0's rmse: 11.2257\n",
      "Training until validation scores don't improve for 50 rounds\n",
      "Early stopping, best iteration is:\n",
      "[12]\tvalid_0's rmse: 12.2758\n",
      "Training until validation scores don't improve for 50 rounds\n"
     ]
    },
    {
     "name": "stderr",
     "output_type": "stream",
     "text": [
      "[I 2025-06-21 15:59:09,740] Trial 115 finished with value: 11.075778658347073 and parameters: {'num_leaves': 64, 'learning_rate': 0.059673697637242624, 'feature_fraction': 0.604480353707533, 'bagging_fraction': 0.88932731086468, 'bagging_freq': 6, 'min_child_samples': 19}. Best is trial 62 with value: 11.000232226962762.\n"
     ]
    },
    {
     "name": "stdout",
     "output_type": "stream",
     "text": [
      "Early stopping, best iteration is:\n",
      "[279]\tvalid_0's rmse: 5.58424\n",
      "Training until validation scores don't improve for 50 rounds\n",
      "Early stopping, best iteration is:\n",
      "[134]\tvalid_0's rmse: 7.09342\n",
      "Training until validation scores don't improve for 50 rounds\n",
      "Early stopping, best iteration is:\n",
      "[170]\tvalid_0's rmse: 19.4011\n",
      "Training until validation scores don't improve for 50 rounds\n",
      "Early stopping, best iteration is:\n",
      "[1]\tvalid_0's rmse: 11.2786\n",
      "Training until validation scores don't improve for 50 rounds\n",
      "Early stopping, best iteration is:\n",
      "[9]\tvalid_0's rmse: 12.1154\n",
      "Training until validation scores don't improve for 50 rounds\n"
     ]
    },
    {
     "name": "stderr",
     "output_type": "stream",
     "text": [
      "[I 2025-06-21 15:59:24,205] Trial 116 finished with value: 11.124930092281513 and parameters: {'num_leaves': 64, 'learning_rate': 0.06148058847342279, 'feature_fraction': 0.6021078606230617, 'bagging_fraction': 0.893048804510461, 'bagging_freq': 6, 'min_child_samples': 15}. Best is trial 62 with value: 11.000232226962762.\n"
     ]
    },
    {
     "name": "stdout",
     "output_type": "stream",
     "text": [
      "Early stopping, best iteration is:\n",
      "[265]\tvalid_0's rmse: 5.73607\n",
      "Training until validation scores don't improve for 50 rounds\n",
      "Early stopping, best iteration is:\n",
      "[157]\tvalid_0's rmse: 7.09142\n",
      "Training until validation scores don't improve for 50 rounds\n",
      "Early stopping, best iteration is:\n",
      "[83]\tvalid_0's rmse: 19.3252\n",
      "Training until validation scores don't improve for 50 rounds\n",
      "Early stopping, best iteration is:\n",
      "[1]\tvalid_0's rmse: 11.3495\n",
      "Training until validation scores don't improve for 50 rounds\n",
      "Early stopping, best iteration is:\n",
      "[8]\tvalid_0's rmse: 12.0099\n",
      "Training until validation scores don't improve for 50 rounds\n"
     ]
    },
    {
     "name": "stderr",
     "output_type": "stream",
     "text": [
      "[I 2025-06-21 15:59:41,076] Trial 117 finished with value: 11.121653083629797 and parameters: {'num_leaves': 68, 'learning_rate': 0.07602645551836086, 'feature_fraction': 0.6002440437565447, 'bagging_fraction': 0.8489258704013726, 'bagging_freq': 6, 'min_child_samples': 18}. Best is trial 62 with value: 11.000232226962762.\n"
     ]
    },
    {
     "name": "stdout",
     "output_type": "stream",
     "text": [
      "Early stopping, best iteration is:\n",
      "[264]\tvalid_0's rmse: 5.83226\n",
      "Training until validation scores don't improve for 50 rounds\n",
      "Early stopping, best iteration is:\n",
      "[130]\tvalid_0's rmse: 7.10725\n",
      "Training until validation scores don't improve for 50 rounds\n",
      "Early stopping, best iteration is:\n",
      "[185]\tvalid_0's rmse: 19.223\n",
      "Training until validation scores don't improve for 50 rounds\n",
      "Early stopping, best iteration is:\n",
      "[1]\tvalid_0's rmse: 11.2257\n",
      "Training until validation scores don't improve for 50 rounds\n",
      "Early stopping, best iteration is:\n",
      "[9]\tvalid_0's rmse: 12.4086\n",
      "Training until validation scores don't improve for 50 rounds\n"
     ]
    },
    {
     "name": "stderr",
     "output_type": "stream",
     "text": [
      "[I 2025-06-21 15:59:56,529] Trial 118 finished with value: 11.132929040216968 and parameters: {'num_leaves': 62, 'learning_rate': 0.04874020451748153, 'feature_fraction': 0.6097516047373278, 'bagging_fraction': 0.8863119321848149, 'bagging_freq': 5, 'min_child_samples': 27}. Best is trial 62 with value: 11.000232226962762.\n"
     ]
    },
    {
     "name": "stdout",
     "output_type": "stream",
     "text": [
      "Early stopping, best iteration is:\n",
      "[248]\tvalid_0's rmse: 5.7002\n",
      "Training until validation scores don't improve for 50 rounds\n",
      "Early stopping, best iteration is:\n",
      "[210]\tvalid_0's rmse: 7.12843\n",
      "Training until validation scores don't improve for 50 rounds\n",
      "Early stopping, best iteration is:\n",
      "[240]\tvalid_0's rmse: 19.008\n",
      "Training until validation scores don't improve for 50 rounds\n",
      "Early stopping, best iteration is:\n",
      "[1]\tvalid_0's rmse: 11.2026\n",
      "Training until validation scores don't improve for 50 rounds\n",
      "Early stopping, best iteration is:\n",
      "[8]\tvalid_0's rmse: 12.8073\n",
      "Training until validation scores don't improve for 50 rounds\n"
     ]
    },
    {
     "name": "stderr",
     "output_type": "stream",
     "text": [
      "[I 2025-06-21 16:00:15,851] Trial 119 finished with value: 11.180109465771391 and parameters: {'num_leaves': 70, 'learning_rate': 0.040710879204149335, 'feature_fraction': 0.6414425825250815, 'bagging_fraction': 0.8688858409703583, 'bagging_freq': 6, 'min_child_samples': 25}. Best is trial 62 with value: 11.000232226962762.\n"
     ]
    },
    {
     "name": "stdout",
     "output_type": "stream",
     "text": [
      "Early stopping, best iteration is:\n",
      "[296]\tvalid_0's rmse: 5.75426\n",
      "Training until validation scores don't improve for 50 rounds\n",
      "Early stopping, best iteration is:\n",
      "[72]\tvalid_0's rmse: 7.04398\n",
      "Training until validation scores don't improve for 50 rounds\n",
      "Early stopping, best iteration is:\n",
      "[96]\tvalid_0's rmse: 19.0777\n",
      "Training until validation scores don't improve for 50 rounds\n",
      "Early stopping, best iteration is:\n",
      "[1]\tvalid_0's rmse: 11.2801\n",
      "Training until validation scores don't improve for 50 rounds\n",
      "Early stopping, best iteration is:\n",
      "[9]\tvalid_0's rmse: 12.2009\n",
      "Training until validation scores don't improve for 50 rounds\n"
     ]
    },
    {
     "name": "stderr",
     "output_type": "stream",
     "text": [
      "[I 2025-06-21 16:00:27,492] Trial 120 finished with value: 11.066632195540183 and parameters: {'num_leaves': 60, 'learning_rate': 0.08096198433164523, 'feature_fraction': 0.6234782243412834, 'bagging_fraction': 0.8613163094943566, 'bagging_freq': 5, 'min_child_samples': 23}. Best is trial 62 with value: 11.000232226962762.\n"
     ]
    },
    {
     "name": "stdout",
     "output_type": "stream",
     "text": [
      "Early stopping, best iteration is:\n",
      "[237]\tvalid_0's rmse: 5.73054\n",
      "Training until validation scores don't improve for 50 rounds\n",
      "Early stopping, best iteration is:\n",
      "[128]\tvalid_0's rmse: 7.04734\n",
      "Training until validation scores don't improve for 50 rounds\n",
      "Early stopping, best iteration is:\n",
      "[150]\tvalid_0's rmse: 19.4339\n",
      "Training until validation scores don't improve for 50 rounds\n",
      "Early stopping, best iteration is:\n",
      "[1]\tvalid_0's rmse: 11.3495\n",
      "Training until validation scores don't improve for 50 rounds\n",
      "Early stopping, best iteration is:\n",
      "[9]\tvalid_0's rmse: 12.1891\n",
      "Training until validation scores don't improve for 50 rounds\n"
     ]
    },
    {
     "name": "stderr",
     "output_type": "stream",
     "text": [
      "[I 2025-06-21 16:00:40,360] Trial 121 finished with value: 11.154600455393666 and parameters: {'num_leaves': 60, 'learning_rate': 0.07938835479132789, 'feature_fraction': 0.6236965484871182, 'bagging_fraction': 0.8826713814185873, 'bagging_freq': 5, 'min_child_samples': 22}. Best is trial 62 with value: 11.000232226962762.\n"
     ]
    },
    {
     "name": "stdout",
     "output_type": "stream",
     "text": [
      "Early stopping, best iteration is:\n",
      "[241]\tvalid_0's rmse: 5.75324\n",
      "Training until validation scores don't improve for 50 rounds\n",
      "Early stopping, best iteration is:\n",
      "[117]\tvalid_0's rmse: 7.13564\n",
      "Training until validation scores don't improve for 50 rounds\n",
      "Early stopping, best iteration is:\n",
      "[237]\tvalid_0's rmse: 19.4456\n",
      "Training until validation scores don't improve for 50 rounds\n",
      "Early stopping, best iteration is:\n",
      "[1]\tvalid_0's rmse: 11.2197\n",
      "Training until validation scores don't improve for 50 rounds\n",
      "Early stopping, best iteration is:\n",
      "[9]\tvalid_0's rmse: 12.4411\n",
      "Training until validation scores don't improve for 50 rounds\n"
     ]
    },
    {
     "name": "stderr",
     "output_type": "stream",
     "text": [
      "[I 2025-06-21 16:00:54,741] Trial 122 finished with value: 11.172270284060016 and parameters: {'num_leaves': 53, 'learning_rate': 0.05610527363117909, 'feature_fraction': 0.6078138853438433, 'bagging_fraction': 0.8618123689157114, 'bagging_freq': 6, 'min_child_samples': 30}. Best is trial 62 with value: 11.000232226962762.\n"
     ]
    },
    {
     "name": "stdout",
     "output_type": "stream",
     "text": [
      "Early stopping, best iteration is:\n",
      "[328]\tvalid_0's rmse: 5.61927\n",
      "Training until validation scores don't improve for 50 rounds\n",
      "Early stopping, best iteration is:\n",
      "[260]\tvalid_0's rmse: 7.082\n",
      "Training until validation scores don't improve for 50 rounds\n",
      "Early stopping, best iteration is:\n",
      "[182]\tvalid_0's rmse: 19.6405\n",
      "Training until validation scores don't improve for 50 rounds\n",
      "Early stopping, best iteration is:\n",
      "[1]\tvalid_0's rmse: 11.321\n",
      "Training until validation scores don't improve for 50 rounds\n",
      "Early stopping, best iteration is:\n",
      "[9]\tvalid_0's rmse: 12.348\n",
      "Training until validation scores don't improve for 50 rounds\n"
     ]
    },
    {
     "name": "stderr",
     "output_type": "stream",
     "text": [
      "[I 2025-06-21 16:01:08,567] Trial 123 finished with value: 11.242599456919308 and parameters: {'num_leaves': 56, 'learning_rate': 0.07162104636177236, 'feature_fraction': 0.6238544871378222, 'bagging_fraction': 0.8933332312993157, 'bagging_freq': 5, 'min_child_samples': 23}. Best is trial 62 with value: 11.000232226962762.\n"
     ]
    },
    {
     "name": "stdout",
     "output_type": "stream",
     "text": [
      "Early stopping, best iteration is:\n",
      "[147]\tvalid_0's rmse: 5.82155\n",
      "Training until validation scores don't improve for 50 rounds\n",
      "Early stopping, best iteration is:\n",
      "[238]\tvalid_0's rmse: 7.01692\n",
      "Training until validation scores don't improve for 50 rounds\n",
      "Early stopping, best iteration is:\n",
      "[86]\tvalid_0's rmse: 19.4073\n",
      "Training until validation scores don't improve for 50 rounds\n",
      "Early stopping, best iteration is:\n",
      "[1]\tvalid_0's rmse: 11.38\n",
      "Training until validation scores don't improve for 50 rounds\n",
      "Early stopping, best iteration is:\n",
      "[9]\tvalid_0's rmse: 11.8145\n",
      "Training until validation scores don't improve for 50 rounds\n"
     ]
    },
    {
     "name": "stderr",
     "output_type": "stream",
     "text": [
      "[I 2025-06-21 16:01:19,918] Trial 124 finished with value: 11.09118593230329 and parameters: {'num_leaves': 58, 'learning_rate': 0.08876677170735303, 'feature_fraction': 0.612398785935839, 'bagging_fraction': 0.8974725172150052, 'bagging_freq': 6, 'min_child_samples': 20}. Best is trial 62 with value: 11.000232226962762.\n"
     ]
    },
    {
     "name": "stdout",
     "output_type": "stream",
     "text": [
      "Early stopping, best iteration is:\n",
      "[154]\tvalid_0's rmse: 5.83722\n",
      "Training until validation scores don't improve for 50 rounds\n",
      "Early stopping, best iteration is:\n",
      "[61]\tvalid_0's rmse: 7.19253\n",
      "Training until validation scores don't improve for 50 rounds\n",
      "Early stopping, best iteration is:\n",
      "[102]\tvalid_0's rmse: 19.6224\n",
      "Training until validation scores don't improve for 50 rounds\n",
      "Early stopping, best iteration is:\n",
      "[1]\tvalid_0's rmse: 11.2537\n",
      "Training until validation scores don't improve for 50 rounds\n",
      "Early stopping, best iteration is:\n",
      "[8]\tvalid_0's rmse: 12.3147\n",
      "Training until validation scores don't improve for 50 rounds\n"
     ]
    },
    {
     "name": "stderr",
     "output_type": "stream",
     "text": [
      "[I 2025-06-21 16:01:45,720] Trial 125 finished with value: 11.239470543033846 and parameters: {'num_leaves': 58, 'learning_rate': 0.08300105193920175, 'feature_fraction': 0.736951634917107, 'bagging_fraction': 0.8730096195357142, 'bagging_freq': 4, 'min_child_samples': 20}. Best is trial 62 with value: 11.000232226962762.\n"
     ]
    },
    {
     "name": "stdout",
     "output_type": "stream",
     "text": [
      "Early stopping, best iteration is:\n",
      "[198]\tvalid_0's rmse: 5.81406\n",
      "Training until validation scores don't improve for 50 rounds\n",
      "Early stopping, best iteration is:\n",
      "[77]\tvalid_0's rmse: 7.10921\n",
      "Training until validation scores don't improve for 50 rounds\n",
      "Early stopping, best iteration is:\n",
      "[67]\tvalid_0's rmse: 19.6434\n",
      "Training until validation scores don't improve for 50 rounds\n",
      "Early stopping, best iteration is:\n",
      "[1]\tvalid_0's rmse: 11.3855\n",
      "Training until validation scores don't improve for 50 rounds\n",
      "Early stopping, best iteration is:\n",
      "[9]\tvalid_0's rmse: 12.087\n",
      "Training until validation scores don't improve for 50 rounds\n"
     ]
    },
    {
     "name": "stderr",
     "output_type": "stream",
     "text": [
      "[I 2025-06-21 16:01:59,644] Trial 126 finished with value: 11.20951902098057 and parameters: {'num_leaves': 51, 'learning_rate': 0.08757195474998836, 'feature_fraction': 0.6336880687737967, 'bagging_fraction': 0.925807418651452, 'bagging_freq': 6, 'min_child_samples': 13}. Best is trial 62 with value: 11.000232226962762.\n"
     ]
    },
    {
     "name": "stdout",
     "output_type": "stream",
     "text": [
      "Early stopping, best iteration is:\n",
      "[117]\tvalid_0's rmse: 5.82244\n",
      "Training until validation scores don't improve for 50 rounds\n",
      "Early stopping, best iteration is:\n",
      "[18]\tvalid_0's rmse: 7.70019\n",
      "Training until validation scores don't improve for 50 rounds\n",
      "Early stopping, best iteration is:\n",
      "[16]\tvalid_0's rmse: 19.9576\n",
      "Training until validation scores don't improve for 50 rounds\n",
      "Early stopping, best iteration is:\n",
      "[1]\tvalid_0's rmse: 12.3107\n",
      "Training until validation scores don't improve for 50 rounds\n",
      "Early stopping, best iteration is:\n",
      "[74]\tvalid_0's rmse: 10.8041\n",
      "Training until validation scores don't improve for 50 rounds\n"
     ]
    },
    {
     "name": "stderr",
     "output_type": "stream",
     "text": [
      "[I 2025-06-21 16:02:12,101] Trial 127 finished with value: 11.519309240329747 and parameters: {'num_leaves': 63, 'learning_rate': 0.29884948259755717, 'feature_fraction': 0.6004997083131444, 'bagging_fraction': 0.8990859379305606, 'bagging_freq': 5, 'min_child_samples': 24}. Best is trial 62 with value: 11.000232226962762.\n"
     ]
    },
    {
     "name": "stdout",
     "output_type": "stream",
     "text": [
      "Early stopping, best iteration is:\n",
      "[29]\tvalid_0's rmse: 6.82391\n",
      "Training until validation scores don't improve for 50 rounds\n",
      "Early stopping, best iteration is:\n",
      "[89]\tvalid_0's rmse: 7.25172\n",
      "Training until validation scores don't improve for 50 rounds\n",
      "Early stopping, best iteration is:\n",
      "[96]\tvalid_0's rmse: 19.4265\n",
      "Training until validation scores don't improve for 50 rounds\n",
      "Early stopping, best iteration is:\n",
      "[1]\tvalid_0's rmse: 11.2983\n",
      "Training until validation scores don't improve for 50 rounds\n",
      "Early stopping, best iteration is:\n",
      "[9]\tvalid_0's rmse: 12.2582\n",
      "Training until validation scores don't improve for 50 rounds\n"
     ]
    },
    {
     "name": "stderr",
     "output_type": "stream",
     "text": [
      "[I 2025-06-21 16:02:30,188] Trial 128 finished with value: 11.194086825647329 and parameters: {'num_leaves': 60, 'learning_rate': 0.07050630658590652, 'feature_fraction': 0.6180175971800493, 'bagging_fraction': 0.9150246385978292, 'bagging_freq': 7, 'min_child_samples': 16}. Best is trial 62 with value: 11.000232226962762.\n"
     ]
    },
    {
     "name": "stdout",
     "output_type": "stream",
     "text": [
      "Early stopping, best iteration is:\n",
      "[217]\tvalid_0's rmse: 5.73581\n",
      "Training until validation scores don't improve for 50 rounds\n",
      "Early stopping, best iteration is:\n",
      "[213]\tvalid_0's rmse: 7.02537\n",
      "Training until validation scores don't improve for 50 rounds\n",
      "Early stopping, best iteration is:\n",
      "[129]\tvalid_0's rmse: 19.7095\n",
      "Training until validation scores don't improve for 50 rounds\n",
      "Early stopping, best iteration is:\n",
      "[1]\tvalid_0's rmse: 11.2558\n",
      "Training until validation scores don't improve for 50 rounds\n",
      "Early stopping, best iteration is:\n",
      "[9]\tvalid_0's rmse: 12.4286\n",
      "Training until validation scores don't improve for 50 rounds\n"
     ]
    },
    {
     "name": "stderr",
     "output_type": "stream",
     "text": [
      "[I 2025-06-21 16:02:52,984] Trial 129 finished with value: 11.25120658384935 and parameters: {'num_leaves': 54, 'learning_rate': 0.06464973365573443, 'feature_fraction': 0.6252727840382497, 'bagging_fraction': 0.814584317179609, 'bagging_freq': 6, 'min_child_samples': 19}. Best is trial 62 with value: 11.000232226962762.\n"
     ]
    },
    {
     "name": "stdout",
     "output_type": "stream",
     "text": [
      "Early stopping, best iteration is:\n",
      "[218]\tvalid_0's rmse: 5.83676\n",
      "Training until validation scores don't improve for 50 rounds\n",
      "Early stopping, best iteration is:\n",
      "[100]\tvalid_0's rmse: 7.16149\n",
      "Training until validation scores don't improve for 50 rounds\n",
      "Early stopping, best iteration is:\n",
      "[110]\tvalid_0's rmse: 19.4763\n",
      "Training until validation scores don't improve for 50 rounds\n",
      "Early stopping, best iteration is:\n",
      "[1]\tvalid_0's rmse: 11.2485\n",
      "Training until validation scores don't improve for 50 rounds\n",
      "Early stopping, best iteration is:\n",
      "[8]\tvalid_0's rmse: 12.4646\n",
      "Training until validation scores don't improve for 50 rounds\n"
     ]
    },
    {
     "name": "stderr",
     "output_type": "stream",
     "text": [
      "[I 2025-06-21 16:03:17,661] Trial 130 finished with value: 11.25171911957697 and parameters: {'num_leaves': 62, 'learning_rate': 0.08050480294046472, 'feature_fraction': 0.7223629157173983, 'bagging_fraction': 0.8389952651783852, 'bagging_freq': 5, 'min_child_samples': 21}. Best is trial 62 with value: 11.000232226962762.\n"
     ]
    },
    {
     "name": "stdout",
     "output_type": "stream",
     "text": [
      "Early stopping, best iteration is:\n",
      "[257]\tvalid_0's rmse: 5.90771\n",
      "Training until validation scores don't improve for 50 rounds\n",
      "Early stopping, best iteration is:\n",
      "[116]\tvalid_0's rmse: 7.222\n",
      "Training until validation scores don't improve for 50 rounds\n",
      "Early stopping, best iteration is:\n",
      "[71]\tvalid_0's rmse: 19.0326\n",
      "Training until validation scores don't improve for 50 rounds\n",
      "Early stopping, best iteration is:\n",
      "[1]\tvalid_0's rmse: 11.3467\n",
      "Training until validation scores don't improve for 50 rounds\n",
      "Early stopping, best iteration is:\n",
      "[9]\tvalid_0's rmse: 11.6865\n",
      "Training until validation scores don't improve for 50 rounds\n"
     ]
    },
    {
     "name": "stderr",
     "output_type": "stream",
     "text": [
      "[I 2025-06-21 16:03:46,079] Trial 131 finished with value: 11.026923086253353 and parameters: {'num_leaves': 67, 'learning_rate': 0.09068188959225175, 'feature_fraction': 0.6083435538572807, 'bagging_fraction': 0.8900526183176751, 'bagging_freq': 6, 'min_child_samples': 26}. Best is trial 62 with value: 11.000232226962762.\n"
     ]
    },
    {
     "name": "stdout",
     "output_type": "stream",
     "text": [
      "Early stopping, best iteration is:\n",
      "[254]\tvalid_0's rmse: 5.84682\n",
      "Training until validation scores don't improve for 50 rounds\n",
      "Early stopping, best iteration is:\n",
      "[92]\tvalid_0's rmse: 7.21325\n",
      "Training until validation scores don't improve for 50 rounds\n",
      "Early stopping, best iteration is:\n",
      "[121]\tvalid_0's rmse: 19.7419\n",
      "Training until validation scores don't improve for 50 rounds\n",
      "Early stopping, best iteration is:\n",
      "[1]\tvalid_0's rmse: 11.3577\n",
      "Training until validation scores don't improve for 50 rounds\n",
      "Early stopping, best iteration is:\n",
      "[9]\tvalid_0's rmse: 11.6987\n",
      "Training until validation scores don't improve for 50 rounds\n"
     ]
    },
    {
     "name": "stderr",
     "output_type": "stream",
     "text": [
      "[I 2025-06-21 16:04:08,629] Trial 132 finished with value: 11.155540971176984 and parameters: {'num_leaves': 67, 'learning_rate': 0.09154537471613175, 'feature_fraction': 0.6093305809432803, 'bagging_fraction': 0.8831937372519666, 'bagging_freq': 9, 'min_child_samples': 26}. Best is trial 62 with value: 11.000232226962762.\n"
     ]
    },
    {
     "name": "stdout",
     "output_type": "stream",
     "text": [
      "Early stopping, best iteration is:\n",
      "[145]\tvalid_0's rmse: 5.76612\n",
      "Training until validation scores don't improve for 50 rounds\n",
      "Early stopping, best iteration is:\n",
      "[125]\tvalid_0's rmse: 7.05244\n",
      "Training until validation scores don't improve for 50 rounds\n",
      "Early stopping, best iteration is:\n",
      "[156]\tvalid_0's rmse: 19.4075\n",
      "Training until validation scores don't improve for 50 rounds\n",
      "Early stopping, best iteration is:\n",
      "[1]\tvalid_0's rmse: 11.2411\n",
      "Training until validation scores don't improve for 50 rounds\n",
      "Early stopping, best iteration is:\n",
      "[9]\tvalid_0's rmse: 12.1681\n",
      "Training until validation scores don't improve for 50 rounds\n",
      "Early stopping, best iteration is:\n",
      "[296]\tvalid_0's rmse: 5.73038\n"
     ]
    },
    {
     "name": "stderr",
     "output_type": "stream",
     "text": [
      "[I 2025-06-21 16:04:38,919] Trial 133 finished with value: 11.119900090128152 and parameters: {'num_leaves': 65, 'learning_rate': 0.05810483775025341, 'feature_fraction': 0.6160371410324846, 'bagging_fraction': 0.9018252368327178, 'bagging_freq': 6, 'min_child_samples': 12}. Best is trial 62 with value: 11.000232226962762.\n"
     ]
    },
    {
     "name": "stdout",
     "output_type": "stream",
     "text": [
      "Training until validation scores don't improve for 50 rounds\n",
      "Early stopping, best iteration is:\n",
      "[81]\tvalid_0's rmse: 7.13344\n",
      "Training until validation scores don't improve for 50 rounds\n",
      "Early stopping, best iteration is:\n",
      "[89]\tvalid_0's rmse: 19.0967\n",
      "Training until validation scores don't improve for 50 rounds\n",
      "Early stopping, best iteration is:\n",
      "[1]\tvalid_0's rmse: 11.2689\n",
      "Training until validation scores don't improve for 50 rounds\n",
      "Early stopping, best iteration is:\n",
      "[8]\tvalid_0's rmse: 12.4738\n",
      "Training until validation scores don't improve for 50 rounds\n"
     ]
    },
    {
     "name": "stderr",
     "output_type": "stream",
     "text": [
      "[I 2025-06-21 16:05:01,007] Trial 134 finished with value: 11.162139434168902 and parameters: {'num_leaves': 59, 'learning_rate': 0.07576609478129105, 'feature_fraction': 0.6413844364984748, 'bagging_fraction': 0.8615286167655405, 'bagging_freq': 6, 'min_child_samples': 28}. Best is trial 62 with value: 11.000232226962762.\n"
     ]
    },
    {
     "name": "stdout",
     "output_type": "stream",
     "text": [
      "Early stopping, best iteration is:\n",
      "[235]\tvalid_0's rmse: 5.83779\n",
      "Training until validation scores don't improve for 50 rounds\n",
      "Early stopping, best iteration is:\n",
      "[162]\tvalid_0's rmse: 7.17611\n",
      "Training until validation scores don't improve for 50 rounds\n",
      "Early stopping, best iteration is:\n",
      "[93]\tvalid_0's rmse: 19.5787\n",
      "Training until validation scores don't improve for 50 rounds\n",
      "Early stopping, best iteration is:\n",
      "[1]\tvalid_0's rmse: 11.385\n",
      "Training until validation scores don't improve for 50 rounds\n",
      "Early stopping, best iteration is:\n",
      "[9]\tvalid_0's rmse: 11.8667\n",
      "Training until validation scores don't improve for 50 rounds\n"
     ]
    },
    {
     "name": "stderr",
     "output_type": "stream",
     "text": [
      "[I 2025-06-21 16:05:19,683] Trial 135 finished with value: 11.198067156490005 and parameters: {'num_leaves': 57, 'learning_rate': 0.09621394050580714, 'feature_fraction': 0.6067707760465424, 'bagging_fraction': 0.933281115044596, 'bagging_freq': 6, 'min_child_samples': 21}. Best is trial 62 with value: 11.000232226962762.\n"
     ]
    },
    {
     "name": "stdout",
     "output_type": "stream",
     "text": [
      "Early stopping, best iteration is:\n",
      "[130]\tvalid_0's rmse: 5.98377\n",
      "Training until validation scores don't improve for 50 rounds\n",
      "Early stopping, best iteration is:\n",
      "[101]\tvalid_0's rmse: 7.10099\n",
      "Training until validation scores don't improve for 50 rounds\n",
      "Early stopping, best iteration is:\n",
      "[80]\tvalid_0's rmse: 19.542\n",
      "Training until validation scores don't improve for 50 rounds\n",
      "Early stopping, best iteration is:\n",
      "[1]\tvalid_0's rmse: 11.3318\n",
      "Training until validation scores don't improve for 50 rounds\n",
      "Early stopping, best iteration is:\n",
      "[8]\tvalid_0's rmse: 11.8297\n",
      "Training until validation scores don't improve for 50 rounds\n"
     ]
    },
    {
     "name": "stderr",
     "output_type": "stream",
     "text": [
      "[I 2025-06-21 16:05:44,350] Trial 136 finished with value: 11.112626821642966 and parameters: {'num_leaves': 64, 'learning_rate': 0.08620511178744586, 'feature_fraction': 0.6006685294472763, 'bagging_fraction': 0.8901406357998566, 'bagging_freq': 6, 'min_child_samples': 24}. Best is trial 62 with value: 11.000232226962762.\n"
     ]
    },
    {
     "name": "stdout",
     "output_type": "stream",
     "text": [
      "Early stopping, best iteration is:\n",
      "[224]\tvalid_0's rmse: 5.75859\n",
      "Training until validation scores don't improve for 50 rounds\n",
      "Early stopping, best iteration is:\n",
      "[81]\tvalid_0's rmse: 7.17181\n",
      "Training until validation scores don't improve for 50 rounds\n",
      "Early stopping, best iteration is:\n",
      "[45]\tvalid_0's rmse: 19.5406\n",
      "Training until validation scores don't improve for 50 rounds\n",
      "Early stopping, best iteration is:\n",
      "[1]\tvalid_0's rmse: 11.477\n",
      "Training until validation scores don't improve for 50 rounds\n",
      "Early stopping, best iteration is:\n",
      "[9]\tvalid_0's rmse: 11.5918\n",
      "Training until validation scores don't improve for 50 rounds\n"
     ]
    },
    {
     "name": "stderr",
     "output_type": "stream",
     "text": [
      "[I 2025-06-21 16:06:01,667] Trial 137 finished with value: 11.194658272066793 and parameters: {'num_leaves': 68, 'learning_rate': 0.1397759724471345, 'feature_fraction': 0.6310942483390554, 'bagging_fraction': 0.8721404986912966, 'bagging_freq': 5, 'min_child_samples': 18}. Best is trial 62 with value: 11.000232226962762.\n"
     ]
    },
    {
     "name": "stdout",
     "output_type": "stream",
     "text": [
      "Early stopping, best iteration is:\n",
      "[132]\tvalid_0's rmse: 6.19196\n",
      "Training until validation scores don't improve for 50 rounds\n",
      "Early stopping, best iteration is:\n",
      "[140]\tvalid_0's rmse: 7.17201\n",
      "Training until validation scores don't improve for 50 rounds\n",
      "Early stopping, best iteration is:\n",
      "[165]\tvalid_0's rmse: 19.2194\n",
      "Training until validation scores don't improve for 50 rounds\n",
      "Early stopping, best iteration is:\n",
      "[1]\tvalid_0's rmse: 11.2885\n",
      "Training until validation scores don't improve for 50 rounds\n",
      "Early stopping, best iteration is:\n",
      "[9]\tvalid_0's rmse: 12.4297\n",
      "Training until validation scores don't improve for 50 rounds\n",
      "Early stopping, best iteration is:\n",
      "[354]\tvalid_0's rmse: 5.72192\n"
     ]
    },
    {
     "name": "stderr",
     "output_type": "stream",
     "text": [
      "[I 2025-06-21 16:06:39,335] Trial 138 finished with value: 11.166311487737733 and parameters: {'num_leaves': 61, 'learning_rate': 0.06923949893618658, 'feature_fraction': 0.6205927608919216, 'bagging_fraction': 0.9065784913790147, 'bagging_freq': 7, 'min_child_samples': 34}. Best is trial 62 with value: 11.000232226962762.\n"
     ]
    },
    {
     "name": "stdout",
     "output_type": "stream",
     "text": [
      "Training until validation scores don't improve for 50 rounds\n",
      "Early stopping, best iteration is:\n",
      "[107]\tvalid_0's rmse: 7.23322\n",
      "Training until validation scores don't improve for 50 rounds\n",
      "Early stopping, best iteration is:\n",
      "[170]\tvalid_0's rmse: 19.3818\n",
      "Training until validation scores don't improve for 50 rounds\n",
      "Early stopping, best iteration is:\n",
      "[1]\tvalid_0's rmse: 11.4737\n",
      "Training until validation scores don't improve for 50 rounds\n",
      "Early stopping, best iteration is:\n",
      "[8]\tvalid_0's rmse: 11.9604\n",
      "Training until validation scores don't improve for 50 rounds\n"
     ]
    },
    {
     "name": "stderr",
     "output_type": "stream",
     "text": [
      "[I 2025-06-21 16:07:18,115] Trial 139 finished with value: 11.219789942798332 and parameters: {'num_leaves': 74, 'learning_rate': 0.09769216030857483, 'feature_fraction': 0.6126194165401379, 'bagging_fraction': 0.6884771544616949, 'bagging_freq': 4, 'min_child_samples': 30}. Best is trial 62 with value: 11.000232226962762.\n"
     ]
    },
    {
     "name": "stdout",
     "output_type": "stream",
     "text": [
      "Early stopping, best iteration is:\n",
      "[116]\tvalid_0's rmse: 6.04971\n",
      "Training until validation scores don't improve for 50 rounds\n",
      "Early stopping, best iteration is:\n",
      "[126]\tvalid_0's rmse: 7.13972\n",
      "Training until validation scores don't improve for 50 rounds\n",
      "Early stopping, best iteration is:\n",
      "[80]\tvalid_0's rmse: 19.5213\n",
      "Training until validation scores don't improve for 50 rounds\n",
      "Early stopping, best iteration is:\n",
      "[1]\tvalid_0's rmse: 11.3066\n",
      "Training until validation scores don't improve for 50 rounds\n",
      "Early stopping, best iteration is:\n",
      "[8]\tvalid_0's rmse: 12.0719\n",
      "Training until validation scores don't improve for 50 rounds\n"
     ]
    },
    {
     "name": "stderr",
     "output_type": "stream",
     "text": [
      "[I 2025-06-21 16:07:49,406] Trial 140 finished with value: 11.180120690382335 and parameters: {'num_leaves': 66, 'learning_rate': 0.09005225322157398, 'feature_fraction': 0.6363470599670351, 'bagging_fraction': 0.8851017618007577, 'bagging_freq': 6, 'min_child_samples': 14}. Best is trial 62 with value: 11.000232226962762.\n"
     ]
    },
    {
     "name": "stdout",
     "output_type": "stream",
     "text": [
      "Early stopping, best iteration is:\n",
      "[168]\tvalid_0's rmse: 5.86117\n",
      "Training until validation scores don't improve for 50 rounds\n",
      "Early stopping, best iteration is:\n",
      "[126]\tvalid_0's rmse: 7.08629\n",
      "Training until validation scores don't improve for 50 rounds\n",
      "Early stopping, best iteration is:\n",
      "[88]\tvalid_0's rmse: 19.8602\n",
      "Training until validation scores don't improve for 50 rounds\n",
      "Early stopping, best iteration is:\n",
      "[1]\tvalid_0's rmse: 11.2976\n",
      "Training until validation scores don't improve for 50 rounds\n",
      "Early stopping, best iteration is:\n",
      "[8]\tvalid_0's rmse: 11.8781\n",
      "Training until validation scores don't improve for 50 rounds\n"
     ]
    },
    {
     "name": "stderr",
     "output_type": "stream",
     "text": [
      "[I 2025-06-21 16:08:26,839] Trial 141 finished with value: 11.178869571077778 and parameters: {'num_leaves': 71, 'learning_rate': 0.07683231118980785, 'feature_fraction': 0.6081015081539846, 'bagging_fraction': 0.8914349169983655, 'bagging_freq': 6, 'min_child_samples': 27}. Best is trial 62 with value: 11.000232226962762.\n"
     ]
    },
    {
     "name": "stdout",
     "output_type": "stream",
     "text": [
      "Early stopping, best iteration is:\n",
      "[248]\tvalid_0's rmse: 5.77209\n",
      "Training until validation scores don't improve for 50 rounds\n",
      "Early stopping, best iteration is:\n",
      "[73]\tvalid_0's rmse: 7.33601\n",
      "Training until validation scores don't improve for 50 rounds\n",
      "Early stopping, best iteration is:\n",
      "[93]\tvalid_0's rmse: 19.5189\n",
      "Training until validation scores don't improve for 50 rounds\n",
      "Early stopping, best iteration is:\n",
      "[1]\tvalid_0's rmse: 11.3505\n",
      "Training until validation scores don't improve for 50 rounds\n",
      "Early stopping, best iteration is:\n",
      "[8]\tvalid_0's rmse: 11.8378\n",
      "Training until validation scores don't improve for 50 rounds\n"
     ]
    },
    {
     "name": "stderr",
     "output_type": "stream",
     "text": [
      "[I 2025-06-21 16:08:53,713] Trial 142 finished with value: 11.204925910911532 and parameters: {'num_leaves': 69, 'learning_rate': 0.10970404995564978, 'feature_fraction': 0.6237821560238997, 'bagging_fraction': 0.8986948897089564, 'bagging_freq': 6, 'min_child_samples': 32}. Best is trial 62 with value: 11.000232226962762.\n"
     ]
    },
    {
     "name": "stdout",
     "output_type": "stream",
     "text": [
      "Early stopping, best iteration is:\n",
      "[308]\tvalid_0's rmse: 5.98147\n",
      "Training until validation scores don't improve for 50 rounds\n",
      "Early stopping, best iteration is:\n",
      "[115]\tvalid_0's rmse: 7.17025\n",
      "Training until validation scores don't improve for 50 rounds\n",
      "Early stopping, best iteration is:\n",
      "[102]\tvalid_0's rmse: 19.4184\n",
      "Training until validation scores don't improve for 50 rounds\n",
      "Early stopping, best iteration is:\n",
      "[1]\tvalid_0's rmse: 11.2905\n",
      "Training until validation scores don't improve for 50 rounds\n",
      "Early stopping, best iteration is:\n",
      "[8]\tvalid_0's rmse: 11.8617\n",
      "Training until validation scores don't improve for 50 rounds\n"
     ]
    },
    {
     "name": "stderr",
     "output_type": "stream",
     "text": [
      "[I 2025-06-21 16:09:17,361] Trial 143 finished with value: 11.13227679503374 and parameters: {'num_leaves': 73, 'learning_rate': 0.09070014609615695, 'feature_fraction': 0.6085456390328072, 'bagging_fraction': 0.876658263133832, 'bagging_freq': 6, 'min_child_samples': 42}. Best is trial 62 with value: 11.000232226962762.\n"
     ]
    },
    {
     "name": "stdout",
     "output_type": "stream",
     "text": [
      "Early stopping, best iteration is:\n",
      "[128]\tvalid_0's rmse: 5.92057\n",
      "Training until validation scores don't improve for 50 rounds\n",
      "Early stopping, best iteration is:\n",
      "[113]\tvalid_0's rmse: 7.3011\n",
      "Training until validation scores don't improve for 50 rounds\n",
      "Early stopping, best iteration is:\n",
      "[98]\tvalid_0's rmse: 19.3557\n",
      "Training until validation scores don't improve for 50 rounds\n",
      "Early stopping, best iteration is:\n",
      "[1]\tvalid_0's rmse: 11.3484\n",
      "Training until validation scores don't improve for 50 rounds\n",
      "Early stopping, best iteration is:\n",
      "[8]\tvalid_0's rmse: 11.8077\n",
      "Training until validation scores don't improve for 50 rounds\n"
     ]
    },
    {
     "name": "stderr",
     "output_type": "stream",
     "text": [
      "[I 2025-06-21 16:09:48,479] Trial 144 finished with value: 11.148057263723874 and parameters: {'num_leaves': 68, 'learning_rate': 0.10012503983939057, 'feature_fraction': 0.614289693634137, 'bagging_fraction': 0.9219661454858972, 'bagging_freq': 6, 'min_child_samples': 46}. Best is trial 62 with value: 11.000232226962762.\n"
     ]
    },
    {
     "name": "stdout",
     "output_type": "stream",
     "text": [
      "Early stopping, best iteration is:\n",
      "[250]\tvalid_0's rmse: 5.92741\n",
      "Training until validation scores don't improve for 50 rounds\n",
      "Early stopping, best iteration is:\n",
      "[168]\tvalid_0's rmse: 7.13819\n",
      "Training until validation scores don't improve for 50 rounds\n",
      "Early stopping, best iteration is:\n",
      "[170]\tvalid_0's rmse: 19.0525\n",
      "Training until validation scores don't improve for 50 rounds\n",
      "Early stopping, best iteration is:\n",
      "[1]\tvalid_0's rmse: 11.2824\n",
      "Training until validation scores don't improve for 50 rounds\n",
      "Early stopping, best iteration is:\n",
      "[8]\tvalid_0's rmse: 11.8447\n",
      "Training until validation scores don't improve for 50 rounds\n"
     ]
    },
    {
     "name": "stderr",
     "output_type": "stream",
     "text": [
      "[I 2025-06-21 16:10:19,923] Trial 145 finished with value: 11.02026164136752 and parameters: {'num_leaves': 64, 'learning_rate': 0.08268649702472788, 'feature_fraction': 0.6002413974085874, 'bagging_fraction': 0.9133875505903472, 'bagging_freq': 5, 'min_child_samples': 52}. Best is trial 62 with value: 11.000232226962762.\n"
     ]
    },
    {
     "name": "stdout",
     "output_type": "stream",
     "text": [
      "Early stopping, best iteration is:\n",
      "[229]\tvalid_0's rmse: 5.78347\n",
      "Training until validation scores don't improve for 50 rounds\n",
      "Early stopping, best iteration is:\n",
      "[73]\tvalid_0's rmse: 7.29191\n",
      "Training until validation scores don't improve for 50 rounds\n",
      "Early stopping, best iteration is:\n",
      "[61]\tvalid_0's rmse: 19.5656\n",
      "Training until validation scores don't improve for 50 rounds\n",
      "Early stopping, best iteration is:\n",
      "[1]\tvalid_0's rmse: 11.3261\n",
      "Training until validation scores don't improve for 50 rounds\n",
      "Early stopping, best iteration is:\n",
      "[8]\tvalid_0's rmse: 11.8857\n",
      "Training until validation scores don't improve for 50 rounds\n"
     ]
    },
    {
     "name": "stderr",
     "output_type": "stream",
     "text": [
      "[I 2025-06-21 16:10:45,170] Trial 146 finished with value: 11.17500500621696 and parameters: {'num_leaves': 63, 'learning_rate': 0.08166614801225817, 'feature_fraction': 0.6020895804611607, 'bagging_fraction': 0.9395586817941071, 'bagging_freq': 5, 'min_child_samples': 53}. Best is trial 62 with value: 11.000232226962762.\n"
     ]
    },
    {
     "name": "stdout",
     "output_type": "stream",
     "text": [
      "Early stopping, best iteration is:\n",
      "[171]\tvalid_0's rmse: 5.80582\n",
      "Training until validation scores don't improve for 50 rounds\n",
      "Early stopping, best iteration is:\n",
      "[237]\tvalid_0's rmse: 7.15304\n",
      "Training until validation scores don't improve for 50 rounds\n",
      "Early stopping, best iteration is:\n",
      "[106]\tvalid_0's rmse: 19.8693\n",
      "Training until validation scores don't improve for 50 rounds\n",
      "Early stopping, best iteration is:\n",
      "[1]\tvalid_0's rmse: 11.5\n",
      "Training until validation scores don't improve for 50 rounds\n",
      "Early stopping, best iteration is:\n",
      "[8]\tvalid_0's rmse: 11.542\n",
      "Training until validation scores don't improve for 50 rounds\n"
     ]
    },
    {
     "name": "stderr",
     "output_type": "stream",
     "text": [
      "[I 2025-06-21 16:11:16,985] Trial 147 finished with value: 11.211944520968668 and parameters: {'num_leaves': 65, 'learning_rate': 0.12792520349542302, 'feature_fraction': 0.6194883189410547, 'bagging_fraction': 0.9503471521575366, 'bagging_freq': 5, 'min_child_samples': 23}. Best is trial 62 with value: 11.000232226962762.\n"
     ]
    },
    {
     "name": "stdout",
     "output_type": "stream",
     "text": [
      "Early stopping, best iteration is:\n",
      "[272]\tvalid_0's rmse: 5.99537\n",
      "Training until validation scores don't improve for 50 rounds\n",
      "Early stopping, best iteration is:\n",
      "[308]\tvalid_0's rmse: 7.04546\n",
      "Training until validation scores don't improve for 50 rounds\n",
      "Early stopping, best iteration is:\n",
      "[96]\tvalid_0's rmse: 19.2348\n",
      "Training until validation scores don't improve for 50 rounds\n",
      "Early stopping, best iteration is:\n",
      "[1]\tvalid_0's rmse: 11.2824\n",
      "Training until validation scores don't improve for 50 rounds\n",
      "Early stopping, best iteration is:\n",
      "[8]\tvalid_0's rmse: 12.4536\n",
      "Training until validation scores don't improve for 50 rounds\n"
     ]
    },
    {
     "name": "stderr",
     "output_type": "stream",
     "text": [
      "[I 2025-06-21 16:11:56,510] Trial 148 finished with value: 11.126742258817533 and parameters: {'num_leaves': 55, 'learning_rate': 0.06290314558007248, 'feature_fraction': 0.6277266931970183, 'bagging_fraction': 0.9164132706747473, 'bagging_freq': 5, 'min_child_samples': 20}. Best is trial 62 with value: 11.000232226962762.\n"
     ]
    },
    {
     "name": "stdout",
     "output_type": "stream",
     "text": [
      "Early stopping, best iteration is:\n",
      "[435]\tvalid_0's rmse: 5.61743\n",
      "Training until validation scores don't improve for 50 rounds\n",
      "Early stopping, best iteration is:\n",
      "[137]\tvalid_0's rmse: 7.07792\n",
      "Training until validation scores don't improve for 50 rounds\n",
      "Early stopping, best iteration is:\n",
      "[128]\tvalid_0's rmse: 19.4734\n",
      "Training until validation scores don't improve for 50 rounds\n",
      "Early stopping, best iteration is:\n",
      "[1]\tvalid_0's rmse: 11.2452\n",
      "Training until validation scores don't improve for 50 rounds\n",
      "Early stopping, best iteration is:\n",
      "[8]\tvalid_0's rmse: 12.2483\n",
      "Training until validation scores don't improve for 50 rounds\n"
     ]
    },
    {
     "name": "stderr",
     "output_type": "stream",
     "text": [
      "[I 2025-06-21 16:12:17,733] Trial 149 finished with value: 11.140964404766827 and parameters: {'num_leaves': 59, 'learning_rate': 0.0707628127457035, 'feature_fraction': 0.6155589284167294, 'bagging_fraction': 0.9072249848472174, 'bagging_freq': 4, 'min_child_samples': 51}. Best is trial 62 with value: 11.000232226962762.\n"
     ]
    },
    {
     "name": "stdout",
     "output_type": "stream",
     "text": [
      "Early stopping, best iteration is:\n",
      "[260]\tvalid_0's rmse: 5.65999\n",
      "Training until validation scores don't improve for 50 rounds\n",
      "Early stopping, best iteration is:\n",
      "[113]\tvalid_0's rmse: 7.31321\n",
      "Training until validation scores don't improve for 50 rounds\n",
      "Early stopping, best iteration is:\n",
      "[73]\tvalid_0's rmse: 19.7896\n",
      "Training until validation scores don't improve for 50 rounds\n",
      "Early stopping, best iteration is:\n",
      "[1]\tvalid_0's rmse: 11.2212\n",
      "Training until validation scores don't improve for 50 rounds\n",
      "Early stopping, best iteration is:\n",
      "[1]\tvalid_0's rmse: 13.2818\n",
      "Training until validation scores don't improve for 50 rounds\n"
     ]
    },
    {
     "name": "stderr",
     "output_type": "stream",
     "text": [
      "[I 2025-06-21 16:12:38,169] Trial 150 finished with value: 11.501767477097419 and parameters: {'num_leaves': 62, 'learning_rate': 0.08457281891383069, 'feature_fraction': 0.8100174050752833, 'bagging_fraction': 0.8778681958626686, 'bagging_freq': 5, 'min_child_samples': 17}. Best is trial 62 with value: 11.000232226962762.\n"
     ]
    },
    {
     "name": "stdout",
     "output_type": "stream",
     "text": [
      "Early stopping, best iteration is:\n",
      "[253]\tvalid_0's rmse: 5.90309\n",
      "Training until validation scores don't improve for 50 rounds\n",
      "Early stopping, best iteration is:\n",
      "[161]\tvalid_0's rmse: 7.18289\n",
      "Training until validation scores don't improve for 50 rounds\n",
      "Early stopping, best iteration is:\n",
      "[92]\tvalid_0's rmse: 19.2011\n",
      "Training until validation scores don't improve for 50 rounds\n",
      "Early stopping, best iteration is:\n",
      "[1]\tvalid_0's rmse: 11.3206\n",
      "Training until validation scores don't improve for 50 rounds\n",
      "Early stopping, best iteration is:\n",
      "[9]\tvalid_0's rmse: 11.6758\n",
      "Training until validation scores don't improve for 50 rounds\n"
     ]
    },
    {
     "name": "stderr",
     "output_type": "stream",
     "text": [
      "[I 2025-06-21 16:12:56,272] Trial 151 finished with value: 11.028105844579914 and parameters: {'num_leaves': 70, 'learning_rate': 0.09051327570351174, 'feature_fraction': 0.6079065886330918, 'bagging_fraction': 0.8908043441120673, 'bagging_freq': 6, 'min_child_samples': 35}. Best is trial 62 with value: 11.000232226962762.\n"
     ]
    },
    {
     "name": "stdout",
     "output_type": "stream",
     "text": [
      "Early stopping, best iteration is:\n",
      "[123]\tvalid_0's rmse: 5.76008\n",
      "Training until validation scores don't improve for 50 rounds\n",
      "Early stopping, best iteration is:\n",
      "[121]\tvalid_0's rmse: 7.22569\n",
      "Training until validation scores don't improve for 50 rounds\n",
      "Early stopping, best iteration is:\n",
      "[97]\tvalid_0's rmse: 19.293\n",
      "Training until validation scores don't improve for 50 rounds\n",
      "Early stopping, best iteration is:\n",
      "[1]\tvalid_0's rmse: 11.4444\n",
      "Training until validation scores don't improve for 50 rounds\n",
      "Early stopping, best iteration is:\n",
      "[9]\tvalid_0's rmse: 11.6219\n",
      "Training until validation scores don't improve for 50 rounds\n"
     ]
    },
    {
     "name": "stderr",
     "output_type": "stream",
     "text": [
      "[I 2025-06-21 16:13:16,812] Trial 152 finished with value: 11.075995438833516 and parameters: {'num_leaves': 66, 'learning_rate': 0.10770872116090936, 'feature_fraction': 0.6012361706554586, 'bagging_fraction': 0.927418076093122, 'bagging_freq': 6, 'min_child_samples': 35}. Best is trial 62 with value: 11.000232226962762.\n"
     ]
    },
    {
     "name": "stdout",
     "output_type": "stream",
     "text": [
      "Early stopping, best iteration is:\n",
      "[210]\tvalid_0's rmse: 5.79494\n",
      "Training until validation scores don't improve for 50 rounds\n",
      "Early stopping, best iteration is:\n",
      "[92]\tvalid_0's rmse: 7.25065\n",
      "Training until validation scores don't improve for 50 rounds\n",
      "Early stopping, best iteration is:\n",
      "[93]\tvalid_0's rmse: 19.3734\n",
      "Training until validation scores don't improve for 50 rounds\n",
      "Early stopping, best iteration is:\n",
      "[1]\tvalid_0's rmse: 11.4507\n",
      "Training until validation scores don't improve for 50 rounds\n",
      "Early stopping, best iteration is:\n",
      "[8]\tvalid_0's rmse: 11.4768\n",
      "Training until validation scores don't improve for 50 rounds\n"
     ]
    },
    {
     "name": "stderr",
     "output_type": "stream",
     "text": [
      "[I 2025-06-21 16:13:32,539] Trial 153 finished with value: 11.107928244571365 and parameters: {'num_leaves': 67, 'learning_rate': 0.1195183927179061, 'feature_fraction': 0.6023515608399008, 'bagging_fraction': 0.9329875472548159, 'bagging_freq': 6, 'min_child_samples': 39}. Best is trial 62 with value: 11.000232226962762.\n"
     ]
    },
    {
     "name": "stdout",
     "output_type": "stream",
     "text": [
      "Early stopping, best iteration is:\n",
      "[120]\tvalid_0's rmse: 5.98804\n",
      "Training until validation scores don't improve for 50 rounds\n",
      "Early stopping, best iteration is:\n",
      "[113]\tvalid_0's rmse: 7.39447\n",
      "Training until validation scores don't improve for 50 rounds\n",
      "Early stopping, best iteration is:\n",
      "[72]\tvalid_0's rmse: 19.2961\n",
      "Training until validation scores don't improve for 50 rounds\n",
      "Early stopping, best iteration is:\n",
      "[1]\tvalid_0's rmse: 11.4338\n",
      "Training until validation scores don't improve for 50 rounds\n",
      "Early stopping, best iteration is:\n",
      "[8]\tvalid_0's rmse: 11.6214\n",
      "Training until validation scores don't improve for 50 rounds\n"
     ]
    },
    {
     "name": "stderr",
     "output_type": "stream",
     "text": [
      "[I 2025-06-21 16:13:55,706] Trial 154 finished with value: 11.141166097632048 and parameters: {'num_leaves': 70, 'learning_rate': 0.105146213637333, 'feature_fraction': 0.6012273438082444, 'bagging_fraction': 0.9286235827323656, 'bagging_freq': 6, 'min_child_samples': 36}. Best is trial 62 with value: 11.000232226962762.\n"
     ]
    },
    {
     "name": "stdout",
     "output_type": "stream",
     "text": [
      "Early stopping, best iteration is:\n",
      "[142]\tvalid_0's rmse: 5.9601\n",
      "Training until validation scores don't improve for 50 rounds\n",
      "Early stopping, best iteration is:\n",
      "[126]\tvalid_0's rmse: 7.29987\n",
      "Training until validation scores don't improve for 50 rounds\n",
      "Early stopping, best iteration is:\n",
      "[71]\tvalid_0's rmse: 19.3422\n",
      "Training until validation scores don't improve for 50 rounds\n",
      "Early stopping, best iteration is:\n",
      "[1]\tvalid_0's rmse: 11.3626\n",
      "Training until validation scores don't improve for 50 rounds\n",
      "Early stopping, best iteration is:\n",
      "[9]\tvalid_0's rmse: 11.663\n",
      "Training until validation scores don't improve for 50 rounds\n"
     ]
    },
    {
     "name": "stderr",
     "output_type": "stream",
     "text": [
      "[I 2025-06-21 16:14:17,953] Trial 155 finished with value: 11.117756386176092 and parameters: {'num_leaves': 64, 'learning_rate': 0.11025762013170648, 'feature_fraction': 0.6222602450155679, 'bagging_fraction': 0.9128579047756743, 'bagging_freq': 6, 'min_child_samples': 35}. Best is trial 62 with value: 11.000232226962762.\n"
     ]
    },
    {
     "name": "stdout",
     "output_type": "stream",
     "text": [
      "Early stopping, best iteration is:\n",
      "[302]\tvalid_0's rmse: 5.92108\n",
      "Training until validation scores don't improve for 50 rounds\n",
      "Early stopping, best iteration is:\n",
      "[55]\tvalid_0's rmse: 7.24126\n",
      "Training until validation scores don't improve for 50 rounds\n",
      "Early stopping, best iteration is:\n",
      "[78]\tvalid_0's rmse: 19.4285\n",
      "Training until validation scores don't improve for 50 rounds\n",
      "Early stopping, best iteration is:\n",
      "[1]\tvalid_0's rmse: 11.4235\n",
      "Training until validation scores don't improve for 50 rounds\n",
      "Early stopping, best iteration is:\n",
      "[9]\tvalid_0's rmse: 11.6016\n",
      "Training until validation scores don't improve for 50 rounds\n"
     ]
    },
    {
     "name": "stderr",
     "output_type": "stream",
     "text": [
      "[I 2025-06-21 16:14:35,416] Trial 156 finished with value: 11.130204671885275 and parameters: {'num_leaves': 66, 'learning_rate': 0.09957416920736041, 'feature_fraction': 0.6082001247257962, 'bagging_fraction': 0.8879294308912002, 'bagging_freq': 7, 'min_child_samples': 32}. Best is trial 62 with value: 11.000232226962762.\n"
     ]
    },
    {
     "name": "stdout",
     "output_type": "stream",
     "text": [
      "Early stopping, best iteration is:\n",
      "[141]\tvalid_0's rmse: 5.9562\n",
      "Training until validation scores don't improve for 50 rounds\n",
      "Early stopping, best iteration is:\n",
      "[32]\tvalid_0's rmse: 7.75654\n",
      "Training until validation scores don't improve for 50 rounds\n",
      "Early stopping, best iteration is:\n",
      "[114]\tvalid_0's rmse: 18.9947\n",
      "Training until validation scores don't improve for 50 rounds\n",
      "Early stopping, best iteration is:\n",
      "[1]\tvalid_0's rmse: 12.2183\n",
      "Training until validation scores don't improve for 50 rounds\n",
      "Early stopping, best iteration is:\n",
      "[8]\tvalid_0's rmse: 11.0567\n",
      "Training until validation scores don't improve for 50 rounds\n"
     ]
    },
    {
     "name": "stderr",
     "output_type": "stream",
     "text": [
      "[I 2025-06-21 16:14:50,863] Trial 157 finished with value: 11.356673688314991 and parameters: {'num_leaves': 72, 'learning_rate': 0.2818683846554668, 'feature_fraction': 0.6005020705452903, 'bagging_fraction': 0.8684163716405002, 'bagging_freq': 6, 'min_child_samples': 38}. Best is trial 62 with value: 11.000232226962762.\n"
     ]
    },
    {
     "name": "stdout",
     "output_type": "stream",
     "text": [
      "Early stopping, best iteration is:\n",
      "[43]\tvalid_0's rmse: 6.75721\n",
      "Training until validation scores don't improve for 50 rounds\n",
      "Early stopping, best iteration is:\n",
      "[64]\tvalid_0's rmse: 7.3469\n",
      "Training until validation scores don't improve for 50 rounds\n",
      "Early stopping, best iteration is:\n",
      "[75]\tvalid_0's rmse: 19.2071\n",
      "Training until validation scores don't improve for 50 rounds\n",
      "Early stopping, best iteration is:\n",
      "[1]\tvalid_0's rmse: 11.3828\n",
      "Training until validation scores don't improve for 50 rounds\n",
      "Early stopping, best iteration is:\n",
      "[8]\tvalid_0's rmse: 11.8911\n",
      "Training until validation scores don't improve for 50 rounds\n"
     ]
    },
    {
     "name": "stderr",
     "output_type": "stream",
     "text": [
      "[I 2025-06-21 16:15:09,444] Trial 158 finished with value: 11.13238003885002 and parameters: {'num_leaves': 69, 'learning_rate': 0.11990156193870281, 'feature_fraction': 0.6299792869305713, 'bagging_fraction': 0.9021617113273909, 'bagging_freq': 5, 'min_child_samples': 33}. Best is trial 62 with value: 11.000232226962762.\n"
     ]
    },
    {
     "name": "stdout",
     "output_type": "stream",
     "text": [
      "Early stopping, best iteration is:\n",
      "[170]\tvalid_0's rmse: 5.83398\n",
      "Training until validation scores don't improve for 50 rounds\n",
      "Early stopping, best iteration is:\n",
      "[86]\tvalid_0's rmse: 7.18091\n",
      "Training until validation scores don't improve for 50 rounds\n",
      "Early stopping, best iteration is:\n",
      "[109]\tvalid_0's rmse: 19.0742\n",
      "Training until validation scores don't improve for 50 rounds\n",
      "Early stopping, best iteration is:\n",
      "[1]\tvalid_0's rmse: 11.2891\n",
      "Training until validation scores don't improve for 50 rounds\n",
      "Early stopping, best iteration is:\n",
      "[8]\tvalid_0's rmse: 12.1607\n",
      "Training until validation scores don't improve for 50 rounds\n"
     ]
    },
    {
     "name": "stderr",
     "output_type": "stream",
     "text": [
      "[I 2025-06-21 16:15:27,205] Trial 159 finished with value: 11.116215275911694 and parameters: {'num_leaves': 68, 'learning_rate': 0.07832554110161098, 'feature_fraction': 0.6165708593776853, 'bagging_fraction': 0.9214024422459618, 'bagging_freq': 7, 'min_child_samples': 29}. Best is trial 62 with value: 11.000232226962762.\n"
     ]
    },
    {
     "name": "stdout",
     "output_type": "stream",
     "text": [
      "Early stopping, best iteration is:\n",
      "[150]\tvalid_0's rmse: 5.87617\n",
      "Training until validation scores don't improve for 50 rounds\n",
      "Early stopping, best iteration is:\n",
      "[76]\tvalid_0's rmse: 7.12306\n",
      "Training until validation scores don't improve for 50 rounds\n",
      "Early stopping, best iteration is:\n",
      "[62]\tvalid_0's rmse: 19.6003\n",
      "Training until validation scores don't improve for 50 rounds\n",
      "Early stopping, best iteration is:\n",
      "[1]\tvalid_0's rmse: 11.3764\n",
      "Training until validation scores don't improve for 50 rounds\n",
      "Early stopping, best iteration is:\n",
      "[9]\tvalid_0's rmse: 11.6409\n",
      "Training until validation scores don't improve for 50 rounds\n"
     ]
    },
    {
     "name": "stderr",
     "output_type": "stream",
     "text": [
      "[I 2025-06-21 16:15:56,729] Trial 160 finished with value: 11.105341920832183 and parameters: {'num_leaves': 65, 'learning_rate': 0.09460700100424635, 'feature_fraction': 0.6086545672587984, 'bagging_fraction': 0.9629702780107555, 'bagging_freq': 6, 'min_child_samples': 26}. Best is trial 62 with value: 11.000232226962762.\n"
     ]
    },
    {
     "name": "stdout",
     "output_type": "stream",
     "text": [
      "Early stopping, best iteration is:\n",
      "[464]\tvalid_0's rmse: 5.78596\n",
      "Training until validation scores don't improve for 50 rounds\n",
      "Early stopping, best iteration is:\n",
      "[103]\tvalid_0's rmse: 7.17597\n",
      "Training until validation scores don't improve for 50 rounds\n",
      "Early stopping, best iteration is:\n",
      "[155]\tvalid_0's rmse: 19.0928\n",
      "Training until validation scores don't improve for 50 rounds\n",
      "Early stopping, best iteration is:\n",
      "[1]\tvalid_0's rmse: 11.3045\n",
      "Training until validation scores don't improve for 50 rounds\n",
      "Early stopping, best iteration is:\n",
      "[8]\tvalid_0's rmse: 12.1123\n",
      "Training until validation scores don't improve for 50 rounds\n"
     ]
    },
    {
     "name": "stderr",
     "output_type": "stream",
     "text": [
      "[I 2025-06-21 16:16:17,067] Trial 161 finished with value: 11.082939560417357 and parameters: {'num_leaves': 61, 'learning_rate': 0.0871093264983375, 'feature_fraction': 0.6136659060822094, 'bagging_fraction': 0.8957842927017454, 'bagging_freq': 6, 'min_child_samples': 55}. Best is trial 62 with value: 11.000232226962762.\n"
     ]
    },
    {
     "name": "stdout",
     "output_type": "stream",
     "text": [
      "Early stopping, best iteration is:\n",
      "[238]\tvalid_0's rmse: 5.72911\n",
      "Training until validation scores don't improve for 50 rounds\n",
      "Early stopping, best iteration is:\n",
      "[156]\tvalid_0's rmse: 7.25195\n",
      "Training until validation scores don't improve for 50 rounds\n",
      "Early stopping, best iteration is:\n",
      "[130]\tvalid_0's rmse: 19.2401\n",
      "Training until validation scores don't improve for 50 rounds\n",
      "Early stopping, best iteration is:\n",
      "[1]\tvalid_0's rmse: 11.2878\n",
      "Training until validation scores don't improve for 50 rounds\n",
      "Early stopping, best iteration is:\n",
      "[9]\tvalid_0's rmse: 12.0951\n",
      "Training until validation scores don't improve for 50 rounds\n"
     ]
    },
    {
     "name": "stderr",
     "output_type": "stream",
     "text": [
      "[I 2025-06-21 16:16:37,955] Trial 162 finished with value: 11.127001675539303 and parameters: {'num_leaves': 61, 'learning_rate': 0.08380524838734923, 'feature_fraction': 0.6188875808523945, 'bagging_fraction': 0.8909112898491103, 'bagging_freq': 6, 'min_child_samples': 54}. Best is trial 62 with value: 11.000232226962762.\n"
     ]
    },
    {
     "name": "stdout",
     "output_type": "stream",
     "text": [
      "Early stopping, best iteration is:\n",
      "[205]\tvalid_0's rmse: 5.76009\n",
      "Training until validation scores don't improve for 50 rounds\n",
      "Early stopping, best iteration is:\n",
      "[58]\tvalid_0's rmse: 7.40959\n",
      "Training until validation scores don't improve for 50 rounds\n",
      "Early stopping, best iteration is:\n",
      "[95]\tvalid_0's rmse: 19.1434\n",
      "Training until validation scores don't improve for 50 rounds\n",
      "Early stopping, best iteration is:\n",
      "[1]\tvalid_0's rmse: 11.4638\n",
      "Training until validation scores don't improve for 50 rounds\n",
      "Early stopping, best iteration is:\n",
      "[8]\tvalid_0's rmse: 11.5609\n",
      "Training until validation scores don't improve for 50 rounds\n"
     ]
    },
    {
     "name": "stderr",
     "output_type": "stream",
     "text": [
      "[I 2025-06-21 16:16:54,501] Trial 163 finished with value: 11.117799541615803 and parameters: {'num_leaves': 67, 'learning_rate': 0.13428290875638937, 'feature_fraction': 0.6000119725000793, 'bagging_fraction': 0.8816626636962638, 'bagging_freq': 6, 'min_child_samples': 64}. Best is trial 62 with value: 11.000232226962762.\n"
     ]
    },
    {
     "name": "stdout",
     "output_type": "stream",
     "text": [
      "Early stopping, best iteration is:\n",
      "[173]\tvalid_0's rmse: 6.01134\n",
      "Training until validation scores don't improve for 50 rounds\n",
      "Early stopping, best iteration is:\n",
      "[103]\tvalid_0's rmse: 7.28602\n",
      "Training until validation scores don't improve for 50 rounds\n",
      "Early stopping, best iteration is:\n",
      "[51]\tvalid_0's rmse: 19.4381\n",
      "Training until validation scores don't improve for 50 rounds\n",
      "Early stopping, best iteration is:\n",
      "[1]\tvalid_0's rmse: 11.511\n",
      "Training until validation scores don't improve for 50 rounds\n",
      "Early stopping, best iteration is:\n",
      "[8]\tvalid_0's rmse: 11.4985\n",
      "Training until validation scores don't improve for 50 rounds\n"
     ]
    },
    {
     "name": "stderr",
     "output_type": "stream",
     "text": [
      "[I 2025-06-21 16:17:11,376] Trial 164 finished with value: 11.168716089898988 and parameters: {'num_leaves': 63, 'learning_rate': 0.15266064655707687, 'feature_fraction': 0.6105807107683342, 'bagging_fraction': 0.9051505893309859, 'bagging_freq': 6, 'min_child_samples': 40}. Best is trial 62 with value: 11.000232226962762.\n"
     ]
    },
    {
     "name": "stdout",
     "output_type": "stream",
     "text": [
      "Early stopping, best iteration is:\n",
      "[139]\tvalid_0's rmse: 6.10992\n",
      "Training until validation scores don't improve for 50 rounds\n",
      "Early stopping, best iteration is:\n",
      "[100]\tvalid_0's rmse: 7.13236\n",
      "Training until validation scores don't improve for 50 rounds\n",
      "Early stopping, best iteration is:\n",
      "[95]\tvalid_0's rmse: 19.4608\n",
      "Training until validation scores don't improve for 50 rounds\n",
      "Early stopping, best iteration is:\n",
      "[1]\tvalid_0's rmse: 11.2478\n",
      "Training until validation scores don't improve for 50 rounds\n",
      "Early stopping, best iteration is:\n",
      "[8]\tvalid_0's rmse: 12.2753\n",
      "Training until validation scores don't improve for 50 rounds\n"
     ]
    },
    {
     "name": "stderr",
     "output_type": "stream",
     "text": [
      "[I 2025-06-21 16:17:32,566] Trial 165 finished with value: 11.178345016247743 and parameters: {'num_leaves': 70, 'learning_rate': 0.07521371617923649, 'feature_fraction': 0.6245112592630895, 'bagging_fraction': 0.9136249501827352, 'bagging_freq': 6, 'min_child_samples': 56}. Best is trial 62 with value: 11.000232226962762.\n"
     ]
    },
    {
     "name": "stdout",
     "output_type": "stream",
     "text": [
      "Early stopping, best iteration is:\n",
      "[282]\tvalid_0's rmse: 5.77547\n",
      "Training until validation scores don't improve for 50 rounds\n",
      "Early stopping, best iteration is:\n",
      "[130]\tvalid_0's rmse: 7.41672\n",
      "Training until validation scores don't improve for 50 rounds\n",
      "Early stopping, best iteration is:\n",
      "[81]\tvalid_0's rmse: 19.8614\n",
      "Training until validation scores don't improve for 50 rounds\n",
      "Early stopping, best iteration is:\n",
      "[1]\tvalid_0's rmse: 11.2943\n",
      "Training until validation scores don't improve for 50 rounds\n",
      "Early stopping, best iteration is:\n",
      "[1]\tvalid_0's rmse: 13.4249\n",
      "Training until validation scores don't improve for 50 rounds\n"
     ]
    },
    {
     "name": "stderr",
     "output_type": "stream",
     "text": [
      "[I 2025-06-21 16:17:51,740] Trial 166 finished with value: 11.598741630338903 and parameters: {'num_leaves': 64, 'learning_rate': 0.10723629873991265, 'feature_fraction': 0.9232313621669934, 'bagging_fraction': 0.9900912858256239, 'bagging_freq': 5, 'min_child_samples': 50}. Best is trial 62 with value: 11.000232226962762.\n"
     ]
    },
    {
     "name": "stdout",
     "output_type": "stream",
     "text": [
      "Early stopping, best iteration is:\n",
      "[102]\tvalid_0's rmse: 5.99642\n",
      "Training until validation scores don't improve for 50 rounds\n",
      "Early stopping, best iteration is:\n",
      "[102]\tvalid_0's rmse: 7.36135\n",
      "Training until validation scores don't improve for 50 rounds\n",
      "Early stopping, best iteration is:\n",
      "[77]\tvalid_0's rmse: 19.8899\n",
      "Training until validation scores don't improve for 50 rounds\n",
      "Early stopping, best iteration is:\n",
      "[1]\tvalid_0's rmse: 11.3429\n",
      "Training until validation scores don't improve for 50 rounds\n",
      "Early stopping, best iteration is:\n",
      "[8]\tvalid_0's rmse: 11.8103\n",
      "Training until validation scores don't improve for 50 rounds\n"
     ]
    },
    {
     "name": "stderr",
     "output_type": "stream",
     "text": [
      "[I 2025-06-21 16:18:12,734] Trial 167 finished with value: 11.257978100664754 and parameters: {'num_leaves': 66, 'learning_rate': 0.0956488216462151, 'feature_fraction': 0.6364795262486997, 'bagging_fraction': 0.8950548512194525, 'bagging_freq': 6, 'min_child_samples': 35}. Best is trial 62 with value: 11.000232226962762.\n"
     ]
    },
    {
     "name": "stdout",
     "output_type": "stream",
     "text": [
      "Early stopping, best iteration is:\n",
      "[238]\tvalid_0's rmse: 5.88548\n",
      "Training until validation scores don't improve for 50 rounds\n",
      "Early stopping, best iteration is:\n",
      "[135]\tvalid_0's rmse: 7.08849\n",
      "Training until validation scores don't improve for 50 rounds\n",
      "Early stopping, best iteration is:\n",
      "[119]\tvalid_0's rmse: 19.3477\n",
      "Training until validation scores don't improve for 50 rounds\n",
      "Early stopping, best iteration is:\n",
      "[1]\tvalid_0's rmse: 11.2438\n",
      "Training until validation scores don't improve for 50 rounds\n",
      "Early stopping, best iteration is:\n",
      "[9]\tvalid_0's rmse: 12.2691\n",
      "Training until validation scores don't improve for 50 rounds\n"
     ]
    },
    {
     "name": "stderr",
     "output_type": "stream",
     "text": [
      "[I 2025-06-21 16:18:33,536] Trial 168 finished with value: 11.141511450208416 and parameters: {'num_leaves': 60, 'learning_rate': 0.06772826586038283, 'feature_fraction': 0.6133296267623726, 'bagging_fraction': 0.8578015036770177, 'bagging_freq': 5, 'min_child_samples': 43}. Best is trial 62 with value: 11.000232226962762.\n"
     ]
    },
    {
     "name": "stdout",
     "output_type": "stream",
     "text": [
      "Early stopping, best iteration is:\n",
      "[272]\tvalid_0's rmse: 5.75845\n",
      "Training until validation scores don't improve for 50 rounds\n",
      "Early stopping, best iteration is:\n",
      "[101]\tvalid_0's rmse: 7.24753\n",
      "Training until validation scores don't improve for 50 rounds\n",
      "Early stopping, best iteration is:\n",
      "[66]\tvalid_0's rmse: 19.5014\n",
      "Training until validation scores don't improve for 50 rounds\n",
      "Early stopping, best iteration is:\n",
      "[1]\tvalid_0's rmse: 11.3822\n",
      "Training until validation scores don't improve for 50 rounds\n",
      "Early stopping, best iteration is:\n",
      "[9]\tvalid_0's rmse: 11.8103\n",
      "Training until validation scores don't improve for 50 rounds\n"
     ]
    },
    {
     "name": "stderr",
     "output_type": "stream",
     "text": [
      "[I 2025-06-21 16:18:50,710] Trial 169 finished with value: 11.152088882486156 and parameters: {'num_leaves': 62, 'learning_rate': 0.08986856572904743, 'feature_fraction': 0.6297614925818995, 'bagging_fraction': 0.9257982322957187, 'bagging_freq': 6, 'min_child_samples': 37}. Best is trial 62 with value: 11.000232226962762.\n"
     ]
    },
    {
     "name": "stdout",
     "output_type": "stream",
     "text": [
      "Early stopping, best iteration is:\n",
      "[162]\tvalid_0's rmse: 5.81906\n",
      "Training until validation scores don't improve for 50 rounds\n",
      "Early stopping, best iteration is:\n",
      "[69]\tvalid_0's rmse: 7.3851\n",
      "Training until validation scores don't improve for 50 rounds\n",
      "Early stopping, best iteration is:\n",
      "[76]\tvalid_0's rmse: 19.3048\n",
      "Training until validation scores don't improve for 50 rounds\n",
      "Early stopping, best iteration is:\n",
      "[1]\tvalid_0's rmse: 11.431\n",
      "Training until validation scores don't improve for 50 rounds\n",
      "Early stopping, best iteration is:\n",
      "[7]\tvalid_0's rmse: 12.4359\n",
      "Training until validation scores don't improve for 50 rounds\n"
     ]
    },
    {
     "name": "stderr",
     "output_type": "stream",
     "text": [
      "[I 2025-06-21 16:19:08,433] Trial 170 finished with value: 11.281811732002481 and parameters: {'num_leaves': 67, 'learning_rate': 0.12548433967011652, 'feature_fraction': 0.6486927878532478, 'bagging_fraction': 0.9453261714841288, 'bagging_freq': 7, 'min_child_samples': 52}. Best is trial 62 with value: 11.000232226962762.\n"
     ]
    },
    {
     "name": "stdout",
     "output_type": "stream",
     "text": [
      "Early stopping, best iteration is:\n",
      "[171]\tvalid_0's rmse: 5.85228\n",
      "Training until validation scores don't improve for 50 rounds\n",
      "Early stopping, best iteration is:\n",
      "[206]\tvalid_0's rmse: 7.16291\n",
      "Training until validation scores don't improve for 50 rounds\n",
      "Early stopping, best iteration is:\n",
      "[83]\tvalid_0's rmse: 18.9249\n",
      "Training until validation scores don't improve for 50 rounds\n",
      "Early stopping, best iteration is:\n",
      "[1]\tvalid_0's rmse: 11.3644\n",
      "Training until validation scores don't improve for 50 rounds\n",
      "Early stopping, best iteration is:\n",
      "[8]\tvalid_0's rmse: 11.9351\n",
      "Training until validation scores don't improve for 50 rounds\n"
     ]
    },
    {
     "name": "stderr",
     "output_type": "stream",
     "text": [
      "[I 2025-06-21 16:19:25,037] Trial 171 finished with value: 11.051705527249895 and parameters: {'num_leaves': 57, 'learning_rate': 0.08468778638766823, 'feature_fraction': 0.6105914845315564, 'bagging_fraction': 0.897351624371142, 'bagging_freq': 6, 'min_child_samples': 24}. Best is trial 62 with value: 11.000232226962762.\n"
     ]
    },
    {
     "name": "stdout",
     "output_type": "stream",
     "text": [
      "Early stopping, best iteration is:\n",
      "[117]\tvalid_0's rmse: 5.87127\n",
      "Training until validation scores don't improve for 50 rounds\n",
      "Early stopping, best iteration is:\n",
      "[118]\tvalid_0's rmse: 7.11852\n",
      "Training until validation scores don't improve for 50 rounds\n",
      "Early stopping, best iteration is:\n",
      "[142]\tvalid_0's rmse: 19.5721\n",
      "Training until validation scores don't improve for 50 rounds\n",
      "Early stopping, best iteration is:\n",
      "[1]\tvalid_0's rmse: 11.3572\n",
      "Training until validation scores don't improve for 50 rounds\n",
      "Early stopping, best iteration is:\n",
      "[9]\tvalid_0's rmse: 11.8248\n",
      "Training until validation scores don't improve for 50 rounds\n"
     ]
    },
    {
     "name": "stderr",
     "output_type": "stream",
     "text": [
      "[I 2025-06-21 16:19:51,034] Trial 172 finished with value: 11.132766022846903 and parameters: {'num_leaves': 58, 'learning_rate': 0.0814734904227476, 'feature_fraction': 0.6075115493390515, 'bagging_fraction': 0.8813206164548795, 'bagging_freq': 6, 'min_child_samples': 25}. Best is trial 62 with value: 11.000232226962762.\n"
     ]
    },
    {
     "name": "stdout",
     "output_type": "stream",
     "text": [
      "Early stopping, best iteration is:\n",
      "[251]\tvalid_0's rmse: 5.79118\n",
      "Training until validation scores don't improve for 50 rounds\n",
      "Early stopping, best iteration is:\n",
      "[120]\tvalid_0's rmse: 7.32604\n",
      "Training until validation scores don't improve for 50 rounds\n",
      "Early stopping, best iteration is:\n",
      "[62]\tvalid_0's rmse: 19.1843\n",
      "Training until validation scores don't improve for 50 rounds\n",
      "Early stopping, best iteration is:\n",
      "[1]\tvalid_0's rmse: 11.3261\n",
      "Training until validation scores don't improve for 50 rounds\n",
      "Early stopping, best iteration is:\n",
      "[8]\tvalid_0's rmse: 11.7564\n",
      "Training until validation scores don't improve for 50 rounds\n"
     ]
    },
    {
     "name": "stderr",
     "output_type": "stream",
     "text": [
      "[I 2025-06-21 16:20:07,246] Trial 173 finished with value: 11.105077511831684 and parameters: {'num_leaves': 56, 'learning_rate': 0.1018606051572772, 'feature_fraction': 0.6196980936768897, 'bagging_fraction': 0.9006002853090137, 'bagging_freq': 6, 'min_child_samples': 55}. Best is trial 62 with value: 11.000232226962762.\n"
     ]
    },
    {
     "name": "stdout",
     "output_type": "stream",
     "text": [
      "Early stopping, best iteration is:\n",
      "[96]\tvalid_0's rmse: 5.93253\n",
      "Training until validation scores don't improve for 50 rounds\n",
      "Early stopping, best iteration is:\n",
      "[229]\tvalid_0's rmse: 7.11956\n",
      "Training until validation scores don't improve for 50 rounds\n",
      "Early stopping, best iteration is:\n",
      "[239]\tvalid_0's rmse: 19.4546\n",
      "Training until validation scores don't improve for 50 rounds\n",
      "Early stopping, best iteration is:\n",
      "[1]\tvalid_0's rmse: 11.2179\n",
      "Training until validation scores don't improve for 50 rounds\n",
      "Early stopping, best iteration is:\n",
      "[9]\tvalid_0's rmse: 12.3054\n",
      "Training until validation scores don't improve for 50 rounds\n"
     ]
    },
    {
     "name": "stderr",
     "output_type": "stream",
     "text": [
      "[I 2025-06-21 16:20:36,309] Trial 174 finished with value: 11.158466555953884 and parameters: {'num_leaves': 65, 'learning_rate': 0.05351480854527027, 'feature_fraction': 0.6076189411165663, 'bagging_fraction': 0.8866234978643389, 'bagging_freq': 6, 'min_child_samples': 59}. Best is trial 62 with value: 11.000232226962762.\n"
     ]
    },
    {
     "name": "stdout",
     "output_type": "stream",
     "text": [
      "Early stopping, best iteration is:\n",
      "[321]\tvalid_0's rmse: 5.69491\n",
      "Training until validation scores don't improve for 50 rounds\n",
      "Early stopping, best iteration is:\n",
      "[224]\tvalid_0's rmse: 7.20527\n",
      "Training until validation scores don't improve for 50 rounds\n",
      "Early stopping, best iteration is:\n",
      "[96]\tvalid_0's rmse: 18.9971\n",
      "Training until validation scores don't improve for 50 rounds\n",
      "Early stopping, best iteration is:\n",
      "[1]\tvalid_0's rmse: 11.2743\n",
      "Training until validation scores don't improve for 50 rounds\n",
      "Early stopping, best iteration is:\n",
      "[8]\tvalid_0's rmse: 12.1336\n",
      "Training until validation scores don't improve for 50 rounds\n"
     ]
    },
    {
     "name": "stderr",
     "output_type": "stream",
     "text": [
      "[I 2025-06-21 16:21:01,080] Trial 175 finished with value: 11.069189483080565 and parameters: {'num_leaves': 69, 'learning_rate': 0.07353237061291594, 'feature_fraction': 0.6165314862496244, 'bagging_fraction': 0.9101244576014094, 'bagging_freq': 6, 'min_child_samples': 28}. Best is trial 62 with value: 11.000232226962762.\n"
     ]
    },
    {
     "name": "stdout",
     "output_type": "stream",
     "text": [
      "Early stopping, best iteration is:\n",
      "[190]\tvalid_0's rmse: 5.73561\n",
      "Training until validation scores don't improve for 50 rounds\n",
      "Early stopping, best iteration is:\n",
      "[100]\tvalid_0's rmse: 7.15813\n",
      "Training until validation scores don't improve for 50 rounds\n",
      "Early stopping, best iteration is:\n",
      "[119]\tvalid_0's rmse: 19.0989\n",
      "Training until validation scores don't improve for 50 rounds\n",
      "Early stopping, best iteration is:\n",
      "[1]\tvalid_0's rmse: 11.2764\n",
      "Training until validation scores don't improve for 50 rounds\n",
      "Early stopping, best iteration is:\n",
      "[8]\tvalid_0's rmse: 11.9005\n",
      "Training until validation scores don't improve for 50 rounds\n"
     ]
    },
    {
     "name": "stderr",
     "output_type": "stream",
     "text": [
      "[I 2025-06-21 16:21:21,094] Trial 176 finished with value: 11.043511321734162 and parameters: {'num_leaves': 70, 'learning_rate': 0.07418164806533732, 'feature_fraction': 0.6001932571346433, 'bagging_fraction': 0.908680258368098, 'bagging_freq': 6, 'min_child_samples': 28}. Best is trial 62 with value: 11.000232226962762.\n"
     ]
    },
    {
     "name": "stdout",
     "output_type": "stream",
     "text": [
      "Early stopping, best iteration is:\n",
      "[154]\tvalid_0's rmse: 5.78363\n",
      "Training until validation scores don't improve for 50 rounds\n",
      "Early stopping, best iteration is:\n",
      "[135]\tvalid_0's rmse: 7.1342\n",
      "Training until validation scores don't improve for 50 rounds\n",
      "Early stopping, best iteration is:\n",
      "[109]\tvalid_0's rmse: 19.0063\n",
      "Training until validation scores don't improve for 50 rounds\n",
      "Early stopping, best iteration is:\n",
      "[1]\tvalid_0's rmse: 11.229\n",
      "Training until validation scores don't improve for 50 rounds\n",
      "Early stopping, best iteration is:\n",
      "[8]\tvalid_0's rmse: 12.0949\n",
      "Training until validation scores don't improve for 50 rounds\n"
     ]
    },
    {
     "name": "stderr",
     "output_type": "stream",
     "text": [
      "[I 2025-06-21 16:21:48,035] Trial 177 finished with value: 11.037776596896931 and parameters: {'num_leaves': 71, 'learning_rate': 0.05993937610073022, 'feature_fraction': 0.6000143269707123, 'bagging_fraction': 0.9061821267633718, 'bagging_freq': 6, 'min_child_samples': 26}. Best is trial 62 with value: 11.000232226962762.\n"
     ]
    },
    {
     "name": "stdout",
     "output_type": "stream",
     "text": [
      "Early stopping, best iteration is:\n",
      "[268]\tvalid_0's rmse: 5.72447\n",
      "Training until validation scores don't improve for 50 rounds\n",
      "Early stopping, best iteration is:\n",
      "[119]\tvalid_0's rmse: 7.16033\n",
      "Training until validation scores don't improve for 50 rounds\n",
      "Early stopping, best iteration is:\n",
      "[159]\tvalid_0's rmse: 18.6704\n",
      "Training until validation scores don't improve for 50 rounds\n",
      "Early stopping, best iteration is:\n",
      "[1]\tvalid_0's rmse: 11.2391\n",
      "Training until validation scores don't improve for 50 rounds\n",
      "Early stopping, best iteration is:\n",
      "[8]\tvalid_0's rmse: 12.0945\n",
      "Training until validation scores don't improve for 50 rounds\n"
     ]
    },
    {
     "name": "stderr",
     "output_type": "stream",
     "text": [
      "[I 2025-06-21 16:22:16,927] Trial 178 finished with value: 10.962669375502992 and parameters: {'num_leaves': 72, 'learning_rate': 0.060106329525061244, 'feature_fraction': 0.6001190253500799, 'bagging_fraction': 0.9088733280452314, 'bagging_freq': 6, 'min_child_samples': 28}. Best is trial 178 with value: 10.962669375502992.\n"
     ]
    },
    {
     "name": "stdout",
     "output_type": "stream",
     "text": [
      "Early stopping, best iteration is:\n",
      "[239]\tvalid_0's rmse: 5.64906\n",
      "Training until validation scores don't improve for 50 rounds\n",
      "Early stopping, best iteration is:\n",
      "[254]\tvalid_0's rmse: 7.03102\n",
      "Training until validation scores don't improve for 50 rounds\n",
      "Early stopping, best iteration is:\n",
      "[168]\tvalid_0's rmse: 19.3394\n",
      "Training until validation scores don't improve for 50 rounds\n",
      "Early stopping, best iteration is:\n",
      "[1]\tvalid_0's rmse: 11.1985\n",
      "Training until validation scores don't improve for 50 rounds\n",
      "Early stopping, best iteration is:\n",
      "[8]\tvalid_0's rmse: 12.3386\n",
      "Training until validation scores don't improve for 50 rounds\n"
     ]
    },
    {
     "name": "stderr",
     "output_type": "stream",
     "text": [
      "[I 2025-06-21 16:22:54,487] Trial 179 finished with value: 11.113076325240998 and parameters: {'num_leaves': 76, 'learning_rate': 0.044514900040695415, 'feature_fraction': 0.6000617108808075, 'bagging_fraction': 0.9087187696035455, 'bagging_freq': 5, 'min_child_samples': 27}. Best is trial 178 with value: 10.962669375502992.\n"
     ]
    },
    {
     "name": "stdout",
     "output_type": "stream",
     "text": [
      "Early stopping, best iteration is:\n",
      "[386]\tvalid_0's rmse: 5.65779\n",
      "Training until validation scores don't improve for 50 rounds\n",
      "Early stopping, best iteration is:\n",
      "[264]\tvalid_0's rmse: 7.24534\n",
      "Training until validation scores don't improve for 50 rounds\n",
      "Early stopping, best iteration is:\n",
      "[104]\tvalid_0's rmse: 19.6751\n",
      "Training until validation scores don't improve for 50 rounds\n",
      "Early stopping, best iteration is:\n",
      "[1]\tvalid_0's rmse: 11.2413\n",
      "Training until validation scores don't improve for 50 rounds\n",
      "Early stopping, best iteration is:\n",
      "[8]\tvalid_0's rmse: 12.0607\n",
      "Training until validation scores don't improve for 50 rounds\n"
     ]
    },
    {
     "name": "stderr",
     "output_type": "stream",
     "text": [
      "[I 2025-06-21 16:23:21,195] Trial 180 finished with value: 11.176698099681797 and parameters: {'num_leaves': 74, 'learning_rate': 0.062142482868417455, 'feature_fraction': 0.6001250340988965, 'bagging_fraction': 0.9152737551947921, 'bagging_freq': 6, 'min_child_samples': 29}. Best is trial 178 with value: 10.962669375502992.\n"
     ]
    },
    {
     "name": "stdout",
     "output_type": "stream",
     "text": [
      "Early stopping, best iteration is:\n",
      "[196]\tvalid_0's rmse: 5.66116\n",
      "Training until validation scores don't improve for 50 rounds\n",
      "Early stopping, best iteration is:\n",
      "[178]\tvalid_0's rmse: 7.03627\n",
      "Training until validation scores don't improve for 50 rounds\n",
      "Early stopping, best iteration is:\n",
      "[240]\tvalid_0's rmse: 19.4042\n",
      "Training until validation scores don't improve for 50 rounds\n",
      "Early stopping, best iteration is:\n",
      "[1]\tvalid_0's rmse: 11.2331\n",
      "Training until validation scores don't improve for 50 rounds\n",
      "Early stopping, best iteration is:\n",
      "[8]\tvalid_0's rmse: 12.1558\n",
      "Training until validation scores don't improve for 50 rounds\n"
     ]
    },
    {
     "name": "stderr",
     "output_type": "stream",
     "text": [
      "[I 2025-06-21 16:23:58,940] Trial 181 finished with value: 11.103910522124679 and parameters: {'num_leaves': 72, 'learning_rate': 0.05710556285230313, 'feature_fraction': 0.6073542233463369, 'bagging_fraction': 0.9052652641676938, 'bagging_freq': 6, 'min_child_samples': 23}. Best is trial 178 with value: 10.962669375502992.\n"
     ]
    },
    {
     "name": "stdout",
     "output_type": "stream",
     "text": [
      "Early stopping, best iteration is:\n",
      "[373]\tvalid_0's rmse: 5.69014\n",
      "Training until validation scores don't improve for 50 rounds\n",
      "Early stopping, best iteration is:\n",
      "[55]\tvalid_0's rmse: 7.13761\n",
      "Training until validation scores don't improve for 50 rounds\n",
      "Early stopping, best iteration is:\n",
      "[108]\tvalid_0's rmse: 19.4753\n",
      "Training until validation scores don't improve for 50 rounds\n",
      "Early stopping, best iteration is:\n",
      "[1]\tvalid_0's rmse: 11.2573\n",
      "Training until validation scores don't improve for 50 rounds\n",
      "Early stopping, best iteration is:\n",
      "[9]\tvalid_0's rmse: 12.343\n",
      "Training until validation scores don't improve for 50 rounds\n"
     ]
    },
    {
     "name": "stderr",
     "output_type": "stream",
     "text": [
      "[I 2025-06-21 16:24:23,067] Trial 182 finished with value: 11.193955367920307 and parameters: {'num_leaves': 70, 'learning_rate': 0.06707569868926798, 'feature_fraction': 0.6216620154394046, 'bagging_fraction': 0.8755003420463097, 'bagging_freq': 6, 'min_child_samples': 25}. Best is trial 178 with value: 10.962669375502992.\n"
     ]
    },
    {
     "name": "stdout",
     "output_type": "stream",
     "text": [
      "Early stopping, best iteration is:\n",
      "[300]\tvalid_0's rmse: 5.75648\n",
      "Training until validation scores don't improve for 50 rounds\n",
      "Early stopping, best iteration is:\n",
      "[125]\tvalid_0's rmse: 7.15572\n",
      "Training until validation scores don't improve for 50 rounds\n",
      "Early stopping, best iteration is:\n",
      "[162]\tvalid_0's rmse: 19.1022\n",
      "Training until validation scores don't improve for 50 rounds\n",
      "Early stopping, best iteration is:\n",
      "[1]\tvalid_0's rmse: 11.2699\n",
      "Training until validation scores don't improve for 50 rounds\n",
      "Early stopping, best iteration is:\n",
      "[8]\tvalid_0's rmse: 11.9126\n",
      "Training until validation scores don't improve for 50 rounds\n"
     ]
    },
    {
     "name": "stderr",
     "output_type": "stream",
     "text": [
      "[I 2025-06-21 16:24:45,525] Trial 183 finished with value: 11.054274629755358 and parameters: {'num_leaves': 71, 'learning_rate': 0.07307285475161715, 'feature_fraction': 0.6074856071669354, 'bagging_fraction': 0.8907540894783701, 'bagging_freq': 6, 'min_child_samples': 28}. Best is trial 178 with value: 10.962669375502992.\n"
     ]
    },
    {
     "name": "stdout",
     "output_type": "stream",
     "text": [
      "Early stopping, best iteration is:\n",
      "[138]\tvalid_0's rmse: 5.83097\n",
      "Training until validation scores don't improve for 50 rounds\n",
      "Early stopping, best iteration is:\n",
      "[102]\tvalid_0's rmse: 7.20013\n",
      "Training until validation scores don't improve for 50 rounds\n",
      "Early stopping, best iteration is:\n",
      "[134]\tvalid_0's rmse: 19.5143\n",
      "Training until validation scores don't improve for 50 rounds\n",
      "Early stopping, best iteration is:\n",
      "[1]\tvalid_0's rmse: 11.2693\n",
      "Training until validation scores don't improve for 50 rounds\n",
      "Early stopping, best iteration is:\n",
      "[8]\tvalid_0's rmse: 11.9023\n",
      "Training until validation scores don't improve for 50 rounds\n"
     ]
    },
    {
     "name": "stderr",
     "output_type": "stream",
     "text": [
      "[I 2025-06-21 16:25:08,834] Trial 184 finished with value: 11.122765988464584 and parameters: {'num_leaves': 73, 'learning_rate': 0.07280243580350736, 'feature_fraction': 0.6079341751393676, 'bagging_fraction': 0.8928615571197522, 'bagging_freq': 6, 'min_child_samples': 31}. Best is trial 178 with value: 10.962669375502992.\n"
     ]
    },
    {
     "name": "stdout",
     "output_type": "stream",
     "text": [
      "Early stopping, best iteration is:\n",
      "[169]\tvalid_0's rmse: 5.72772\n",
      "Training until validation scores don't improve for 50 rounds\n",
      "Early stopping, best iteration is:\n",
      "[181]\tvalid_0's rmse: 7.12549\n",
      "Training until validation scores don't improve for 50 rounds\n",
      "Early stopping, best iteration is:\n",
      "[94]\tvalid_0's rmse: 19.5183\n",
      "Training until validation scores don't improve for 50 rounds\n",
      "Early stopping, best iteration is:\n",
      "[1]\tvalid_0's rmse: 11.2191\n",
      "Training until validation scores don't improve for 50 rounds\n",
      "Early stopping, best iteration is:\n",
      "[9]\tvalid_0's rmse: 12.1584\n",
      "Training until validation scores don't improve for 50 rounds\n"
     ]
    },
    {
     "name": "stderr",
     "output_type": "stream",
     "text": [
      "[I 2025-06-21 16:25:32,677] Trial 185 finished with value: 11.141110298048641 and parameters: {'num_leaves': 71, 'learning_rate': 0.06147581332693835, 'feature_fraction': 0.6158897709573936, 'bagging_fraction': 0.9003395180732685, 'bagging_freq': 6, 'min_child_samples': 28}. Best is trial 178 with value: 10.962669375502992.\n"
     ]
    },
    {
     "name": "stdout",
     "output_type": "stream",
     "text": [
      "Early stopping, best iteration is:\n",
      "[241]\tvalid_0's rmse: 5.68428\n",
      "Training until validation scores don't improve for 50 rounds\n",
      "Early stopping, best iteration is:\n",
      "[135]\tvalid_0's rmse: 7.11231\n",
      "Training until validation scores don't improve for 50 rounds\n",
      "Early stopping, best iteration is:\n",
      "[119]\tvalid_0's rmse: 19.138\n",
      "Training until validation scores don't improve for 50 rounds\n",
      "Early stopping, best iteration is:\n",
      "[1]\tvalid_0's rmse: 11.2961\n",
      "Training until validation scores don't improve for 50 rounds\n",
      "Early stopping, best iteration is:\n",
      "[8]\tvalid_0's rmse: 11.9134\n",
      "Training until validation scores don't improve for 50 rounds\n"
     ]
    },
    {
     "name": "stderr",
     "output_type": "stream",
     "text": [
      "[I 2025-06-21 16:25:59,446] Trial 186 finished with value: 11.031865842290781 and parameters: {'num_leaves': 75, 'learning_rate': 0.0738876979091235, 'feature_fraction': 0.6000718612025743, 'bagging_fraction': 0.8887121321966236, 'bagging_freq': 7, 'min_child_samples': 27}. Best is trial 178 with value: 10.962669375502992.\n"
     ]
    },
    {
     "name": "stdout",
     "output_type": "stream",
     "text": [
      "Early stopping, best iteration is:\n",
      "[188]\tvalid_0's rmse: 5.69952\n",
      "Training until validation scores don't improve for 50 rounds\n",
      "Early stopping, best iteration is:\n",
      "[143]\tvalid_0's rmse: 7.22596\n",
      "Training until validation scores don't improve for 50 rounds\n",
      "Early stopping, best iteration is:\n",
      "[193]\tvalid_0's rmse: 19.2164\n",
      "Training until validation scores don't improve for 50 rounds\n",
      "Early stopping, best iteration is:\n",
      "[1]\tvalid_0's rmse: 11.2168\n",
      "Training until validation scores don't improve for 50 rounds\n",
      "Early stopping, best iteration is:\n",
      "[8]\tvalid_0's rmse: 12.2401\n",
      "Training until validation scores don't improve for 50 rounds\n"
     ]
    },
    {
     "name": "stderr",
     "output_type": "stream",
     "text": [
      "[I 2025-06-21 16:26:28,077] Trial 187 finished with value: 11.12883744640544 and parameters: {'num_leaves': 76, 'learning_rate': 0.052176922023245406, 'feature_fraction': 0.6006166473810967, 'bagging_fraction': 0.9109699035569778, 'bagging_freq': 7, 'min_child_samples': 30}. Best is trial 178 with value: 10.962669375502992.\n"
     ]
    },
    {
     "name": "stdout",
     "output_type": "stream",
     "text": [
      "Early stopping, best iteration is:\n",
      "[220]\tvalid_0's rmse: 5.74494\n",
      "Training until validation scores don't improve for 50 rounds\n",
      "Early stopping, best iteration is:\n",
      "[63]\tvalid_0's rmse: 7.2312\n",
      "Training until validation scores don't improve for 50 rounds\n",
      "Early stopping, best iteration is:\n",
      "[109]\tvalid_0's rmse: 18.9961\n",
      "Training until validation scores don't improve for 50 rounds\n",
      "Early stopping, best iteration is:\n",
      "[1]\tvalid_0's rmse: 11.2801\n",
      "Training until validation scores don't improve for 50 rounds\n",
      "Early stopping, best iteration is:\n",
      "[8]\tvalid_0's rmse: 11.9364\n",
      "Training until validation scores don't improve for 50 rounds\n"
     ]
    },
    {
     "name": "stderr",
     "output_type": "stream",
     "text": [
      "[I 2025-06-21 16:26:50,523] Trial 188 finished with value: 11.06998042858557 and parameters: {'num_leaves': 78, 'learning_rate': 0.07092472061312803, 'feature_fraction': 0.6082285610698926, 'bagging_fraction': 0.8910862923578167, 'bagging_freq': 7, 'min_child_samples': 27}. Best is trial 178 with value: 10.962669375502992.\n"
     ]
    },
    {
     "name": "stdout",
     "output_type": "stream",
     "text": [
      "Early stopping, best iteration is:\n",
      "[155]\tvalid_0's rmse: 5.9061\n",
      "Training until validation scores don't improve for 50 rounds\n",
      "Early stopping, best iteration is:\n",
      "[103]\tvalid_0's rmse: 7.26552\n",
      "Training until validation scores don't improve for 50 rounds\n",
      "Early stopping, best iteration is:\n",
      "[110]\tvalid_0's rmse: 19.3309\n",
      "Training until validation scores don't improve for 50 rounds\n",
      "Early stopping, best iteration is:\n",
      "[1]\tvalid_0's rmse: 11.2941\n",
      "Training until validation scores don't improve for 50 rounds\n",
      "Early stopping, best iteration is:\n",
      "[8]\tvalid_0's rmse: 11.8899\n",
      "Training until validation scores don't improve for 50 rounds\n"
     ]
    },
    {
     "name": "stderr",
     "output_type": "stream",
     "text": [
      "[I 2025-06-21 16:27:13,237] Trial 189 finished with value: 11.115545421017378 and parameters: {'num_leaves': 80, 'learning_rate': 0.07323660102746284, 'feature_fraction': 0.610122422839083, 'bagging_fraction': 0.8882963601344354, 'bagging_freq': 8, 'min_child_samples': 27}. Best is trial 178 with value: 10.962669375502992.\n"
     ]
    },
    {
     "name": "stdout",
     "output_type": "stream",
     "text": [
      "Early stopping, best iteration is:\n",
      "[141]\tvalid_0's rmse: 5.79735\n",
      "Training until validation scores don't improve for 50 rounds\n",
      "Early stopping, best iteration is:\n",
      "[183]\tvalid_0's rmse: 7.18235\n",
      "Training until validation scores don't improve for 50 rounds\n",
      "Early stopping, best iteration is:\n",
      "[131]\tvalid_0's rmse: 19.2059\n",
      "Training until validation scores don't improve for 50 rounds\n",
      "Early stopping, best iteration is:\n",
      "[1]\tvalid_0's rmse: 11.2803\n",
      "Training until validation scores don't improve for 50 rounds\n",
      "Early stopping, best iteration is:\n",
      "[12]\tvalid_0's rmse: 11.9361\n",
      "Training until validation scores don't improve for 50 rounds\n"
     ]
    },
    {
     "name": "stderr",
     "output_type": "stream",
     "text": [
      "[I 2025-06-21 16:27:37,527] Trial 190 finished with value: 11.063406589559708 and parameters: {'num_leaves': 78, 'learning_rate': 0.06945091193841475, 'feature_fraction': 0.61731454448145, 'bagging_fraction': 0.8661060877462486, 'bagging_freq': 7, 'min_child_samples': 22}. Best is trial 178 with value: 10.962669375502992.\n"
     ]
    },
    {
     "name": "stdout",
     "output_type": "stream",
     "text": [
      "Early stopping, best iteration is:\n",
      "[135]\tvalid_0's rmse: 5.71238\n",
      "Training until validation scores don't improve for 50 rounds\n",
      "Early stopping, best iteration is:\n",
      "[136]\tvalid_0's rmse: 7.11728\n",
      "Training until validation scores don't improve for 50 rounds\n",
      "Early stopping, best iteration is:\n",
      "[104]\tvalid_0's rmse: 19.6265\n",
      "Training until validation scores don't improve for 50 rounds\n",
      "Early stopping, best iteration is:\n",
      "[1]\tvalid_0's rmse: 11.2739\n",
      "Training until validation scores don't improve for 50 rounds\n",
      "Early stopping, best iteration is:\n",
      "[8]\tvalid_0's rmse: 12.2494\n",
      "Training until validation scores don't improve for 50 rounds\n"
     ]
    },
    {
     "name": "stderr",
     "output_type": "stream",
     "text": [
      "[I 2025-06-21 16:28:05,946] Trial 191 finished with value: 11.195739692244093 and parameters: {'num_leaves': 82, 'learning_rate': 0.06724531835324701, 'feature_fraction': 0.615969919988651, 'bagging_fraction': 0.8665374256502384, 'bagging_freq': 7, 'min_child_samples': 22}. Best is trial 178 with value: 10.962669375502992.\n"
     ]
    },
    {
     "name": "stdout",
     "output_type": "stream",
     "text": [
      "Early stopping, best iteration is:\n",
      "[212]\tvalid_0's rmse: 5.71171\n",
      "Training until validation scores don't improve for 50 rounds\n",
      "Early stopping, best iteration is:\n",
      "[136]\tvalid_0's rmse: 7.16722\n",
      "Training until validation scores don't improve for 50 rounds\n",
      "Early stopping, best iteration is:\n",
      "[114]\tvalid_0's rmse: 19.4582\n",
      "Training until validation scores don't improve for 50 rounds\n",
      "Early stopping, best iteration is:\n",
      "[1]\tvalid_0's rmse: 11.2789\n",
      "Training until validation scores don't improve for 50 rounds\n",
      "Early stopping, best iteration is:\n",
      "[8]\tvalid_0's rmse: 11.8409\n",
      "Training until validation scores don't improve for 50 rounds\n"
     ]
    },
    {
     "name": "stderr",
     "output_type": "stream",
     "text": [
      "[I 2025-06-21 16:28:34,968] Trial 192 finished with value: 11.108935092453533 and parameters: {'num_leaves': 86, 'learning_rate': 0.07530592945498431, 'feature_fraction': 0.6104738660088498, 'bagging_fraction': 0.878342567479324, 'bagging_freq': 7, 'min_child_samples': 25}. Best is trial 178 with value: 10.962669375502992.\n"
     ]
    },
    {
     "name": "stdout",
     "output_type": "stream",
     "text": [
      "Early stopping, best iteration is:\n",
      "[300]\tvalid_0's rmse: 5.79951\n",
      "Training until validation scores don't improve for 50 rounds\n",
      "Early stopping, best iteration is:\n",
      "[303]\tvalid_0's rmse: 7.22915\n",
      "Training until validation scores don't improve for 50 rounds\n",
      "Early stopping, best iteration is:\n",
      "[102]\tvalid_0's rmse: 19.4559\n",
      "Training until validation scores don't improve for 50 rounds\n",
      "Early stopping, best iteration is:\n",
      "[1]\tvalid_0's rmse: 11.2494\n",
      "Training until validation scores don't improve for 50 rounds\n",
      "Early stopping, best iteration is:\n",
      "[12]\tvalid_0's rmse: 12.2598\n",
      "Training until validation scores don't improve for 50 rounds\n"
     ]
    },
    {
     "name": "stderr",
     "output_type": "stream",
     "text": [
      "[I 2025-06-21 16:29:04,625] Trial 193 finished with value: 11.191016541720549 and parameters: {'num_leaves': 79, 'learning_rate': 0.058831197556760056, 'feature_fraction': 0.6241970786065711, 'bagging_fraction': 0.8932909980443466, 'bagging_freq': 8, 'min_child_samples': 24}. Best is trial 178 with value: 10.962669375502992.\n"
     ]
    },
    {
     "name": "stdout",
     "output_type": "stream",
     "text": [
      "Early stopping, best iteration is:\n",
      "[152]\tvalid_0's rmse: 5.76077\n",
      "Training until validation scores don't improve for 50 rounds\n",
      "Early stopping, best iteration is:\n",
      "[54]\tvalid_0's rmse: 7.2264\n",
      "Training until validation scores don't improve for 50 rounds\n",
      "Early stopping, best iteration is:\n",
      "[130]\tvalid_0's rmse: 19.2272\n",
      "Training until validation scores don't improve for 50 rounds\n",
      "Early stopping, best iteration is:\n",
      "[1]\tvalid_0's rmse: 11.2737\n",
      "Training until validation scores don't improve for 50 rounds\n",
      "Early stopping, best iteration is:\n",
      "[8]\tvalid_0's rmse: 12.2273\n",
      "Training until validation scores don't improve for 50 rounds\n"
     ]
    },
    {
     "name": "stderr",
     "output_type": "stream",
     "text": [
      "[I 2025-06-21 16:29:28,193] Trial 194 finished with value: 11.141336688771617 and parameters: {'num_leaves': 78, 'learning_rate': 0.06742190234482322, 'feature_fraction': 0.6078461234866562, 'bagging_fraction': 0.8708996469070622, 'bagging_freq': 7, 'min_child_samples': 27}. Best is trial 178 with value: 10.962669375502992.\n"
     ]
    },
    {
     "name": "stdout",
     "output_type": "stream",
     "text": [
      "Early stopping, best iteration is:\n",
      "[214]\tvalid_0's rmse: 5.7521\n",
      "Training until validation scores don't improve for 50 rounds\n",
      "Early stopping, best iteration is:\n",
      "[89]\tvalid_0's rmse: 7.17202\n",
      "Training until validation scores don't improve for 50 rounds\n",
      "Early stopping, best iteration is:\n",
      "[112]\tvalid_0's rmse: 19.4672\n",
      "Training until validation scores don't improve for 50 rounds\n",
      "Early stopping, best iteration is:\n",
      "[1]\tvalid_0's rmse: 11.2776\n",
      "Training until validation scores don't improve for 50 rounds\n",
      "Early stopping, best iteration is:\n",
      "[8]\tvalid_0's rmse: 11.855\n",
      "Training until validation scores don't improve for 50 rounds\n"
     ]
    },
    {
     "name": "stderr",
     "output_type": "stream",
     "text": [
      "[I 2025-06-21 16:29:54,974] Trial 195 finished with value: 11.094268151784647 and parameters: {'num_leaves': 75, 'learning_rate': 0.07915618217188947, 'feature_fraction': 0.6000180079845499, 'bagging_fraction': 0.8835158402809934, 'bagging_freq': 7, 'min_child_samples': 22}. Best is trial 178 with value: 10.962669375502992.\n"
     ]
    },
    {
     "name": "stdout",
     "output_type": "stream",
     "text": [
      "Early stopping, best iteration is:\n",
      "[176]\tvalid_0's rmse: 5.69955\n",
      "Training until validation scores don't improve for 50 rounds\n",
      "Early stopping, best iteration is:\n",
      "[181]\tvalid_0's rmse: 7.30178\n",
      "Training until validation scores don't improve for 50 rounds\n",
      "Early stopping, best iteration is:\n",
      "[129]\tvalid_0's rmse: 18.6901\n",
      "Training until validation scores don't improve for 50 rounds\n",
      "Early stopping, best iteration is:\n",
      "[1]\tvalid_0's rmse: 11.2454\n",
      "Training until validation scores don't improve for 50 rounds\n",
      "Early stopping, best iteration is:\n",
      "[9]\tvalid_0's rmse: 11.9554\n",
      "Training until validation scores don't improve for 50 rounds\n"
     ]
    },
    {
     "name": "stderr",
     "output_type": "stream",
     "text": [
      "[I 2025-06-21 16:30:23,455] Trial 196 finished with value: 11.006960082661676 and parameters: {'num_leaves': 82, 'learning_rate': 0.0724162765230943, 'feature_fraction': 0.6174073380932346, 'bagging_fraction': 0.898988745142283, 'bagging_freq': 7, 'min_child_samples': 29}. Best is trial 178 with value: 10.962669375502992.\n"
     ]
    },
    {
     "name": "stdout",
     "output_type": "stream",
     "text": [
      "Early stopping, best iteration is:\n",
      "[190]\tvalid_0's rmse: 5.84212\n",
      "Training until validation scores don't improve for 50 rounds\n",
      "Early stopping, best iteration is:\n",
      "[63]\tvalid_0's rmse: 7.26929\n",
      "Training until validation scores don't improve for 50 rounds\n",
      "Early stopping, best iteration is:\n",
      "[119]\tvalid_0's rmse: 19.5405\n",
      "Training until validation scores don't improve for 50 rounds\n",
      "Early stopping, best iteration is:\n",
      "[1]\tvalid_0's rmse: 11.2626\n",
      "Training until validation scores don't improve for 50 rounds\n",
      "Early stopping, best iteration is:\n",
      "[9]\tvalid_0's rmse: 11.9452\n",
      "Training until validation scores don't improve for 50 rounds\n"
     ]
    },
    {
     "name": "stderr",
     "output_type": "stream",
     "text": [
      "[I 2025-06-21 16:30:45,328] Trial 197 finished with value: 11.170061984278785 and parameters: {'num_leaves': 81, 'learning_rate': 0.07502625990860375, 'feature_fraction': 0.616227693912563, 'bagging_fraction': 0.9024856487910624, 'bagging_freq': 7, 'min_child_samples': 29}. Best is trial 178 with value: 10.962669375502992.\n"
     ]
    },
    {
     "name": "stdout",
     "output_type": "stream",
     "text": [
      "Early stopping, best iteration is:\n",
      "[171]\tvalid_0's rmse: 5.83272\n",
      "Training until validation scores don't improve for 50 rounds\n",
      "Early stopping, best iteration is:\n",
      "[155]\tvalid_0's rmse: 7.30872\n",
      "Training until validation scores don't improve for 50 rounds\n",
      "Early stopping, best iteration is:\n",
      "[120]\tvalid_0's rmse: 19.4348\n",
      "Training until validation scores don't improve for 50 rounds\n",
      "Early stopping, best iteration is:\n",
      "[1]\tvalid_0's rmse: 11.1587\n",
      "Training until validation scores don't improve for 50 rounds\n",
      "Early stopping, best iteration is:\n",
      "[1]\tvalid_0's rmse: 13.3419\n",
      "Training until validation scores don't improve for 50 rounds\n"
     ]
    },
    {
     "name": "stderr",
     "output_type": "stream",
     "text": [
      "[I 2025-06-21 16:31:13,536] Trial 198 finished with value: 11.447906370233675 and parameters: {'num_leaves': 83, 'learning_rate': 0.07205404106205054, 'feature_fraction': 0.887436630158644, 'bagging_fraction': 0.8976908271849813, 'bagging_freq': 7, 'min_child_samples': 26}. Best is trial 178 with value: 10.962669375502992.\n"
     ]
    },
    {
     "name": "stdout",
     "output_type": "stream",
     "text": [
      "Early stopping, best iteration is:\n",
      "[191]\tvalid_0's rmse: 5.99547\n",
      "Training until validation scores don't improve for 50 rounds\n",
      "Early stopping, best iteration is:\n",
      "[139]\tvalid_0's rmse: 7.33973\n",
      "Training until validation scores don't improve for 50 rounds\n",
      "Early stopping, best iteration is:\n",
      "[93]\tvalid_0's rmse: 19.5247\n",
      "Training until validation scores don't improve for 50 rounds\n",
      "Early stopping, best iteration is:\n",
      "[1]\tvalid_0's rmse: 11.2319\n",
      "Training until validation scores don't improve for 50 rounds\n",
      "Early stopping, best iteration is:\n",
      "[1]\tvalid_0's rmse: 13.346\n",
      "Training until validation scores don't improve for 50 rounds\n"
     ]
    },
    {
     "name": "stderr",
     "output_type": "stream",
     "text": [
      "[I 2025-06-21 16:31:34,442] Trial 199 finished with value: 11.487922206748584 and parameters: {'num_leaves': 77, 'learning_rate': 0.08076731575862298, 'feature_fraction': 0.9453178528830499, 'bagging_fraction': 0.908627304514234, 'bagging_freq': 7, 'min_child_samples': 31}. Best is trial 178 with value: 10.962669375502992.\n"
     ]
    },
    {
     "name": "stdout",
     "output_type": "stream",
     "text": [
      "Early stopping, best iteration is:\n",
      "[147]\tvalid_0's rmse: 5.99727\n",
      "CPU times: user 1h 6min 4s, sys: 54min 46s, total: 2h 50s\n",
      "Wall time: 52min 38s\n"
     ]
    }
   ],
   "source": [
    "%%time\n",
    "study = optuna.create_study(direction='minimize')\n",
    "study.optimize(objective, n_trials=200)"
   ]
  },
  {
   "cell_type": "code",
   "execution_count": 7,
   "metadata": {},
   "outputs": [
    {
     "name": "stdout",
     "output_type": "stream",
     "text": [
      "LightGBM：ベイズ最適化の結果\n",
      "Best params: {'num_leaves': 72, 'learning_rate': 0.060106329525061244, 'feature_fraction': 0.6001190253500799, 'bagging_fraction': 0.9088733280452314, 'bagging_freq': 6, 'min_child_samples': 28}\n",
      "Best CV RMSE: 10.962669375502992\n"
     ]
    }
   ],
   "source": [
    "print('LightGBM：ベイズ最適化の結果')\n",
    "print('Best params:', study.best_params)\n",
    "print('Best CV RMSE:', study.best_value)\n",
    "best_params = study.best_params\n",
    "best_params.update({\n",
    "    'objective': 'regression',\n",
    "    'metric': 'rmse',\n",
    "    'boosting_type': 'gbdt',\n",
    "    'verbose': -1,\n",
    "    'random_state': 42\n",
    "})\n",
    "train_data = lgb.Dataset(X, y)\n",
    "best_model = lgb.train(best_params, train_data, num_boost_round=1000)"
   ]
  },
  {
   "cell_type": "markdown",
   "metadata": {},
   "source": [
    "履歴：ハイパーパラメータの設定  \n",
    "ランダムフォレスト：グリッドサーチの結果  \n",
    "param_grid = {\n",
    "    'n_estimators': [100, 200],\n",
    "    'max_depth': [None, 10, 20],\n",
    "    'min_samples_split': [2, 5],\n",
    "    'min_samples_leaf': [1, 2]\n",
    "}\n",
    "\n",
    "Best parameters: {'max_depth': None, 'min_samples_leaf': 1, 'min_samples_split': 2, 'n_estimators': 200}  \n",
    "Best score: 19.873329344971545  \n",
    "\n",
    "LightGBM：ベイズ最適化の結果\n",
    "Best params: {'num_leaves': 35, 'learning_rate': 0.07492759888976204, 'feature_fraction': 0.7423968779713126, 'bagging_fraction': 0.8599792857740763, 'bagging_freq': 1, 'min_child_samples': 13}\n",
    "Best CV RMSE: 11.065542044290794"
   ]
  },
  {
   "cell_type": "markdown",
   "metadata": {},
   "source": [
    "## 5. 最適なモデルでの予測と評価"
   ]
  },
  {
   "cell_type": "code",
   "execution_count": 8,
   "metadata": {},
   "outputs": [
    {
     "name": "stdout",
     "output_type": "stream",
     "text": [
      "Selected features: ['generation_biomass', 'generation_fossil_brown_coal/lignite', 'generation_fossil_gas', 'generation_fossil_hard_coal', 'generation_fossil_oil', 'generation_hydro_pumped_storage_consumption', 'generation_hydro_run_of_river_and_poundage', 'generation_hydro_water_reservoir', 'generation_nuclear', 'generation_other', 'generation_other_renewable', 'generation_solar', 'generation_waste', 'generation_wind_onshore', 'total_load_actual', 'valencia_temp', 'valencia_temp_min', 'valencia_temp_max', 'valencia_pressure', 'valencia_humidity', 'valencia_wind_speed', 'valencia_wind_deg', 'valencia_clouds_all', 'valencia_weather_description', 'valencia_weather_icon', 'madrid_temp', 'madrid_temp_min', 'madrid_temp_max', 'madrid_pressure', 'madrid_humidity', 'madrid_wind_speed', 'madrid_wind_deg', 'madrid_clouds_all', 'madrid_weather_id', 'madrid_weather_icon', 'bilbao_temp', 'bilbao_temp_min', 'bilbao_temp_max', 'bilbao_pressure', 'bilbao_humidity', 'bilbao_wind_speed', 'bilbao_wind_deg', 'bilbao_clouds_all', 'bilbao_weather_id', 'bilbao_weather_main', 'bilbao_weather_description', 'bilbao_weather_icon', 'barcelona_temp', 'barcelona_temp_min', 'barcelona_temp_max', 'barcelona_pressure', 'barcelona_humidity', 'barcelona_wind_speed', 'barcelona_wind_deg', 'barcelona_clouds_all', 'barcelona_weather_description', 'barcelona_weather_icon', 'seville_temp', 'seville_temp_min', 'seville_temp_max', 'seville_pressure', 'seville_humidity', 'seville_wind_speed', 'seville_wind_deg', 'seville_clouds_all', 'seville_weather_icon', 'hour', 'day_of_week', 'month', 'day', 'year', 'is_weekend', 'is_holiday', 'is_peak_hour', 'is_off_hour', 'generation_biomass_ratio', 'generation_fossil_brown_coal/lignite_ratio', 'generation_fossil_gas_ratio', 'generation_fossil_hard_coal_ratio', 'generation_fossil_oil_ratio', 'generation_hydro_pumped_storage_consumption_ratio', 'generation_hydro_run_of_river_and_poundage_ratio', 'generation_hydro_water_reservoir_ratio', 'generation_nuclear_ratio', 'generation_other_ratio', 'generation_other_renewable_ratio', 'generation_solar_ratio', 'generation_waste_ratio', 'generation_wind_onshore_ratio', 'valencia_temp_diff', 'non_fossil_generation', 'demand_non_fossil_diff', 'is_holiday_or_weekend_flag', 'is_next_day_holiday_or_weekend_flag', 'is_previous_day_holiday_or_weekend_flag', 'consecutive_holiday_or_weekend_flag']\n"
     ]
    }
   ],
   "source": [
    "# 特徴量重要度で下位20%を除外し再学習\n",
    "importances = best_model.feature_importance(importance_type='gain')\n",
    "threshold = np.percentile(importances, 20)\n",
    "selected_features = [f for f, imp in zip(feature_cols, importances) if imp > threshold]\n",
    "print('Selected features:', selected_features)\n",
    "train_data_selected = lgb.Dataset(X[selected_features], y)\n",
    "best_model = lgb.train(best_params, train_data_selected, num_boost_round=1000)"
   ]
  },
  {
   "cell_type": "markdown",
   "metadata": {},
   "source": [
    "## 6. テストデータへの予測と保存"
   ]
  },
  {
   "cell_type": "code",
   "execution_count": 9,
   "metadata": {},
   "outputs": [
    {
     "name": "stdout",
     "output_type": "stream",
     "text": [
      "Saved: submission_lightgbm.csv\n"
     ]
    }
   ],
   "source": [
    "# テストデータ予測と提出ファイル出力（フォーマット厳守）\n",
    "X_test = test[selected_features]\n",
    "test_pred = best_model.predict(X_test)\n",
    "submission = test[['time']].copy()\n",
    "submission['price_actual_pred'] = test_pred\n",
    "assert submission.iloc[0,0] == '2018-01-01 00:00:00+01:00', '1行1列目が要件を満たしません'\n",
    "submission.to_csv(DATA_DIR / 'submission_lightgbm.csv', index=False, header=False)\n",
    "print('Saved: submission_lightgbm.csv')"
   ]
  },
  {
   "cell_type": "code",
   "execution_count": 10,
   "metadata": {},
   "outputs": [
    {
     "data": {
      "text/html": [
       "<div>\n",
       "<style scoped>\n",
       "    .dataframe tbody tr th:only-of-type {\n",
       "        vertical-align: middle;\n",
       "    }\n",
       "\n",
       "    .dataframe tbody tr th {\n",
       "        vertical-align: top;\n",
       "    }\n",
       "\n",
       "    .dataframe thead th {\n",
       "        text-align: right;\n",
       "    }\n",
       "</style>\n",
       "<table border=\"1\" class=\"dataframe\">\n",
       "  <thead>\n",
       "    <tr style=\"text-align: right;\">\n",
       "      <th></th>\n",
       "      <th>time</th>\n",
       "      <th>price_actual_pred</th>\n",
       "    </tr>\n",
       "  </thead>\n",
       "  <tbody>\n",
       "    <tr>\n",
       "      <th>0</th>\n",
       "      <td>2018-01-01 00:00:00+01:00</td>\n",
       "      <td>36.950365</td>\n",
       "    </tr>\n",
       "    <tr>\n",
       "      <th>1</th>\n",
       "      <td>2018-01-01 01:00:00+01:00</td>\n",
       "      <td>35.786768</td>\n",
       "    </tr>\n",
       "    <tr>\n",
       "      <th>2</th>\n",
       "      <td>2018-01-01 02:00:00+01:00</td>\n",
       "      <td>39.244586</td>\n",
       "    </tr>\n",
       "    <tr>\n",
       "      <th>3</th>\n",
       "      <td>2018-01-01 03:00:00+01:00</td>\n",
       "      <td>40.265419</td>\n",
       "    </tr>\n",
       "    <tr>\n",
       "      <th>4</th>\n",
       "      <td>2018-01-01 04:00:00+01:00</td>\n",
       "      <td>38.528570</td>\n",
       "    </tr>\n",
       "    <tr>\n",
       "      <th>...</th>\n",
       "      <td>...</td>\n",
       "      <td>...</td>\n",
       "    </tr>\n",
       "    <tr>\n",
       "      <th>8755</th>\n",
       "      <td>2018-12-31 19:00:00+01:00</td>\n",
       "      <td>70.622008</td>\n",
       "    </tr>\n",
       "    <tr>\n",
       "      <th>8756</th>\n",
       "      <td>2018-12-31 20:00:00+01:00</td>\n",
       "      <td>71.074073</td>\n",
       "    </tr>\n",
       "    <tr>\n",
       "      <th>8757</th>\n",
       "      <td>2018-12-31 21:00:00+01:00</td>\n",
       "      <td>65.407496</td>\n",
       "    </tr>\n",
       "    <tr>\n",
       "      <th>8758</th>\n",
       "      <td>2018-12-31 22:00:00+01:00</td>\n",
       "      <td>61.981665</td>\n",
       "    </tr>\n",
       "    <tr>\n",
       "      <th>8759</th>\n",
       "      <td>2018-12-31 23:00:00+01:00</td>\n",
       "      <td>60.089849</td>\n",
       "    </tr>\n",
       "  </tbody>\n",
       "</table>\n",
       "<p>8760 rows × 2 columns</p>\n",
       "</div>"
      ],
      "text/plain": [
       "                           time  price_actual_pred\n",
       "0     2018-01-01 00:00:00+01:00          36.950365\n",
       "1     2018-01-01 01:00:00+01:00          35.786768\n",
       "2     2018-01-01 02:00:00+01:00          39.244586\n",
       "3     2018-01-01 03:00:00+01:00          40.265419\n",
       "4     2018-01-01 04:00:00+01:00          38.528570\n",
       "...                         ...                ...\n",
       "8755  2018-12-31 19:00:00+01:00          70.622008\n",
       "8756  2018-12-31 20:00:00+01:00          71.074073\n",
       "8757  2018-12-31 21:00:00+01:00          65.407496\n",
       "8758  2018-12-31 22:00:00+01:00          61.981665\n",
       "8759  2018-12-31 23:00:00+01:00          60.089849\n",
       "\n",
       "[8760 rows x 2 columns]"
      ]
     },
     "execution_count": 10,
     "metadata": {},
     "output_type": "execute_result"
    }
   ],
   "source": [
    "submission"
   ]
  },
  {
   "cell_type": "code",
   "execution_count": null,
   "metadata": {},
   "outputs": [],
   "source": []
  }
 ],
 "metadata": {
  "kernelspec": {
   "display_name": "Python 3 (ipykernel)",
   "language": "python",
   "name": "python3"
  },
  "language_info": {
   "codemirror_mode": {
    "name": "ipython",
    "version": 3
   },
   "file_extension": ".py",
   "mimetype": "text/x-python",
   "name": "python",
   "nbconvert_exporter": "python",
   "pygments_lexer": "ipython3",
   "version": "3.12.3"
  }
 },
 "nbformat": 4,
 "nbformat_minor": 4
}
