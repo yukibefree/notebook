{
  "cells": [
    {
      "cell_type": "markdown",
      "metadata": {},
      "source": [
        "# データ前処理\n",
        "\n",
        "このノートブックでは、データの前処理を実施し、その効果を確認します。"
      ]
    },
    {
      "cell_type": "markdown",
      "metadata": {},
      "source": [
        "## 1. 環境設定とデータ読み込み"
      ]
    },
    {
      "cell_type": "code",
      "execution_count": null,
      "metadata": {},
      "outputs": [
        {
          "name": "stdout",
          "output_type": "stream",
          "text": [
            "/Users/m0122wt/Desktop/02.プライベート/01.ノウハウ/07.データ分析/notebook/signate_smbc_202506/data\n"
          ]
        }
      ],
      "source": [
        "import pandas as pd\n",
        "import numpy as np\n",
        "import matplotlib.pyplot as plt\n",
        "import seaborn as sns\n",
        "from pathlib import Path\n",
        "import japanize_matplotlib\n",
        "\n",
        "# プロジェクトのルートディレクトリを設定\n",
        "PROJECT_ROOT = Path.cwd()\n",
        "\n",
        "# データディレクトリのパスを設定\n",
        "DATA_DIR = PROJECT_ROOT / \"data\"\n",
        "print(DATA_DIR)\n",
        "# データ読み込み用の関数をインポート\n",
        "from src.data_loader import load_data, preprocess_time, check_missing_values\n",
        "from src.preprocessor import DataPreprocessor"
      ]
    },
    {
      "cell_type": "markdown",
      "metadata": {},
      "source": [
        "### 1.1 データの読み込み"
      ]
    },
    {
      "cell_type": "code",
      "execution_count": 2,
      "metadata": {},
      "outputs": [
        {
          "name": "stdout",
          "output_type": "stream",
          "text": [
            "訓練データの形状: (26280, 91)\n",
            "テストデータの形状: (8760, 90)\n"
          ]
        }
      ],
      "source": [
        "# データの読み込み\n",
        "train_df, test_df, feature_desc = load_data(DATA_DIR)\n",
        "\n",
        "print(\"訓練データの形状:\", train_df.shape)\n",
        "print(\"テストデータの形状:\", test_df.shape)"
      ]
    },
    {
      "cell_type": "markdown",
      "metadata": {},
      "source": [
        "### 1.2 時間特徴量の前処理"
      ]
    },
    {
      "cell_type": "code",
      "execution_count": 3,
      "metadata": {},
      "outputs": [
        {
          "name": "stdout",
          "output_type": "stream",
          "text": [
            "時間関連の特徴量:\n",
            "['hour', 'day_of_week', 'month', 'year']\n"
          ]
        }
      ],
      "source": [
        "# 時間特徴量の前処理\n",
        "train_df = preprocess_time(train_df)\n",
        "test_df = preprocess_time(test_df)\n",
        "\n",
        "# 時間関連の特徴量を確認\n",
        "time_features = [col for col in train_df.columns if col in ['hour', 'day_of_week', 'month', 'year']]\n",
        "print(\"時間関連の特徴量:\")\n",
        "print(time_features)"
      ]
    },
    {
      "cell_type": "markdown",
      "metadata": {},
      "source": [
        "## 2. データ前処理の実行"
      ]
    },
    {
      "cell_type": "code",
      "execution_count": 4,
      "metadata": {},
      "outputs": [
        {
          "name": "stdout",
          "output_type": "stream",
          "text": [
            "データ型： datetime64[ns, Asia/Tokyo]\n",
            "インデックスをdatetimeに変換しました\n",
            "数値型に変換可能な列: []\n",
            "カテゴリカル列: ['valencia_weather_main', 'valencia_weather_description', 'valencia_weather_icon', 'madrid_weather_main', 'madrid_weather_description', 'madrid_weather_icon', 'bilbao_weather_main', 'bilbao_weather_description', 'bilbao_weather_icon', 'barcelona_weather_main', 'barcelona_weather_description', 'barcelona_weather_icon', 'seville_weather_main', 'seville_weather_description', 'seville_weather_icon']\n",
            "データ型： datetime64[ns, Asia/Tokyo]\n",
            "インデックスをdatetimeに変換しました\n",
            "数値型に変換可能な列: []\n",
            "カテゴリカル列: ['valencia_weather_main', 'valencia_weather_description', 'valencia_weather_icon', 'madrid_weather_main', 'madrid_weather_description', 'madrid_weather_icon', 'bilbao_weather_main', 'bilbao_weather_description', 'bilbao_weather_icon', 'barcelona_weather_main', 'barcelona_weather_description', 'barcelona_weather_icon', 'seville_weather_main', 'seville_weather_description', 'seville_weather_icon']\n",
            "前処理後の訓練データの形状: (26280, 114)\n",
            "前処理後のテストデータの形状: (8760, 113)\n"
          ]
        }
      ],
      "source": [
        "# 前処理クラスのインスタンス化\n",
        "preprocessor = DataPreprocessor()\n",
        "\n",
        "# 訓練データの前処理\n",
        "train_processed = preprocessor.fit_transform(train_df.copy())\n",
        "\n",
        "# テストデータの前処理\n",
        "test_processed = preprocessor.transform(test_df.copy())\n",
        "\n",
        "print(\"前処理後の訓練データの形状:\", train_processed.shape)\n",
        "print(\"前処理後のテストデータの形状:\", test_processed.shape)"
      ]
    },
    {
      "cell_type": "markdown",
      "metadata": {},
      "source": [
        "## 3. 前処理の効果確認"
      ]
    },
    {
      "cell_type": "markdown",
      "metadata": {},
      "source": [
        "### 3.1 欠損値の確認"
      ]
    },
    {
      "cell_type": "code",
      "execution_count": 5,
      "metadata": {},
      "outputs": [
        {
          "name": "stdout",
          "output_type": "stream",
          "text": [
            "前処理前の欠損値:\n",
            "欠損値があるカラム、欠損値の数、全レコードに対する割合:\n"
          ]
        },
        {
          "data": {
            "text/html": [
              "<div>\n",
              "<style scoped>\n",
              "    .dataframe tbody tr th:only-of-type {\n",
              "        vertical-align: middle;\n",
              "    }\n",
              "\n",
              "    .dataframe tbody tr th {\n",
              "        vertical-align: top;\n",
              "    }\n",
              "\n",
              "    .dataframe thead th {\n",
              "        text-align: right;\n",
              "    }\n",
              "</style>\n",
              "<table border=\"1\" class=\"dataframe\">\n",
              "  <thead>\n",
              "    <tr style=\"text-align: right;\">\n",
              "      <th></th>\n",
              "      <th>カラム名</th>\n",
              "      <th>欠損値の数</th>\n",
              "      <th>全レコードに対する割合 (%)</th>\n",
              "    </tr>\n",
              "  </thead>\n",
              "  <tbody>\n",
              "    <tr>\n",
              "      <th>0</th>\n",
              "      <td>generation_biomass</td>\n",
              "      <td>21</td>\n",
              "      <td>0.08%</td>\n",
              "    </tr>\n",
              "    <tr>\n",
              "      <th>1</th>\n",
              "      <td>generation_fossil_brown_coal/lignite</td>\n",
              "      <td>20</td>\n",
              "      <td>0.08%</td>\n",
              "    </tr>\n",
              "    <tr>\n",
              "      <th>2</th>\n",
              "      <td>generation_fossil_gas</td>\n",
              "      <td>20</td>\n",
              "      <td>0.08%</td>\n",
              "    </tr>\n",
              "    <tr>\n",
              "      <th>3</th>\n",
              "      <td>generation_fossil_hard_coal</td>\n",
              "      <td>20</td>\n",
              "      <td>0.08%</td>\n",
              "    </tr>\n",
              "    <tr>\n",
              "      <th>4</th>\n",
              "      <td>generation_fossil_oil</td>\n",
              "      <td>21</td>\n",
              "      <td>0.08%</td>\n",
              "    </tr>\n",
              "    <tr>\n",
              "      <th>5</th>\n",
              "      <td>generation_hydro_pumped_storage_consumption</td>\n",
              "      <td>21</td>\n",
              "      <td>0.08%</td>\n",
              "    </tr>\n",
              "    <tr>\n",
              "      <th>6</th>\n",
              "      <td>generation_hydro_run_of_river_and_poundage</td>\n",
              "      <td>21</td>\n",
              "      <td>0.08%</td>\n",
              "    </tr>\n",
              "    <tr>\n",
              "      <th>7</th>\n",
              "      <td>generation_hydro_water_reservoir</td>\n",
              "      <td>20</td>\n",
              "      <td>0.08%</td>\n",
              "    </tr>\n",
              "    <tr>\n",
              "      <th>8</th>\n",
              "      <td>generation_nuclear</td>\n",
              "      <td>19</td>\n",
              "      <td>0.07%</td>\n",
              "    </tr>\n",
              "    <tr>\n",
              "      <th>9</th>\n",
              "      <td>generation_other</td>\n",
              "      <td>20</td>\n",
              "      <td>0.08%</td>\n",
              "    </tr>\n",
              "    <tr>\n",
              "      <th>10</th>\n",
              "      <td>generation_other_renewable</td>\n",
              "      <td>20</td>\n",
              "      <td>0.08%</td>\n",
              "    </tr>\n",
              "    <tr>\n",
              "      <th>11</th>\n",
              "      <td>generation_solar</td>\n",
              "      <td>20</td>\n",
              "      <td>0.08%</td>\n",
              "    </tr>\n",
              "    <tr>\n",
              "      <th>12</th>\n",
              "      <td>generation_waste</td>\n",
              "      <td>21</td>\n",
              "      <td>0.08%</td>\n",
              "    </tr>\n",
              "    <tr>\n",
              "      <th>13</th>\n",
              "      <td>generation_wind_onshore</td>\n",
              "      <td>20</td>\n",
              "      <td>0.08%</td>\n",
              "    </tr>\n",
              "    <tr>\n",
              "      <th>14</th>\n",
              "      <td>total_load_actual</td>\n",
              "      <td>37</td>\n",
              "      <td>0.14%</td>\n",
              "    </tr>\n",
              "  </tbody>\n",
              "</table>\n",
              "</div>"
            ],
            "text/plain": [
              "                                           カラム名  欠損値の数 全レコードに対する割合 (%)\n",
              "0                            generation_biomass     21           0.08%\n",
              "1          generation_fossil_brown_coal/lignite     20           0.08%\n",
              "2                         generation_fossil_gas     20           0.08%\n",
              "3                   generation_fossil_hard_coal     20           0.08%\n",
              "4                         generation_fossil_oil     21           0.08%\n",
              "5   generation_hydro_pumped_storage_consumption     21           0.08%\n",
              "6    generation_hydro_run_of_river_and_poundage     21           0.08%\n",
              "7              generation_hydro_water_reservoir     20           0.08%\n",
              "8                            generation_nuclear     19           0.07%\n",
              "9                              generation_other     20           0.08%\n",
              "10                   generation_other_renewable     20           0.08%\n",
              "11                             generation_solar     20           0.08%\n",
              "12                             generation_waste     21           0.08%\n",
              "13                      generation_wind_onshore     20           0.08%\n",
              "14                            total_load_actual     37           0.14%"
            ]
          },
          "metadata": {},
          "output_type": "display_data"
        },
        {
          "name": "stdout",
          "output_type": "stream",
          "text": [
            "\n",
            "前処理後の欠損値:\n",
            "欠損値があるカラムはありません。\n"
          ]
        }
      ],
      "source": [
        "# 欠損値の確認\n",
        "print(\"前処理前の欠損値:\")\n",
        "check_missing_values(train_df)\n",
        "\n",
        "print(\"\\n前処理後の欠損値:\")\n",
        "check_missing_values(train_processed)"
      ]
    },
    {
      "cell_type": "markdown",
      "metadata": {},
      "source": [
        "### 3.2 外れ値の確認"
      ]
    },
    {
      "cell_type": "code",
      "execution_count": 6,
      "metadata": {},
      "outputs": [
        {
          "data": {
            "image/png": "[encoded data removed]",
            "text/plain": [
              "<Figure size 1500x500 with 2 Axes>"
            ]
          },
          "metadata": {},
          "output_type": "display_data"
        }
      ],
      "source": [
        "# 目的変数の分布を確認\n",
        "fig, (ax1, ax2) = plt.subplots(1, 2, figsize=(15, 5))\n",
        "\n",
        "# 前処理前\n",
        "sns.histplot(train_df['price_actual'], kde=True, ax=ax1)\n",
        "ax1.set_title('前処理前の価格分布')\n",
        "\n",
        "# 前処理後\n",
        "sns.histplot(train_processed['price_actual'], kde=True, ax=ax2)\n",
        "ax2.set_title('前処理後の価格分布')\n",
        "\n",
        "plt.tight_layout()\n",
        "plt.show()"
      ]
    },
    {
      "cell_type": "markdown",
      "metadata": {},
      "source": [
        "### 3.3 特徴量エンジニアリングの確認"
      ]
    },
    {
      "cell_type": "code",
      "execution_count": 7,
      "metadata": {},
      "outputs": [
        {
          "name": "stdout",
          "output_type": "stream",
          "text": [
            "新しく追加された特徴量:\n",
            "['generation_biomass_ratio', 'generation_fossil_brown_coal/lignite_ratio', 'generation_fossil_gas_ratio', 'generation_fossil_hard_coal_ratio', 'generation_fossil_oil_ratio', 'generation_hydro_pumped_storage_consumption_ratio', 'generation_hydro_run_of_river_and_poundage_ratio', 'generation_hydro_water_reservoir_ratio', 'generation_nuclear_ratio', 'generation_other_ratio', 'generation_other_renewable_ratio', 'generation_solar_ratio', 'generation_waste_ratio', 'generation_wind_onshore_ratio', 'is_holiday', 'is_peak_hour', 'is_weekend', 'time']\n"
          ]
        }
      ],
      "source": [
        "# 新しく追加された特徴量を確認\n",
        "new_features = set(train_processed.columns) - set(train_df.columns)\n",
        "print(\"新しく追加された特徴量:\")\n",
        "print(sorted(list(new_features)))"
      ]
    },
    {
      "cell_type": "markdown",
      "metadata": {},
      "source": [
        "### 3.4 スケーリングの確認"
      ]
    },
    {
      "cell_type": "code",
      "execution_count": 8,
      "metadata": {},
      "outputs": [
        {
          "name": "stdout",
          "output_type": "stream",
          "text": [
            "前処理後の数値特徴量の統計量:\n",
            "       generation_biomass  generation_fossil_brown_coal/lignite  \\\n",
            "count        2.628000e+04                          2.628000e+04   \n",
            "mean         3.114708e-16                          5.191180e-17   \n",
            "std          1.000019e+00                          1.000019e+00   \n",
            "min         -2.956821e+00                         -1.313243e+00   \n",
            "25%         -6.431197e-01                         -1.313243e+00   \n",
            "50%         -2.325349e-01                          2.301513e-01   \n",
            "75%          8.993476e-01                          1.048369e+00   \n",
            "max          2.142199e+00                          1.420535e+00   \n",
            "\n",
            "       generation_fossil_gas  generation_fossil_hard_coal  \\\n",
            "count           2.628000e+04                 2.628000e+04   \n",
            "mean           -8.651966e-17                -1.687133e-16   \n",
            "std             1.000019e+00                 1.000019e+00   \n",
            "min            -2.487417e+00                -2.188369e+00   \n",
            "25%            -7.205647e-01                -8.978555e-01   \n",
            "50%            -2.930919e-01                 1.565420e-01   \n",
            "75%             4.573366e-01                 8.183565e-01   \n",
            "max             2.224189e+00                 1.927782e+00   \n",
            "\n",
            "       generation_fossil_oil  generation_hydro_pumped_storage_consumption  \\\n",
            "count           2.628000e+04                                 26280.000000   \n",
            "mean           -5.018140e-16                                     0.000000   \n",
            "std             1.000019e+00                                     1.000019   \n",
            "min            -2.553866e+00                                    -0.721077   \n",
            "25%            -6.628809e-01                                    -0.721077   \n",
            "50%            -1.401364e-02                                    -0.570257   \n",
            "75%             5.977755e-01                                     0.456677   \n",
            "max             2.488760e+00                                     2.223308   \n",
            "\n",
            "       generation_hydro_run_of_river_and_poundage  \\\n",
            "count                                2.628000e+04   \n",
            "mean                                 1.557354e-16   \n",
            "std                                  1.000019e+00   \n",
            "min                                 -2.397151e+00   \n",
            "25%                                 -7.926416e-01   \n",
            "50%                                 -2.497015e-01   \n",
            "75%                                  7.038202e-01   \n",
            "max                                  2.840465e+00   \n",
            "\n",
            "       generation_hydro_water_reservoir  generation_nuclear  generation_other  \\\n",
            "count                      2.628000e+04        2.628000e+04      2.628000e+04   \n",
            "mean                      -3.460787e-17       -5.277699e-16     -6.921573e-17   \n",
            "std                        1.000019e+00        1.000019e+00      1.000019e+00   \n",
            "min                       -1.349072e+00       -2.657847e+00     -2.604046e+00   \n",
            "25%                       -8.349147e-01       -5.177122e-01     -4.402617e-01   \n",
            "50%                       -2.754380e-01        4.960038e-01     -2.075968e-01   \n",
            "75%                        6.277096e-01        9.090444e-01      1.002261e+00   \n",
            "max                        2.821646e+00        9.638728e-01      2.025987e+00   \n",
            "\n",
            "       ...  generation_fossil_oil_ratio  \\\n",
            "count  ...                 26280.000000   \n",
            "mean   ...                     0.010793   \n",
            "std    ...                     0.001950   \n",
            "min    ...                     0.004834   \n",
            "25%    ...                     0.009507   \n",
            "50%    ...                     0.010671   \n",
            "75%    ...                     0.012020   \n",
            "max    ...                     0.030846   \n",
            "\n",
            "       generation_hydro_pumped_storage_consumption_ratio  \\\n",
            "count                                       26280.000000   \n",
            "mean                                            0.016004   \n",
            "std                                             0.022230   \n",
            "min                                             0.000000   \n",
            "25%                                             0.000000   \n",
            "50%                                             0.003201   \n",
            "75%                                             0.026463   \n",
            "max                                             0.084573   \n",
            "\n",
            "       generation_hydro_run_of_river_and_poundage_ratio  \\\n",
            "count                                      26280.000000   \n",
            "mean                                           0.031446   \n",
            "std                                            0.013247   \n",
            "min                                            0.000000   \n",
            "25%                                            0.020974   \n",
            "50%                                            0.028034   \n",
            "75%                                            0.040229   \n",
            "max                                            0.083279   \n",
            "\n",
            "       generation_hydro_water_reservoir_ratio  generation_nuclear_ratio  \\\n",
            "count                            26280.000000              26280.000000   \n",
            "mean                                 0.085581                  0.226652   \n",
            "std                                  0.060639                  0.043716   \n",
            "min                                  0.000000                  0.116453   \n",
            "25%                                  0.035714                  0.196685   \n",
            "50%                                  0.070563                  0.223566   \n",
            "75%                                  0.121369                  0.253655   \n",
            "max                                  0.312173                  0.848303   \n",
            "\n",
            "       generation_other_ratio  generation_other_renewable_ratio  \\\n",
            "count            26280.000000                      26280.000000   \n",
            "mean                 0.002216                          0.002931   \n",
            "std                  0.000775                          0.000666   \n",
            "min                  0.000199                          0.001267   \n",
            "25%                  0.001803                          0.002427   \n",
            "50%                  0.002200                          0.002849   \n",
            "75%                  0.002761                          0.003368   \n",
            "max                  0.004476                          0.007340   \n",
            "\n",
            "       generation_solar_ratio  generation_waste_ratio  \\\n",
            "count            26280.000000            26280.000000   \n",
            "mean                 0.048852                0.009351   \n",
            "std                  0.055860                0.002439   \n",
            "min                  0.000000                0.003268   \n",
            "25%                  0.002877                0.007630   \n",
            "50%                  0.023329                0.009287   \n",
            "75%                  0.087166                0.010963   \n",
            "max                  0.236518                0.020905   \n",
            "\n",
            "       generation_wind_onshore_ratio  \n",
            "count                   26280.000000  \n",
            "mean                        0.188474  \n",
            "std                         0.101636  \n",
            "min                         0.000000  \n",
            "25%                         0.107881  \n",
            "50%                         0.173232  \n",
            "75%                         0.256606  \n",
            "max                         0.505205  \n",
            "\n",
            "[8 rows x 113 columns]\n"
          ]
        }
      ],
      "source": [
        "# 数値型の特徴量の統計量を確認\n",
        "numeric_features = train_processed.select_dtypes(include=[np.number]).columns\n",
        "print(\"前処理後の数値特徴量の統計量:\")\n",
        "print(train_processed[numeric_features].describe())"
      ]
    },
    {
      "cell_type": "markdown",
      "metadata": {},
      "source": [
        "## 4. 前処理済みデータの保存"
      ]
    },
    {
      "cell_type": "code",
      "execution_count": 9,
      "metadata": {},
      "outputs": [
        {
          "data": {
            "text/html": [
              "<div>\n",
              "<style scoped>\n",
              "    .dataframe tbody tr th:only-of-type {\n",
              "        vertical-align: middle;\n",
              "    }\n",
              "\n",
              "    .dataframe tbody tr th {\n",
              "        vertical-align: top;\n",
              "    }\n",
              "\n",
              "    .dataframe thead th {\n",
              "        text-align: right;\n",
              "    }\n",
              "</style>\n",
              "<table border=\"1\" class=\"dataframe\">\n",
              "  <thead>\n",
              "    <tr style=\"text-align: right;\">\n",
              "      <th></th>\n",
              "    </tr>\n",
              "    <tr>\n",
              "      <th>time</th>\n",
              "    </tr>\n",
              "  </thead>\n",
              "  <tbody>\n",
              "    <tr>\n",
              "      <th>2015-01-02 08:00:00+09:00</th>\n",
              "    </tr>\n",
              "    <tr>\n",
              "      <th>2015-01-02 09:00:00+09:00</th>\n",
              "    </tr>\n",
              "    <tr>\n",
              "      <th>2015-01-02 10:00:00+09:00</th>\n",
              "    </tr>\n",
              "    <tr>\n",
              "      <th>2015-01-02 11:00:00+09:00</th>\n",
              "    </tr>\n",
              "    <tr>\n",
              "      <th>2015-01-02 12:00:00+09:00</th>\n",
              "    </tr>\n",
              "    <tr>\n",
              "      <th>...</th>\n",
              "    </tr>\n",
              "    <tr>\n",
              "      <th>2018-01-01 03:00:00+09:00</th>\n",
              "    </tr>\n",
              "    <tr>\n",
              "      <th>2018-01-01 04:00:00+09:00</th>\n",
              "    </tr>\n",
              "    <tr>\n",
              "      <th>2018-01-01 05:00:00+09:00</th>\n",
              "    </tr>\n",
              "    <tr>\n",
              "      <th>2018-01-01 06:00:00+09:00</th>\n",
              "    </tr>\n",
              "    <tr>\n",
              "      <th>2018-01-01 07:00:00+09:00</th>\n",
              "    </tr>\n",
              "  </tbody>\n",
              "</table>\n",
              "<p>26280 rows × 0 columns</p>\n",
              "</div>"
            ],
            "text/plain": [
              "Empty DataFrame\n",
              "Columns: []\n",
              "Index: [2015-01-02 08:00:00+09:00, 2015-01-02 09:00:00+09:00, 2015-01-02 10:00:00+09:00, 2015-01-02 11:00:00+09:00, 2015-01-02 12:00:00+09:00, 2015-01-02 13:00:00+09:00, 2015-01-02 14:00:00+09:00, 2015-01-02 15:00:00+09:00, 2015-01-02 16:00:00+09:00, 2015-01-02 17:00:00+09:00, 2015-01-02 18:00:00+09:00, 2015-01-02 19:00:00+09:00, 2015-01-02 20:00:00+09:00, 2015-01-02 21:00:00+09:00, 2015-01-02 22:00:00+09:00, 2015-01-02 23:00:00+09:00, 2015-01-03 00:00:00+09:00, 2015-01-03 01:00:00+09:00, 2015-01-03 02:00:00+09:00, 2015-01-03 03:00:00+09:00, 2015-01-03 04:00:00+09:00, 2015-01-03 05:00:00+09:00, 2015-01-03 06:00:00+09:00, 2015-01-03 07:00:00+09:00, 2015-01-03 08:00:00+09:00, 2015-01-03 09:00:00+09:00, 2015-01-03 10:00:00+09:00, 2015-01-03 11:00:00+09:00, 2015-01-03 12:00:00+09:00, 2015-01-03 13:00:00+09:00, 2015-01-03 14:00:00+09:00, 2015-01-03 15:00:00+09:00, 2015-01-03 16:00:00+09:00, 2015-01-03 17:00:00+09:00, 2015-01-03 18:00:00+09:00, 2015-01-03 19:00:00+09:00, 2015-01-03 20:00:00+09:00, 2015-01-03 21:00:00+09:00, 2015-01-03 22:00:00+09:00, 2015-01-03 23:00:00+09:00, 2015-01-04 00:00:00+09:00, 2015-01-04 01:00:00+09:00, 2015-01-04 02:00:00+09:00, 2015-01-04 03:00:00+09:00, 2015-01-04 04:00:00+09:00, 2015-01-04 05:00:00+09:00, 2015-01-04 06:00:00+09:00, 2015-01-04 07:00:00+09:00, 2015-01-04 08:00:00+09:00, 2015-01-04 09:00:00+09:00, 2015-01-04 10:00:00+09:00, 2015-01-04 11:00:00+09:00, 2015-01-04 12:00:00+09:00, 2015-01-04 13:00:00+09:00, 2015-01-04 14:00:00+09:00, 2015-01-04 15:00:00+09:00, 2015-01-04 16:00:00+09:00, 2015-01-04 17:00:00+09:00, 2015-01-04 18:00:00+09:00, 2015-01-04 19:00:00+09:00, 2015-01-04 20:00:00+09:00, 2015-01-04 21:00:00+09:00, 2015-01-04 22:00:00+09:00, 2015-01-04 23:00:00+09:00, 2015-01-05 00:00:00+09:00, 2015-01-05 01:00:00+09:00, 2015-01-05 02:00:00+09:00, 2015-01-05 03:00:00+09:00, 2015-01-05 04:00:00+09:00, 2015-01-05 05:00:00+09:00, 2015-01-05 06:00:00+09:00, 2015-01-05 07:00:00+09:00, 2015-01-05 08:00:00+09:00, 2015-01-05 09:00:00+09:00, 2015-01-05 10:00:00+09:00, 2015-01-05 11:00:00+09:00, 2015-01-05 12:00:00+09:00, 2015-01-05 13:00:00+09:00, 2015-01-05 14:00:00+09:00, 2015-01-05 15:00:00+09:00, 2015-01-05 16:00:00+09:00, 2015-01-05 17:00:00+09:00, 2015-01-05 18:00:00+09:00, 2015-01-05 19:00:00+09:00, 2015-01-05 20:00:00+09:00, 2015-01-05 21:00:00+09:00, 2015-01-05 22:00:00+09:00, 2015-01-05 23:00:00+09:00, 2015-01-06 00:00:00+09:00, 2015-01-06 01:00:00+09:00, 2015-01-06 02:00:00+09:00, 2015-01-06 03:00:00+09:00, 2015-01-06 04:00:00+09:00, 2015-01-06 05:00:00+09:00, 2015-01-06 06:00:00+09:00, 2015-01-06 07:00:00+09:00, 2015-01-06 08:00:00+09:00, 2015-01-06 09:00:00+09:00, 2015-01-06 10:00:00+09:00, 2015-01-06 11:00:00+09:00, ...]\n",
              "\n",
              "[26280 rows x 0 columns]"
            ]
          },
          "execution_count": 9,
          "metadata": {},
          "output_type": "execute_result"
        }
      ],
      "source": [
        "# 保存前にオブジェクトがあるか確認\n",
        "train_processed.select_dtypes(include='object')"
      ]
    },
    {
      "cell_type": "code",
      "execution_count": 10,
      "metadata": {},
      "outputs": [
        {
          "name": "stdout",
          "output_type": "stream",
          "text": [
            "前処理済みデータを保存しました。\n"
          ]
        }
      ],
      "source": [
        "# 前処理済みデータの保存\n",
        "train_processed.to_csv(DATA_DIR / \"train_processed.csv\", index=False)\n",
        "test_processed.to_csv(DATA_DIR / \"test_processed.csv\", index=False)\n",
        "\n",
        "print(\"前処理済みデータを保存しました。\")"
      ]
    },
    {
      "cell_type": "code",
      "execution_count": null,
      "metadata": {},
      "outputs": [],
      "source": []
    }
  ],
  "metadata": {
    "kernelspec": {
      "display_name": "Python 3 (ipykernel)",
      "language": "python",
      "name": "python3"
    },
    "language_info": {
      "codemirror_mode": {
        "name": "ipython",
        "version": 3
      },
      "file_extension": ".py",
      "mimetype": "text/x-python",
      "name": "python",
      "nbconvert_exporter": "python",
      "pygments_lexer": "ipython3",
      "version": "3.12.3"
    }
  },
  "nbformat": 4,
  "nbformat_minor": 4
}
