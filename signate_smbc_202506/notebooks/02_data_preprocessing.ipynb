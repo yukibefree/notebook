{
 "cells": [
  {
   "cell_type": "markdown",
   "metadata": {},
   "source": [
    "# データ前処理\n",
    "\n",
    "このノートブックでは、データの前処理を実施し、その効果を確認します。"
   ]
  },
  {
   "cell_type": "markdown",
   "metadata": {},
   "source": [
    "## 1. 環境設定とデータ読み込み"
   ]
  },
  {
   "cell_type": "code",
   "execution_count": 1,
   "metadata": {},
   "outputs": [],
   "source": [
    "# 自動ローディング\n",
    "%load_ext autoreload\n",
    "%autoreload 2"
   ]
  },
  {
   "cell_type": "code",
   "execution_count": 2,
   "metadata": {},
   "outputs": [],
   "source": [
    "# アクティベート\n",
    "!source ../../.venv/bin/activate\n",
    "\n",
    "# 日本語フォントを簡単に使う\n",
    "#!pip install japanize-matplotlib\n",
    "import japanize_matplotlib\n",
    "\n",
    "# 祝日取得\n",
    "#!pip install holidays\n",
    "import holidays"
   ]
  },
  {
   "cell_type": "code",
   "execution_count": 3,
   "metadata": {},
   "outputs": [
    {
     "name": "stdout",
     "output_type": "stream",
     "text": [
      "プロジェクトルートパス：  /Users/m0122wt/Desktop/02.プライベート/01.ノウハウ/07.データ分析/notebook/signate_smbc_202506\n"
     ]
    }
   ],
   "source": [
    "import pandas as pd\n",
    "import numpy as np\n",
    "import matplotlib.pyplot as plt\n",
    "import seaborn as sns\n",
    "from pathlib import Path\n",
    "import japanize_matplotlib\n",
    "\n",
    "# プロジェクトのルートディレクトリを設定\n",
    "PROJECT_ROOT = Path.cwd().parent\n",
    "\n",
    "# データディレクトリのパスを設定\n",
    "DATA_DIR = PROJECT_ROOT / \"data\"\n",
    "\n",
    "print(f\"プロジェクトルートパス： \", PROJECT_ROOT)\n",
    "\n",
    "# データ読み込み用の関数をインポート\n",
    "import sys, os\n",
    "sys.path.append(os.pardir)  # 親ディレクトリのファイルをインポートするための設定\n",
    "from src.data_loader import load_data, preprocess_time, check_missing_values\n",
    "from src.preprocessor import DataPreprocessor"
   ]
  },
  {
   "cell_type": "markdown",
   "metadata": {},
   "source": [
    "### 1.1 データの読み込み"
   ]
  },
  {
   "cell_type": "code",
   "execution_count": 4,
   "metadata": {},
   "outputs": [
    {
     "name": "stdout",
     "output_type": "stream",
     "text": [
      "訓練データの形状: (26280, 91)\n",
      "テストデータの形状: (8760, 90)\n"
     ]
    }
   ],
   "source": [
    "# データの読み込み\n",
    "train_df, test_df, feature_desc = load_data(DATA_DIR)\n",
    "\n",
    "print(\"訓練データの形状:\", train_df.shape)\n",
    "print(\"テストデータの形状:\", test_df.shape)"
   ]
  },
  {
   "cell_type": "markdown",
   "metadata": {},
   "source": [
    "### 1.2 時間特徴量の前処理"
   ]
  },
  {
   "cell_type": "code",
   "execution_count": 5,
   "metadata": {},
   "outputs": [
    {
     "name": "stdout",
     "output_type": "stream",
     "text": [
      "時間関連の特徴量:\n",
      "['hour', 'day_of_week', 'month', 'year']\n"
     ]
    }
   ],
   "source": [
    "# 時間特徴量の前処理\n",
    "train_df = preprocess_time(train_df)\n",
    "test_df = preprocess_time(test_df)\n",
    "\n",
    "# 時間関連の特徴量を確認\n",
    "time_features = [col for col in train_df.columns if col in ['hour', 'day_of_week', 'month', 'year']]\n",
    "print(\"時間関連の特徴量:\")\n",
    "print(time_features)"
   ]
  },
  {
   "cell_type": "markdown",
   "metadata": {},
   "source": [
    "## 2. データ前処理の実行"
   ]
  },
  {
   "cell_type": "code",
   "execution_count": 6,
   "metadata": {},
   "outputs": [
    {
     "name": "stdout",
     "output_type": "stream",
     "text": [
      "データ型： datetime64[ns, Europe/Berlin]\n",
      "インデックスをdatetimeに変換しました\n",
      "数値型に変換可能な列: []\n",
      "カテゴリカル列: ['valencia_weather_main', 'valencia_weather_description', 'valencia_weather_icon', 'madrid_weather_main', 'madrid_weather_description', 'madrid_weather_icon', 'bilbao_weather_main', 'bilbao_weather_description', 'bilbao_weather_icon', 'barcelona_weather_main', 'barcelona_weather_description', 'barcelona_weather_icon', 'seville_weather_main', 'seville_weather_description', 'seville_weather_icon']\n",
      "--------------------  前処理終了  --------------------\n",
      "データ型： datetime64[ns, Europe/Berlin]\n",
      "インデックスをdatetimeに変換しました\n",
      "数値型に変換可能な列: []\n",
      "カテゴリカル列: ['valencia_weather_main', 'valencia_weather_description', 'valencia_weather_icon', 'madrid_weather_main', 'madrid_weather_description', 'madrid_weather_icon', 'bilbao_weather_main', 'bilbao_weather_description', 'bilbao_weather_icon', 'barcelona_weather_main', 'barcelona_weather_description', 'barcelona_weather_icon', 'seville_weather_main', 'seville_weather_description', 'seville_weather_icon']\n",
      "--------------------  前処理終了  --------------------\n",
      "前処理後の訓練データの形状: (26280, 122)\n",
      "前処理後のテストデータの形状: (8760, 121)\n"
     ]
    }
   ],
   "source": [
    "# 前処理クラスのインスタンス化\n",
    "preprocessor = DataPreprocessor()\n",
    "\n",
    "# 訓練データの前処理\n",
    "train_processed = preprocessor.fit_transform(train_df.copy())\n",
    "\n",
    "# テストデータの前処理\n",
    "test_processed = preprocessor.transform(test_df.copy())\n",
    "\n",
    "print(\"前処理後の訓練データの形状:\", train_processed.shape)\n",
    "print(\"前処理後のテストデータの形状:\", test_processed.shape)"
   ]
  },
  {
   "cell_type": "markdown",
   "metadata": {},
   "source": [
    "## 3. 前処理の効果確認"
   ]
  },
  {
   "cell_type": "markdown",
   "metadata": {},
   "source": [
    "### 3.1 欠損値の確認"
   ]
  },
  {
   "cell_type": "code",
   "execution_count": 7,
   "metadata": {},
   "outputs": [
    {
     "name": "stdout",
     "output_type": "stream",
     "text": [
      "前処理前の欠損値:\n",
      "欠損値があるカラム、欠損値の数、全レコードに対する割合:\n"
     ]
    },
    {
     "data": {
      "text/html": [
       "<div>\n",
       "<style scoped>\n",
       "    .dataframe tbody tr th:only-of-type {\n",
       "        vertical-align: middle;\n",
       "    }\n",
       "\n",
       "    .dataframe tbody tr th {\n",
       "        vertical-align: top;\n",
       "    }\n",
       "\n",
       "    .dataframe thead th {\n",
       "        text-align: right;\n",
       "    }\n",
       "</style>\n",
       "<table border=\"1\" class=\"dataframe\">\n",
       "  <thead>\n",
       "    <tr style=\"text-align: right;\">\n",
       "      <th></th>\n",
       "      <th>missing_count</th>\n",
       "      <th>missing_ratio</th>\n",
       "    </tr>\n",
       "  </thead>\n",
       "  <tbody>\n",
       "    <tr>\n",
       "      <th>generation_biomass</th>\n",
       "      <td>21</td>\n",
       "      <td>0.000799</td>\n",
       "    </tr>\n",
       "    <tr>\n",
       "      <th>generation_fossil_brown_coal/lignite</th>\n",
       "      <td>20</td>\n",
       "      <td>0.000761</td>\n",
       "    </tr>\n",
       "    <tr>\n",
       "      <th>generation_fossil_gas</th>\n",
       "      <td>20</td>\n",
       "      <td>0.000761</td>\n",
       "    </tr>\n",
       "    <tr>\n",
       "      <th>generation_fossil_hard_coal</th>\n",
       "      <td>20</td>\n",
       "      <td>0.000761</td>\n",
       "    </tr>\n",
       "    <tr>\n",
       "      <th>generation_fossil_oil</th>\n",
       "      <td>21</td>\n",
       "      <td>0.000799</td>\n",
       "    </tr>\n",
       "    <tr>\n",
       "      <th>generation_hydro_pumped_storage_consumption</th>\n",
       "      <td>21</td>\n",
       "      <td>0.000799</td>\n",
       "    </tr>\n",
       "    <tr>\n",
       "      <th>generation_hydro_run_of_river_and_poundage</th>\n",
       "      <td>21</td>\n",
       "      <td>0.000799</td>\n",
       "    </tr>\n",
       "    <tr>\n",
       "      <th>generation_hydro_water_reservoir</th>\n",
       "      <td>20</td>\n",
       "      <td>0.000761</td>\n",
       "    </tr>\n",
       "    <tr>\n",
       "      <th>generation_nuclear</th>\n",
       "      <td>19</td>\n",
       "      <td>0.000723</td>\n",
       "    </tr>\n",
       "    <tr>\n",
       "      <th>generation_other</th>\n",
       "      <td>20</td>\n",
       "      <td>0.000761</td>\n",
       "    </tr>\n",
       "    <tr>\n",
       "      <th>generation_other_renewable</th>\n",
       "      <td>20</td>\n",
       "      <td>0.000761</td>\n",
       "    </tr>\n",
       "    <tr>\n",
       "      <th>generation_solar</th>\n",
       "      <td>20</td>\n",
       "      <td>0.000761</td>\n",
       "    </tr>\n",
       "    <tr>\n",
       "      <th>generation_waste</th>\n",
       "      <td>21</td>\n",
       "      <td>0.000799</td>\n",
       "    </tr>\n",
       "    <tr>\n",
       "      <th>generation_wind_onshore</th>\n",
       "      <td>20</td>\n",
       "      <td>0.000761</td>\n",
       "    </tr>\n",
       "    <tr>\n",
       "      <th>total_load_actual</th>\n",
       "      <td>37</td>\n",
       "      <td>0.001408</td>\n",
       "    </tr>\n",
       "  </tbody>\n",
       "</table>\n",
       "</div>"
      ],
      "text/plain": [
       "                                             missing_count  missing_ratio\n",
       "generation_biomass                                      21       0.000799\n",
       "generation_fossil_brown_coal/lignite                    20       0.000761\n",
       "generation_fossil_gas                                   20       0.000761\n",
       "generation_fossil_hard_coal                             20       0.000761\n",
       "generation_fossil_oil                                   21       0.000799\n",
       "generation_hydro_pumped_storage_consumption             21       0.000799\n",
       "generation_hydro_run_of_river_and_poundage              21       0.000799\n",
       "generation_hydro_water_reservoir                        20       0.000761\n",
       "generation_nuclear                                      19       0.000723\n",
       "generation_other                                        20       0.000761\n",
       "generation_other_renewable                              20       0.000761\n",
       "generation_solar                                        20       0.000761\n",
       "generation_waste                                        21       0.000799\n",
       "generation_wind_onshore                                 20       0.000761\n",
       "total_load_actual                                       37       0.001408"
      ]
     },
     "metadata": {},
     "output_type": "display_data"
    },
    {
     "name": "stdout",
     "output_type": "stream",
     "text": [
      "\n",
      "前処理後の欠損値:\n",
      "欠損値があるカラム、欠損値の数、全レコードに対する割合:\n"
     ]
    },
    {
     "data": {
      "text/html": [
       "<div>\n",
       "<style scoped>\n",
       "    .dataframe tbody tr th:only-of-type {\n",
       "        vertical-align: middle;\n",
       "    }\n",
       "\n",
       "    .dataframe tbody tr th {\n",
       "        vertical-align: top;\n",
       "    }\n",
       "\n",
       "    .dataframe thead th {\n",
       "        text-align: right;\n",
       "    }\n",
       "</style>\n",
       "<table border=\"1\" class=\"dataframe\">\n",
       "  <thead>\n",
       "    <tr style=\"text-align: right;\">\n",
       "      <th></th>\n",
       "      <th>missing_count</th>\n",
       "      <th>missing_ratio</th>\n",
       "    </tr>\n",
       "  </thead>\n",
       "  <tbody>\n",
       "  </tbody>\n",
       "</table>\n",
       "</div>"
      ],
      "text/plain": [
       "Empty DataFrame\n",
       "Columns: [missing_count, missing_ratio]\n",
       "Index: []"
      ]
     },
     "metadata": {},
     "output_type": "display_data"
    },
    {
     "data": {
      "text/html": [
       "<div>\n",
       "<style scoped>\n",
       "    .dataframe tbody tr th:only-of-type {\n",
       "        vertical-align: middle;\n",
       "    }\n",
       "\n",
       "    .dataframe tbody tr th {\n",
       "        vertical-align: top;\n",
       "    }\n",
       "\n",
       "    .dataframe thead th {\n",
       "        text-align: right;\n",
       "    }\n",
       "</style>\n",
       "<table border=\"1\" class=\"dataframe\">\n",
       "  <thead>\n",
       "    <tr style=\"text-align: right;\">\n",
       "      <th></th>\n",
       "      <th>missing_count</th>\n",
       "      <th>missing_ratio</th>\n",
       "    </tr>\n",
       "  </thead>\n",
       "  <tbody>\n",
       "  </tbody>\n",
       "</table>\n",
       "</div>"
      ],
      "text/plain": [
       "Empty DataFrame\n",
       "Columns: [missing_count, missing_ratio]\n",
       "Index: []"
      ]
     },
     "execution_count": 7,
     "metadata": {},
     "output_type": "execute_result"
    }
   ],
   "source": [
    "# 欠損値の確認\n",
    "print(\"前処理前の欠損値:\")\n",
    "check_missing_values(train_df)\n",
    "\n",
    "print(\"\\n前処理後の欠損値:\")\n",
    "check_missing_values(train_processed)"
   ]
  },
  {
   "cell_type": "markdown",
   "metadata": {},
   "source": [
    "### 3.2 外れ値の確認"
   ]
  },
  {
   "cell_type": "code",
   "execution_count": 8,
   "metadata": {},
   "outputs": [
    {
     "data": {
      "image/png": "[encoded data removed]",
      "text/plain": [
       "<Figure size 1500x500 with 2 Axes>"
      ]
     },
     "metadata": {},
     "output_type": "display_data"
    }
   ],
   "source": [
    "# 目的変数の分布を確認\n",
    "fig, (ax1, ax2) = plt.subplots(1, 2, figsize=(15, 5))\n",
    "\n",
    "# 前処理前\n",
    "sns.histplot(train_df['price_actual'], kde=True, ax=ax1)\n",
    "ax1.set_title('前処理前の価格分布')\n",
    "\n",
    "# 前処理後\n",
    "sns.histplot(train_processed['price_actual'], kde=True, ax=ax2)\n",
    "ax2.set_title('前処理後の価格分布')\n",
    "\n",
    "plt.tight_layout()\n",
    "plt.show()"
   ]
  },
  {
   "cell_type": "markdown",
   "metadata": {},
   "source": [
    "### 3.3 特徴量エンジニアリングの確認"
   ]
  },
  {
   "cell_type": "code",
   "execution_count": 9,
   "metadata": {},
   "outputs": [
    {
     "name": "stdout",
     "output_type": "stream",
     "text": [
      "新しく追加された特徴量:\n",
      "['consecutive_holiday_or_weekend_flag', 'demand_non_fossil_diff', 'generation_biomass_ratio', 'generation_fossil_brown_coal/lignite_ratio', 'generation_fossil_gas_ratio', 'generation_fossil_hard_coal_ratio', 'generation_fossil_oil_ratio', 'generation_hydro_pumped_storage_consumption_ratio', 'generation_hydro_run_of_river_and_poundage_ratio', 'generation_hydro_water_reservoir_ratio', 'generation_nuclear_ratio', 'generation_other_ratio', 'generation_other_renewable_ratio', 'generation_solar_ratio', 'generation_waste_ratio', 'generation_wind_onshore_ratio', 'is_holiday', 'is_holiday_or_weekend_flag', 'is_next_day_holiday_or_weekend_flag', 'is_off_hour', 'is_peak_hour', 'is_previous_day_holiday_or_weekend_flag', 'is_weekend', 'non_fossil_generation', 'time', 'valencia_temp_diff']\n"
     ]
    }
   ],
   "source": [
    "# 新しく追加された特徴量を確認\n",
    "new_features = set(train_processed.columns) - set(train_df.columns)\n",
    "print(\"新しく追加された特徴量:\")\n",
    "print(sorted(list(new_features)))"
   ]
  },
  {
   "cell_type": "markdown",
   "metadata": {},
   "source": [
    "### 3.4 スケーリングの確認"
   ]
  },
  {
   "cell_type": "code",
   "execution_count": 10,
   "metadata": {},
   "outputs": [
    {
     "name": "stdout",
     "output_type": "stream",
     "text": [
      "前処理後の数値特徴量の統計量:\n",
      "       generation_biomass  generation_fossil_brown_coal/lignite  \\\n",
      "count        2.628000e+04                          2.628000e+04   \n",
      "mean         2.984928e-16                          3.460787e-17   \n",
      "std          1.000019e+00                          1.000019e+00   \n",
      "min         -2.956821e+00                         -1.313243e+00   \n",
      "25%         -6.431197e-01                         -1.313243e+00   \n",
      "50%         -2.325349e-01                          2.301513e-01   \n",
      "75%          8.993476e-01                          1.048369e+00   \n",
      "max          2.142199e+00                          1.420535e+00   \n",
      "\n",
      "       generation_fossil_gas  generation_fossil_hard_coal  \\\n",
      "count           2.628000e+04                 2.628000e+04   \n",
      "mean           -9.949761e-17                -2.141362e-16   \n",
      "std             1.000019e+00                 1.000019e+00   \n",
      "min            -2.487417e+00                -2.188369e+00   \n",
      "25%            -7.205647e-01                -8.978555e-01   \n",
      "50%            -2.930919e-01                 1.565420e-01   \n",
      "75%             4.573366e-01                 8.183565e-01   \n",
      "max             2.224189e+00                 1.927782e+00   \n",
      "\n",
      "       generation_fossil_oil  generation_hydro_pumped_storage_consumption  \\\n",
      "count           2.628000e+04                                 2.628000e+04   \n",
      "mean           -4.996511e-16                                 4.866731e-18   \n",
      "std             1.000019e+00                                 1.000019e+00   \n",
      "min            -2.553866e+00                                -7.210774e-01   \n",
      "25%            -6.628809e-01                                -7.210774e-01   \n",
      "50%            -1.401364e-02                                -5.702570e-01   \n",
      "75%             5.977755e-01                                 4.566767e-01   \n",
      "max             2.488760e+00                                 2.223308e+00   \n",
      "\n",
      "       generation_hydro_run_of_river_and_poundage  \\\n",
      "count                                2.628000e+04   \n",
      "mean                                 1.384315e-16   \n",
      "std                                  1.000019e+00   \n",
      "min                                 -2.397151e+00   \n",
      "25%                                 -7.926416e-01   \n",
      "50%                                 -2.497015e-01   \n",
      "75%                                  7.038202e-01   \n",
      "max                                  2.840465e+00   \n",
      "\n",
      "       generation_hydro_water_reservoir  generation_nuclear  generation_other  \\\n",
      "count                      2.628000e+04        2.628000e+04      2.628000e+04   \n",
      "mean                      -3.460787e-17       -5.256070e-16     -8.651966e-17   \n",
      "std                        1.000019e+00        1.000019e+00      1.000019e+00   \n",
      "min                       -1.349072e+00       -2.657847e+00     -2.604046e+00   \n",
      "25%                       -8.349147e-01       -5.177122e-01     -4.402617e-01   \n",
      "50%                       -2.754380e-01        4.960038e-01     -2.075968e-01   \n",
      "75%                        6.277096e-01        9.090444e-01      1.002261e+00   \n",
      "max                        2.821646e+00        9.638728e-01      2.025987e+00   \n",
      "\n",
      "       ...  generation_solar_ratio  generation_waste_ratio  \\\n",
      "count  ...            26280.000000            26280.000000   \n",
      "mean   ...                0.048852                0.009351   \n",
      "std    ...                0.055860                0.002439   \n",
      "min    ...                0.000000                0.003268   \n",
      "25%    ...                0.002877                0.007630   \n",
      "50%    ...                0.023329                0.009287   \n",
      "75%    ...                0.087166                0.010963   \n",
      "max    ...                0.236518                0.020905   \n",
      "\n",
      "       generation_wind_onshore_ratio  valencia_temp_diff  \\\n",
      "count                   26280.000000        26280.000000   \n",
      "mean                        0.188474            1.470050   \n",
      "std                         0.101636            2.516536   \n",
      "min                         0.000000           -0.794344   \n",
      "25%                         0.107881            0.000000   \n",
      "50%                         0.173232            0.000000   \n",
      "75%                         0.256606            2.600000   \n",
      "max                         0.505205           18.530000   \n",
      "\n",
      "       non_fossil_generation  demand_non_fossil_diff  \\\n",
      "count           26280.000000            26280.000000   \n",
      "mean            17796.315092            10784.123264   \n",
      "std              4275.514931             5150.023326   \n",
      "min              4434.500000            -5167.500000   \n",
      "25%             14686.000000             7435.875000   \n",
      "50%             17307.500000            11148.000000   \n",
      "75%             20542.250000            14549.250000   \n",
      "max             33813.625000            34869.500000   \n",
      "\n",
      "       is_holiday_or_weekend_flag  is_next_day_holiday_or_weekend_flag  \\\n",
      "count                26280.000000                         26280.000000   \n",
      "mean                     0.307763                             0.308676   \n",
      "std                      0.461577                             0.461956   \n",
      "min                      0.000000                             0.000000   \n",
      "25%                      0.000000                             0.000000   \n",
      "50%                      0.000000                             0.000000   \n",
      "75%                      1.000000                             1.000000   \n",
      "max                      1.000000                             1.000000   \n",
      "\n",
      "       is_previous_day_holiday_or_weekend_flag  \\\n",
      "count                             26280.000000   \n",
      "mean                                  0.307763   \n",
      "std                                   0.461577   \n",
      "min                                   0.000000   \n",
      "25%                                   0.000000   \n",
      "50%                                   0.000000   \n",
      "75%                                   1.000000   \n",
      "max                                   1.000000   \n",
      "\n",
      "       consecutive_holiday_or_weekend_flag  \n",
      "count                         26280.000000  \n",
      "mean                              0.473021  \n",
      "std                               0.775664  \n",
      "min                               0.000000  \n",
      "25%                               0.000000  \n",
      "50%                               0.000000  \n",
      "75%                               1.000000  \n",
      "max                               3.000000  \n",
      "\n",
      "[8 rows x 121 columns]\n"
     ]
    }
   ],
   "source": [
    "# 数値型の特徴量の統計量を確認\n",
    "numeric_features = train_processed.select_dtypes(include=[np.number]).columns\n",
    "print(\"前処理後の数値特徴量の統計量:\")\n",
    "print(train_processed[numeric_features].describe())"
   ]
  },
  {
   "cell_type": "markdown",
   "metadata": {},
   "source": [
    "## 4. 前処理済みデータの保存"
   ]
  },
  {
   "cell_type": "code",
   "execution_count": 11,
   "metadata": {},
   "outputs": [
    {
     "data": {
      "text/html": [
       "<div>\n",
       "<style scoped>\n",
       "    .dataframe tbody tr th:only-of-type {\n",
       "        vertical-align: middle;\n",
       "    }\n",
       "\n",
       "    .dataframe tbody tr th {\n",
       "        vertical-align: top;\n",
       "    }\n",
       "\n",
       "    .dataframe thead th {\n",
       "        text-align: right;\n",
       "    }\n",
       "</style>\n",
       "<table border=\"1\" class=\"dataframe\">\n",
       "  <thead>\n",
       "    <tr style=\"text-align: right;\">\n",
       "      <th></th>\n",
       "    </tr>\n",
       "    <tr>\n",
       "      <th>time</th>\n",
       "    </tr>\n",
       "  </thead>\n",
       "  <tbody>\n",
       "    <tr>\n",
       "      <th>2015-01-02 00:00:00+01:00</th>\n",
       "    </tr>\n",
       "    <tr>\n",
       "      <th>2015-01-02 01:00:00+01:00</th>\n",
       "    </tr>\n",
       "    <tr>\n",
       "      <th>2015-01-02 02:00:00+01:00</th>\n",
       "    </tr>\n",
       "    <tr>\n",
       "      <th>2015-01-02 03:00:00+01:00</th>\n",
       "    </tr>\n",
       "    <tr>\n",
       "      <th>2015-01-02 04:00:00+01:00</th>\n",
       "    </tr>\n",
       "    <tr>\n",
       "      <th>...</th>\n",
       "    </tr>\n",
       "    <tr>\n",
       "      <th>2017-12-31 19:00:00+01:00</th>\n",
       "    </tr>\n",
       "    <tr>\n",
       "      <th>2017-12-31 20:00:00+01:00</th>\n",
       "    </tr>\n",
       "    <tr>\n",
       "      <th>2017-12-31 21:00:00+01:00</th>\n",
       "    </tr>\n",
       "    <tr>\n",
       "      <th>2017-12-31 22:00:00+01:00</th>\n",
       "    </tr>\n",
       "    <tr>\n",
       "      <th>2017-12-31 23:00:00+01:00</th>\n",
       "    </tr>\n",
       "  </tbody>\n",
       "</table>\n",
       "<p>26280 rows × 0 columns</p>\n",
       "</div>"
      ],
      "text/plain": [
       "Empty DataFrame\n",
       "Columns: []\n",
       "Index: [2015-01-02 00:00:00+01:00, 2015-01-02 01:00:00+01:00, 2015-01-02 02:00:00+01:00, 2015-01-02 03:00:00+01:00, 2015-01-02 04:00:00+01:00, 2015-01-02 05:00:00+01:00, 2015-01-02 06:00:00+01:00, 2015-01-02 07:00:00+01:00, 2015-01-02 08:00:00+01:00, 2015-01-02 09:00:00+01:00, 2015-01-02 10:00:00+01:00, 2015-01-02 11:00:00+01:00, 2015-01-02 12:00:00+01:00, 2015-01-02 13:00:00+01:00, 2015-01-02 14:00:00+01:00, 2015-01-02 15:00:00+01:00, 2015-01-02 16:00:00+01:00, 2015-01-02 17:00:00+01:00, 2015-01-02 18:00:00+01:00, 2015-01-02 19:00:00+01:00, 2015-01-02 20:00:00+01:00, 2015-01-02 21:00:00+01:00, 2015-01-02 22:00:00+01:00, 2015-01-02 23:00:00+01:00, 2015-01-03 00:00:00+01:00, 2015-01-03 01:00:00+01:00, 2015-01-03 02:00:00+01:00, 2015-01-03 03:00:00+01:00, 2015-01-03 04:00:00+01:00, 2015-01-03 05:00:00+01:00, 2015-01-03 06:00:00+01:00, 2015-01-03 07:00:00+01:00, 2015-01-03 08:00:00+01:00, 2015-01-03 09:00:00+01:00, 2015-01-03 10:00:00+01:00, 2015-01-03 11:00:00+01:00, 2015-01-03 12:00:00+01:00, 2015-01-03 13:00:00+01:00, 2015-01-03 14:00:00+01:00, 2015-01-03 15:00:00+01:00, 2015-01-03 16:00:00+01:00, 2015-01-03 17:00:00+01:00, 2015-01-03 18:00:00+01:00, 2015-01-03 19:00:00+01:00, 2015-01-03 20:00:00+01:00, 2015-01-03 21:00:00+01:00, 2015-01-03 22:00:00+01:00, 2015-01-03 23:00:00+01:00, 2015-01-04 00:00:00+01:00, 2015-01-04 01:00:00+01:00, 2015-01-04 02:00:00+01:00, 2015-01-04 03:00:00+01:00, 2015-01-04 04:00:00+01:00, 2015-01-04 05:00:00+01:00, 2015-01-04 06:00:00+01:00, 2015-01-04 07:00:00+01:00, 2015-01-04 08:00:00+01:00, 2015-01-04 09:00:00+01:00, 2015-01-04 10:00:00+01:00, 2015-01-04 11:00:00+01:00, 2015-01-04 12:00:00+01:00, 2015-01-04 13:00:00+01:00, 2015-01-04 14:00:00+01:00, 2015-01-04 15:00:00+01:00, 2015-01-04 16:00:00+01:00, 2015-01-04 17:00:00+01:00, 2015-01-04 18:00:00+01:00, 2015-01-04 19:00:00+01:00, 2015-01-04 20:00:00+01:00, 2015-01-04 21:00:00+01:00, 2015-01-04 22:00:00+01:00, 2015-01-04 23:00:00+01:00, 2015-01-05 00:00:00+01:00, 2015-01-05 01:00:00+01:00, 2015-01-05 02:00:00+01:00, 2015-01-05 03:00:00+01:00, 2015-01-05 04:00:00+01:00, 2015-01-05 05:00:00+01:00, 2015-01-05 06:00:00+01:00, 2015-01-05 07:00:00+01:00, 2015-01-05 08:00:00+01:00, 2015-01-05 09:00:00+01:00, 2015-01-05 10:00:00+01:00, 2015-01-05 11:00:00+01:00, 2015-01-05 12:00:00+01:00, 2015-01-05 13:00:00+01:00, 2015-01-05 14:00:00+01:00, 2015-01-05 15:00:00+01:00, 2015-01-05 16:00:00+01:00, 2015-01-05 17:00:00+01:00, 2015-01-05 18:00:00+01:00, 2015-01-05 19:00:00+01:00, 2015-01-05 20:00:00+01:00, 2015-01-05 21:00:00+01:00, 2015-01-05 22:00:00+01:00, 2015-01-05 23:00:00+01:00, 2015-01-06 00:00:00+01:00, 2015-01-06 01:00:00+01:00, 2015-01-06 02:00:00+01:00, 2015-01-06 03:00:00+01:00, ...]\n",
       "\n",
       "[26280 rows x 0 columns]"
      ]
     },
     "execution_count": 11,
     "metadata": {},
     "output_type": "execute_result"
    }
   ],
   "source": [
    "# 保存前にオブジェクトがあるか確認\n",
    "train_processed.select_dtypes(include='object')"
   ]
  },
  {
   "cell_type": "code",
   "execution_count": 12,
   "metadata": {},
   "outputs": [
    {
     "name": "stdout",
     "output_type": "stream",
     "text": [
      "前処理済みデータを保存しました。\n"
     ]
    }
   ],
   "source": [
    "# 前処理済みデータの保存\n",
    "train_processed.to_csv(DATA_DIR / \"train_processed.csv\", index=False)\n",
    "test_processed.to_csv(DATA_DIR / \"test_processed.csv\", index=False)\n",
    "\n",
    "print(\"前処理済みデータを保存しました。\")"
   ]
  },
  {
   "cell_type": "code",
   "execution_count": null,
   "metadata": {},
   "outputs": [],
   "source": []
  }
 ],
 "metadata": {
  "kernelspec": {
   "display_name": "Python 3 (ipykernel)",
   "language": "python",
   "name": "python3"
  },
  "language_info": {
   "codemirror_mode": {
    "name": "ipython",
    "version": 3
   },
   "file_extension": ".py",
   "mimetype": "text/x-python",
   "name": "python",
   "nbconvert_exporter": "python",
   "pygments_lexer": "ipython3",
   "version": "3.12.3"
  }
 },
 "nbformat": 4,
 "nbformat_minor": 4
}
