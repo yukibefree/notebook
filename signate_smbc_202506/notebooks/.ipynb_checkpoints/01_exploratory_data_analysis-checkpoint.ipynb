{
  "cells": [
    {
      "cell_type": "markdown",
      "metadata": {},
      "source": [
        "# データ探索\n",
        "\n",
        "このノートブックでは、Signateの電力価格予測コンペティションのデータを探索的に分析します。"
      ]
    },
    {
      "cell_type": "markdown",
      "metadata": {},
      "source": [
        "## 1. 環境設定とデータ読み込み"
      ]
    },
    {
      "cell_type": "code",
      "execution_count": null,
      "metadata": {},
      "source": [
        "import pandas as pd\n",
        "import numpy as np\n",
        "import matplotlib.pyplot as plt\n",
        "import seaborn as sns\n",
        "from pathlib import Path\n",
        "\n",
        "# プロジェクトのルートディレクトリを設定\n",
        "PROJECT_ROOT = Path.cwd().parent\n",
        "\n",
        "# データディレクトリのパスを設定\n",
        "DATA_DIR = PROJECT_ROOT / \"data\"\n",
        "\n",
        "# データ読み込み用の関数をインポート\n",
        "from src.data_loader import load_data, preprocess_time, get_feature_groups, check_missing_values, check_outliers"
      ]
    },
    {
      "cell_type": "markdown",
      "metadata": {},
      "source": [
        "### 1.1 データの読み込み"
      ]
    },
    {
      "cell_type": "code",
      "execution_count": null,
      "metadata": {},
      "source": [
        "# データの読み込み\n",
        "train_df, test_df, feature_desc = load_data(DATA_DIR)\n",
        "\n",
        "print(\"訓練データの形状:\", train_df.shape)\n",
        "print(\"テストデータの形状:\", test_df.shape)\n",
        "print(\"\\n特徴量の説明:\")\n",
        "print(feature_desc)"
      ]
    },
    {
      "cell_type": "markdown",
      "metadata": {},
      "source": [
        "### 1.2 時間特徴量の前処理"
      ]
    },
    {
      "cell_type": "code",
      "execution_count": null,
      "metadata": {},
      "source": [
        "# 時間特徴量の前処理\n",
        "train_df = preprocess_time(train_df)\n",
        "test_df = preprocess_time(test_df)\n",
        "\n",
        "# 時間関連の特徴量を確認\n",
        "time_features = [col for col in train_df.columns if col in ['hour', 'day_of_week', 'month', 'year']]\n",
        "print(\"時間関連の特徴量:\")\n",
        "print(time_features)"
      ]
    },
    {
      "cell_type": "markdown",
      "metadata": {},
      "source": [
        "## 2. 基本情報の確認"
      ]
    },
    {
      "cell_type": "markdown",
      "metadata": {},
      "source": [
        "### 2.1 データの基本情報"
      ]
    },
    {
      "cell_type": "code",
      "execution_count": null,
      "metadata": {},
      "source": [
        "# 訓練データの基本情報\n",
        "print(\"訓練データの基本情報:\")\n",
        "train_df.info()\n",
        "\n",
        "# 数値型の基本統計量\n",
        "print(\"\\n数値型の基本統計量:\")\n",
        "train_df.describe()"
      ]
    },
    {
      "cell_type": "markdown",
      "metadata": {},
      "source": [
        "### 2.2 欠損値の確認"
      ]
    },
    {
      "cell_type": "code",
      "execution_count": null,
      "metadata": {},
      "source": [
        "# 欠損値の確認\n",
        "missing_values = check_missing_values(train_df, threshold=0.0)\n",
        "print(\"欠損値を持つ特徴量:\")\n",
        "print(missing_values)"
      ]
    },
    {
      "cell_type": "markdown",
      "metadata": {},
      "source": [
        "## 3. 時系列データの分析"
      ]
    },
    {
      "cell_type": "markdown",
      "metadata": {},
      "source": [
        "### 3.1 時間帯ごとの傾向"
      ]
    },
    {
      "cell_type": "code",
      "execution_count": null,
      "metadata": {},
      "source": [
        "# 時間帯ごとの平均価格\n",
        "plt.figure(figsize=(12, 6))\n",
        "train_df.groupby('hour')['price'].mean().plot(kind='line')\n",
        "plt.title('時間帯ごとの平均電力価格')\n",
        "plt.xlabel('時間')\n",
        "plt.ylabel('平均価格')\n",
        "plt.grid(True)\n",
        "plt.show()"
      ]
    },
    {
      "cell_type": "markdown",
      "metadata": {},
      "source": [
        "### 3.2 曜日別の傾向"
      ]
    },
    {
      "cell_type": "code",
      "execution_count": null,
      "metadata": {},
      "source": [
        "# 曜日別の平均価格\n",
        "plt.figure(figsize=(12, 6))\n",
        "train_df.groupby('day_of_week')['price'].mean().plot(kind='bar')\n",
        "plt.title('曜日別の平均電力価格')\n",
        "plt.xlabel('曜日')\n",
        "plt.ylabel('平均価格')\n",
        "plt.grid(True)\n",
        "plt.show()"
      ]
    },
    {
      "cell_type": "markdown",
      "metadata": {},
      "source": [
        "### 3.3 月別の傾向"
      ]
    },
    {
      "cell_type": "code",
      "execution_count": null,
      "metadata": {},
      "source": [
        "# 月別の平均価格\n",
        "plt.figure(figsize=(12, 6))\n",
        "train_df.groupby('month')['price'].mean().plot(kind='line')\n",
        "plt.title('月別の平均電力価格')\n",
        "plt.xlabel('月')\n",
        "plt.ylabel('平均価格')\n",
        "plt.grid(True)\n",
        "plt.show()"
      ]
    },
    {
      "cell_type": "markdown",
      "metadata": {},
      "source": [
        "## 4. 目的変数（電力価格）の分析"
      ]
    },
    {
      "cell_type": "markdown",
      "metadata": {},
      "source": [
        "### 4.1 価格の分布"
      ]
    },
    {
      "cell_type": "code",
      "execution_count": null,
      "metadata": {},
      "source": [
        "# 価格の分布\n",
        "plt.figure(figsize=(12, 6))\n",
        "sns.histplot(train_df['price'], kde=True)\n",
        "plt.title('電力価格の分布')\n",
        "plt.xlabel('価格')\n",
        "plt.ylabel('頻度')\n",
        "plt.grid(True)\n",
        "plt.show()"
      ]
    },
    {
      "cell_type": "markdown",
      "metadata": {},
      "source": [
        "### 4.2 時系列での価格変動"
      ]
    },
    {
      "cell_type": "code",
      "execution_count": null,
      "metadata": {},
      "source": [
        "# 時系列での価格変動\n",
        "plt.figure(figsize=(15, 6))\n",
        "train_df.set_index('time')['price'].plot()\n",
        "plt.title('電力価格の時系列変動')\n",
        "plt.xlabel('時間')\n",
        "plt.ylabel('価格')\n",
        "plt.grid(True)\n",
        "plt.show()"
      ]
    },
    {
      "cell_type": "markdown",
      "metadata": {},
      "source": [
        "## 5. 特徴量の分析"
      ]
    },
    {
      "cell_type": "markdown",
      "metadata": {},
      "source": [
        "### 5.1 特徴量のグループ化"
      ]
    },
    {
      "cell_type": "code",
      "execution_count": null,
      "metadata": {},
      "source": [
        "# 特徴量のグループ化\n",
        "feature_groups = get_feature_groups(train_df)\n",
        "for group_name, features in feature_groups.items():\n",
        "    print(f\"\\n{group_name}の特徴量:\")\n",
        "    print(features)"
      ]
    },
    {
      "cell_type": "markdown",
      "metadata": {},
      "source": [
        "### 5.2 特徴量間の相関"
      ]
    },
    {
      "cell_type": "code",
      "execution_count": null,
      "metadata": {},
      "source": [
        "# 特徴量間の相関\n",
        "plt.figure(figsize=(15, 12))\n",
        "correlation_matrix = train_df[feature_groups['price'] + feature_groups['load']].corr()\n",
        "sns.heatmap(correlation_matrix, annot=True, cmap='coolwarm', center=0)\n",
        "plt.title('特徴量間の相関行列')\n",
        "plt.show()"
      ]
    },
    {
      "cell_type": "markdown",
      "metadata": {},
      "source": [
        "## 6. 外れ値の検出"
      ]
    },
    {
      "cell_type": "code",
      "execution_count": null,
      "metadata": {},
      "source": [
        "# 外れ値の検出\n",
        "outliers = check_outliers(train_df, feature_groups['price'])\n",
        "print(\"外れ値を持つ特徴量:\")\n",
        "print(outliers)"
      ]
    },
    {
      "cell_type": "markdown",
      "metadata": {},
      "source": [
        "## 7. 初期仮説の設定"
      ]
    },
    {
      "cell_type": "markdown",
      "metadata": {},
      "source": [
        "### 7.1 特徴量と目的変数の関係性\n",
        "\n",
        "以下の仮説を検証します：\n",
        "\n",
        "1. 時間帯による価格変動\n",
        "   - ピーク時間帯（朝・夕方）は価格が高くなる\n",
        "   - 深夜は価格が低くなる\n",
        "\n",
        "2. 曜日による価格変動\n",
        "   - 平日は価格が高くなる\n",
        "   - 週末は価格が低くなる\n",
        "\n",
        "3. 季節による価格変動\n",
        "   - 夏・冬は価格が高くなる（空調需要の影響）\n",
        "   - 春・秋は価格が低くなる\n",
        "\n",
        "4. 発電量と価格の関係\n",
        "   - 再生可能エネルギー（太陽光・風力）の発電量が増えると価格が下がる\n",
        "   - 火力発電の発電量が増えると価格が上がる\n",
        "\n",
        "5. 気象条件と価格の関係\n",
        "   - 気温が極端に高い/低いと価格が上がる\n",
        "   - 風速が強いと価格が下がる（風力発電の影響）\n",
        "\n",
        "6. 需要と価格の関係\n",
        "   - 需要が増えると価格が上がる\n",
        "   - 需要が減ると価格が下がる"
      ]
    },
    {
      "cell_type": "markdown",
      "metadata": {},
      "source": [
        "### 7.2 重要な特徴量の特定\n",
        "\n",
        "以下の特徴量が重要である可能性が高いと考えられます：\n",
        "\n",
        "1. 時間関連\n",
        "   - 時間帯（hour）\n",
        "   - 曜日（day_of_week）\n",
        "   - 月（month）\n",
        "\n",
        "2. 発電関連\n",
        "   - 太陽光発電量\n",
        "   - 風力発電量\n",
        "   - 火力発電量\n",
        "\n",
        "3. 気象関連\n",
        "   - 気温\n",
        "   - 風速\n",
        "   - 日射量\n",
        "\n",
        "4. 需要関連\n",
        "   - 総需要\n",
        "   - 産業需要\n",
        "   - 家庭需要"
      ]
    }
  ],
  "metadata": {
    "kernelspec": {
      "display_name": "Python 3",
      "language": "python",
      "name": "python3"
    },
    "language_info": {
      "codemirror_mode": {
        "name": "ipython",
        "version": 3
      },
      "file_extension": ".py",
      "mimetype": "text/x-python",
      "name": "python",
      "nbconvert_exporter": "python",
      "pygments_lexer": "ipython3",
      "version": "3.12.3"
    }
  },
  "nbformat": 4,
  "nbformat_minor": 4
}