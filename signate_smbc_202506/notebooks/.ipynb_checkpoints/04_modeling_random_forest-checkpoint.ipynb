{
 "cells": [
  {
   "cell_type": "markdown",
   "metadata": {},
   "source": [
    "# ランダムフォレストモデル\n",
    "\n",
    "このノートブックでは、前処理済みデータを用いてランダムフォレストによるモデルを構築し、評価します。\n",
    "\n",
    "- 目的変数: `price_actual`\n",
    "- モデル: ランダムフォレスト（RandomForestRegressor）\n",
    "- 評価指標: RMSE\n",
    "- ハイパーパラメータチューニング: GridSearchCV\n"
   ]
  },
  {
   "cell_type": "markdown",
   "metadata": {},
   "source": [
    "## 1. ライブラリのインポートとデータ読み込み"
   ]
  },
  {
   "cell_type": "code",
   "execution_count": 1,
   "metadata": {},
   "outputs": [
    {
     "name": "stdout",
     "output_type": "stream",
     "text": [
      "\u001b[34m.\u001b[m\u001b[m                   \u001b[34m.git\u001b[m\u001b[m                main.py             uv.lock\n",
      "\u001b[34m..\u001b[m\u001b[m                  .gitignore          pyproject.toml\n",
      "\u001b[34m.cursor\u001b[m\u001b[m             .python-version     README.md\n",
      ".DS_Store           \u001b[34m.venv\u001b[m\u001b[m               \u001b[34msignate_smbc_202506\u001b[m\u001b[m\n"
     ]
    }
   ],
   "source": [
    "# ファイルの存在確認\n",
    "!ls -a ../..\n",
    "# アクティベート\n",
    "!source ../../.venv/bin/activate"
   ]
  },
  {
   "cell_type": "code",
   "execution_count": 2,
   "metadata": {},
   "outputs": [
    {
     "name": "stdout",
     "output_type": "stream",
     "text": [
      "/Users/m0122wt/Desktop/02.プライベート/01.ノウハウ/07.データ分析/notebook/signate_smbc_202506/data\n",
      "train shape: (26280, 114)\n",
      "test shape: (8760, 113)\n"
     ]
    }
   ],
   "source": [
    "import pandas as pd\n",
    "import numpy as np\n",
    "from pathlib import Path\n",
    "from sklearn.ensemble import RandomForestRegressor\n",
    "from sklearn.metrics import root_mean_squared_error\n",
    "from sklearn.model_selection import TimeSeriesSplit\n",
    "import optuna\n",
    "\n",
    "# データディレクトリ\n",
    "PROJECT_ROOT = Path.cwd().parent\n",
    "DATA_DIR = PROJECT_ROOT / 'data'\n",
    "print(DATA_DIR)\n",
    "# 前処理済みデータの読み込み\n",
    "train = pd.read_csv(DATA_DIR / 'train_processed.csv')\n",
    "test = pd.read_csv(DATA_DIR / 'test_processed.csv')\n",
    "\n",
    "print('train shape:', train.shape)\n",
    "print('test shape:', test.shape)"
   ]
  },
  {
   "cell_type": "markdown",
   "metadata": {},
   "source": [
    "## 2. 特徴量・目的変数の設定"
   ]
  },
  {
   "cell_type": "code",
   "execution_count": 3,
   "metadata": {},
   "outputs": [
    {
     "name": "stdout",
     "output_type": "stream",
     "text": [
      "Features: ['generation_biomass', 'generation_fossil_brown_coal/lignite', 'generation_fossil_gas', 'generation_fossil_hard_coal', 'generation_fossil_oil', 'generation_hydro_pumped_storage_consumption', 'generation_hydro_run_of_river_and_poundage', 'generation_hydro_water_reservoir', 'generation_nuclear', 'generation_other', 'generation_other_renewable', 'generation_solar', 'generation_waste', 'generation_wind_onshore', 'total_load_actual', 'valencia_temp', 'valencia_temp_min', 'valencia_temp_max', 'valencia_pressure', 'valencia_humidity', 'valencia_wind_speed', 'valencia_wind_deg', 'valencia_rain_1h', 'valencia_rain_3h', 'valencia_snow_3h', 'valencia_clouds_all', 'valencia_weather_id', 'valencia_weather_main', 'valencia_weather_description', 'valencia_weather_icon', 'madrid_temp', 'madrid_temp_min', 'madrid_temp_max', 'madrid_pressure', 'madrid_humidity', 'madrid_wind_speed', 'madrid_wind_deg', 'madrid_rain_1h', 'madrid_rain_3h', 'madrid_snow_3h', 'madrid_clouds_all', 'madrid_weather_id', 'madrid_weather_main', 'madrid_weather_description', 'madrid_weather_icon', 'bilbao_temp', 'bilbao_temp_min', 'bilbao_temp_max', 'bilbao_pressure', 'bilbao_humidity', 'bilbao_wind_speed', 'bilbao_wind_deg', 'bilbao_rain_1h', 'bilbao_rain_3h', 'bilbao_snow_3h', 'bilbao_clouds_all', 'bilbao_weather_id', 'bilbao_weather_main', 'bilbao_weather_description', 'bilbao_weather_icon', 'barcelona_temp', 'barcelona_temp_min', 'barcelona_temp_max', 'barcelona_pressure', 'barcelona_humidity', 'barcelona_wind_speed', 'barcelona_wind_deg', 'barcelona_rain_1h', 'barcelona_rain_3h', 'barcelona_snow_3h', 'barcelona_clouds_all', 'barcelona_weather_id', 'barcelona_weather_main', 'barcelona_weather_description', 'barcelona_weather_icon', 'seville_temp', 'seville_temp_min', 'seville_temp_max', 'seville_pressure', 'seville_humidity', 'seville_wind_speed', 'seville_wind_deg', 'seville_rain_1h', 'seville_rain_3h', 'seville_snow_3h', 'seville_clouds_all', 'seville_weather_id', 'seville_weather_main', 'seville_weather_description', 'seville_weather_icon', 'hour', 'day_of_week', 'month', 'day', 'year', 'is_weekend', 'is_holiday', 'is_peak_hour', 'generation_biomass_ratio', 'generation_fossil_brown_coal/lignite_ratio', 'generation_fossil_gas_ratio', 'generation_fossil_hard_coal_ratio', 'generation_fossil_oil_ratio', 'generation_hydro_pumped_storage_consumption_ratio', 'generation_hydro_run_of_river_and_poundage_ratio', 'generation_hydro_water_reservoir_ratio', 'generation_nuclear_ratio', 'generation_other_ratio', 'generation_other_renewable_ratio', 'generation_solar_ratio', 'generation_waste_ratio', 'generation_wind_onshore_ratio']\n",
      "Target: price_actual\n",
      "X shape: (26280, 112)\n",
      "y shape: (26280,)\n"
     ]
    }
   ],
   "source": [
    "# 目的変数\n",
    "target_col = 'price_actual'\n",
    "\n",
    "# 説明変数（目的変数とtime列以外）\n",
    "drop_cols = ['time', target_col] if target_col in train.columns else ['time']\n",
    "feature_cols = [col for col in train.columns if col not in drop_cols]\n",
    "\n",
    "X = train[feature_cols]\n",
    "y = train[target_col] if target_col in train.columns else train.iloc[:, -1]  # 念のため\n",
    "\n",
    "print('Features:', feature_cols)\n",
    "print('Target:', target_col)\n",
    "print('X shape:', X.shape)\n",
    "print('y shape:', y.shape)"
   ]
  },
  {
   "cell_type": "markdown",
   "metadata": {},
   "source": [
    "## 3. 学習・検証データ分割"
   ]
  },
  {
   "cell_type": "code",
   "execution_count": 4,
   "metadata": {},
   "outputs": [],
   "source": [
    "# ベイズ最適化によるハイパーパラメータ探索\n",
    "tscv = TimeSeriesSplit(n_splits=5)\n",
    "def objective(trial):\n",
    "    params = {\n",
    "        'n_estimators': trial.suggest_int('n_estimators', 100, 300),\n",
    "        'max_depth': trial.suggest_int('max_depth', 5, 30),\n",
    "        'min_samples_split': trial.suggest_int('min_samples_split', 2, 10),\n",
    "        'min_samples_leaf': trial.suggest_int('min_samples_leaf', 1, 5),\n",
    "        'random_state': 42\n",
    "    }\n",
    "    rmses = []\n",
    "    for train_idx, valid_idx in tscv.split(X):\n",
    "        X_train, X_valid = X.iloc[train_idx], X.iloc[valid_idx]\n",
    "        y_train, y_valid = y.iloc[train_idx], y.iloc[valid_idx]\n",
    "        model = RandomForestRegressor(**params)\n",
    "        model.fit(X_train, y_train)\n",
    "        y_pred = model.predict(X_valid)\n",
    "        rmse = root_mean_squared_error(y_valid, y_pred)\n",
    "        rmses.append(rmse)\n",
    "    return np.mean(rmses)"
   ]
  },
  {
   "cell_type": "markdown",
   "metadata": {},
   "source": [
    "## 4. ランダムフォレストモデルの学習とハイパーパラメータチューニング"
   ]
  },
  {
   "cell_type": "code",
   "execution_count": null,
   "metadata": {},
   "outputs": [
    {
     "name": "stderr",
     "output_type": "stream",
     "text": [
      "[I 2025-06-19 22:32:34,246] A new study created in memory with name: no-name-682b73ec-f086-4b92-93ad-2f3b748e6876\n"
     ]
    }
   ],
   "source": [
    "study = optuna.create_study(direction='minimize')\n",
    "study.optimize(objective, n_trials=30)\n",
    "print('Best params:', study.best_params)\n",
    "print('Best CV RMSE:', study.best_value)\n",
    "best_params = study.best_params\n",
    "best_params['random_state'] = 42\n",
    "best_model = RandomForestRegressor(**best_params)\n",
    "best_model.fit(X, y)"
   ]
  },
  {
   "cell_type": "markdown",
   "metadata": {},
   "source": [
    "ハイパーパラメータの設定  \n",
    "ランダムフォレスト：グリッドサーチの結果  \n",
    "param_grid = {\n",
    "    'n_estimators': [100, 200],\n",
    "    'max_depth': [None, 10, 20],\n",
    "    'min_samples_split': [2, 5],\n",
    "    'min_samples_leaf': [1, 2]\n",
    "}\n",
    "\n",
    "Best parameters: {'max_depth': None, 'min_samples_leaf': 1, 'min_samples_split': 2, 'n_estimators': 200}  \n",
    "Best score: 19.873329344971545  "
   ]
  },
  {
   "cell_type": "markdown",
   "metadata": {},
   "source": [
    "## 5. 最適なモデルでの予測と評価"
   ]
  },
  {
   "cell_type": "code",
   "execution_count": null,
   "metadata": {},
   "outputs": [],
   "source": [
    "# 特徴量重要度で下位20%を除外し再学習\n",
    "importances = best_model.feature_importances_\n",
    "threshold = np.percentile(importances, 20)\n",
    "selected_features = [f for f, imp in zip(feature_cols, importances) if imp > threshold]\n",
    "best_model.fit(X[selected_features], y)\n"
   ]
  },
  {
   "cell_type": "markdown",
   "metadata": {},
   "source": [
    "## 6. テストデータへの予測と保存"
   ]
  },
  {
   "cell_type": "code",
   "execution_count": null,
   "metadata": {},
   "outputs": [],
   "source": [
    "# テストデータ予測と提出ファイル出力（フォーマット厳守）\n",
    "X_test = test[selected_features]\n",
    "test_pred = best_model.predict(X_test)\n",
    "submission = test[['time']].copy()\n",
    "submission['price_actual_pred'] = test_pred\n",
    "assert submission.iloc[0,0] == '2018-01-01 00:00:00+01:00', '1行1列目が要件を満たしません'\n",
    "submission.to_csv(DATA_DIR / 'submission_random_forest_v2.csv', index=False, header=False)\n",
    "print('Saved: submission_random_forest_v2.csv')\n"
   ]
  },
  {
   "cell_type": "code",
   "execution_count": null,
   "metadata": {},
   "outputs": [],
   "source": [
    "submission"
   ]
  },
  {
   "cell_type": "code",
   "execution_count": null,
   "metadata": {},
   "outputs": [],
   "source": []
  }
 ],
 "metadata": {
  "kernelspec": {
   "display_name": "Python 3 (ipykernel)",
   "language": "python",
   "name": "python3"
  },
  "language_info": {
   "codemirror_mode": {
    "name": "ipython",
    "version": 3
   },
   "file_extension": ".py",
   "mimetype": "text/x-python",
   "name": "python",
   "nbconvert_exporter": "python",
   "pygments_lexer": "ipython3",
   "version": "3.12.3"
  }
 },
 "nbformat": 4,
 "nbformat_minor": 4
}
