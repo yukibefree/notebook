{
 "cells": [
  {
   "cell_type": "markdown",
   "metadata": {},
   "source": [
    "# モデル\n",
    "\n",
    "このノートブックでは、前処理済みデータを用いてランダムフォレストによるモデルを構築し、評価します。\n",
    "\n",
    "- 目的変数: `price_actual`\n",
    "- モデル: ランダムフォレスト（RandomForestRegressor）\n",
    "- 評価指標: RMSE\n",
    "- ハイパーパラメータチューニング: GridSearchCV\n"
   ]
  },
  {
   "cell_type": "markdown",
   "metadata": {},
   "source": [
    "## 1. ライブラリのインポートとデータ読み込み"
   ]
  },
  {
   "cell_type": "code",
   "execution_count": 6,
   "metadata": {},
   "outputs": [
    {
     "name": "stdout",
     "output_type": "stream",
     "text": [
      "\u001b[34m.\u001b[m\u001b[m                   .DS_Store           .python-version     README.md\n",
      "\u001b[34m..\u001b[m\u001b[m                  \u001b[34m.git\u001b[m\u001b[m                \u001b[34m.venv\u001b[m\u001b[m               \u001b[34msignate_smbc_202506\u001b[m\u001b[m\n",
      "\u001b[34m.cursor\u001b[m\u001b[m             .gitignore          pyproject.toml      uv.lock\n"
     ]
    }
   ],
   "source": [
    "# ファイルの存在確認\n",
    "!ls -a ../..\n",
    "# アクティベート\n",
    "!source ../../.venv/bin/activate"
   ]
  },
  {
   "cell_type": "code",
   "execution_count": 10,
   "metadata": {},
   "outputs": [
    {
     "name": "stdout",
     "output_type": "stream",
     "text": [
      "\u001b[33mWarning:\u001b[0m libomp 20.1.7 is already installed and up-to-date.\n",
      "To reinstall 20.1.7, run:\n",
      "  brew reinstall libomp\n",
      "\u001b[33mWARNING: Skipping lightgbm as it is not installed.\u001b[0m\u001b[33m\n",
      "\u001b[0mCollecting lightgbm\n",
      "  Downloading lightgbm-4.6.0-py3-none-macosx_12_0_arm64.whl.metadata (17 kB)\n",
      "Requirement already satisfied: numpy>=1.17.0 in /Users/m0122wt/.pyenv/versions/3.12.3/lib/python3.12/site-packages (from lightgbm) (2.1.2)\n",
      "Requirement already satisfied: scipy in /Users/m0122wt/.pyenv/versions/3.12.3/lib/python3.12/site-packages (from lightgbm) (1.14.1)\n",
      "Downloading lightgbm-4.6.0-py3-none-macosx_12_0_arm64.whl (1.6 MB)\n",
      "\u001b[2K   \u001b[38;2;114;156;31m━━━━━━━━━━━━━━━━━━━━━━━━━━━━━━━━━━━━━━━━\u001b[0m \u001b[32m1.6/1.6 MB\u001b[0m \u001b[31m5.8 MB/s\u001b[0m eta \u001b[36m0:00:00\u001b[0mm eta \u001b[36m0:00:01\u001b[0m0:01\u001b[0m:01\u001b[0m\n",
      "\u001b[?25hInstalling collected packages: lightgbm\n",
      "Successfully installed lightgbm-4.6.0\n",
      "\n",
      "\u001b[1m[\u001b[0m\u001b[34;49mnotice\u001b[0m\u001b[1;39;49m]\u001b[0m\u001b[39;49m A new release of pip is available: \u001b[0m\u001b[31;49m24.0\u001b[0m\u001b[39;49m -> \u001b[0m\u001b[32;49m25.1.1\u001b[0m\n",
      "\u001b[1m[\u001b[0m\u001b[34;49mnotice\u001b[0m\u001b[1;39;49m]\u001b[0m\u001b[39;49m To update, run: \u001b[0m\u001b[32;49mpip install --upgrade pip\u001b[0m\n"
     ]
    }
   ],
   "source": [
    "# LightGBM特有のエラー対策\n",
    "#!brew install libomp\n",
    "#!pip uninstall lightgbm\n",
    "#!pip install lightgbm"
   ]
  },
  {
   "cell_type": "code",
   "execution_count": 11,
   "metadata": {},
   "outputs": [
    {
     "name": "stdout",
     "output_type": "stream",
     "text": [
      "/Users/m0122wt/Desktop/02.プライベート/01.ノウハウ/07.データ分析/notebook/signate_smbc_202506/data\n",
      "train shape: (26280, 122)\n",
      "test shape: (8760, 121)\n"
     ]
    }
   ],
   "source": [
    "import pandas as pd\n",
    "import numpy as np\n",
    "from pathlib import Path\n",
    "import lightgbm as lgb\n",
    "from sklearn.metrics import root_mean_squared_error\n",
    "from sklearn.model_selection import TimeSeriesSplit\n",
    "import optuna\n",
    "\n",
    "# データディレクトリ\n",
    "PROJECT_ROOT = Path.cwd().parent\n",
    "DATA_DIR = PROJECT_ROOT / 'data'\n",
    "print(DATA_DIR)\n",
    "# 前処理済みデータの読み込み\n",
    "train = pd.read_csv(DATA_DIR / 'train_processed.csv')\n",
    "test = pd.read_csv(DATA_DIR / 'test_processed.csv')\n",
    "\n",
    "print('train shape:', train.shape)\n",
    "print('test shape:', test.shape)"
   ]
  },
  {
   "cell_type": "markdown",
   "metadata": {},
   "source": [
    "## 2. 特徴量・目的変数の設定"
   ]
  },
  {
   "cell_type": "code",
   "execution_count": 12,
   "metadata": {},
   "outputs": [
    {
     "name": "stdout",
     "output_type": "stream",
     "text": [
      "Features: ['generation_biomass', 'generation_fossil_brown_coal/lignite', 'generation_fossil_gas', 'generation_fossil_hard_coal', 'generation_fossil_oil', 'generation_hydro_pumped_storage_consumption', 'generation_hydro_run_of_river_and_poundage', 'generation_hydro_water_reservoir', 'generation_nuclear', 'generation_other', 'generation_other_renewable', 'generation_solar', 'generation_waste', 'generation_wind_onshore', 'total_load_actual', 'valencia_temp', 'valencia_temp_min', 'valencia_temp_max', 'valencia_pressure', 'valencia_humidity', 'valencia_wind_speed', 'valencia_wind_deg', 'valencia_rain_1h', 'valencia_rain_3h', 'valencia_snow_3h', 'valencia_clouds_all', 'valencia_weather_id', 'valencia_weather_main', 'valencia_weather_description', 'valencia_weather_icon', 'madrid_temp', 'madrid_temp_min', 'madrid_temp_max', 'madrid_pressure', 'madrid_humidity', 'madrid_wind_speed', 'madrid_wind_deg', 'madrid_rain_1h', 'madrid_rain_3h', 'madrid_snow_3h', 'madrid_clouds_all', 'madrid_weather_id', 'madrid_weather_main', 'madrid_weather_description', 'madrid_weather_icon', 'bilbao_temp', 'bilbao_temp_min', 'bilbao_temp_max', 'bilbao_pressure', 'bilbao_humidity', 'bilbao_wind_speed', 'bilbao_wind_deg', 'bilbao_rain_1h', 'bilbao_rain_3h', 'bilbao_snow_3h', 'bilbao_clouds_all', 'bilbao_weather_id', 'bilbao_weather_main', 'bilbao_weather_description', 'bilbao_weather_icon', 'barcelona_temp', 'barcelona_temp_min', 'barcelona_temp_max', 'barcelona_pressure', 'barcelona_humidity', 'barcelona_wind_speed', 'barcelona_wind_deg', 'barcelona_rain_1h', 'barcelona_rain_3h', 'barcelona_snow_3h', 'barcelona_clouds_all', 'barcelona_weather_id', 'barcelona_weather_main', 'barcelona_weather_description', 'barcelona_weather_icon', 'seville_temp', 'seville_temp_min', 'seville_temp_max', 'seville_pressure', 'seville_humidity', 'seville_wind_speed', 'seville_wind_deg', 'seville_rain_1h', 'seville_rain_3h', 'seville_snow_3h', 'seville_clouds_all', 'seville_weather_id', 'seville_weather_main', 'seville_weather_description', 'seville_weather_icon', 'hour', 'day_of_week', 'month', 'day', 'year', 'is_weekend', 'is_holiday', 'is_peak_hour', 'is_off_hour', 'generation_biomass_ratio', 'generation_fossil_brown_coal/lignite_ratio', 'generation_fossil_gas_ratio', 'generation_fossil_hard_coal_ratio', 'generation_fossil_oil_ratio', 'generation_hydro_pumped_storage_consumption_ratio', 'generation_hydro_run_of_river_and_poundage_ratio', 'generation_hydro_water_reservoir_ratio', 'generation_nuclear_ratio', 'generation_other_ratio', 'generation_other_renewable_ratio', 'generation_solar_ratio', 'generation_waste_ratio', 'generation_wind_onshore_ratio', 'valencia_temp_diff', 'non_fossil_generation', 'demand_non_fossil_diff', 'is_holiday_or_weekend_flag', 'is_next_day_holiday_or_weekend_flag', 'is_previous_day_holiday_or_weekend_flag', 'consecutive_holiday_or_weekend_flag']\n",
      "Target: price_actual\n",
      "X shape: (26280, 120)\n",
      "y shape: (26280,)\n"
     ]
    }
   ],
   "source": [
    "# 目的変数\n",
    "target_col = 'price_actual'\n",
    "\n",
    "# 説明変数（目的変数とtime列以外）\n",
    "drop_cols = ['time', target_col] if target_col in train.columns else ['time']\n",
    "feature_cols = [col for col in train.columns if col not in drop_cols]\n",
    "\n",
    "X = train[feature_cols]\n",
    "y = train[target_col] if target_col in train.columns else train.iloc[:, -1]  # 念のため\n",
    "\n",
    "print('Features:', feature_cols)\n",
    "print('Target:', target_col)\n",
    "print('X shape:', X.shape)\n",
    "print('y shape:', y.shape)"
   ]
  },
  {
   "cell_type": "markdown",
   "metadata": {},
   "source": [
    "## 3. 学習・検証データ分割"
   ]
  },
  {
   "cell_type": "code",
   "execution_count": 13,
   "metadata": {},
   "outputs": [],
   "source": [
    "# ベイズ最適化によるLightGBMハイパーパラメータ探索\n",
    "tscv = TimeSeriesSplit(n_splits=5)\n",
    "def objective(trial):\n",
    "    params = {\n",
    "        'objective': 'regression',\n",
    "        'metric': 'rmse',\n",
    "        'boosting_type': 'gbdt',\n",
    "        'num_leaves': trial.suggest_int('num_leaves', 20, 100),\n",
    "        'learning_rate': trial.suggest_float('learning_rate', 0.01, 0.3),\n",
    "        'feature_fraction': trial.suggest_float('feature_fraction', 0.6, 1.0),\n",
    "        'bagging_fraction': trial.suggest_float('bagging_fraction', 0.6, 1.0),\n",
    "        'bagging_freq': trial.suggest_int('bagging_freq', 1, 10),\n",
    "        'min_child_samples': trial.suggest_int('min_child_samples', 10, 100),\n",
    "        'verbose': -1,\n",
    "        'random_state': 42\n",
    "    }\n",
    "    rmses = []\n",
    "    for train_idx, valid_idx in tscv.split(X):\n",
    "        X_train, X_valid = X.iloc[train_idx], X.iloc[valid_idx]\n",
    "        y_train, y_valid = y.iloc[train_idx], y.iloc[valid_idx]\n",
    "        train_data = lgb.Dataset(X_train, y_train)\n",
    "        valid_data = lgb.Dataset(X_valid, y_valid, reference=train_data)\n",
    "        model = lgb.train(params, train_data, valid_sets=[valid_data], num_boost_round=1000, callbacks=[lgb.early_stopping(50), lgb.log_evaluation(0)])\n",
    "        y_pred = model.predict(X_valid)\n",
    "        rmse = root_mean_squared_error(y_valid, y_pred)\n",
    "        rmses.append(rmse)\n",
    "    return np.mean(rmses)"
   ]
  },
  {
   "cell_type": "markdown",
   "metadata": {},
   "source": [
    "## 4. モデルの学習とハイパーパラメータチューニング"
   ]
  },
  {
   "cell_type": "code",
   "execution_count": 14,
   "metadata": {},
   "outputs": [
    {
     "name": "stderr",
     "output_type": "stream",
     "text": [
      "[I 2025-06-21 15:03:11,191] A new study created in memory with name: no-name-88266463-aad4-4507-baba-38801c372fd6\n"
     ]
    },
    {
     "name": "stdout",
     "output_type": "stream",
     "text": [
      "Training until validation scores don't improve for 50 rounds\n",
      "Early stopping, best iteration is:\n",
      "[125]\tvalid_0's rmse: 7.19483\n",
      "Training until validation scores don't improve for 50 rounds\n",
      "Early stopping, best iteration is:\n",
      "[154]\tvalid_0's rmse: 19.5326\n",
      "Training until validation scores don't improve for 50 rounds\n",
      "Early stopping, best iteration is:\n",
      "[1]\tvalid_0's rmse: 11.177\n",
      "Training until validation scores don't improve for 50 rounds\n",
      "Early stopping, best iteration is:\n",
      "[1]\tvalid_0's rmse: 13.4907\n",
      "Training until validation scores don't improve for 50 rounds\n"
     ]
    },
    {
     "name": "stderr",
     "output_type": "stream",
     "text": [
      "[I 2025-06-21 15:03:19,389] Trial 0 finished with value: 11.466044223847428 and parameters: {'num_leaves': 68, 'learning_rate': 0.07018908504325128, 'feature_fraction': 0.9737891371331779, 'bagging_fraction': 0.67878004991326, 'bagging_freq': 7, 'min_child_samples': 78}. Best is trial 0 with value: 11.466044223847428.\n"
     ]
    },
    {
     "name": "stdout",
     "output_type": "stream",
     "text": [
      "Early stopping, best iteration is:\n",
      "[228]\tvalid_0's rmse: 5.93511\n",
      "Training until validation scores don't improve for 50 rounds\n",
      "Early stopping, best iteration is:\n",
      "[40]\tvalid_0's rmse: 7.63082\n",
      "Training until validation scores don't improve for 50 rounds\n",
      "Early stopping, best iteration is:\n",
      "[32]\tvalid_0's rmse: 19.8278\n",
      "Training until validation scores don't improve for 50 rounds\n",
      "Early stopping, best iteration is:\n",
      "[1]\tvalid_0's rmse: 11.3725\n",
      "Training until validation scores don't improve for 50 rounds\n",
      "Early stopping, best iteration is:\n",
      "[1]\tvalid_0's rmse: 13.4898\n",
      "Training until validation scores don't improve for 50 rounds\n"
     ]
    },
    {
     "name": "stderr",
     "output_type": "stream",
     "text": [
      "[I 2025-06-21 15:03:25,454] Trial 1 finished with value: 11.675752134283288 and parameters: {'num_leaves': 79, 'learning_rate': 0.19022229392841394, 'feature_fraction': 0.8428230401053235, 'bagging_fraction': 0.766249268310335, 'bagging_freq': 3, 'min_child_samples': 24}. Best is trial 0 with value: 11.466044223847428.\n"
     ]
    },
    {
     "name": "stdout",
     "output_type": "stream",
     "text": [
      "Early stopping, best iteration is:\n",
      "[70]\tvalid_0's rmse: 6.05789\n",
      "Training until validation scores don't improve for 50 rounds\n",
      "Early stopping, best iteration is:\n",
      "[154]\tvalid_0's rmse: 7.04219\n",
      "Training until validation scores don't improve for 50 rounds\n",
      "Early stopping, best iteration is:\n",
      "[176]\tvalid_0's rmse: 18.7621\n",
      "Training until validation scores don't improve for 50 rounds\n",
      "Early stopping, best iteration is:\n",
      "[1]\tvalid_0's rmse: 11.296\n",
      "Training until validation scores don't improve for 50 rounds\n",
      "Early stopping, best iteration is:\n",
      "[8]\tvalid_0's rmse: 12.4711\n",
      "Training until validation scores don't improve for 50 rounds\n"
     ]
    },
    {
     "name": "stderr",
     "output_type": "stream",
     "text": [
      "[I 2025-06-21 15:03:32,326] Trial 2 finished with value: 11.065542044290794 and parameters: {'num_leaves': 35, 'learning_rate': 0.07492759888976204, 'feature_fraction': 0.7423968779713126, 'bagging_fraction': 0.8599792857740763, 'bagging_freq': 1, 'min_child_samples': 13}. Best is trial 2 with value: 11.065542044290794.\n"
     ]
    },
    {
     "name": "stdout",
     "output_type": "stream",
     "text": [
      "Early stopping, best iteration is:\n",
      "[323]\tvalid_0's rmse: 5.75636\n",
      "Training until validation scores don't improve for 50 rounds\n",
      "Early stopping, best iteration is:\n",
      "[42]\tvalid_0's rmse: 7.35399\n",
      "Training until validation scores don't improve for 50 rounds\n",
      "Early stopping, best iteration is:\n",
      "[69]\tvalid_0's rmse: 19.6695\n",
      "Training until validation scores don't improve for 50 rounds\n",
      "Early stopping, best iteration is:\n",
      "[1]\tvalid_0's rmse: 11.861\n",
      "Training until validation scores don't improve for 50 rounds\n",
      "Early stopping, best iteration is:\n",
      "[1]\tvalid_0's rmse: 13.6234\n",
      "Training until validation scores don't improve for 50 rounds\n"
     ]
    },
    {
     "name": "stderr",
     "output_type": "stream",
     "text": [
      "[I 2025-06-21 15:03:35,044] Trial 3 finished with value: 11.681698022217018 and parameters: {'num_leaves': 26, 'learning_rate': 0.21731377886220057, 'feature_fraction': 0.9792185480699902, 'bagging_fraction': 0.8613841200206078, 'bagging_freq': 5, 'min_child_samples': 62}. Best is trial 2 with value: 11.065542044290794.\n"
     ]
    },
    {
     "name": "stdout",
     "output_type": "stream",
     "text": [
      "Early stopping, best iteration is:\n",
      "[58]\tvalid_0's rmse: 5.90065\n",
      "Training until validation scores don't improve for 50 rounds\n",
      "Early stopping, best iteration is:\n",
      "[115]\tvalid_0's rmse: 7.29747\n",
      "Training until validation scores don't improve for 50 rounds\n",
      "Early stopping, best iteration is:\n",
      "[80]\tvalid_0's rmse: 19.0382\n",
      "Training until validation scores don't improve for 50 rounds\n",
      "Early stopping, best iteration is:\n",
      "[1]\tvalid_0's rmse: 11.223\n",
      "Training until validation scores don't improve for 50 rounds\n",
      "Early stopping, best iteration is:\n",
      "[1]\tvalid_0's rmse: 13.5802\n",
      "Training until validation scores don't improve for 50 rounds\n"
     ]
    },
    {
     "name": "stderr",
     "output_type": "stream",
     "text": [
      "[I 2025-06-21 15:03:41,881] Trial 4 finished with value: 11.426165744863258 and parameters: {'num_leaves': 83, 'learning_rate': 0.17701685948028695, 'feature_fraction': 0.8174530110703594, 'bagging_fraction': 0.8529094420183482, 'bagging_freq': 2, 'min_child_samples': 61}. Best is trial 2 with value: 11.065542044290794.\n"
     ]
    },
    {
     "name": "stdout",
     "output_type": "stream",
     "text": [
      "Early stopping, best iteration is:\n",
      "[61]\tvalid_0's rmse: 5.99196\n",
      "Training until validation scores don't improve for 50 rounds\n",
      "Early stopping, best iteration is:\n",
      "[243]\tvalid_0's rmse: 7.1616\n",
      "Training until validation scores don't improve for 50 rounds\n",
      "Early stopping, best iteration is:\n",
      "[187]\tvalid_0's rmse: 19.5945\n",
      "Training until validation scores don't improve for 50 rounds\n",
      "Early stopping, best iteration is:\n",
      "[1]\tvalid_0's rmse: 11.2473\n",
      "Training until validation scores don't improve for 50 rounds\n",
      "Early stopping, best iteration is:\n",
      "[8]\tvalid_0's rmse: 12.4805\n",
      "Training until validation scores don't improve for 50 rounds\n"
     ]
    },
    {
     "name": "stderr",
     "output_type": "stream",
     "text": [
      "[I 2025-06-21 15:03:49,618] Trial 5 finished with value: 11.259954837291254 and parameters: {'num_leaves': 34, 'learning_rate': 0.045321092646612826, 'feature_fraction': 0.6170683782690959, 'bagging_fraction': 0.6611115693283852, 'bagging_freq': 3, 'min_child_samples': 91}. Best is trial 2 with value: 11.065542044290794.\n"
     ]
    },
    {
     "name": "stdout",
     "output_type": "stream",
     "text": [
      "Early stopping, best iteration is:\n",
      "[486]\tvalid_0's rmse: 5.81597\n",
      "Training until validation scores don't improve for 50 rounds\n",
      "Early stopping, best iteration is:\n",
      "[86]\tvalid_0's rmse: 7.56971\n",
      "Training until validation scores don't improve for 50 rounds\n",
      "Early stopping, best iteration is:\n",
      "[52]\tvalid_0's rmse: 19.774\n",
      "Training until validation scores don't improve for 50 rounds\n",
      "Early stopping, best iteration is:\n",
      "[1]\tvalid_0's rmse: 11.3016\n",
      "Training until validation scores don't improve for 50 rounds\n",
      "Early stopping, best iteration is:\n",
      "[1]\tvalid_0's rmse: 13.5227\n",
      "Training until validation scores don't improve for 50 rounds\n"
     ]
    },
    {
     "name": "stderr",
     "output_type": "stream",
     "text": [
      "[I 2025-06-21 15:03:55,754] Trial 6 finished with value: 11.637334843787874 and parameters: {'num_leaves': 66, 'learning_rate': 0.1663841692798393, 'feature_fraction': 0.9861707583074992, 'bagging_fraction': 0.6662001700822167, 'bagging_freq': 4, 'min_child_samples': 27}. Best is trial 2 with value: 11.065542044290794.\n"
     ]
    },
    {
     "name": "stdout",
     "output_type": "stream",
     "text": [
      "Early stopping, best iteration is:\n",
      "[87]\tvalid_0's rmse: 6.01872\n",
      "Training until validation scores don't improve for 50 rounds\n",
      "Early stopping, best iteration is:\n",
      "[822]\tvalid_0's rmse: 7.18556\n",
      "Training until validation scores don't improve for 50 rounds\n",
      "Early stopping, best iteration is:\n",
      "[569]\tvalid_0's rmse: 19.7478\n",
      "Training until validation scores don't improve for 50 rounds\n",
      "Early stopping, best iteration is:\n",
      "[1]\tvalid_0's rmse: 11.1223\n",
      "Training until validation scores don't improve for 50 rounds\n",
      "Early stopping, best iteration is:\n",
      "[13]\tvalid_0's rmse: 13.2733\n",
      "Training until validation scores don't improve for 50 rounds\n"
     ]
    },
    {
     "name": "stderr",
     "output_type": "stream",
     "text": [
      "[I 2025-06-21 15:04:25,113] Trial 7 finished with value: 11.453897250713231 and parameters: {'num_leaves': 80, 'learning_rate': 0.010533846943643984, 'feature_fraction': 0.8344849291712476, 'bagging_fraction': 0.8056205577134862, 'bagging_freq': 7, 'min_child_samples': 71}. Best is trial 2 with value: 11.065542044290794.\n"
     ]
    },
    {
     "name": "stdout",
     "output_type": "stream",
     "text": [
      "Early stopping, best iteration is:\n",
      "[752]\tvalid_0's rmse: 5.94059\n",
      "Training until validation scores don't improve for 50 rounds\n",
      "Early stopping, best iteration is:\n",
      "[76]\tvalid_0's rmse: 7.32537\n",
      "Training until validation scores don't improve for 50 rounds\n",
      "Early stopping, best iteration is:\n",
      "[106]\tvalid_0's rmse: 19.6092\n",
      "Training until validation scores don't improve for 50 rounds\n",
      "Early stopping, best iteration is:\n",
      "[1]\tvalid_0's rmse: 11.1934\n",
      "Training until validation scores don't improve for 50 rounds\n",
      "Early stopping, best iteration is:\n",
      "[1]\tvalid_0's rmse: 13.4931\n",
      "Training until validation scores don't improve for 50 rounds\n"
     ]
    },
    {
     "name": "stderr",
     "output_type": "stream",
     "text": [
      "[I 2025-06-21 15:04:31,578] Trial 8 finished with value: 11.517142316272679 and parameters: {'num_leaves': 84, 'learning_rate': 0.10731101766531921, 'feature_fraction': 0.8357902024785877, 'bagging_fraction': 0.6446311768408316, 'bagging_freq': 10, 'min_child_samples': 76}. Best is trial 2 with value: 11.065542044290794.\n"
     ]
    },
    {
     "name": "stdout",
     "output_type": "stream",
     "text": [
      "Early stopping, best iteration is:\n",
      "[87]\tvalid_0's rmse: 5.96463\n",
      "Training until validation scores don't improve for 50 rounds\n",
      "Early stopping, best iteration is:\n",
      "[88]\tvalid_0's rmse: 7.29537\n",
      "Training until validation scores don't improve for 50 rounds\n",
      "Early stopping, best iteration is:\n",
      "[58]\tvalid_0's rmse: 19.3662\n",
      "Training until validation scores don't improve for 50 rounds\n",
      "Early stopping, best iteration is:\n",
      "[1]\tvalid_0's rmse: 11.5096\n",
      "Training until validation scores don't improve for 50 rounds\n",
      "Early stopping, best iteration is:\n",
      "[8]\tvalid_0's rmse: 11.4884\n",
      "Training until validation scores don't improve for 50 rounds\n"
     ]
    },
    {
     "name": "stderr",
     "output_type": "stream",
     "text": [
      "[I 2025-06-21 15:04:37,888] Trial 9 finished with value: 11.158134355417216 and parameters: {'num_leaves': 51, 'learning_rate': 0.12646015267621144, 'feature_fraction': 0.6108922053263736, 'bagging_fraction': 0.992619268764923, 'bagging_freq': 6, 'min_child_samples': 44}. Best is trial 2 with value: 11.065542044290794.\n"
     ]
    },
    {
     "name": "stdout",
     "output_type": "stream",
     "text": [
      "Early stopping, best iteration is:\n",
      "[170]\tvalid_0's rmse: 6.13108\n",
      "Training until validation scores don't improve for 50 rounds\n",
      "Early stopping, best iteration is:\n",
      "[26]\tvalid_0's rmse: 7.47517\n",
      "Training until validation scores don't improve for 50 rounds\n",
      "Early stopping, best iteration is:\n",
      "[50]\tvalid_0's rmse: 19.2809\n",
      "Training until validation scores don't improve for 50 rounds\n",
      "Early stopping, best iteration is:\n",
      "[1]\tvalid_0's rmse: 12.0784\n",
      "Training until validation scores don't improve for 50 rounds\n",
      "Early stopping, best iteration is:\n",
      "[8]\tvalid_0's rmse: 11.7622\n",
      "Training until validation scores don't improve for 50 rounds\n"
     ]
    },
    {
     "name": "stderr",
     "output_type": "stream",
     "text": [
      "[I 2025-06-21 15:04:41,361] Trial 10 finished with value: 11.462879135458387 and parameters: {'num_leaves': 46, 'learning_rate': 0.2872343919357754, 'feature_fraction': 0.715676011672338, 'bagging_fraction': 0.9642213306820715, 'bagging_freq': 1, 'min_child_samples': 14}. Best is trial 2 with value: 11.065542044290794.\n"
     ]
    },
    {
     "name": "stdout",
     "output_type": "stream",
     "text": [
      "Early stopping, best iteration is:\n",
      "[29]\tvalid_0's rmse: 6.7178\n",
      "Training until validation scores don't improve for 50 rounds\n",
      "Early stopping, best iteration is:\n",
      "[99]\tvalid_0's rmse: 7.25915\n",
      "Training until validation scores don't improve for 50 rounds\n",
      "Early stopping, best iteration is:\n",
      "[94]\tvalid_0's rmse: 19.4632\n",
      "Training until validation scores don't improve for 50 rounds\n",
      "Early stopping, best iteration is:\n",
      "[1]\tvalid_0's rmse: 11.4484\n",
      "Training until validation scores don't improve for 50 rounds\n",
      "Early stopping, best iteration is:\n",
      "[8]\tvalid_0's rmse: 11.7543\n",
      "Training until validation scores don't improve for 50 rounds\n"
     ]
    },
    {
     "name": "stderr",
     "output_type": "stream",
     "text": [
      "[I 2025-06-21 15:04:47,415] Trial 11 finished with value: 11.159070470509231 and parameters: {'num_leaves': 46, 'learning_rate': 0.11161471527895528, 'feature_fraction': 0.6046601356162318, 'bagging_fraction': 0.9971407720836861, 'bagging_freq': 7, 'min_child_samples': 42}. Best is trial 2 with value: 11.065542044290794.\n"
     ]
    },
    {
     "name": "stdout",
     "output_type": "stream",
     "text": [
      "Early stopping, best iteration is:\n",
      "[189]\tvalid_0's rmse: 5.87027\n",
      "Training until validation scores don't improve for 50 rounds\n",
      "Early stopping, best iteration is:\n",
      "[220]\tvalid_0's rmse: 7.40785\n",
      "Training until validation scores don't improve for 50 rounds\n",
      "Early stopping, best iteration is:\n",
      "[98]\tvalid_0's rmse: 19.2798\n",
      "Training until validation scores don't improve for 50 rounds\n",
      "Early stopping, best iteration is:\n",
      "[1]\tvalid_0's rmse: 11.3451\n",
      "Training until validation scores don't improve for 50 rounds\n",
      "Early stopping, best iteration is:\n",
      "[8]\tvalid_0's rmse: 12.5299\n",
      "Training until validation scores don't improve for 50 rounds\n"
     ]
    },
    {
     "name": "stderr",
     "output_type": "stream",
     "text": [
      "[I 2025-06-21 15:04:53,931] Trial 12 finished with value: 11.259454989379586 and parameters: {'num_leaves': 48, 'learning_rate': 0.10842010863554838, 'feature_fraction': 0.7177797593889603, 'bagging_fraction': 0.924288433118858, 'bagging_freq': 9, 'min_child_samples': 43}. Best is trial 2 with value: 11.065542044290794.\n"
     ]
    },
    {
     "name": "stdout",
     "output_type": "stream",
     "text": [
      "Early stopping, best iteration is:\n",
      "[108]\tvalid_0's rmse: 5.73459\n",
      "Training until validation scores don't improve for 50 rounds\n",
      "Early stopping, best iteration is:\n",
      "[397]\tvalid_0's rmse: 6.96127\n",
      "Training until validation scores don't improve for 50 rounds\n",
      "Early stopping, best iteration is:\n",
      "[179]\tvalid_0's rmse: 19.2883\n",
      "Training until validation scores don't improve for 50 rounds\n",
      "Early stopping, best iteration is:\n",
      "[1]\tvalid_0's rmse: 11.2888\n",
      "Training until validation scores don't improve for 50 rounds\n",
      "Early stopping, best iteration is:\n",
      "[8]\tvalid_0's rmse: 12.6377\n",
      "Training until validation scores don't improve for 50 rounds\n"
     ]
    },
    {
     "name": "stderr",
     "output_type": "stream",
     "text": [
      "[I 2025-06-21 15:05:02,483] Trial 13 finished with value: 11.186511090031292 and parameters: {'num_leaves': 34, 'learning_rate': 0.0703312888950475, 'feature_fraction': 0.6957190711250911, 'bagging_fraction': 0.9081118188079677, 'bagging_freq': 5, 'min_child_samples': 11}. Best is trial 2 with value: 11.065542044290794.\n"
     ]
    },
    {
     "name": "stdout",
     "output_type": "stream",
     "text": [
      "Early stopping, best iteration is:\n",
      "[246]\tvalid_0's rmse: 5.75642\n",
      "Training until validation scores don't improve for 50 rounds\n",
      "Early stopping, best iteration is:\n",
      "[93]\tvalid_0's rmse: 7.26931\n",
      "Training until validation scores don't improve for 50 rounds\n",
      "Early stopping, best iteration is:\n",
      "[136]\tvalid_0's rmse: 19.0135\n",
      "Training until validation scores don't improve for 50 rounds\n",
      "Early stopping, best iteration is:\n",
      "[1]\tvalid_0's rmse: 11.2835\n",
      "Training until validation scores don't improve for 50 rounds\n",
      "Early stopping, best iteration is:\n",
      "[5]\tvalid_0's rmse: 13.4728\n",
      "Training until validation scores don't improve for 50 rounds\n"
     ]
    },
    {
     "name": "stderr",
     "output_type": "stream",
     "text": [
      "[I 2025-06-21 15:05:05,855] Trial 14 finished with value: 11.354468216528595 and parameters: {'num_leaves': 20, 'learning_rate': 0.13219235006945226, 'feature_fraction': 0.7564387543452658, 'bagging_fraction': 0.7365074906611639, 'bagging_freq': 1, 'min_child_samples': 39}. Best is trial 2 with value: 11.065542044290794.\n"
     ]
    },
    {
     "name": "stdout",
     "output_type": "stream",
     "text": [
      "Early stopping, best iteration is:\n",
      "[200]\tvalid_0's rmse: 5.73319\n",
      "Training until validation scores don't improve for 50 rounds\n",
      "Early stopping, best iteration is:\n",
      "[57]\tvalid_0's rmse: 7.48565\n",
      "Training until validation scores don't improve for 50 rounds\n",
      "Early stopping, best iteration is:\n",
      "[20]\tvalid_0's rmse: 19.6606\n",
      "Training until validation scores don't improve for 50 rounds\n",
      "Early stopping, best iteration is:\n",
      "[1]\tvalid_0's rmse: 11.7949\n",
      "Training until validation scores don't improve for 50 rounds\n",
      "Early stopping, best iteration is:\n",
      "[8]\tvalid_0's rmse: 11.6314\n",
      "Training until validation scores don't improve for 50 rounds\n"
     ]
    },
    {
     "name": "stderr",
     "output_type": "stream",
     "text": [
      "[I 2025-06-21 15:05:12,649] Trial 15 finished with value: 11.408447984716375 and parameters: {'num_leaves': 97, 'learning_rate': 0.22132715744350157, 'feature_fraction': 0.6589342881765446, 'bagging_fraction': 0.8879919792070974, 'bagging_freq': 6, 'min_child_samples': 32}. Best is trial 2 with value: 11.065542044290794.\n"
     ]
    },
    {
     "name": "stdout",
     "output_type": "stream",
     "text": [
      "Early stopping, best iteration is:\n",
      "[71]\tvalid_0's rmse: 6.46971\n",
      "Training until validation scores don't improve for 50 rounds\n",
      "Early stopping, best iteration is:\n",
      "[157]\tvalid_0's rmse: 7.16681\n",
      "Training until validation scores don't improve for 50 rounds\n",
      "Early stopping, best iteration is:\n",
      "[126]\tvalid_0's rmse: 19.3705\n",
      "Training until validation scores don't improve for 50 rounds\n",
      "Early stopping, best iteration is:\n",
      "[1]\tvalid_0's rmse: 11.191\n",
      "Training until validation scores don't improve for 50 rounds\n",
      "Early stopping, best iteration is:\n",
      "[1]\tvalid_0's rmse: 13.4036\n",
      "Training until validation scores don't improve for 50 rounds\n"
     ]
    },
    {
     "name": "stderr",
     "output_type": "stream",
     "text": [
      "[I 2025-06-21 15:05:20,971] Trial 16 finished with value: 11.38662431765608 and parameters: {'num_leaves': 56, 'learning_rate': 0.06332565138632464, 'feature_fraction': 0.7713224327720228, 'bagging_fraction': 0.9513609415113331, 'bagging_freq': 8, 'min_child_samples': 50}. Best is trial 2 with value: 11.065542044290794.\n"
     ]
    },
    {
     "name": "stdout",
     "output_type": "stream",
     "text": [
      "Early stopping, best iteration is:\n",
      "[201]\tvalid_0's rmse: 5.80119\n",
      "Training until validation scores don't improve for 50 rounds\n",
      "Early stopping, best iteration is:\n",
      "[645]\tvalid_0's rmse: 7.09305\n",
      "Training until validation scores don't improve for 50 rounds\n",
      "Early stopping, best iteration is:\n",
      "[700]\tvalid_0's rmse: 19.0645\n",
      "Training until validation scores don't improve for 50 rounds\n",
      "Early stopping, best iteration is:\n",
      "[1]\tvalid_0's rmse: 11.1269\n",
      "Training until validation scores don't improve for 50 rounds\n",
      "Early stopping, best iteration is:\n",
      "[2]\tvalid_0's rmse: 13.3543\n",
      "Training until validation scores don't improve for 50 rounds\n"
     ]
    },
    {
     "name": "stderr",
     "output_type": "stream",
     "text": [
      "[I 2025-06-21 15:05:41,362] Trial 17 finished with value: 11.279988407786373 and parameters: {'num_leaves': 37, 'learning_rate': 0.016930539888887555, 'feature_fraction': 0.9028503998826625, 'bagging_fraction': 0.8155863864662646, 'bagging_freq': 4, 'min_child_samples': 20}. Best is trial 2 with value: 11.065542044290794.\n"
     ]
    },
    {
     "name": "stdout",
     "output_type": "stream",
     "text": [
      "Early stopping, best iteration is:\n",
      "[921]\tvalid_0's rmse: 5.76125\n",
      "Training until validation scores don't improve for 50 rounds\n",
      "Early stopping, best iteration is:\n",
      "[70]\tvalid_0's rmse: 7.53106\n",
      "Training until validation scores don't improve for 50 rounds\n",
      "Early stopping, best iteration is:\n",
      "[41]\tvalid_0's rmse: 19.6099\n",
      "Training until validation scores don't improve for 50 rounds\n",
      "Early stopping, best iteration is:\n",
      "[1]\tvalid_0's rmse: 11.3248\n",
      "Training until validation scores don't improve for 50 rounds\n",
      "Early stopping, best iteration is:\n",
      "[9]\tvalid_0's rmse: 12.0462\n",
      "Training until validation scores don't improve for 50 rounds\n"
     ]
    },
    {
     "name": "stderr",
     "output_type": "stream",
     "text": [
      "[I 2025-06-21 15:05:47,046] Trial 18 finished with value: 11.30258869460537 and parameters: {'num_leaves': 55, 'learning_rate': 0.141721059328024, 'feature_fraction': 0.6627936867575388, 'bagging_fraction': 0.7307209798200476, 'bagging_freq': 6, 'min_child_samples': 54}. Best is trial 2 with value: 11.065542044290794.\n"
     ]
    },
    {
     "name": "stdout",
     "output_type": "stream",
     "text": [
      "Early stopping, best iteration is:\n",
      "[191]\tvalid_0's rmse: 6.00101\n",
      "Training until validation scores don't improve for 50 rounds\n",
      "Early stopping, best iteration is:\n",
      "[126]\tvalid_0's rmse: 7.0979\n",
      "Training until validation scores don't improve for 50 rounds\n",
      "Early stopping, best iteration is:\n",
      "[157]\tvalid_0's rmse: 19.3704\n",
      "Training until validation scores don't improve for 50 rounds\n",
      "Early stopping, best iteration is:\n",
      "[1]\tvalid_0's rmse: 11.201\n",
      "Training until validation scores don't improve for 50 rounds\n",
      "Early stopping, best iteration is:\n",
      "[1]\tvalid_0's rmse: 13.4351\n",
      "Training until validation scores don't improve for 50 rounds\n"
     ]
    },
    {
     "name": "stderr",
     "output_type": "stream",
     "text": [
      "[I 2025-06-21 15:05:52,758] Trial 19 finished with value: 11.402810753018208 and parameters: {'num_leaves': 40, 'learning_rate': 0.08896890624009572, 'feature_fraction': 0.8853704632294327, 'bagging_fraction': 0.6012642745857747, 'bagging_freq': 3, 'min_child_samples': 34}. Best is trial 2 with value: 11.065542044290794.\n"
     ]
    },
    {
     "name": "stdout",
     "output_type": "stream",
     "text": [
      "Early stopping, best iteration is:\n",
      "[157]\tvalid_0's rmse: 5.90962\n",
      "Training until validation scores don't improve for 50 rounds\n",
      "Early stopping, best iteration is:\n",
      "[116]\tvalid_0's rmse: 7.65485\n",
      "Training until validation scores don't improve for 50 rounds\n",
      "Early stopping, best iteration is:\n",
      "[61]\tvalid_0's rmse: 19.2136\n",
      "Training until validation scores don't improve for 50 rounds\n",
      "Early stopping, best iteration is:\n",
      "[1]\tvalid_0's rmse: 12.2853\n",
      "Training until validation scores don't improve for 50 rounds\n",
      "Early stopping, best iteration is:\n",
      "[8]\tvalid_0's rmse: 12.3309\n",
      "Training until validation scores don't improve for 50 rounds\n"
     ]
    },
    {
     "name": "stderr",
     "output_type": "stream",
     "text": [
      "[I 2025-06-21 15:05:56,082] Trial 20 finished with value: 11.54167400394513 and parameters: {'num_leaves': 27, 'learning_rate': 0.26431501573433835, 'feature_fraction': 0.6485144883351844, 'bagging_fraction': 0.9930367959336219, 'bagging_freq': 8, 'min_child_samples': 98}. Best is trial 2 with value: 11.065542044290794.\n"
     ]
    },
    {
     "name": "stdout",
     "output_type": "stream",
     "text": [
      "Early stopping, best iteration is:\n",
      "[106]\tvalid_0's rmse: 6.22366\n",
      "Training until validation scores don't improve for 50 rounds\n",
      "Early stopping, best iteration is:\n",
      "[77]\tvalid_0's rmse: 7.23931\n",
      "Training until validation scores don't improve for 50 rounds\n",
      "Early stopping, best iteration is:\n",
      "[96]\tvalid_0's rmse: 19.4248\n",
      "Training until validation scores don't improve for 50 rounds\n",
      "Early stopping, best iteration is:\n",
      "[1]\tvalid_0's rmse: 11.4852\n",
      "Training until validation scores don't improve for 50 rounds\n",
      "Early stopping, best iteration is:\n",
      "[9]\tvalid_0's rmse: 11.7778\n",
      "Training until validation scores don't improve for 50 rounds\n"
     ]
    },
    {
     "name": "stderr",
     "output_type": "stream",
     "text": [
      "[I 2025-06-21 15:06:02,398] Trial 21 finished with value: 11.166244701720451 and parameters: {'num_leaves': 49, 'learning_rate': 0.12072506424433155, 'feature_fraction': 0.626127216078305, 'bagging_fraction': 0.9984924000703088, 'bagging_freq': 7, 'min_child_samples': 44}. Best is trial 2 with value: 11.065542044290794.\n"
     ]
    },
    {
     "name": "stdout",
     "output_type": "stream",
     "text": [
      "Early stopping, best iteration is:\n",
      "[168]\tvalid_0's rmse: 5.90418\n",
      "Training until validation scores don't improve for 50 rounds\n",
      "Early stopping, best iteration is:\n",
      "[158]\tvalid_0's rmse: 7.16223\n",
      "Training until validation scores don't improve for 50 rounds\n",
      "Early stopping, best iteration is:\n",
      "[257]\tvalid_0's rmse: 19.4538\n",
      "Training until validation scores don't improve for 50 rounds\n",
      "Early stopping, best iteration is:\n",
      "[1]\tvalid_0's rmse: 11.2216\n",
      "Training until validation scores don't improve for 50 rounds\n",
      "Early stopping, best iteration is:\n",
      "[9]\tvalid_0's rmse: 12.4605\n",
      "Training until validation scores don't improve for 50 rounds\n"
     ]
    },
    {
     "name": "stderr",
     "output_type": "stream",
     "text": [
      "[I 2025-06-21 15:06:17,300] Trial 22 finished with value: 11.209099061508327 and parameters: {'num_leaves': 63, 'learning_rate': 0.04265332275090439, 'feature_fraction': 0.6157301858893564, 'bagging_fraction': 0.9509881470152426, 'bagging_freq': 8, 'min_child_samples': 47}. Best is trial 2 with value: 11.065542044290794.\n"
     ]
    },
    {
     "name": "stdout",
     "output_type": "stream",
     "text": [
      "Early stopping, best iteration is:\n",
      "[560]\tvalid_0's rmse: 5.74739\n",
      "Training until validation scores don't improve for 50 rounds\n",
      "Early stopping, best iteration is:\n",
      "[76]\tvalid_0's rmse: 7.23364\n",
      "Training until validation scores don't improve for 50 rounds\n",
      "Early stopping, best iteration is:\n",
      "[112]\tvalid_0's rmse: 19.6388\n",
      "Training until validation scores don't improve for 50 rounds\n",
      "Early stopping, best iteration is:\n",
      "[1]\tvalid_0's rmse: 11.4073\n",
      "Training until validation scores don't improve for 50 rounds\n",
      "Early stopping, best iteration is:\n",
      "[8]\tvalid_0's rmse: 11.9455\n",
      "Training until validation scores don't improve for 50 rounds\n"
     ]
    },
    {
     "name": "stderr",
     "output_type": "stream",
     "text": [
      "[I 2025-06-21 15:06:23,689] Trial 23 finished with value: 11.242557968438495 and parameters: {'num_leaves': 43, 'learning_rate': 0.09551868855345487, 'feature_fraction': 0.6029027633080397, 'bagging_fraction': 0.9250645542324114, 'bagging_freq': 6, 'min_child_samples': 36}. Best is trial 2 with value: 11.065542044290794.\n"
     ]
    },
    {
     "name": "stdout",
     "output_type": "stream",
     "text": [
      "Early stopping, best iteration is:\n",
      "[236]\tvalid_0's rmse: 5.9876\n",
      "Training until validation scores don't improve for 50 rounds\n",
      "Early stopping, best iteration is:\n",
      "[64]\tvalid_0's rmse: 7.29959\n",
      "Training until validation scores don't improve for 50 rounds\n",
      "Early stopping, best iteration is:\n",
      "[67]\tvalid_0's rmse: 19.1142\n",
      "Training until validation scores don't improve for 50 rounds\n",
      "Early stopping, best iteration is:\n",
      "[1]\tvalid_0's rmse: 11.5347\n",
      "Training until validation scores don't improve for 50 rounds\n",
      "Early stopping, best iteration is:\n",
      "[8]\tvalid_0's rmse: 12.0179\n",
      "Training until validation scores don't improve for 50 rounds\n"
     ]
    },
    {
     "name": "stderr",
     "output_type": "stream",
     "text": [
      "[I 2025-06-21 15:06:28,994] Trial 24 finished with value: 11.215668106913109 and parameters: {'num_leaves': 53, 'learning_rate': 0.1507759893211375, 'feature_fraction': 0.6884282066436532, 'bagging_fraction': 0.8649864664392479, 'bagging_freq': 5, 'min_child_samples': 19}. Best is trial 2 with value: 11.065542044290794.\n"
     ]
    },
    {
     "name": "stdout",
     "output_type": "stream",
     "text": [
      "Early stopping, best iteration is:\n",
      "[96]\tvalid_0's rmse: 6.11186\n",
      "Training until validation scores don't improve for 50 rounds\n",
      "Early stopping, best iteration is:\n",
      "[152]\tvalid_0's rmse: 7.18771\n",
      "Training until validation scores don't improve for 50 rounds\n",
      "Early stopping, best iteration is:\n",
      "[161]\tvalid_0's rmse: 19.0867\n",
      "Training until validation scores don't improve for 50 rounds\n",
      "Early stopping, best iteration is:\n",
      "[1]\tvalid_0's rmse: 11.3399\n",
      "Training until validation scores don't improve for 50 rounds\n",
      "Early stopping, best iteration is:\n",
      "[8]\tvalid_0's rmse: 12.6436\n",
      "Training until validation scores don't improve for 50 rounds\n"
     ]
    },
    {
     "name": "stderr",
     "output_type": "stream",
     "text": [
      "[I 2025-06-21 15:06:33,708] Trial 25 finished with value: 11.229498092008932 and parameters: {'num_leaves': 30, 'learning_rate': 0.08418425341624833, 'feature_fraction': 0.7509106693230787, 'bagging_fraction': 0.9662635638952843, 'bagging_freq': 10, 'min_child_samples': 61}. Best is trial 2 with value: 11.065542044290794.\n"
     ]
    },
    {
     "name": "stdout",
     "output_type": "stream",
     "text": [
      "Early stopping, best iteration is:\n",
      "[125]\tvalid_0's rmse: 5.88965\n",
      "Training until validation scores don't improve for 50 rounds\n",
      "Early stopping, best iteration is:\n",
      "[60]\tvalid_0's rmse: 7.23607\n",
      "Training until validation scores don't improve for 50 rounds\n",
      "Early stopping, best iteration is:\n",
      "[56]\tvalid_0's rmse: 19.4359\n",
      "Training until validation scores don't improve for 50 rounds\n",
      "Early stopping, best iteration is:\n",
      "[1]\tvalid_0's rmse: 11.1958\n",
      "Training until validation scores don't improve for 50 rounds\n",
      "Early stopping, best iteration is:\n",
      "[1]\tvalid_0's rmse: 13.5114\n",
      "Training until validation scores don't improve for 50 rounds\n"
     ]
    },
    {
     "name": "stderr",
     "output_type": "stream",
     "text": [
      "[I 2025-06-21 15:06:40,293] Trial 26 finished with value: 11.49360143244527 and parameters: {'num_leaves': 71, 'learning_rate': 0.1264887270994555, 'feature_fraction': 0.7845814404063123, 'bagging_fraction': 0.8355886092494547, 'bagging_freq': 4, 'min_child_samples': 30}. Best is trial 2 with value: 11.065542044290794.\n"
     ]
    },
    {
     "name": "stdout",
     "output_type": "stream",
     "text": [
      "Early stopping, best iteration is:\n",
      "[89]\tvalid_0's rmse: 6.08891\n",
      "Training until validation scores don't improve for 50 rounds\n",
      "Early stopping, best iteration is:\n",
      "[176]\tvalid_0's rmse: 7.11022\n",
      "Training until validation scores don't improve for 50 rounds\n",
      "Early stopping, best iteration is:\n",
      "[140]\tvalid_0's rmse: 19.4294\n",
      "Training until validation scores don't improve for 50 rounds\n",
      "Early stopping, best iteration is:\n",
      "[1]\tvalid_0's rmse: 11.1791\n",
      "Training until validation scores don't improve for 50 rounds\n",
      "Early stopping, best iteration is:\n",
      "[8]\tvalid_0's rmse: 12.8403\n",
      "Training until validation scores don't improve for 50 rounds\n"
     ]
    },
    {
     "name": "stderr",
     "output_type": "stream",
     "text": [
      "[I 2025-06-21 15:06:49,126] Trial 27 finished with value: 11.265690000864232 and parameters: {'num_leaves': 59, 'learning_rate': 0.053699866739244206, 'feature_fraction': 0.6445596498193762, 'bagging_fraction': 0.9114646368582626, 'bagging_freq': 9, 'min_child_samples': 53}. Best is trial 2 with value: 11.065542044290794.\n"
     ]
    },
    {
     "name": "stdout",
     "output_type": "stream",
     "text": [
      "Early stopping, best iteration is:\n",
      "[231]\tvalid_0's rmse: 5.76943\n",
      "Training until validation scores don't improve for 50 rounds\n",
      "Early stopping, best iteration is:\n",
      "[48]\tvalid_0's rmse: 7.44685\n",
      "Training until validation scores don't improve for 50 rounds\n",
      "Early stopping, best iteration is:\n",
      "[49]\tvalid_0's rmse: 19.296\n",
      "Training until validation scores don't improve for 50 rounds\n",
      "Early stopping, best iteration is:\n",
      "[1]\tvalid_0's rmse: 11.4257\n",
      "Training until validation scores don't improve for 50 rounds\n",
      "Early stopping, best iteration is:\n",
      "[8]\tvalid_0's rmse: 11.8738\n",
      "Training until validation scores don't improve for 50 rounds\n"
     ]
    },
    {
     "name": "stderr",
     "output_type": "stream",
     "text": [
      "[I 2025-06-21 15:06:52,759] Trial 28 finished with value: 11.25639655435475 and parameters: {'num_leaves': 40, 'learning_rate': 0.1877224026623449, 'feature_fraction': 0.6816813618343006, 'bagging_fraction': 0.7735113985672946, 'bagging_freq': 7, 'min_child_samples': 69}. Best is trial 2 with value: 11.065542044290794.\n"
     ]
    },
    {
     "name": "stdout",
     "output_type": "stream",
     "text": [
      "Early stopping, best iteration is:\n",
      "[59]\tvalid_0's rmse: 6.23963\n",
      "Training until validation scores don't improve for 50 rounds\n",
      "Early stopping, best iteration is:\n",
      "[517]\tvalid_0's rmse: 7.0371\n",
      "Training until validation scores don't improve for 50 rounds\n",
      "Early stopping, best iteration is:\n",
      "[416]\tvalid_0's rmse: 19.6353\n",
      "Training until validation scores don't improve for 50 rounds\n",
      "Early stopping, best iteration is:\n",
      "[1]\tvalid_0's rmse: 11.1828\n",
      "Training until validation scores don't improve for 50 rounds\n",
      "Early stopping, best iteration is:\n",
      "[8]\tvalid_0's rmse: 13.0942\n",
      "Training until validation scores don't improve for 50 rounds\n"
     ]
    },
    {
     "name": "stderr",
     "output_type": "stream",
     "text": [
      "[I 2025-06-21 15:07:01,393] Trial 29 finished with value: 11.344784664461605 and parameters: {'num_leaves': 20, 'learning_rate': 0.02980950845681874, 'feature_fraction': 0.73353686833303, 'bagging_fraction': 0.9929744550513105, 'bagging_freq': 7, 'min_child_samples': 40}. Best is trial 2 with value: 11.065542044290794.\n"
     ]
    },
    {
     "name": "stdout",
     "output_type": "stream",
     "text": [
      "Early stopping, best iteration is:\n",
      "[700]\tvalid_0's rmse: 5.7745\n",
      "Best params: {'num_leaves': 35, 'learning_rate': 0.07492759888976204, 'feature_fraction': 0.7423968779713126, 'bagging_fraction': 0.8599792857740763, 'bagging_freq': 1, 'min_child_samples': 13}\n",
      "Best CV RMSE: 11.065542044290794\n"
     ]
    }
   ],
   "source": [
    "%%time\n",
    "study = optuna.create_study(direction='minimize')\n",
    "study.optimize(objective, n_trials=200)"
   ]
  },
  {
   "cell_type": "code",
   "execution_count": 18,
   "metadata": {},
   "outputs": [
    {
     "data": {
      "text/plain": [
       "{'num_leaves': 35,\n",
       " 'learning_rate': 0.07492759888976204,\n",
       " 'feature_fraction': 0.7423968779713126,\n",
       " 'bagging_fraction': 0.8599792857740763,\n",
       " 'bagging_freq': 1,\n",
       " 'min_child_samples': 13,\n",
       " 'objective': 'regression',\n",
       " 'metric': 'rmse',\n",
       " 'boosting_type': 'gbdt',\n",
       " 'verbose': -1,\n",
       " 'random_state': 42}"
      ]
     },
     "execution_count": 18,
     "metadata": {},
     "output_type": "execute_result"
    }
   ],
   "source": [
    "print('LightGBM：ベイズ最適化の結果')\n",
    "print('Best params:', study.best_params)\n",
    "print('Best CV RMSE:', study.best_value)\n",
    "best_params = study.best_params\n",
    "best_params.update({\n",
    "    'objective': 'regression',\n",
    "    'metric': 'rmse',\n",
    "    'boosting_type': 'gbdt',\n",
    "    'verbose': -1,\n",
    "    'random_state': 42\n",
    "})\n",
    "train_data = lgb.Dataset(X, y)\n",
    "best_model = lgb.train(best_params, train_data, num_boost_round=1000)"
   ]
  },
  {
   "cell_type": "markdown",
   "metadata": {},
   "source": [
    "履歴：ハイパーパラメータの設定  \n",
    "ランダムフォレスト：グリッドサーチの結果  \n",
    "param_grid = {\n",
    "    'n_estimators': [100, 200],\n",
    "    'max_depth': [None, 10, 20],\n",
    "    'min_samples_split': [2, 5],\n",
    "    'min_samples_leaf': [1, 2]\n",
    "}\n",
    "\n",
    "Best parameters: {'max_depth': None, 'min_samples_leaf': 1, 'min_samples_split': 2, 'n_estimators': 200}  \n",
    "Best score: 19.873329344971545  \n",
    "\n",
    "LightGBM：ベイズ最適化の結果\n",
    "Best params: {'num_leaves': 35, 'learning_rate': 0.07492759888976204, 'feature_fraction': 0.7423968779713126, 'bagging_fraction': 0.8599792857740763, 'bagging_freq': 1, 'min_child_samples': 13}\n",
    "Best CV RMSE: 11.065542044290794"
   ]
  },
  {
   "cell_type": "markdown",
   "metadata": {},
   "source": [
    "## 5. 最適なモデルでの予測と評価"
   ]
  },
  {
   "cell_type": "code",
   "execution_count": 15,
   "metadata": {},
   "outputs": [
    {
     "name": "stdout",
     "output_type": "stream",
     "text": [
      "Selected features: ['generation_biomass', 'generation_fossil_brown_coal/lignite', 'generation_fossil_gas', 'generation_fossil_hard_coal', 'generation_fossil_oil', 'generation_hydro_pumped_storage_consumption', 'generation_hydro_run_of_river_and_poundage', 'generation_hydro_water_reservoir', 'generation_nuclear', 'generation_other', 'generation_other_renewable', 'generation_solar', 'generation_waste', 'generation_wind_onshore', 'total_load_actual', 'valencia_temp', 'valencia_temp_min', 'valencia_temp_max', 'valencia_pressure', 'valencia_humidity', 'valencia_wind_speed', 'valencia_wind_deg', 'valencia_clouds_all', 'valencia_weather_icon', 'madrid_temp', 'madrid_temp_min', 'madrid_temp_max', 'madrid_pressure', 'madrid_humidity', 'madrid_wind_speed', 'madrid_wind_deg', 'madrid_clouds_all', 'madrid_weather_id', 'madrid_weather_icon', 'bilbao_temp', 'bilbao_temp_min', 'bilbao_temp_max', 'bilbao_pressure', 'bilbao_humidity', 'bilbao_wind_speed', 'bilbao_wind_deg', 'bilbao_clouds_all', 'bilbao_weather_id', 'bilbao_weather_description', 'bilbao_weather_icon', 'barcelona_temp', 'barcelona_temp_min', 'barcelona_temp_max', 'barcelona_pressure', 'barcelona_humidity', 'barcelona_wind_speed', 'barcelona_wind_deg', 'barcelona_clouds_all', 'barcelona_weather_main', 'barcelona_weather_description', 'barcelona_weather_icon', 'seville_temp', 'seville_temp_min', 'seville_temp_max', 'seville_pressure', 'seville_humidity', 'seville_wind_speed', 'seville_wind_deg', 'seville_clouds_all', 'seville_weather_description', 'seville_weather_icon', 'hour', 'day_of_week', 'month', 'day', 'year', 'is_weekend', 'is_holiday', 'is_peak_hour', 'is_off_hour', 'generation_biomass_ratio', 'generation_fossil_brown_coal/lignite_ratio', 'generation_fossil_gas_ratio', 'generation_fossil_hard_coal_ratio', 'generation_fossil_oil_ratio', 'generation_hydro_pumped_storage_consumption_ratio', 'generation_hydro_run_of_river_and_poundage_ratio', 'generation_hydro_water_reservoir_ratio', 'generation_nuclear_ratio', 'generation_other_ratio', 'generation_other_renewable_ratio', 'generation_solar_ratio', 'generation_waste_ratio', 'generation_wind_onshore_ratio', 'valencia_temp_diff', 'non_fossil_generation', 'demand_non_fossil_diff', 'is_holiday_or_weekend_flag', 'is_next_day_holiday_or_weekend_flag', 'is_previous_day_holiday_or_weekend_flag', 'consecutive_holiday_or_weekend_flag']\n"
     ]
    }
   ],
   "source": [
    "# 特徴量重要度で下位20%を除外し再学習\n",
    "importances = best_model.feature_importance(importance_type='gain')\n",
    "threshold = np.percentile(importances, 20)\n",
    "selected_features = [f for f, imp in zip(feature_cols, importances) if imp > threshold]\n",
    "print('Selected features:', selected_features)\n",
    "train_data_selected = lgb.Dataset(X[selected_features], y)\n",
    "best_model = lgb.train(best_params, train_data_selected, num_boost_round=1000)\n"
   ]
  },
  {
   "cell_type": "markdown",
   "metadata": {},
   "source": [
    "## 6. テストデータへの予測と保存"
   ]
  },
  {
   "cell_type": "code",
   "execution_count": 16,
   "metadata": {},
   "outputs": [
    {
     "name": "stdout",
     "output_type": "stream",
     "text": [
      "Saved: submission_lightgbm.csv\n"
     ]
    }
   ],
   "source": [
    "# テストデータ予測と提出ファイル出力（フォーマット厳守）\n",
    "X_test = test[selected_features]\n",
    "test_pred = best_model.predict(X_test)\n",
    "submission = test[['time']].copy()\n",
    "submission['price_actual_pred'] = test_pred\n",
    "assert submission.iloc[0,0] == '2018-01-01 00:00:00+01:00', '1行1列目が要件を満たしません'\n",
    "submission.to_csv(DATA_DIR / 'submission_lightgbm.csv', index=False, header=False)\n",
    "print('Saved: submission_lightgbm.csv')"
   ]
  },
  {
   "cell_type": "code",
   "execution_count": 17,
   "metadata": {},
   "outputs": [
    {
     "data": {
      "text/html": [
       "<div>\n",
       "<style scoped>\n",
       "    .dataframe tbody tr th:only-of-type {\n",
       "        vertical-align: middle;\n",
       "    }\n",
       "\n",
       "    .dataframe tbody tr th {\n",
       "        vertical-align: top;\n",
       "    }\n",
       "\n",
       "    .dataframe thead th {\n",
       "        text-align: right;\n",
       "    }\n",
       "</style>\n",
       "<table border=\"1\" class=\"dataframe\">\n",
       "  <thead>\n",
       "    <tr style=\"text-align: right;\">\n",
       "      <th></th>\n",
       "      <th>time</th>\n",
       "      <th>price_actual_pred</th>\n",
       "    </tr>\n",
       "  </thead>\n",
       "  <tbody>\n",
       "    <tr>\n",
       "      <th>0</th>\n",
       "      <td>2018-01-01 00:00:00+01:00</td>\n",
       "      <td>34.088907</td>\n",
       "    </tr>\n",
       "    <tr>\n",
       "      <th>1</th>\n",
       "      <td>2018-01-01 01:00:00+01:00</td>\n",
       "      <td>33.004579</td>\n",
       "    </tr>\n",
       "    <tr>\n",
       "      <th>2</th>\n",
       "      <td>2018-01-01 02:00:00+01:00</td>\n",
       "      <td>35.177557</td>\n",
       "    </tr>\n",
       "    <tr>\n",
       "      <th>3</th>\n",
       "      <td>2018-01-01 03:00:00+01:00</td>\n",
       "      <td>34.863520</td>\n",
       "    </tr>\n",
       "    <tr>\n",
       "      <th>4</th>\n",
       "      <td>2018-01-01 04:00:00+01:00</td>\n",
       "      <td>34.141503</td>\n",
       "    </tr>\n",
       "    <tr>\n",
       "      <th>...</th>\n",
       "      <td>...</td>\n",
       "      <td>...</td>\n",
       "    </tr>\n",
       "    <tr>\n",
       "      <th>8755</th>\n",
       "      <td>2018-12-31 19:00:00+01:00</td>\n",
       "      <td>64.165839</td>\n",
       "    </tr>\n",
       "    <tr>\n",
       "      <th>8756</th>\n",
       "      <td>2018-12-31 20:00:00+01:00</td>\n",
       "      <td>67.592891</td>\n",
       "    </tr>\n",
       "    <tr>\n",
       "      <th>8757</th>\n",
       "      <td>2018-12-31 21:00:00+01:00</td>\n",
       "      <td>60.217003</td>\n",
       "    </tr>\n",
       "    <tr>\n",
       "      <th>8758</th>\n",
       "      <td>2018-12-31 22:00:00+01:00</td>\n",
       "      <td>55.172967</td>\n",
       "    </tr>\n",
       "    <tr>\n",
       "      <th>8759</th>\n",
       "      <td>2018-12-31 23:00:00+01:00</td>\n",
       "      <td>54.850761</td>\n",
       "    </tr>\n",
       "  </tbody>\n",
       "</table>\n",
       "<p>8760 rows × 2 columns</p>\n",
       "</div>"
      ],
      "text/plain": [
       "                           time  price_actual_pred\n",
       "0     2018-01-01 00:00:00+01:00          34.088907\n",
       "1     2018-01-01 01:00:00+01:00          33.004579\n",
       "2     2018-01-01 02:00:00+01:00          35.177557\n",
       "3     2018-01-01 03:00:00+01:00          34.863520\n",
       "4     2018-01-01 04:00:00+01:00          34.141503\n",
       "...                         ...                ...\n",
       "8755  2018-12-31 19:00:00+01:00          64.165839\n",
       "8756  2018-12-31 20:00:00+01:00          67.592891\n",
       "8757  2018-12-31 21:00:00+01:00          60.217003\n",
       "8758  2018-12-31 22:00:00+01:00          55.172967\n",
       "8759  2018-12-31 23:00:00+01:00          54.850761\n",
       "\n",
       "[8760 rows x 2 columns]"
      ]
     },
     "execution_count": 17,
     "metadata": {},
     "output_type": "execute_result"
    }
   ],
   "source": [
    "submission"
   ]
  },
  {
   "cell_type": "code",
   "execution_count": null,
   "metadata": {},
   "outputs": [],
   "source": []
  }
 ],
 "metadata": {
  "kernelspec": {
   "display_name": "Python 3 (ipykernel)",
   "language": "python",
   "name": "python3"
  },
  "language_info": {
   "codemirror_mode": {
    "name": "ipython",
    "version": 3
   },
   "file_extension": ".py",
   "mimetype": "text/x-python",
   "name": "python",
   "nbconvert_exporter": "python",
   "pygments_lexer": "ipython3",
   "version": "3.12.3"
  }
 },
 "nbformat": 4,
 "nbformat_minor": 4
}
