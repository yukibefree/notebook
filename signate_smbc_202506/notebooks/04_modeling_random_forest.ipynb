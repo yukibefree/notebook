{
  "cells": [
    {
      "cell_type": "markdown",
      "metadata": {},
      "source": [
        "# ランダムフォレストモデル\n",
        "\n",
        "このノートブックでは、前処理済みデータを用いてランダムフォレストによるモデルを構築し、評価します。\n",
        "\n",
        "- 目的変数: `price_actual`\n",
        "- モデル: ランダムフォレスト（RandomForestRegressor）\n",
        "- 評価指標: RMSE\n",
        "- ハイパーパラメータチューニング: GridSearchCV\n"
      ]
    },
    {
      "cell_type": "markdown",
      "metadata": {},
      "source": [
        "## 1. ライブラリのインポートとデータ読み込み"
      ]
    },
    {
      "cell_type": "code",
      "execution_count": null,
      "metadata": {},
      "source": [
        "import pandas as pd\n",
        "import numpy as np\n",
        "from pathlib import Path\n",
        "from sklearn.ensemble import RandomForestRegressor\n",
        "from sklearn.metrics import mean_squared_error\n",
        "from sklearn.model_selection import train_test_split, GridSearchCV\n",
        "\n",
        "# データディレクトリ\n",
        "PROJECT_ROOT = Path.cwd().parent\n",
        "DATA_DIR = PROJECT_ROOT / 'data'\n",
        "\n",
        "# 前処理済みデータの読み込み\n",
        "train = pd.read_csv(DATA_DIR / 'train_processed.csv')\n",
        "test = pd.read_csv(DATA_DIR / 'test_processed.csv')\n",
        "\n",
        "print('train shape:', train.shape)\n",
        "print('test shape:', test.shape)"
      ]
    },
    {
      "cell_type": "markdown",
      "metadata": {},
      "source": [
        "## 2. 特徴量・目的変数の設定"
      ]
    },
    {
      "cell_type": "code",
      "execution_count": null,
      "metadata": {},
      "source": [
        "# 目的変数\n",
        "target_col = 'price_actual'\n",
        "\n",
        "# 説明変数（目的変数とtime列以外）\n",
        "drop_cols = ['time', target_col] if target_col in train.columns else ['time']\n",
        "feature_cols = [col for col in train.columns if col not in drop_cols]\n",
        "\n",
        "X = train[feature_cols]\n",
        "y = train[target_col] if target_col in train.columns else train.iloc[:, -1]  # 念のため\n",
        "\n",
        "print('Features:', feature_cols)\n",
        "print('Target:', target_col)\n",
        "print('X shape:', X.shape)\n",
        "print('y shape:', y.shape)"
      ]
    },
    {
      "cell_type": "markdown",
      "metadata": {},
      "source": [
        "## 3. 学習・検証データ分割"
      ]
    },
    {
      "cell_type": "code",
      "execution_count": null,
      "metadata": {},
      "source": [
        "X_train, X_valid, y_train, y_valid = train_test_split(X, y, test_size=0.2, random_state=42)\n",
        "print('X_train:', X_train.shape, 'X_valid:', X_valid.shape)"
      ]
    },
    {
      "cell_type": "markdown",
      "metadata": {},
      "source": [
        "## 4. ランダムフォレストモデルの学習とハイパーパラメータチューニング"
      ]
    },
    {
      "cell_type": "code",
      "execution_count": null,
      "metadata": {},
      "source": [
        "# ランダムフォレストモデルのインスタンス化\n",
        "rf = RandomForestRegressor(random_state=42)\n",
        "\n",
        "# ハイパーパラメータの設定\n",
        "param_grid = {\n",
        "    'n_estimators': [100, 200],\n",
        "    'max_depth': [None, 10, 20],\n",
        "    'min_samples_split': [2, 5],\n",
        "    'min_samples_leaf': [1, 2]\n",
        "}\n",
        "\n",
        "# GridSearchCVで最適なパラメータを探索\n",
        "grid_search = GridSearchCV(rf, param_grid, cv=5, scoring='neg_mean_squared_error', n_jobs=-1)\n",
        "grid_search.fit(X_train, y_train)\n",
        "\n",
        "print('Best parameters:', grid_search.best_params_)\n",
        "print('Best score:', -grid_search.best_score_)"
      ]
    },
    {
      "cell_type": "markdown",
      "metadata": {},
      "source": [
        "## 5. 最適なモデルでの予測と評価"
      ]
    },
    {
      "cell_type": "code",
      "execution_count": null,
      "metadata": {},
      "source": [
        "# 最適なモデルで予測\n",
        "best_model = grid_search.best_estimator_\n",
        "y_pred = best_model.predict(X_valid)\n",
        "\n",
        "# RMSEで評価\n",
        "rmse = mean_squared_error(y_valid, y_pred, squared=False)\n",
        "print('Validation RMSE:', rmse)"
      ]
    },
    {
      "cell_type": "markdown",
      "metadata": {},
      "source": [
        "## 6. テストデータへの予測と保存"
      ]
    },
    {
      "cell_type": "code",
      "execution_count": null,
      "metadata": {},
      "source": [
        "# テストデータの予測\n",
        "X_test = test[feature_cols]\n",
        "test_pred = best_model.predict(X_test)\n",
        "\n",
        "# 予測結果の保存\n",
        "submission = test[['time']].copy()\n",
        "submission['price_actual_pred'] = test_pred\n",
        "submission.to_csv(DATA_DIR / 'submission_random_forest.csv', index=False)\n",
        "print('Saved: submission_random_forest.csv')"
      ]
    }
  ],
  "metadata": {
    "kernelspec": {
      "display_name": "Python 3",
      "language": "python",
      "name": "python3"
    },
    "language_info": {
      "codemirror_mode": {
        "name": "ipython",
        "version": 3
      },
      "file_extension": ".py",
      "mimetype": "text/x-python",
      "name": "python",
      "nbconvert_exporter": "python",
      "pygments_lexer": "ipython3",
      "version": "3.12.3"
    }
  },
  "nbformat": 4,
  "nbformat_minor": 4
}