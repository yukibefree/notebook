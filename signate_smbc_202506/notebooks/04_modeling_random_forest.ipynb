{
  "cells": [
    {
      "cell_type": "markdown",
      "metadata": {},
      "source": [
        "# ランダムフォレストモデル\n",
        "\n",
        "このノートブックでは、前処理済みデータを用いてランダムフォレストによるモデルを構築し、評価します。\n",
        "\n",
        "- 目的変数: `price_actual`\n",
        "- モデル: ランダムフォレスト（RandomForestRegressor）\n",
        "- 評価指標: RMSE\n",
        "- ハイパーパラメータチューニング: GridSearchCV\n"
      ]
    },
    {
      "cell_type": "markdown",
      "metadata": {},
      "source": [
        "## 1. ライブラリのインポートとデータ読み込み"
      ]
    },
    {
      "cell_type": "code",
      "execution_count": 5,
      "metadata": {},
      "outputs": [
        {
          "name": "stdout",
          "output_type": "stream",
          "text": [
            "/Users/m0122wt/Desktop/02.プライベート/01.ノウハウ/07.データ分析/notebook/signate_smbc_202506/data\n",
            "train shape: (26280, 114)\n",
            "test shape: (8760, 113)\n"
          ]
        }
      ],
      "source": [
        "import pandas as pd\n",
        "import numpy as np\n",
        "from pathlib import Path\n",
        "from sklearn.ensemble import RandomForestRegressor\n",
        "from sklearn.metrics import mean_squared_error\n",
        "from sklearn.model_selection import train_test_split, GridSearchCV\n",
        "import japanize_matplotlib\n",
        "\n",
        "# データディレクトリ\n",
        "PROJECT_ROOT = Path.cwd()\n",
        "DATA_DIR = PROJECT_ROOT / 'data'\n",
        "print(DATA_DIR)\n",
        "# 前処理済みデータの読み込み\n",
        "train = pd.read_csv(DATA_DIR / 'train_processed.csv')\n",
        "test = pd.read_csv(DATA_DIR / 'test_processed.csv')\n",
        "\n",
        "print('train shape:', train.shape)\n",
        "print('test shape:', test.shape)"
      ]
    },
    {
      "cell_type": "markdown",
      "metadata": {},
      "source": [
        "## 2. 特徴量・目的変数の設定"
      ]
    },
    {
      "cell_type": "code",
      "execution_count": 7,
      "metadata": {},
      "outputs": [
        {
          "name": "stdout",
          "output_type": "stream",
          "text": [
            "Features: ['generation_biomass', 'generation_fossil_brown_coal/lignite', 'generation_fossil_gas', 'generation_fossil_hard_coal', 'generation_fossil_oil', 'generation_hydro_pumped_storage_consumption', 'generation_hydro_run_of_river_and_poundage', 'generation_hydro_water_reservoir', 'generation_nuclear', 'generation_other', 'generation_other_renewable', 'generation_solar', 'generation_waste', 'generation_wind_onshore', 'total_load_actual', 'valencia_temp', 'valencia_temp_min', 'valencia_temp_max', 'valencia_pressure', 'valencia_humidity', 'valencia_wind_speed', 'valencia_wind_deg', 'valencia_rain_1h', 'valencia_rain_3h', 'valencia_snow_3h', 'valencia_clouds_all', 'valencia_weather_id', 'valencia_weather_main', 'valencia_weather_description', 'valencia_weather_icon', 'madrid_temp', 'madrid_temp_min', 'madrid_temp_max', 'madrid_pressure', 'madrid_humidity', 'madrid_wind_speed', 'madrid_wind_deg', 'madrid_rain_1h', 'madrid_rain_3h', 'madrid_snow_3h', 'madrid_clouds_all', 'madrid_weather_id', 'madrid_weather_main', 'madrid_weather_description', 'madrid_weather_icon', 'bilbao_temp', 'bilbao_temp_min', 'bilbao_temp_max', 'bilbao_pressure', 'bilbao_humidity', 'bilbao_wind_speed', 'bilbao_wind_deg', 'bilbao_rain_1h', 'bilbao_rain_3h', 'bilbao_snow_3h', 'bilbao_clouds_all', 'bilbao_weather_id', 'bilbao_weather_main', 'bilbao_weather_description', 'bilbao_weather_icon', 'barcelona_temp', 'barcelona_temp_min', 'barcelona_temp_max', 'barcelona_pressure', 'barcelona_humidity', 'barcelona_wind_speed', 'barcelona_wind_deg', 'barcelona_rain_1h', 'barcelona_rain_3h', 'barcelona_snow_3h', 'barcelona_clouds_all', 'barcelona_weather_id', 'barcelona_weather_main', 'barcelona_weather_description', 'barcelona_weather_icon', 'seville_temp', 'seville_temp_min', 'seville_temp_max', 'seville_pressure', 'seville_humidity', 'seville_wind_speed', 'seville_wind_deg', 'seville_rain_1h', 'seville_rain_3h', 'seville_snow_3h', 'seville_clouds_all', 'seville_weather_id', 'seville_weather_main', 'seville_weather_description', 'seville_weather_icon', 'hour', 'day_of_week', 'month', 'day', 'year', 'is_weekend', 'is_holiday', 'is_peak_hour', 'generation_biomass_ratio', 'generation_fossil_brown_coal/lignite_ratio', 'generation_fossil_gas_ratio', 'generation_fossil_hard_coal_ratio', 'generation_fossil_oil_ratio', 'generation_hydro_pumped_storage_consumption_ratio', 'generation_hydro_run_of_river_and_poundage_ratio', 'generation_hydro_water_reservoir_ratio', 'generation_nuclear_ratio', 'generation_other_ratio', 'generation_other_renewable_ratio', 'generation_solar_ratio', 'generation_waste_ratio', 'generation_wind_onshore_ratio']\n",
            "Target: price_actual\n",
            "X shape: (26280, 112)\n",
            "y shape: (26280,)\n"
          ]
        }
      ],
      "source": [
        "# 目的変数\n",
        "target_col = 'price_actual'\n",
        "\n",
        "# 説明変数（目的変数とtime列以外）\n",
        "drop_cols = ['time', target_col] if target_col in train.columns else ['time']\n",
        "feature_cols = [col for col in train.columns if col not in drop_cols]\n",
        "\n",
        "X = train[feature_cols]\n",
        "y = train[target_col] if target_col in train.columns else train.iloc[:, -1]  # 念のため\n",
        "\n",
        "print('Features:', feature_cols)\n",
        "print('Target:', target_col)\n",
        "print('X shape:', X.shape)\n",
        "print('y shape:', y.shape)"
      ]
    },
    {
      "cell_type": "markdown",
      "metadata": {},
      "source": [
        "## 3. 学習・検証データ分割"
      ]
    },
    {
      "cell_type": "code",
      "execution_count": 8,
      "metadata": {},
      "outputs": [
        {
          "name": "stdout",
          "output_type": "stream",
          "text": [
            "X_train: (21024, 112) X_valid: (5256, 112)\n"
          ]
        }
      ],
      "source": [
        "X_train, X_valid, y_train, y_valid = train_test_split(X, y, test_size=0.2, random_state=42)\n",
        "print('X_train:', X_train.shape, 'X_valid:', X_valid.shape)"
      ]
    },
    {
      "cell_type": "markdown",
      "metadata": {},
      "source": [
        "## 4. ランダムフォレストモデルの学習とハイパーパラメータチューニング"
      ]
    },
    {
      "cell_type": "code",
      "execution_count": null,
      "metadata": {},
      "outputs": [],
      "source": [
        "# ランダムフォレストモデルのインスタンス化\n",
        "rf = RandomForestRegressor(random_state=42)\n",
        "\n",
        "# ハイパーパラメータの設定\n",
        "param_grid = {\n",
        "    'n_estimators': [100, 200],\n",
        "    'max_depth': [None, 10, 20],\n",
        "    'min_samples_split': [2, 5],\n",
        "    'min_samples_leaf': [1, 2]\n",
        "}\n",
        "\n",
        "# GridSearchCVで最適なパラメータを探索\n",
        "grid_search = GridSearchCV(rf, param_grid, cv=5, scoring='neg_mean_squared_error', n_jobs=-1)\n",
        "grid_search.fit(X_train, y_train)\n",
        "\n",
        "print('Best parameters:', grid_search.best_params_)\n",
        "print('Best score:', -grid_search.best_score_)"
      ]
    },
    {
      "cell_type": "markdown",
      "metadata": {},
      "source": [
        "## 5. 最適なモデルでの予測と評価"
      ]
    },
    {
      "cell_type": "code",
      "execution_count": null,
      "metadata": {},
      "outputs": [],
      "source": [
        "# 最適なモデルで予測\n",
        "best_model = grid_search.best_estimator_\n",
        "y_pred = best_model.predict(X_valid)\n",
        "\n",
        "# RMSEで評価\n",
        "rmse = mean_squared_error(y_valid, y_pred, squared=False)\n",
        "print('Validation RMSE:', rmse)"
      ]
    },
    {
      "cell_type": "markdown",
      "metadata": {},
      "source": [
        "## 6. テストデータへの予測と保存"
      ]
    },
    {
      "cell_type": "code",
      "execution_count": null,
      "metadata": {},
      "outputs": [],
      "source": [
        "# テストデータの予測\n",
        "X_test = test[feature_cols]\n",
        "test_pred = best_model.predict(X_test)\n",
        "\n",
        "# 予測結果の保存\n",
        "submission = test[['time']].copy()\n",
        "submission['price_actual_pred'] = test_pred\n",
        "submission.to_csv(DATA_DIR / 'submission_random_forest.csv', index=False)\n",
        "print('Saved: submission_random_forest.csv')"
      ]
    }
  ],
  "metadata": {
    "kernelspec": {
      "display_name": "Python 3 (ipykernel)",
      "language": "python",
      "name": "python3"
    },
    "language_info": {
      "codemirror_mode": {
        "name": "ipython",
        "version": 3
      },
      "file_extension": ".py",
      "mimetype": "text/x-python",
      "name": "python",
      "nbconvert_exporter": "python",
      "pygments_lexer": "ipython3",
      "version": "3.12.3"
    }
  },
  "nbformat": 4,
  "nbformat_minor": 4
}
